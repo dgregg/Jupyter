{
 "cells": [
  {
   "cell_type": "code",
   "execution_count": 19,
   "metadata": {},
   "outputs": [],
   "source": [
    "def calculate_average(numbers):\n",
    "    total = sum(numbers)\n",
    "    average = total / len(numbers)\n",
    "    return average\n",
    "\n",
    "def find_max_value(numbers):\n",
    "    max_value = numbers[0]\n",
    "    for num in numbers:\n",
    "        if num > max_value:\n",
    "            max_value = num\n",
    "    return max_value\n",
    "\n",
    "def remove_duplicates(lst):\n",
    "    print(list(set(lst)))\n",
    "    return list(set(lst))\n",
    "\n",
    "def is_palindrome(string):\n",
    "    reversed_string = string[::-1]\n",
    "    return string == reversed_string"
   ]
  },
  {
   "cell_type": "code",
   "execution_count": 20,
   "metadata": {},
   "outputs": [],
   "source": [
    "def calculate_average(numbers):\n",
    "    total = sum(numbers)\n",
    "    average = total / len(numbers)\n",
    "    return average\n",
    "\n",
    "\n",
    "def test_calculate_average():\n",
    "    # Test case\n",
    "    assert calculate_average([1, 2, 3, 4, 5]) == 3.0\n",
    "    \n",
    "test_calculate_average()"
   ]
  },
  {
   "cell_type": "code",
   "execution_count": 21,
   "metadata": {},
   "outputs": [
    {
     "ename": "ZeroDivisionError",
     "evalue": "division by zero",
     "output_type": "error",
     "traceback": [
      "\u001b[1;31m---------------------------------------------------------------------------\u001b[0m",
      "\u001b[1;31mZeroDivisionError\u001b[0m                         Traceback (most recent call last)",
      "\u001b[1;32mUntitled-1.ipynb Cell 3\u001b[0m in \u001b[0;36m<cell line: 5>\u001b[1;34m()\u001b[0m\n\u001b[0;32m      <a href='vscode-notebook-cell:Untitled-1.ipynb?jupyter-notebook#X11sdW50aXRsZWQ%3D?line=0'>1</a>\u001b[0m \u001b[39mdef\u001b[39;00m \u001b[39mtest_calculate_average\u001b[39m():\n\u001b[0;32m      <a href='vscode-notebook-cell:Untitled-1.ipynb?jupyter-notebook#X11sdW50aXRsZWQ%3D?line=1'>2</a>\u001b[0m     \u001b[39m# Test case\u001b[39;00m\n\u001b[0;32m      <a href='vscode-notebook-cell:Untitled-1.ipynb?jupyter-notebook#X11sdW50aXRsZWQ%3D?line=2'>3</a>\u001b[0m     \u001b[39massert\u001b[39;00m calculate_average([]) \u001b[39m==\u001b[39m \u001b[39m0.0\u001b[39m\n\u001b[1;32m----> <a href='vscode-notebook-cell:Untitled-1.ipynb?jupyter-notebook#X11sdW50aXRsZWQ%3D?line=4'>5</a>\u001b[0m test_calculate_average()\n",
      "\u001b[1;32mUntitled-1.ipynb Cell 3\u001b[0m in \u001b[0;36mtest_calculate_average\u001b[1;34m()\u001b[0m\n\u001b[0;32m      <a href='vscode-notebook-cell:Untitled-1.ipynb?jupyter-notebook#X11sdW50aXRsZWQ%3D?line=0'>1</a>\u001b[0m \u001b[39mdef\u001b[39;00m \u001b[39mtest_calculate_average\u001b[39m():\n\u001b[0;32m      <a href='vscode-notebook-cell:Untitled-1.ipynb?jupyter-notebook#X11sdW50aXRsZWQ%3D?line=1'>2</a>\u001b[0m     \u001b[39m# Test case\u001b[39;00m\n\u001b[1;32m----> <a href='vscode-notebook-cell:Untitled-1.ipynb?jupyter-notebook#X11sdW50aXRsZWQ%3D?line=2'>3</a>\u001b[0m     \u001b[39massert\u001b[39;00m calculate_average([]) \u001b[39m==\u001b[39m \u001b[39m0.0\u001b[39m\n",
      "\u001b[1;32mUntitled-1.ipynb Cell 3\u001b[0m in \u001b[0;36mcalculate_average\u001b[1;34m(numbers)\u001b[0m\n\u001b[0;32m      <a href='vscode-notebook-cell:Untitled-1.ipynb?jupyter-notebook#X11sdW50aXRsZWQ%3D?line=0'>1</a>\u001b[0m \u001b[39mdef\u001b[39;00m \u001b[39mcalculate_average\u001b[39m(numbers):\n\u001b[0;32m      <a href='vscode-notebook-cell:Untitled-1.ipynb?jupyter-notebook#X11sdW50aXRsZWQ%3D?line=1'>2</a>\u001b[0m     total \u001b[39m=\u001b[39m \u001b[39msum\u001b[39m(numbers)\n\u001b[1;32m----> <a href='vscode-notebook-cell:Untitled-1.ipynb?jupyter-notebook#X11sdW50aXRsZWQ%3D?line=2'>3</a>\u001b[0m     average \u001b[39m=\u001b[39m total \u001b[39m/\u001b[39;49m \u001b[39mlen\u001b[39;49m(numbers)\n\u001b[0;32m      <a href='vscode-notebook-cell:Untitled-1.ipynb?jupyter-notebook#X11sdW50aXRsZWQ%3D?line=3'>4</a>\u001b[0m     \u001b[39mreturn\u001b[39;00m average\n",
      "\u001b[1;31mZeroDivisionError\u001b[0m: division by zero"
     ]
    }
   ],
   "source": [
    "def test_calculate_average():\n",
    "    # Test case\n",
    "    assert calculate_average([]) == 0.0\n",
    "    \n",
    "test_calculate_average()"
   ]
  },
  {
   "cell_type": "code",
   "execution_count": null,
   "metadata": {},
   "outputs": [],
   "source": [
    "def test_calculate_average():\n",
    "    # Test case\n",
    "    assert calculate_average([-1, -2, -3, -4, -5]) == -3.0\n",
    "    \n",
    "test_calculate_average()"
   ]
  },
  {
   "cell_type": "code",
   "execution_count": null,
   "metadata": {},
   "outputs": [],
   "source": [
    "def test_calculate_average():\n",
    "    # Test case\n",
    "    assert calculate_average([1, 2, -3, 4, -5]) == -0.2\n",
    "    \n",
    "test_calculate_average()"
   ]
  },
  {
   "cell_type": "code",
   "execution_count": null,
   "metadata": {},
   "outputs": [],
   "source": [
    "def find_max_value(numbers):\n",
    "    max_value = numbers[0]\n",
    "    for num in numbers:\n",
    "        if num > max_value:\n",
    "            max_value = num\n",
    "    return max_value\n",
    "\n",
    "\n",
    "def test_find_max_value():\n",
    "    # Valid test case\n",
    "    \n",
    "    assert find_max_value([1, 4, 6, 3, 9]) == 9\n",
    "    \n",
    "    # Invalid test cases\n",
    "    # assert find_max_value([]) == None  # Empty list\n",
    "    # assert find_max_value([-1, -2, -3, -4, -5]) == -1  # Negative numbers\n",
    "    assert find_max_value([1, 2, 3, 2, 1]) == 3  # Repeated numbers\n",
    "\n",
    "test_find_max_value()"
   ]
  },
  {
   "cell_type": "code",
   "execution_count": null,
   "metadata": {},
   "outputs": [
    {
     "name": "stdout",
     "output_type": "stream",
     "text": [
      "[1, 2, 3]\n",
      "[]\n",
      "[1, 2, 3, 4, 5]\n",
      "[1, 'a']\n"
     ]
    },
    {
     "ename": "AssertionError",
     "evalue": "",
     "output_type": "error",
     "traceback": [
      "\u001b[1;31m---------------------------------------------------------------------------\u001b[0m",
      "\u001b[1;31mAssertionError\u001b[0m                            Traceback (most recent call last)",
      "\u001b[1;32mUntitled-1.ipynb Cell 4\u001b[0m in \u001b[0;36m<cell line: 10>\u001b[1;34m()\u001b[0m\n\u001b[0;32m      <a href='vscode-notebook-cell:Untitled-1.ipynb?jupyter-notebook#W3sdW50aXRsZWQ%3D?line=6'>7</a>\u001b[0m     \u001b[39massert\u001b[39;00m remove_duplicates([\u001b[39m1\u001b[39m, \u001b[39m2\u001b[39m, \u001b[39m3\u001b[39m, \u001b[39m4\u001b[39m, \u001b[39m5\u001b[39m]) \u001b[39m==\u001b[39m [\u001b[39m1\u001b[39m, \u001b[39m2\u001b[39m, \u001b[39m3\u001b[39m, \u001b[39m4\u001b[39m, \u001b[39m5\u001b[39m]  \u001b[39m# Unique elements\u001b[39;00m\n\u001b[0;32m      <a href='vscode-notebook-cell:Untitled-1.ipynb?jupyter-notebook#W3sdW50aXRsZWQ%3D?line=7'>8</a>\u001b[0m     \u001b[39massert\u001b[39;00m remove_duplicates([\u001b[39m1\u001b[39m, \u001b[39m'\u001b[39m\u001b[39ma\u001b[39m\u001b[39m'\u001b[39m, \u001b[39mTrue\u001b[39;00m, \u001b[39m'\u001b[39m\u001b[39ma\u001b[39m\u001b[39m'\u001b[39m, \u001b[39m1\u001b[39m]) \u001b[39m==\u001b[39m [\u001b[39m1\u001b[39m, \u001b[39m'\u001b[39m\u001b[39ma\u001b[39m\u001b[39m'\u001b[39m, \u001b[39mTrue\u001b[39;00m]  \u001b[39m# Mixed data types\u001b[39;00m\n\u001b[1;32m---> <a href='vscode-notebook-cell:Untitled-1.ipynb?jupyter-notebook#W3sdW50aXRsZWQ%3D?line=9'>10</a>\u001b[0m test_remove_duplicates()\n",
      "\u001b[1;32mUntitled-1.ipynb Cell 4\u001b[0m in \u001b[0;36mtest_remove_duplicates\u001b[1;34m()\u001b[0m\n\u001b[0;32m      <a href='vscode-notebook-cell:Untitled-1.ipynb?jupyter-notebook#W3sdW50aXRsZWQ%3D?line=5'>6</a>\u001b[0m \u001b[39massert\u001b[39;00m remove_duplicates([]) \u001b[39m==\u001b[39m []  \u001b[39m# Empty list\u001b[39;00m\n\u001b[0;32m      <a href='vscode-notebook-cell:Untitled-1.ipynb?jupyter-notebook#W3sdW50aXRsZWQ%3D?line=6'>7</a>\u001b[0m \u001b[39massert\u001b[39;00m remove_duplicates([\u001b[39m1\u001b[39m, \u001b[39m2\u001b[39m, \u001b[39m3\u001b[39m, \u001b[39m4\u001b[39m, \u001b[39m5\u001b[39m]) \u001b[39m==\u001b[39m [\u001b[39m1\u001b[39m, \u001b[39m2\u001b[39m, \u001b[39m3\u001b[39m, \u001b[39m4\u001b[39m, \u001b[39m5\u001b[39m]  \u001b[39m# Unique elements\u001b[39;00m\n\u001b[1;32m----> <a href='vscode-notebook-cell:Untitled-1.ipynb?jupyter-notebook#W3sdW50aXRsZWQ%3D?line=7'>8</a>\u001b[0m \u001b[39massert\u001b[39;00m remove_duplicates([\u001b[39m1\u001b[39m, \u001b[39m'\u001b[39m\u001b[39ma\u001b[39m\u001b[39m'\u001b[39m, \u001b[39mTrue\u001b[39;00m, \u001b[39m'\u001b[39m\u001b[39ma\u001b[39m\u001b[39m'\u001b[39m, \u001b[39m1\u001b[39m]) \u001b[39m==\u001b[39m [\u001b[39m1\u001b[39m, \u001b[39m'\u001b[39m\u001b[39ma\u001b[39m\u001b[39m'\u001b[39m, \u001b[39mTrue\u001b[39;00m]\n",
      "\u001b[1;31mAssertionError\u001b[0m: "
     ]
    }
   ],
   "source": [
    "def test_remove_duplicates():\n",
    "    # Valid test case\n",
    "    assert remove_duplicates([1, 2, 3, 2, 1]) == [1, 2, 3]\n",
    "    \n",
    "    # Invalid test cases\n",
    "    assert remove_duplicates([]) == []  # Empty list\n",
    "    assert remove_duplicates([1, 2, 3, 4, 5]) == [1, 2, 3, 4, 5]  # Unique elements\n",
    "    assert remove_duplicates([1, 'a', True, 'a', 1]) == [1, 'a', True]  # Mixed data types\n",
    "\n",
    "test_remove_duplicates()"
   ]
  },
  {
   "cell_type": "code",
   "execution_count": null,
   "metadata": {},
   "outputs": [
    {
     "ename": "AssertionError",
     "evalue": "",
     "output_type": "error",
     "traceback": [
      "\u001b[1;31m---------------------------------------------------------------------------\u001b[0m",
      "\u001b[1;31mAssertionError\u001b[0m                            Traceback (most recent call last)",
      "\u001b[1;32mUntitled-1.ipynb Cell 8\u001b[0m in \u001b[0;36m<cell line: 15>\u001b[1;34m()\u001b[0m\n\u001b[0;32m     <a href='vscode-notebook-cell:Untitled-1.ipynb?jupyter-notebook#W5sdW50aXRsZWQ%3D?line=11'>12</a>\u001b[0m     \u001b[39massert\u001b[39;00m is_palindrome(\u001b[39m'\u001b[39m\u001b[39m'\u001b[39m) \u001b[39m==\u001b[39m \u001b[39mTrue\u001b[39;00m  \u001b[39m# Empty string\u001b[39;00m\n\u001b[0;32m     <a href='vscode-notebook-cell:Untitled-1.ipynb?jupyter-notebook#W5sdW50aXRsZWQ%3D?line=12'>13</a>\u001b[0m     \u001b[39massert\u001b[39;00m is_palindrome(\u001b[39m'\u001b[39m\u001b[39m12321\u001b[39m\u001b[39m'\u001b[39m) \u001b[39m==\u001b[39m \u001b[39mFalse\u001b[39;00m  \u001b[39m# Numeric palindrome\u001b[39;00m\n\u001b[1;32m---> <a href='vscode-notebook-cell:Untitled-1.ipynb?jupyter-notebook#W5sdW50aXRsZWQ%3D?line=14'>15</a>\u001b[0m test_is_palindrome()\n",
      "\u001b[1;32mUntitled-1.ipynb Cell 8\u001b[0m in \u001b[0;36mtest_is_palindrome\u001b[1;34m()\u001b[0m\n\u001b[0;32m     <a href='vscode-notebook-cell:Untitled-1.ipynb?jupyter-notebook#W5sdW50aXRsZWQ%3D?line=10'>11</a>\u001b[0m \u001b[39massert\u001b[39;00m is_palindrome(\u001b[39m'\u001b[39m\u001b[39mpython\u001b[39m\u001b[39m'\u001b[39m) \u001b[39m==\u001b[39m \u001b[39mFalse\u001b[39;00m\n\u001b[0;32m     <a href='vscode-notebook-cell:Untitled-1.ipynb?jupyter-notebook#W5sdW50aXRsZWQ%3D?line=11'>12</a>\u001b[0m \u001b[39massert\u001b[39;00m is_palindrome(\u001b[39m'\u001b[39m\u001b[39m'\u001b[39m) \u001b[39m==\u001b[39m \u001b[39mTrue\u001b[39;00m  \u001b[39m# Empty string\u001b[39;00m\n\u001b[1;32m---> <a href='vscode-notebook-cell:Untitled-1.ipynb?jupyter-notebook#W5sdW50aXRsZWQ%3D?line=12'>13</a>\u001b[0m \u001b[39massert\u001b[39;00m is_palindrome(\u001b[39m'\u001b[39m\u001b[39m12321\u001b[39m\u001b[39m'\u001b[39m) \u001b[39m==\u001b[39m \u001b[39mFalse\u001b[39;00m\n",
      "\u001b[1;31mAssertionError\u001b[0m: "
     ]
    }
   ],
   "source": [
    "def is_palindrome(string):\n",
    "    reversed_string = string[::-1]\n",
    "    return string == reversed_string\n",
    "\n",
    "\n",
    "def test_is_palindrome():\n",
    "    # Valid test case\n",
    "    assert is_palindrome('racecar') == True\n",
    "    \n",
    "    # Invalid test cases\n",
    "    assert is_palindrome('python') == False\n",
    "    assert is_palindrome('') == True  # Empty string\n",
    "    assert is_palindrome('12321') == False  # Numeric palindrome\n",
    "    \n",
    "test_is_palindrome()"
   ]
  },
  {
   "cell_type": "code",
   "execution_count": 26,
   "metadata": {},
   "outputs": [
    {
     "ename": "TypeError",
     "evalue": "not all arguments converted during string formatting",
     "output_type": "error",
     "traceback": [
      "\u001b[1;31m---------------------------------------------------------------------------\u001b[0m",
      "\u001b[1;31mTypeError\u001b[0m                                 Traceback (most recent call last)",
      "\u001b[1;32mUntitled-1.ipynb Cell 9\u001b[0m in \u001b[0;36m<cell line: 7>\u001b[1;34m()\u001b[0m\n\u001b[0;32m      <a href='vscode-notebook-cell:Untitled-1.ipynb?jupyter-notebook#X12sdW50aXRsZWQ%3D?line=4'>5</a>\u001b[0m \u001b[39m# assert is_even(4) == 0\u001b[39;00m\n\u001b[0;32m      <a href='vscode-notebook-cell:Untitled-1.ipynb?jupyter-notebook#X12sdW50aXRsZWQ%3D?line=5'>6</a>\u001b[0m \u001b[39massert\u001b[39;00m is_even(\u001b[39m4\u001b[39m) \u001b[39m>\u001b[39m\u001b[39m=\u001b[39m \u001b[39m0\u001b[39m\n\u001b[1;32m----> <a href='vscode-notebook-cell:Untitled-1.ipynb?jupyter-notebook#X12sdW50aXRsZWQ%3D?line=6'>7</a>\u001b[0m \u001b[39massert\u001b[39;00m is_even(\u001b[39m\"\u001b[39;49m\u001b[39m4\u001b[39;49m\u001b[39m\"\u001b[39;49m) \u001b[39m==\u001b[39m \u001b[39mTrue\u001b[39;00m\n",
      "\u001b[1;32mUntitled-1.ipynb Cell 9\u001b[0m in \u001b[0;36mis_even\u001b[1;34m(number)\u001b[0m\n\u001b[0;32m      <a href='vscode-notebook-cell:Untitled-1.ipynb?jupyter-notebook#X12sdW50aXRsZWQ%3D?line=0'>1</a>\u001b[0m \u001b[39mdef\u001b[39;00m \u001b[39mis_even\u001b[39m(number):\n\u001b[1;32m----> <a href='vscode-notebook-cell:Untitled-1.ipynb?jupyter-notebook#X12sdW50aXRsZWQ%3D?line=1'>2</a>\u001b[0m     \u001b[39mreturn\u001b[39;00m number \u001b[39m%\u001b[39;49m \u001b[39m2\u001b[39;49m \u001b[39m==\u001b[39m \u001b[39m0\u001b[39m\n",
      "\u001b[1;31mTypeError\u001b[0m: not all arguments converted during string formatting"
     ]
    }
   ],
   "source": [
    "def is_even(number):\n",
    "    return number % 2 == 0\n",
    "\n",
    "assert is_even(4) == True\n",
    "assert is_even(4) == 0\n",
    "assert is_even(4) >= 0\n",
    "assert is_even(\"4\") == True\n"
   ]
  },
  {
   "cell_type": "code",
   "execution_count": 37,
   "metadata": {},
   "outputs": [
    {
     "data": {
      "text/html": [
       "<div>\n",
       "<style scoped>\n",
       "    .dataframe tbody tr th:only-of-type {\n",
       "        vertical-align: middle;\n",
       "    }\n",
       "\n",
       "    .dataframe tbody tr th {\n",
       "        vertical-align: top;\n",
       "    }\n",
       "\n",
       "    .dataframe thead th {\n",
       "        text-align: right;\n",
       "    }\n",
       "</style>\n",
       "<table border=\"1\" class=\"dataframe\">\n",
       "  <thead>\n",
       "    <tr style=\"text-align: right;\">\n",
       "      <th></th>\n",
       "      <th>Female</th>\n",
       "      <th>Male</th>\n",
       "    </tr>\n",
       "    <tr>\n",
       "      <th>BMI</th>\n",
       "      <th></th>\n",
       "      <th></th>\n",
       "    </tr>\n",
       "  </thead>\n",
       "  <tbody>\n",
       "    <tr>\n",
       "      <th>Normal</th>\n",
       "      <td>35</td>\n",
       "      <td>52</td>\n",
       "    </tr>\n",
       "    <tr>\n",
       "      <th>Obesity</th>\n",
       "      <td>40</td>\n",
       "      <td>33</td>\n",
       "    </tr>\n",
       "    <tr>\n",
       "      <th>Overweight</th>\n",
       "      <td>40</td>\n",
       "      <td>44</td>\n",
       "    </tr>\n",
       "    <tr>\n",
       "      <th>Underweight</th>\n",
       "      <td>14</td>\n",
       "      <td>22</td>\n",
       "    </tr>\n",
       "  </tbody>\n",
       "</table>\n",
       "</div>"
      ],
      "text/plain": [
       "             Female  Male\n",
       "BMI                      \n",
       "Normal           35    52\n",
       "Obesity          40    33\n",
       "Overweight       40    44\n",
       "Underweight      14    22"
      ]
     },
     "metadata": {},
     "output_type": "display_data"
    },
    {
     "data": {
      "image/png": "[encoded data removed]",
      "text/plain": [
       "<Figure size 432x288 with 1 Axes>"
      ]
     },
     "metadata": {
      "needs_background": "light"
     },
     "output_type": "display_data"
    }
   ],
   "source": [
    "import pandas as pd\n",
    "\n",
    "df = pd.DataFrame()\n",
    "df[\"BMI\"] = [\"Normal\", \"Obesity\", \"Overweight\", \"Underweight\"]\n",
    "df[\"Female\"] = [35, 40, 40, 14]\n",
    "df[\"Male\"] = [52, 33, 44, 22]\n",
    "\n",
    "df.set_index('BMI', inplace=True)\n",
    "\n",
    "df.plot(kind=\"bar\", stacked=True)\n"
   ]
  },
  {
   "cell_type": "code",
   "execution_count": 2,
   "metadata": {},
   "outputs": [
    {
     "data": {
      "image/png": "[encoded data removed]",
      "text/plain": [
       "<Figure size 432x288 with 1 Axes>"
      ]
     },
     "metadata": {
      "needs_background": "light"
     },
     "output_type": "display_data"
    }
   ],
   "source": [
    "'''Data Point 1: (2, 3)\n",
    "Data Point 2: (4, 2)\n",
    "Data Point 3: (1, 4)\n",
    "Data Point 4: (5, 6)\n",
    "Data Point 5: (3, 1)\n",
    "Data Point 6: (7, 2)\n",
    "Data Point 7: (6, 4)\n",
    "Data Point 8: (3, 5)\n",
    "Data Point 9: (2, 6)\n",
    "Data Point 10: (4, 8)\n",
    "Data Point 11: (8, 7)\n",
    "Data Point 12: (6, 9)'''\n",
    "\n",
    "import pandas as pd\n",
    "import matplotlib.pyplot as plt\n",
    "\n",
    "\n",
    "df = pd.DataFrame( {\"x\": [1, 2,4,1,5,3,7,6,3,2,4,8,6, 6, 6], \"y\" : [5, 3,2,4,6,1,2,4,5,6,8,7,9, 6, 2], \"type\": [0, 0,0,0,1,0,0, 1,0,0,1,1,1, 1, 0]})\n",
    "\n",
    "# Plot data for the three diffeent Iris varieties\n",
    "df0 = df[df[\"type\"]==0]\n",
    "df1 = df[df[\"type\"]==1]\n",
    "s0 = [60 for n in range(len(df0))]\n",
    "s1 = [60 for n in range(len(df1))]\n",
    "\n",
    "plt.xlabel('X')\n",
    "plt.ylabel('Y')\n",
    "plt.scatter(df0['x'], df0['y'],color=\"green\",marker='+', s=s0)\n",
    "plt.scatter(df1['x'], df1['y'],color=\"orange\",marker='.', s= s1)\n",
    "plt.scatter([5], [5],color=\"blue\",marker='^', s= [80])\n",
    "\n",
    "\n",
    "#plt.savefig('original_points.png')\n",
    "\n",
    "\n",
    "plt.show()"
   ]
  }
 ],
 "metadata": {
  "kernelspec": {
   "display_name": "base",
   "language": "python",
   "name": "python3"
  },
  "language_info": {
   "codemirror_mode": {
    "name": "ipython",
    "version": 3
   },
   "file_extension": ".py",
   "mimetype": "text/x-python",
   "name": "python",
   "nbconvert_exporter": "python",
   "pygments_lexer": "ipython3",
   "version": "3.9.12"
  },
  "orig_nbformat": 4
 },
 "nbformat": 4,
 "nbformat_minor": 2
}
