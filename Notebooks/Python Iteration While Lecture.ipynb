{
 "cells": [
  {
   "attachments": {},
   "cell_type": "markdown",
   "metadata": {},
   "source": [
    "<h1>Python Iteration: While</h1>\n",
    "<p><img src=\"images/1line.png\" width=\"100%\" /></p>\n",
    "\n",
    "<p><span>In Python, we have the following looping statements:</span></p>\n",
    "<ul>\n",
    "<li><strong>while<span>&nbsp;</span></strong>- loops through a block of code as long as the specified condition is true</li>\n",
    "<li><strong>for<span>&nbsp;</span></strong>- loops through a block of code a specified number of times</li>\n",
    "</ul>\n",
    "<h3>while loops</h3>\n",
    "<ul>\n",
    "<li>Loops (repeated steps) have iteration variables that change each time through a loop.&nbsp; Often these iteration variables go through a sequence of numbers.</li>\n",
    "<li>While loops are called &ldquo;indefinite loops&rdquo; because they keep going until a logical condition becomes False</li>\n",
    "<li><img style=\"float: right;\" src=\"images/infiniteLoop.PNG\" width=\"259\" height=\"287\" alt=\"infinite loop flow\" />The loops we have seen so far are pretty easy to examine to see if they will terminate or if they will be &ldquo;infinite loops&rdquo;</li>\n",
    "<li>Sometimes it is a little harder to be sure if a loop will terminate</li>\n",
    "</ul>\n",
    "<p><br />What would you need to do to the loop below to keep it from being an infinite loop?</p>\n",
    "\n"
   ]
  },
  {
   "cell_type": "code",
   "execution_count": 1,
   "metadata": {},
   "outputs": [
    {
     "name": "stdout",
     "output_type": "stream",
     "text": [
      "Lather\n",
      "Rinse\n",
      "Lather\n",
      "Rinse\n",
      "Lather\n",
      "Rinse\n",
      "Lather\n",
      "Rinse\n",
      "Lather\n",
      "Rinse\n",
      "Dry off!\n"
     ]
    }
   ],
   "source": [
    "n = 5\n",
    "while n > 0 :\n",
    "    print('Lather')\n",
    "    print('Rinse')\n",
    "print('Dry off!')"
   ]
  },
  {
   "attachments": {},
   "cell_type": "markdown",
   "metadata": {},
   "source": [
    "<hr />\n",
    "<h3>Break and Continue&nbsp;</h3>\n",
    "<ul>\n",
    "<li>The <strong>break</strong> statement ends the current loop and jumps to the statement immediately following the loop</li>\n",
    "<li>It is like a loop test that can happen anywhere in the body of the loop</li>\n",
    "</ul>\n",
    "\n"
   ]
  },
  {
   "cell_type": "code",
   "execution_count": 2,
   "metadata": {},
   "outputs": [
    {
     "name": "stdout",
     "output_type": "stream",
     "text": [
      "testing...\n",
      "> a\n",
      "a\n",
      "> b\n",
      "b\n",
      "> c\n",
      "c\n",
      "> done\n",
      "Done!\n"
     ]
    }
   ],
   "source": [
    "# while loop with break\n",
    "line=\"\"\n",
    "print(\"testing...\")\n",
    "while True:\n",
    "    line = input('> ')\n",
    "    if line == 'done' :\n",
    "        break\n",
    "    print(line)\n",
    "print('Done!')"
   ]
  },
  {
   "attachments": {},
   "cell_type": "markdown",
   "metadata": {},
   "source": [
    "<ul>\n",
    "<li>How would the output of the code above differ from this example:</li>\n",
    "</ul>\n",
    "\n"
   ]
  },
  {
   "cell_type": "code",
   "execution_count": 3,
   "metadata": {},
   "outputs": [
    {
     "name": "stdout",
     "output_type": "stream",
     "text": [
      "> a\n",
      "a\n",
      "> b\n",
      "b\n",
      "> c\n",
      "c\n",
      "> done\n",
      "done\n",
      "Done!\n"
     ]
    }
   ],
   "source": [
    "# while loop with condition\n",
    "line = \"\"\n",
    "while not(line==\"done\"):\n",
    "   line = input('> ')\n",
    "   print(line)\n",
    "print('Done!')"
   ]
  },
  {
   "attachments": {},
   "cell_type": "markdown",
   "metadata": {},
   "source": [
    "<h4>continue</h4>\n",
    "<ul>\n",
    "<li>The <strong>continue</strong> statement ends the current iteration and jumps to the top of the loop and starts the next iteration</li>\n",
    "</ul>"
   ]
  },
  {
   "cell_type": "code",
   "execution_count": 4,
   "metadata": {},
   "outputs": [
    {
     "name": "stdout",
     "output_type": "stream",
     "text": [
      "> a\n",
      "a\n",
      "> #\n",
      "> b\n",
      "b\n",
      "> c\n",
      "c\n",
      "> #\n",
      "> done\n",
      "Done!\n"
     ]
    }
   ],
   "source": [
    "# continue\n",
    "while True:\n",
    "    line = input('> ')\n",
    "    if line[0] == '#' :\n",
    "        continue\n",
    "    if line == 'done' :\n",
    "        break\n",
    "    print(line)\n",
    "print('Done!')"
   ]
  },
  {
   "attachments": {},
   "cell_type": "markdown",
   "metadata": {},
   "source": [
    "<ul>\n",
    "<li><strong>Note:&nbsp;</strong>It is usually preferable to write the loop condition to avoid the use of break if possible, simply because&nbsp;<span>it can be awfully confusing to another coder reading it. In general, it often results in not understanding how the loop may terminate until the coder spots the nested </span><code>break</code><span> deep in the loop. By specifying a flag condition that's checked each iteration of the loop, it makes this much clearer.</span></li>\n",
    "</ul>\n",
    "<hr />\n",
    "<h3>References</h3>\n",
    "<ul>\n",
    "<li>This lecture contains content from &ldquo;Python for Everybody&rdquo; by Charles R Severance, licensed under CC BY-ND 3.0.</li>\n",
    "</ul>"
   ]
  }
 ],
 "metadata": {
  "kernelspec": {
   "display_name": "Python 3",
   "language": "python",
   "name": "python3"
  },
  "language_info": {
   "codemirror_mode": {
    "name": "ipython",
    "version": 3
   },
   "file_extension": ".py",
   "mimetype": "text/x-python",
   "name": "python",
   "nbconvert_exporter": "python",
   "pygments_lexer": "ipython3",
   "version": "3.9.12"
  }
 },
 "nbformat": 4,
 "nbformat_minor": 2
}
