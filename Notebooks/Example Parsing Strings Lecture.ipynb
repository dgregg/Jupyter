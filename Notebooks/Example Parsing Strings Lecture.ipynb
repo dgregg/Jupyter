{
 "cells": [
  {
   "attachments": {},
   "cell_type": "markdown",
   "metadata": {},
   "source": [
    "<h1>Example: Parsing Strings</h1><p><img src=\"images/1line.png\" width=\"100%\" /></p>\n",
    "\n",
    "<ul>\n",
    "<li>In computer technology, a <em>parser</em> is a program, usually part of a compiler, that receives input in the form of sequential source program instructions, interactive online commands, markup tags, or some other defined interface and breaks them up into parts&nbsp;such that it can be converted into a&nbsp;useable format.</li>\n",
    "<li>This code takes a line of text containing an email address and:\n",
    "<ol>\n",
    "<li>Uses <code>find</code> to locate the index of the <strong>@</strong> sign</li>\n",
    "<li>Uses <code>find</code> to locate the index of the first space character that comes after the <strong>@</strong> sign</li>\n",
    "<li>Uses string slicing to slice the string starting after the <strong>@</strong> and ending before the <strong>space</strong></li>\n",
    "</ol>\n",
    "</li>\n",
    "</ul>"
   ]
  },
  {
   "cell_type": "code",
   "execution_count": 19,
   "metadata": {},
   "outputs": [
    {
     "name": "stdout",
     "output_type": "stream",
     "text": [
      "21\n",
      "31\n",
      "uct.ac.za\n"
     ]
    }
   ],
   "source": [
    "# Parsng and extracting\n",
    "\n",
    "data = 'From stephen.marquard@uct.ac.za Sat Jan  5 09:14:16 2008'\n",
    "atpos = data.find('@')\n",
    "print(atpos)  #21\n",
    "\n",
    "# find the first space after the @\n",
    "sppos = data.find(' ',atpos)\n",
    "print(sppos)  #31\n",
    "\n",
    "# slice the string starting after the @ and ending before the space\n",
    "host = data[atpos+1 : sppos]\n",
    "print(host) # uct.ac.za"
   ]
  },
  {
   "attachments": {},
   "cell_type": "markdown",
   "metadata": {},
   "source": [
    "<hr />\n",
    "<h3>References</h3>\n",
    "<ul>\n",
    "<li>This Juptyer Notebook contains content from &ldquo;Python for Everybody&rdquo; by Charles R Severance is licensed under <a href=\"https://runestone.academy/ns/books/published/universityofcoloradodenver_py4e-int_summer23/ack/creativecommons.org/licenses/by-nc-sa/3.0/\">CC BY-ND 3.0</a>.</li>\n",
    "</ul>"
   ]
  }
 ],
 "metadata": {
  "kernelspec": {
   "display_name": "Python 3",
   "language": "python",
   "name": "python3"
  },
  "language_info": {
   "codemirror_mode": {
    "name": "ipython",
    "version": 3
   },
   "file_extension": ".py",
   "mimetype": "text/x-python",
   "name": "python",
   "nbconvert_exporter": "python",
   "pygments_lexer": "ipython3",
   "version": "3.7.3"
  }
 },
 "nbformat": 4,
 "nbformat_minor": 2
}
