{
 "cells": [
  {
   "attachments": {},
   "cell_type": "markdown",
   "metadata": {},
   "source": [
    "<h1>Mongo Client</h1><p><img src=\"images/1line.png\" width=100% /></p>\n",
    "\n",
    "<ul>\n",
    "<li>The MongoClient object is a part of the PyMongo library.&nbsp;\n",
    "<ul>\n",
    "<li>It is used to connect to MongoDB.</li>\n",
    "<li>It is used to create/connect to individual databases.</li>\n",
    "</ul>\n",
    "</li>\n",
    "</ul>\n",
    "<h3>Using MongoClient in Python</h3>\n",
    "<ul>\n",
    "<li>Establishing a connection in MongoDB requires us to create a&nbsp;<a href=\"http://api.mongodb.com/python/current/api/pymongo/mongo_client.html#pymongo.mongo_client.MongoClient\">MongoClient</a> :</li>\n",
    "</ul>"
   ]
  },
  {
   "cell_type": "code",
   "execution_count": 8,
   "metadata": {},
   "outputs": [
    {
     "name": "stdout",
     "output_type": "stream",
     "text": [
      "Requirement already satisfied: pymongo in c:\\users\\dgregg\\anaconda3\\lib\\site-packages (3.12.1)\n"
     ]
    }
   ],
   "source": [
    "# Instaling PyMongo, this is the interface to connect to MongoDB with Python\n",
    "! python -m pip install pymongo"
   ]
  },
  {
   "cell_type": "code",
   "execution_count": 5,
   "metadata": {},
   "outputs": [],
   "source": [
    "# Mongodb client not connected to database\n",
    "from pymongo import MongoClient\n",
    "client = MongoClient()"
   ]
  },
  {
   "attachments": {},
   "cell_type": "markdown",
   "metadata": {},
   "source": [
    "<ul>\n",
    "<li>The above code will connect to the default host and port, but we can specify the host and port as shown below:</li>\n",
    "</ul>\n",
    "<pre><code class=\"lang-python hljs\">client = MongoClient(<span class=\"hljs-string\">\"localhost\"</span>, <span class=\"hljs-number\">27017</span>)\n",
    "</code></pre>\n",
    "<ul>\n",
    "<li>MongoDB also has a URI format for doing this.</li>\n",
    "</ul>\n",
    "<pre><code class=\"lang-python hljs\">uri = \"<span class=\"hljs-string\">mongodb://localhost:27017/\"</span><br /></code><code class=\"lang-python hljs\">client = MongoClient(uri)\n",
    "</code></pre>\n",
    "<ul>\n",
    "<li>To connect to a remote database, like one running on an Atlas Cluster you use a more complicated URI:</li>\n",
    "</ul>"
   ]
  },
  {
   "cell_type": "code",
   "execution_count": 6,
   "metadata": {},
   "outputs": [],
   "source": [
    "import pymongo\n",
    "\n",
    "# Stored Mongodb connection string in environment variable atlas-uri \n",
    "# Replace \"os.environ.get(\"atlas-uri\")\" with your connection URI from the Atlas UI\n",
    "import os   # allows us to connect to operating system\n",
    "uri = os.environ.get(\"atlas-uri\")\n",
    "\n",
    "mclient = pymongo.MongoClient(uri)"
   ]
  },
  {
   "attachments": {},
   "cell_type": "markdown",
   "metadata": {},
   "source": [
    "<h3 id=\"creating-a-database\">Creating/Connecting to a Database</h3>\n",
    "<ul>\n",
    "<li>Now that we've connected to our&nbsp;<strong>mongodb</strong>, we can create a database handle (or connection).</li>\n",
    "<li>You can look at the available databases:</li>\n",
    "</ul>\n",
    "\n",
    "\n"
   ]
  },
  {
   "cell_type": "code",
   "execution_count": 12,
   "metadata": {},
   "outputs": [
    {
     "data": {
      "text/plain": [
       "['BikeStation',\n",
       " 'bike_stations',\n",
       " 'bikesdb',\n",
       " 'cobizdb',\n",
       " 'earthquakesdb',\n",
       " 'lobbyistdb',\n",
       " 'sample_geospatial',\n",
       " 'sample_mflix',\n",
       " 'sample_weatherdata',\n",
       " 'stationdb',\n",
       " 'test',\n",
       " 'admin',\n",
       " 'local']"
      ]
     },
     "execution_count": 12,
     "metadata": {},
     "output_type": "execute_result"
    }
   ],
   "source": [
    "mclient.list_database_names()"
   ]
  },
  {
   "attachments": {},
   "cell_type": "markdown",
   "metadata": {},
   "source": [
    "<ul>\n",
    "<li>To create a database in MongoDB, we use the&nbsp;<code>MongoClient</code>&nbsp;instance and specify a database name. MongoDB will create a database if it doesn't exist and connect to it (or an existing database).</li>\n",
    "</ul>"
   ]
  },
  {
   "cell_type": "code",
   "execution_count": 13,
   "metadata": {},
   "outputs": [],
   "source": [
    "db = mclient['sample_mflix']"
   ]
  },
  {
   "attachments": {},
   "cell_type": "markdown",
   "metadata": {},
   "source": [
    "<ul>\n",
    "<li>One useful property of a MongoClient object is we can use dictionary accessors (above) or property accessors to reference objects:</li>\n",
    "</ul>"
   ]
  },
  {
   "cell_type": "code",
   "execution_count": 14,
   "metadata": {},
   "outputs": [],
   "source": [
    "db = mclient.sample_mflix"
   ]
  },
  {
   "attachments": {},
   "cell_type": "markdown",
   "metadata": {},
   "source": [
    "\n",
    "<ul>\n",
    "<li>Once you have connected to the database, you can list the \"collections\" within the database</li>\n",
    "</ul>\n"
   ]
  },
  {
   "cell_type": "code",
   "execution_count": 15,
   "metadata": {},
   "outputs": [
    {
     "data": {
      "text/plain": [
       "['sessions', 'theaters', 'movies', 'users', 'comments']"
      ]
     },
     "execution_count": 15,
     "metadata": {},
     "output_type": "execute_result"
    }
   ],
   "source": [
    "db.list_collection_names()"
   ]
  },
  {
   "attachments": {},
   "cell_type": "markdown",
   "metadata": {},
   "source": [
    "<li>It is important to note that databases and collections are created lazily in MongoDB. This means that the collections and databases are created when the first document is inserted into them.</li>\n",
    "</ul>\n",
    "<h3 id=\"creating-a-database\">Creating/Connecting to a Collection</h3>\n",
    "<ul>\n",
    "<li>Now that we have a database object and have listed available collections, you can create a collection object.</li>\n",
    "<li>As with the database object, we can use either property or dictionary accessors.</li>\n",
    "<li>As with the database object,&nbsp; MongoDB will create a collection if it doesn't exist and connect to it (or the existing collection).</li>\n",
    "<li>Remember, a collection is analogous to a table in a relational database:</li>\n",
    "</ul>"
   ]
  },
  {
   "cell_type": "code",
   "execution_count": 17,
   "metadata": {},
   "outputs": [],
   "source": [
    "movies = db.movies"
   ]
  },
  {
   "attachments": {},
   "cell_type": "markdown",
   "metadata": {},
   "source": [
    "<ul>\n",
    "<li>You can then perform a query on the collection.</li>\n",
    "<li>We'll just get the count of documents in the collection.</li>\n",
    "</ul>"
   ]
  },
  {
   "cell_type": "code",
   "execution_count": 18,
   "metadata": {},
   "outputs": [
    {
     "data": {
      "text/plain": [
       "23539"
      ]
     },
     "execution_count": 18,
     "metadata": {},
     "output_type": "execute_result"
    }
   ],
   "source": [
    "movies.count_documents({})"
   ]
  },
  {
   "attachments": {},
   "cell_type": "markdown",
   "metadata": {},
   "source": [
    "<hr><h3>References</h3>\n",
    "<p>Connecting to a MongoDB Database <a href=\"https://learn.mongodb.com/courses/connecting-to-a-mongodb-database\" target=\"_blank\" rel=\"noopener\">https://learn.mongodb.com/courses/connecting-to-a-mongodb-database</a> </p>"
   ]
  }
 ],
 "metadata": {
  "kernelspec": {
   "display_name": "Python 3",
   "language": "python",
   "name": "python3"
  },
  "language_info": {
   "codemirror_mode": {
    "name": "ipython",
    "version": 3
   },
   "file_extension": ".py",
   "mimetype": "text/x-python",
   "name": "python",
   "nbconvert_exporter": "python",
   "pygments_lexer": "ipython3",
   "version": "3.8.8"
  }
 },
 "nbformat": 4,
 "nbformat_minor": 2
}
