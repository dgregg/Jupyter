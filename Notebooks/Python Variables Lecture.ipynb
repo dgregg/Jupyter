{
 "cells": [
  {
   "attachments": {},
   "cell_type": "markdown",
   "metadata": {},
   "source": [
    "<h1>Python Variables</h1>\n",
    "<p><img src=\"images/1line.png\" width=\"100%\" /></p>\n",
    "<ul>\n",
    "<li>A variable is a named place in the memory where a programmer can store data and later retrieve the data using the variable &ldquo;name&rdquo;</li>\n",
    "<li>Programmers get to choose the names of the variables&nbsp;</li>\n",
    "<li>As with algebra, variables can be used to hold values (x=5) or expressions (z=x+y).</li>\n",
    "<li>Python has no command for declaring a variable. A variable is created as soon as you assign a value to it:</li>\n",
    "</ul>"
   ]
  },
  {
   "cell_type": "code",
   "execution_count": 2,
   "metadata": {},
   "outputs": [
    {
     "name": "stdout",
     "output_type": "stream",
     "text": [
      "100 14\n"
     ]
    }
   ],
   "source": [
    "x = 12.2\n",
    "y = 14\n",
    "x = 100\n",
    "\n",
    "print(x, y)"
   ]
  },
  {
   "attachments": {},
   "cell_type": "markdown",
   "metadata": {},
   "source": [
    "<h2>Python Variable Names&nbsp;</h2>\n",
    "<ul>\n",
    "<li>A variable can have a short name (like x and y) or a more descriptive name (age, carname, total_volume).</li>\n",
    "<li>Rules for Python variables:\n",
    "<ul>\n",
    "<li>A variable name must start with a letter or the underscore character</li>\n",
    "<li>A variable name cannot start with a number</li>\n",
    "<li>A variable name can only contain alpha-numeric characters and underscores (A-z, 0-9, and _ )</li>\n",
    "<li>Variable names are case sensitive (y and Y are two different variables)</li>\n",
    "</ul>\n",
    "</li>\n",
    "</ul>\n",
    "<pre><strong><span style=\"color: #00ff00;\">Good:</span>&nbsp;&nbsp;&nbsp; </strong><strong>spam&nbsp;&nbsp;&nbsp; </strong><strong>eggs&nbsp;&nbsp; spam23&nbsp;&nbsp;&nbsp; _speed<br /></strong><span style=\"color: #ff0000;\"><strong>Bad:</strong></span><strong><span style=\"color: #ff0000;\">&nbsp;</span>&nbsp;&nbsp;&nbsp; </strong><strong>23spam&nbsp;&nbsp;&nbsp;&nbsp; </strong><strong>#sign&nbsp; var.12<br /></strong><strong><span style=\"color: #0000ff;\">Different:&nbsp;&nbsp;</span>&nbsp; </strong><strong>spam&nbsp;&nbsp; Spam&nbsp;&nbsp; SPAM</strong></pre>\n",
    "<ul>\n",
    "<li>You cannot use reserved words as variable names / identifiers</li>\n",
    "</ul>\n",
    "<pre>False &nbsp; class &nbsp; return&nbsp; is &nbsp; finally<br />None &nbsp; if&nbsp; for &nbsp; lambda &nbsp; continue<br />True &nbsp; def &nbsp; from &nbsp; while&nbsp; nonlocal<br />and &nbsp; del &nbsp; global &nbsp; not &nbsp; with<br />as&nbsp; &nbsp; elif &nbsp; try&nbsp; or &nbsp; yield<br />assert &nbsp; else &nbsp; import &nbsp; pass<br />break &nbsp; except &nbsp; in &nbsp; raise</pre>\n",
    "<h3>Mnemonic variable names</h3>\n",
    "\n",
    "<ul>\n",
    "<li class=\"Uo8X3b\">The best naming convention is to choose a variable name that will tell the reader of the program what the variable represents.</li>\n",
    "<li class=\"Uo8X3b\">Variables that describe the data stored at that particular memory location are called mnemonic variables.</li>\n",
    "</ul>\n",
    "<h4>For example:</h4>\n",
    "<ul>\n",
    "<li>This is difficult to read and understand:</li>\n",
    "</ul>"
   ]
  },
  {
   "cell_type": "code",
   "execution_count": 3,
   "metadata": {},
   "outputs": [
    {
     "name": "stdout",
     "output_type": "stream",
     "text": [
      "437.5\n"
     ]
    }
   ],
   "source": [
    "x135Kqxt13 = 35.0\n",
    "x135Kqxt12 = 12.5\n",
    "x135Kqxt1st = x135Kqxt13 * x135Kqxt12\n",
    "print(x135Kqxt1st)"
   ]
  },
  {
   "attachments": {},
   "cell_type": "markdown",
   "metadata": {},
   "source": [
    "<ul><li>>This is easy to read but might still be difficult to know exactly what the code is doing:</li></ul>"
   ]
  },
  {
   "cell_type": "code",
   "execution_count": 4,
   "metadata": {},
   "outputs": [
    {
     "name": "stdout",
     "output_type": "stream",
     "text": [
      "437.5\n"
     ]
    }
   ],
   "source": [
    "a = 35.0\n",
    "b = 12.5\n",
    "c = a * b\n",
    "print(c)"
   ]
  },
  {
   "attachments": {},
   "cell_type": "markdown",
   "metadata": {},
   "source": [
    "<ul><li>This is much clearer (but you have to remember that hours rate and pay are not Python keywords):</li></ul>"
   ]
  },
  {
   "cell_type": "code",
   "execution_count": 5,
   "metadata": {},
   "outputs": [
    {
     "name": "stdout",
     "output_type": "stream",
     "text": [
      "437.5\n"
     ]
    }
   ],
   "source": [
    "hours = 35.0\n",
    "rate = 12.5\n",
    "pay = hours * rate\n",
    "print(pay)"
   ]
  }
 ],
 "metadata": {
  "kernelspec": {
   "display_name": "Python 3",
   "language": "python",
   "name": "python3"
  },
  "language_info": {
   "codemirror_mode": {
    "name": "ipython",
    "version": 3
   },
   "file_extension": ".py",
   "mimetype": "text/x-python",
   "name": "python",
   "nbconvert_exporter": "python",
   "pygments_lexer": "ipython3",
   "version": "3.9.12"
  }
 },
 "nbformat": 4,
 "nbformat_minor": 2
}
