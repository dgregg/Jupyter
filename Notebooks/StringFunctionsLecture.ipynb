{
 "cells": [
  {
   "attachments": {},
   "cell_type": "markdown",
   "metadata": {},
   "source": [
    "<p><img src=\"images/1line.png\" width=\"100%\"  /></p>\n",
    "<h3>Slicing Strings</h3>\n",
    "<ul>\n",
    "<li>We can also look at any continuous section of a string using a colon operator</li>\n",
    "<li>The second number is one beyond the end of the slice - &ldquo;up to but not including&rdquo;</li>\n",
    "<li>If the second number is beyond the end of the string, it stops at the end</li>\n",
    "<li>If we leave off the first number or the last number of the slice, it is assumed to be the beginning or end of the string respectively</li>\n",
    "</ul>\n",
    "<table style=\"margin: 5px auto 5px auto;\" border=\"1\">\n",
    "<tbody>\n",
    "<tr>\n",
    "<td style=\"text-align: center;\">M</td>\n",
    "<td style=\"text-align: center;\">o</td>\n",
    "<td style=\"text-align: center;\">n</td>\n",
    "<td style=\"text-align: center;\">t</td>\n",
    "<td style=\"text-align: center;\">y</td>\n",
    "<td style=\"text-align: center;\"></td>\n",
    "<td style=\"text-align: center;\">P</td>\n",
    "<td style=\"text-align: center;\">y</td>\n",
    "<td style=\"text-align: center;\">t</td>\n",
    "<td style=\"text-align: center;\">h</td>\n",
    "<td style=\"text-align: center;\">o</td>\n",
    "<td style=\"text-align: center;\">n</td>\n",
    "</tr>\n",
    "<tr>\n",
    "<td style=\"text-align: center;\">0</td>\n",
    "<td style=\"text-align: center;\">1</td>\n",
    "<td style=\"text-align: center;\">2</td>\n",
    "<td style=\"text-align: center;\">3</td>\n",
    "<td style=\"text-align: center;\">4</td>\n",
    "<td style=\"text-align: center;\">5</td>\n",
    "<td style=\"text-align: center;\">6</td>\n",
    "<td style=\"text-align: center;\">7</td>\n",
    "<td style=\"text-align: center;\">8</td>\n",
    "<td style=\"text-align: center;\">9</td>\n",
    "<td style=\"text-align: center;\">10</td>\n",
    "<td style=\"text-align: center;\">11</td>\n",
    "</tr>\n",
    "</tbody>\n",
    "</table>"
   ]
  },
  {
   "cell_type": "code",
   "execution_count": 1,
   "metadata": {},
   "outputs": [
    {
     "name": "stdout",
     "output_type": "stream",
     "text": [
      "Mont\n",
      "P\n"
     ]
    }
   ],
   "source": [
    "# String Slicing\n",
    "\n",
    "s = 'Monty Python'\n",
    "print(s[0:4])\n",
    "#Mont\n",
    "\n",
    "print(s[6:7])\n",
    "#P\n"
   ]
  },
  {
   "cell_type": "code",
   "execution_count": 2,
   "metadata": {},
   "outputs": [
    {
     "name": "stdout",
     "output_type": "stream",
     "text": [
      "Python\n",
      "Mo\n"
     ]
    }
   ],
   "source": [
    "\n",
    "print(s[6:20])\n",
    "#Python\n",
    "\n",
    "print(s[:2])\n",
    "#Mo\n"
   ]
  },
  {
   "cell_type": "code",
   "execution_count": 3,
   "metadata": {},
   "outputs": [
    {
     "name": "stdout",
     "output_type": "stream",
     "text": [
      "thon\n",
      "Monty Python\n"
     ]
    }
   ],
   "source": [
    "\n",
    "print(s[8:])\n",
    "#thon\n",
    "\n",
    "print(s[:])\n",
    "#Monty Python"
   ]
  },
  {
   "attachments": {},
   "cell_type": "markdown",
   "metadata": {},
   "source": [
    "<hr />\n",
    "<h3>String Concatenation</h3>\n",
    "<ul>\n",
    "<li>When the&nbsp; + &nbsp;operator is applied to strings, it means &ldquo;concatenation&rdquo;</li>\n",
    "</ul>\n",
    "<p><img style=\"display: block; margin-left: auto; margin-right: auto;\" src=\"images/string.png\" /></p>"
   ]
  },
  {
   "cell_type": "code",
   "execution_count": 4,
   "metadata": {},
   "outputs": [
    {
     "name": "stdout",
     "output_type": "stream",
     "text": [
      "DawnGregg\n",
      "Dawn Gregg\n"
     ]
    }
   ],
   "source": [
    "# String Concatenation\n",
    "\n",
    "a = 'Dawn'\n",
    "b = a + 'Gregg'\n",
    "print(b)\n",
    "#DawnGregg\n",
    "\n",
    "\n",
    "c = a + ' ' + 'Gregg'\n",
    "print(c)\n",
    "#Dawn Gregg "
   ]
  },
  {
   "attachments": {},
   "cell_type": "markdown",
   "metadata": {},
   "source": [
    "<hr />\n",
    "<h3>in Operator</h3>\n",
    "<ul>\n",
    "<li>The in keyword can also be used to check to see if one string is &ldquo;in&rdquo; another string</li>\n",
    "<li>The in expression is a logical expression that returns True or False and can be used in an if statement</li>\n",
    "</ul>"
   ]
  },
  {
   "cell_type": "code",
   "execution_count": 5,
   "metadata": {},
   "outputs": [
    {
     "name": "stdout",
     "output_type": "stream",
     "text": [
      "True\n",
      "False\n",
      "True\n",
      "Found it!\n"
     ]
    }
   ],
   "source": [
    "# in Operator\n",
    "\n",
    "fruit = 'banana'\n",
    "\n",
    "print('n' in fruit)\n",
    "# True\n",
    "\n",
    "print('m' in fruit)\n",
    "# False\n",
    "\n",
    "print('nan' in fruit)\n",
    "# True\n",
    "\n",
    "if 'a' in fruit :\n",
    "    print('Found it!')\n",
    "# Found it!"
   ]
  },
  {
   "attachments": {},
   "cell_type": "markdown",
   "metadata": {},
   "source": [
    "<hr />\n",
    "<h3>String Comparison</h3>\n",
    "<ul>\n",
    "<li>You can compare strings using the Relational Operators ==, &gt;, &lt; etc.</li>\n",
    "</ul>"
   ]
  },
  {
   "cell_type": "code",
   "execution_count": 6,
   "metadata": {},
   "outputs": [
    {
     "name": "stdout",
     "output_type": "stream",
     "text": [
      "Your word,apple, comes before banana.\n"
     ]
    }
   ],
   "source": [
    "# String Comparison\n",
    "\n",
    "word1 = input(\"Enter a word\")\n",
    "word = word1.lower()\n",
    "\n",
    "if word == 'banana':\n",
    "    print('All right, bananas.')\n",
    "    \n",
    "if word < 'banana':\n",
    "    print('Your word,' + word + ', comes before banana.')\n",
    "elif word > 'banana':\n",
    "    print('Your word,' + word + ', comes after banana.')\n",
    "else:\n",
    "    print('All right, bananas.')"
   ]
  },
  {
   "attachments": {},
   "cell_type": "markdown",
   "metadata": {},
   "source": [
    "<hr />\n",
    "<h3>String Library</h3>\n",
    "<ul>\n",
    "<li>Python has a number of string functions which are in the string library</li>\n",
    "<li>These functions are already built into every string - we invoke them by appending the function to the string variable</li>\n",
    "<li>These functions do not modify the original string, instead they return a new string that has been altered</li>\n",
    "</ul>"
   ]
  },
  {
   "cell_type": "code",
   "execution_count": 7,
   "metadata": {},
   "outputs": [
    {
     "name": "stdout",
     "output_type": "stream",
     "text": [
      "greet.lower() hello bob\n",
      "greet.upper() HELLO BOB\n",
      "greet Hello Bob\n",
      "hi there\n"
     ]
    }
   ],
   "source": [
    "# String Library\n",
    "\n",
    "greet = 'Hello Bob'\n",
    "zap = greet.lower()\n",
    "print(\"greet.lower()\", zap)\n",
    "# hello bob\n",
    "\n",
    "nnn = greet.upper()\n",
    "print(\"greet.upper()\", nnn)\n",
    "# HELLO BOB\n",
    "\n",
    "print(\"greet\", greet)\n",
    "#Hello Bob\n",
    "\n",
    "print('Hi There'.lower())\n",
    "# hi there\n"
   ]
  },
  {
   "attachments": {},
   "cell_type": "markdown",
   "metadata": {},
   "source": [
    "<ul>\n",
    "<li>You can get a list of methods available to use with any object using the dir() method:</li>\n",
    "</ul>"
   ]
  },
  {
   "cell_type": "code",
   "execution_count": 8,
   "metadata": {},
   "outputs": [
    {
     "name": "stdout",
     "output_type": "stream",
     "text": [
      "<class 'str'>\n"
     ]
    },
    {
     "data": {
      "text/plain": [
       "['__add__',\n",
       " '__class__',\n",
       " '__contains__',\n",
       " '__delattr__',\n",
       " '__dir__',\n",
       " '__doc__',\n",
       " '__eq__',\n",
       " '__format__',\n",
       " '__ge__',\n",
       " '__getattribute__',\n",
       " '__getitem__',\n",
       " '__getnewargs__',\n",
       " '__gt__',\n",
       " '__hash__',\n",
       " '__init__',\n",
       " '__init_subclass__',\n",
       " '__iter__',\n",
       " '__le__',\n",
       " '__len__',\n",
       " '__lt__',\n",
       " '__mod__',\n",
       " '__mul__',\n",
       " '__ne__',\n",
       " '__new__',\n",
       " '__reduce__',\n",
       " '__reduce_ex__',\n",
       " '__repr__',\n",
       " '__rmod__',\n",
       " '__rmul__',\n",
       " '__setattr__',\n",
       " '__sizeof__',\n",
       " '__str__',\n",
       " '__subclasshook__',\n",
       " 'capitalize',\n",
       " 'casefold',\n",
       " 'center',\n",
       " 'count',\n",
       " 'encode',\n",
       " 'endswith',\n",
       " 'expandtabs',\n",
       " 'find',\n",
       " 'format',\n",
       " 'format_map',\n",
       " 'index',\n",
       " 'isalnum',\n",
       " 'isalpha',\n",
       " 'isascii',\n",
       " 'isdecimal',\n",
       " 'isdigit',\n",
       " 'isidentifier',\n",
       " 'islower',\n",
       " 'isnumeric',\n",
       " 'isprintable',\n",
       " 'isspace',\n",
       " 'istitle',\n",
       " 'isupper',\n",
       " 'join',\n",
       " 'ljust',\n",
       " 'lower',\n",
       " 'lstrip',\n",
       " 'maketrans',\n",
       " 'partition',\n",
       " 'removeprefix',\n",
       " 'removesuffix',\n",
       " 'replace',\n",
       " 'rfind',\n",
       " 'rindex',\n",
       " 'rjust',\n",
       " 'rpartition',\n",
       " 'rsplit',\n",
       " 'rstrip',\n",
       " 'split',\n",
       " 'splitlines',\n",
       " 'startswith',\n",
       " 'strip',\n",
       " 'swapcase',\n",
       " 'title',\n",
       " 'translate',\n",
       " 'upper',\n",
       " 'zfill']"
      ]
     },
     "execution_count": 8,
     "metadata": {},
     "output_type": "execute_result"
    }
   ],
   "source": [
    "# type and dir\n",
    "\n",
    "stuff = 'Hello world'\n",
    "print(type(stuff))\n",
    "# <class 'str'>\n",
    "\n",
    "dir(stuff)"
   ]
  },
  {
   "attachments": {},
   "cell_type": "markdown",
   "metadata": {},
   "source": [
    "<hr />\n",
    "<h3>Common String Library Functions</h3>\n",
    "<ul>\n",
    "<li><strong>str.capitalize</strong><strong>()</strong></li>\n",
    "<li><strong>str.center</strong><strong>(width[, </strong><strong>fillchar</strong><strong>])</strong></li>\n",
    "<li><strong>str.endswith</strong><strong>(suffix[, start[, end]])</strong></li>\n",
    "<li><strong>str.find</strong><strong>(sub[, start[, end]])</strong></li>\n",
    "<li><strong>str.lstrip</strong><strong>([chars])</strong></li>\n",
    "<li><strong>str.replace</strong><strong>(old, new[, count])</strong></li>\n",
    "<li><strong>str.lower</strong><strong>()</strong></li>\n",
    "<li><strong>str.rstrip</strong><strong>([chars])</strong></li>\n",
    "<li><strong>str.strip</strong><strong>([chars])</strong></li>\n",
    "<li><strong>str.upper</strong><strong>()</strong></li>\n",
    "</ul>\n",
    "<hr />\n",
    "<h3>Searching in a String</h3>\n",
    "<ul>\n",
    "<li>We use the find() function to search for a substring within another string</li>\n",
    "<li>find() finds the first occurrence of the substring</li>\n",
    "<li>If the substring is not found, find() returns -1</li>\n",
    "<li>Remember that string position starts at zero</li>\n",
    "</ul>\n",
    "<table style=\"margin: 5px auto 5px auto;\" border=\"1\">\n",
    "<tbody>\n",
    "<tr>\n",
    "<td><strong>b</strong></td>\n",
    "<td><strong>a</strong></td>\n",
    "<td><strong>n</strong></td>\n",
    "<td><strong>a</strong></td>\n",
    "<td><strong>n</strong></td>\n",
    "<td><strong>a</strong></td>\n",
    "</tr>\n",
    "<tr>\n",
    "<td><strong>0</strong></td>\n",
    "<td><strong>1</strong></td>\n",
    "<td><strong>2</strong></td>\n",
    "<td><strong>3</strong></td>\n",
    "<td><strong>4</strong></td>\n",
    "<td><strong>5</strong></td>\n",
    "</tr>\n",
    "</tbody>\n",
    "</table>"
   ]
  },
  {
   "cell_type": "code",
   "execution_count": 9,
   "metadata": {},
   "outputs": [
    {
     "name": "stdout",
     "output_type": "stream",
     "text": [
      "na 2\n",
      "z -1\n"
     ]
    }
   ],
   "source": [
    "# Search in a string\n",
    "\n",
    "fruit = 'banana'\n",
    "pos = fruit.find('na')\n",
    "print('na', pos)\n",
    "# 2\n",
    "\n",
    "aa = fruit.find('z')\n",
    "print('z', aa)\n",
    "# -1"
   ]
  },
  {
   "attachments": {},
   "cell_type": "markdown",
   "metadata": {},
   "source": [
    "<hr />\n",
    "<h3>Search and Replace</h3>\n",
    "<ul>\n",
    "<li>The replace() function is like a &ldquo;search and replace&rdquo; operation in a word processor</li>\n",
    "<li>It replaces all occurrences of the search string with the replacement string</li>\n",
    "</ul>"
   ]
  },
  {
   "cell_type": "code",
   "execution_count": 10,
   "metadata": {},
   "outputs": [
    {
     "name": "stdout",
     "output_type": "stream",
     "text": [
      "Hello Jane\n",
      "HellX BXb\n"
     ]
    }
   ],
   "source": [
    "# Replace in a String\n",
    "\n",
    "greet = 'Hello Bob'\n",
    "newstr = greet.replace('Bob','Jane')\n",
    "print(newstr)\n",
    "# Hello Jane\n",
    "\n",
    "nextstr = greet.replace('o','X')\n",
    "print(nextstr)\n",
    "#HellX BXb"
   ]
  },
  {
   "attachments": {},
   "cell_type": "markdown",
   "metadata": {},
   "source": [
    "<hr />\n",
    "<h3>Stripping Whitespace</h3>\n",
    "<ul>\n",
    "<li>Sometimes we want to take a string and remove whitespace at the beginning and/or end</li>\n",
    "<li>lstrip() and rstrip() remove whitespace at the left or right</li>\n",
    "<li>strip() removes both beginning and ending whitespace</li>\n",
    "</ul>"
   ]
  },
  {
   "cell_type": "code",
   "execution_count": 11,
   "metadata": {},
   "outputs": [
    {
     "name": "stdout",
     "output_type": "stream",
     "text": [
      "Hello Bob   XXX\n",
      "   Hello Bob XXX\n",
      "Hello Bob XXX\n"
     ]
    },
    {
     "data": {
      "text/plain": [
       "9"
      ]
     },
     "execution_count": 11,
     "metadata": {},
     "output_type": "execute_result"
    }
   ],
   "source": [
    "# Stripppin Whitespace\n",
    "\n",
    "greet = '   Hello Bob  '\n",
    "print(greet.lstrip(), \"XXX\")\n",
    "# 'Hello Bob  '\n",
    "\n",
    "print(greet.rstrip(), \"XXX\")\n",
    "#'   Hello Bob'\n",
    "\n",
    "print(greet.strip(), \"XXX\")\n",
    "#'Hello Bob'\n",
    "\n",
    "len(greet.strip())"
   ]
  },
  {
   "attachments": {},
   "cell_type": "markdown",
   "metadata": {},
   "source": [
    "<hr />\n",
    "<h3>Prefixes</h3>"
   ]
  },
  {
   "cell_type": "code",
   "execution_count": 12,
   "metadata": {},
   "outputs": [
    {
     "name": "stdout",
     "output_type": "stream",
     "text": [
      "line.startswith('Please') True\n",
      "line.startswith('p') False\n"
     ]
    }
   ],
   "source": [
    "line = 'Please have a nice day'\n",
    "print(\"line.startswith('Please')\", line.startswith('Please'))\n",
    "# True\n",
    "\n",
    "print(\"line.startswith('p')\", line.startswith('p'))\n",
    "# False"
   ]
  },
  {
   "cell_type": "code",
   "execution_count": 13,
   "metadata": {},
   "outputs": [
    {
     "name": "stdout",
     "output_type": "stream",
     "text": [
      "21\n",
      "31\n",
      "uct.ac.za\n"
     ]
    }
   ],
   "source": [
    "# Parsng and extracting\n",
    "\n",
    "data = 'From stephen.marquard@uct.ac.za Sat Jan  5 09:14:16 2008'\n",
    "atpos = data.find('@')\n",
    "print(atpos)  #21\n",
    "\n",
    "# find the first space after the @\n",
    "sppos = data.find(' ',atpos)\n",
    "print(sppos)  #31\n",
    "\n",
    "# slice the string starting after the @ and ending before the space\n",
    "host = data[atpos+1 : sppos]\n",
    "print(host) # uct.ac.za"
   ]
  }
 ],
 "metadata": {
  "kernelspec": {
   "display_name": "Python 3",
   "language": "python",
   "name": "python3"
  },
  "language_info": {
   "codemirror_mode": {
    "name": "ipython",
    "version": 3
   },
   "file_extension": ".py",
   "mimetype": "text/x-python",
   "name": "python",
   "nbconvert_exporter": "python",
   "pygments_lexer": "ipython3",
   "version": "3.9.12"
  }
 },
 "nbformat": 4,
 "nbformat_minor": 2
}
