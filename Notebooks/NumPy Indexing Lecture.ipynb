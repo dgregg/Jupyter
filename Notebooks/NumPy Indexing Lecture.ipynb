{
 "cells": [
  {
   "attachments": {},
   "cell_type": "markdown",
   "metadata": {},
   "source": [
    "<h1>Indexing Numpy Arrays</h1><p><img src=\"images/1line.png\" width=\"100%\" /></p>\n",
    "<ul>\n",
    "<li>NumPy arrays can also be indexed with other arrays or other sequence-like objects like lists.</li>\n",
    "<li>This can be used to process a large vector or matrix of data very rapidly - with out having to loop though the data with a for loop.</li>\n",
    "</ul>\n",
    "<p>For Example:</p>\n",
    "<ul>\n",
    "<li>Create a npArray z1.</li>\n",
    "<li>Create a second array, z2, which is 1 added to every element in z1.</li>\n",
    "<li>Assume I wan to extract the elements at index 0, 2 and 3\n",
    "<ul>\n",
    "<li>I can create a list [0, 2, 3]&nbsp;</li>\n",
    "<li>then apply the array to the np array z1&nbsp;</li>\n",
    "<li>this produces a new np array with the elements at index 0, 2, 3 from np array z1</li>\n",
    "</ul>\n",
    "</li>\n",
    "</ul>\n",
    "\n",
    "\n"
   ]
  },
  {
   "cell_type": "code",
   "execution_count": 21,
   "metadata": {},
   "outputs": [
    {
     "data": {
      "text/plain": [
       "array([ 2,  4,  5,  6,  8, 10])"
      ]
     },
     "execution_count": 21,
     "metadata": {},
     "output_type": "execute_result"
    }
   ],
   "source": [
    "# import numpy\n",
    "import numpy as np\n",
    "\n",
    "z1 = np.array([1, 3, 4, 5, 7, 9])\n",
    "z2 = z1 + 1\n",
    "z2"
   ]
  },
  {
   "cell_type": "code",
   "execution_count": 22,
   "metadata": {},
   "outputs": [
    {
     "data": {
      "text/plain": [
       "array([1, 4, 5])"
      ]
     },
     "execution_count": 22,
     "metadata": {},
     "output_type": "execute_result"
    }
   ],
   "source": [
    "ind = [0, 2, 3]\n",
    "z1[ind]"
   ]
  },
  {
   "attachments": {},
   "cell_type": "markdown",
   "metadata": {},
   "source": [
    "<ul>\n",
    "<li>In this example, index or ind, was defined as a Python list, but we could also have defined that as a NumPy array.</li>\n",
    "<li>You take the previous list, 0, 2, 3, turn that into a NumPy array or a (e.g. np.array([0, 2, 3])), and still do the indexing.</li>\n",
    "<li>In other words, we can index NumPy arrays using either lists or other NumPy arrays.</li>\n",
    "</ul>\n",
    "<h2 id=\"Numpy:-Boolean-Indexing\">Boolean Indexing</h2>\n",
    "<ul>\n",
    "<li>NumPy arrays can also be indexed using logical indices, but what does that actually mean?</li>\n",
    "<li>Just as we can have an array of numbers, we&nbsp;can have an array consisting of true and false.</li>\n",
    "<li>Assuming the same z1 array as above, we can use a boolean expression, like z1 greater than 6, to create a Boolean array.</li>\n",
    "<li>We then index an array z1 by using a Boolean \"mask\".&nbsp;It is called <strong>fancy indexing</strong>, if arrays are indexed by using boolean or integer arrays (masks).</li>\n",
    "<li>In our next example, we will use the Boolean mask of one array (z1) to select the corresponding elements of another array. The new array z3 contains all the elements of z2 where the corresponding value of (z1&gt;6) is True.</li>\n",
    "</ul>\n"
   ]
  },
  {
   "cell_type": "code",
   "execution_count": 16,
   "metadata": {},
   "outputs": [
    {
     "data": {
      "text/plain": [
       "array([False, False, False, False,  True,  True])"
      ]
     },
     "execution_count": 16,
     "metadata": {},
     "output_type": "execute_result"
    }
   ],
   "source": [
    "import numpy as np\n",
    "\n",
    "z1 = np.array([1, 3, 4, 5, 7, 9])\n",
    "z1 > 6"
   ]
  },
  {
   "cell_type": "code",
   "execution_count": 17,
   "metadata": {},
   "outputs": [
    {
     "data": {
      "text/plain": [
       "array([7, 9])"
      ]
     },
     "execution_count": 17,
     "metadata": {},
     "output_type": "execute_result"
    }
   ],
   "source": [
    "# Use the Boolean array to extract all values > 6 from z1\n",
    "z1[z1>6]"
   ]
  },
  {
   "cell_type": "code",
   "execution_count": 20,
   "metadata": {},
   "outputs": [
    {
     "data": {
      "text/plain": [
       "array([ 8, 10])"
      ]
     },
     "execution_count": 20,
     "metadata": {},
     "output_type": "execute_result"
    }
   ],
   "source": [
    "# Use the same Boolean Array to extract last two values from another array\n",
    "z2 = z1 + 1\n",
    "z3 = z2[z1>6]\n",
    "z3"
   ]
  },
  {
   "attachments": {},
   "cell_type": "markdown",
   "metadata": {},
   "source": [
    "<ul>\n",
    "<li>Every element of the Array z1 is tested, if it is greater than 6. The results of these tests are the Boolean elements of the result array.</li>\n",
    "<li>Of course, it is also possible to check using any Boolean operator \"==\", \"!=\", &lt;\", \"&lt;=\", \"&gt;\" and \"&gt;=\".</li>\n",
    "<li>It works also for higher dimensions:</li>\n",
    "</ul>\n"
   ]
  },
  {
   "cell_type": "code",
   "execution_count": 15,
   "metadata": {},
   "outputs": [
    {
     "data": {
      "text/plain": [
       "array([[ True,  True,  True,  True],\n",
       "       [ True,  True,  True, False],\n",
       "       [ True,  True, False, False]])"
      ]
     },
     "execution_count": 15,
     "metadata": {},
     "output_type": "execute_result"
    }
   ],
   "source": [
    "Z = np.array([[42,56,89,65],\n",
    "              [99,88,42,12],\n",
    "              [55,42,17,18]])\n",
    "Z>=42"
   ]
  },
  {
   "attachments": {},
   "cell_type": "markdown",
   "metadata": {},
   "source": [
    "<ul>\n",
    "<li>It is a convenient way to <em>threshold</em> images.</li>\n",
    "</ul>\n"
   ]
  },
  {
   "cell_type": "code",
   "execution_count": 14,
   "metadata": {},
   "outputs": [
    {
     "data": {
      "text/plain": [
       "array([[1, 1, 1, 1, 0, 1, 1, 1, 1],\n",
       "       [1, 1, 1, 0, 0, 0, 1, 1, 1],\n",
       "       [1, 1, 1, 0, 1, 0, 1, 1, 1],\n",
       "       [1, 1, 0, 0, 1, 0, 0, 1, 1],\n",
       "       [1, 1, 0, 1, 1, 1, 0, 1, 1],\n",
       "       [1, 0, 0, 1, 1, 1, 0, 0, 1],\n",
       "       [1, 0, 1, 1, 1, 1, 1, 0, 1],\n",
       "       [1, 0, 1, 1, 1, 1, 1, 0, 1],\n",
       "       [1, 0, 1, 1, 1, 1, 1, 0, 1],\n",
       "       [1, 0, 0, 0, 0, 0, 0, 0, 1],\n",
       "       [1, 0, 1, 1, 1, 1, 1, 0, 1],\n",
       "       [1, 0, 1, 1, 1, 1, 1, 0, 1],\n",
       "       [1, 0, 1, 1, 1, 1, 1, 0, 1],\n",
       "       [1, 0, 1, 1, 1, 1, 1, 0, 1],\n",
       "       [1, 0, 1, 1, 1, 1, 1, 0, 1]])"
      ]
     },
     "metadata": {},
     "output_type": "display_data"
    }
   ],
   "source": [
    "import numpy as np\n",
    "\n",
    "A = np.array([\n",
    "[12, 13, 14, 12, 16, 14, 11, 10,  9],\n",
    "[11, 14, 12, 15, 15, 16, 10, 12, 11],\n",
    "[10, 12, 12, 15, 14, 16, 10, 12, 12],\n",
    "[ 9, 11, 16, 15, 14, 16, 15, 12, 10],\n",
    "[12, 11, 16, 14, 10, 12, 16, 12, 13],\n",
    "[10, 15, 16, 14, 14, 14, 16, 15, 12],\n",
    "[13, 17, 14, 10, 14, 11, 14, 15, 10],\n",
    "[10, 16, 12, 14, 11, 12, 14, 18, 11],\n",
    "[10, 19, 12, 14, 11, 12, 14, 18, 10],\n",
    "[14, 22, 17, 19, 16, 17, 18, 17, 13],\n",
    "[10, 16, 12, 14, 11, 12, 14, 18, 11],\n",
    "[10, 16, 12, 14, 11, 12, 14, 18, 11],\n",
    "[10, 19, 12, 14, 11, 12, 14, 18, 10],\n",
    "[14, 22, 12, 14, 11, 12, 14, 17, 13],\n",
    "[10, 16, 12, 14, 11, 12, 14, 18, 11]])\n",
    "B = A < 15\n",
    "display(B.astype(np.int32))"
   ]
  },
  {
   "attachments": {},
   "cell_type": "markdown",
   "metadata": {},
   "source": [
    "<ul>\n",
    "<li>If you have a close look at the previous output, you will see, that it the upper case 'A' is hidden in the array B.</li>\n",
    "</ul>\n",
    "<p>&nbsp;</p>\n",
    "<h3>Indexing vs. Slicing</h3>\n",
    "<ul>\n",
    "<li>One final word about indexing NumPy arrays-- and this&nbsp;is really important because it can easily&nbsp;lead to subtle programming errors.</li>\n",
    "<li>When you slice an array using the colon operator, you get a <strong>view</strong> of the object. This means that if you modify it, the original array will also be modified.</li>\n",
    "</ul>"
   ]
  },
  {
   "attachments": {},
   "cell_type": "markdown",
   "metadata": {},
   "source": [
    "<h4>Slicing (Shallow Copy)</h4>\n",
    "<p><img style=\"display: block; margin-left: auto; margin-right: auto;\" src=\"images/shallowSlice.PNG\" width=\"682\" height=\"483\" alt=\"shows memory location fo z2 is the same as for array z1\" /></p>\n",
    "<ul>\n",
    "<li>In the above images, I'm going to define my z1 to be <br />z1 = np.array([1, 3, 5, 7]).</li>\n",
    "<li>Then, I will define a new vector \"z2\" tha is a slice&nbsp;from 0 to 4.</li>\n",
    "<li>I can look at the contents of my z2.</li>\n",
    "<li>In this case, I choose to modify the element at location zero.</li>\n",
    "<li>So I'm just going to type&nbsp;z2[0], is equal to 3.</li>\n",
    "<li>I can now inspect the content of z2, and instead of having 1, 3, 5 and z,&nbsp;I have 3, 3, 5, and 7, as we would have expected.</li>\n",
    "<li>However, if I now type z1, you will see that the first element at location is 0 of that array has also been modified.</li>\n",
    "</ul>\n",
    "\n"
   ]
  },
  {
   "cell_type": "code",
   "execution_count": 11,
   "metadata": {},
   "outputs": [
    {
     "data": {
      "text/plain": [
       "array([1, 3, 5, 7])"
      ]
     },
     "metadata": {},
     "output_type": "display_data"
    },
    {
     "data": {
      "text/plain": [
       "array([3, 3, 5, 7])"
      ]
     },
     "metadata": {},
     "output_type": "display_data"
    },
    {
     "data": {
      "text/plain": [
       "array([3, 3, 5, 7])"
      ]
     },
     "metadata": {},
     "output_type": "display_data"
    }
   ],
   "source": [
    "import numpy as np\n",
    "\n",
    "z1 = np.array([1, 3, 5, 7])\n",
    "z2 = z1[0:4]  # Z2 is slicesd from z1\n",
    "display(z2)   # array([1, 3, 5, 7])\n",
    "\n",
    "z2[0] = 3\n",
    "display(z2)   # array([3, 3, 5, 7])\n",
    "\n",
    "display(z1)   # array([3, 3, 5, 7])"
   ]
  },
  {
   "attachments": {},
   "cell_type": "markdown",
   "metadata": {},
   "source": [
    "<h4>Indexing (Deep Copy)</h4>\n",
    "<ul>\n",
    "<li>This is in contrast with what happens when you index an array, in which case&nbsp;what is returned to you is a copy of the original data.</li>\n",
    "</ul>\n",
    "<p><img style=\"display: block; margin-left: auto; margin-right: auto;\" src=\"images/deepIndex.PNG\" width=\"740\" height=\"433\" alt=\"shows memory location fo z2 different to that of z1\" /></p>\n",
    "<ul>\n",
    "<li>As before, I'm going to define my z1 vector&nbsp;to be <br />z1 = np.array([1, 3, 5, 7]).</li>\n",
    "<li>Then define the index vector as z1&lt;8.</li>\n",
    "<li>I now define z2 as all of elements in z1 where z1 &lt; 8.</li>\n",
    "<li>The contents of z2 is 1, 3, 5 and 7.</li>\n",
    "<li>So I'm just going to type&nbsp;z2[0], is equal to 3.</li>\n",
    "<li>I can now inspect the content of z2, and instead of having 1, 3, 5 and 7,&nbsp;I have 3, 3, 5, and 7, as we would have expected.</li>\n",
    "<li>If I now type z1, you will see that the first element at location is 0 has NOT changed.</li>\n",
    "</ul>"
   ]
  },
  {
   "cell_type": "code",
   "execution_count": 10,
   "metadata": {},
   "outputs": [
    {
     "data": {
      "text/plain": [
       "array([1, 3, 5, 7])"
      ]
     },
     "metadata": {},
     "output_type": "display_data"
    },
    {
     "data": {
      "text/plain": [
       "array([3, 3, 5, 7])"
      ]
     },
     "metadata": {},
     "output_type": "display_data"
    },
    {
     "data": {
      "text/plain": [
       "array([1, 3, 5, 7])"
      ]
     },
     "metadata": {},
     "output_type": "display_data"
    }
   ],
   "source": [
    "import numpy as np\n",
    "\n",
    "z1 = np.array([1, 3, 5, 7])\n",
    "\n",
    "z2 = z1[z1<8] # z2 based on a filter of z1\n",
    "display(z2)   # array([1, 3, 5, 7])\n",
    "\n",
    "z2[0] = 3\n",
    "display(z2)   # array([3, 3, 5, 7])\n",
    "\n",
    "display(z1)   # array([1, 3, 5, 7])"
   ]
  },
  {
   "attachments": {},
   "cell_type": "markdown",
   "metadata": {},
   "source": [
    "<hr />\n",
    "<h3>Reference</h3>\n",
    "<p>Jukka-Pekka Onnela, Python for Research, Python Libraries and Concepts Used in Research, CC 2.2.3_ Indexing NumPy Arrays, edX, <a href=\"https://www.edx.org/course/using-python-for-research\" target=\"_blank\" rel=\"noopener\">https://www.edx.org/course/using-python-for-research</a>&nbsp;</p>"
   ]
  }
 ],
 "metadata": {
  "kernelspec": {
   "display_name": "base",
   "language": "python",
   "name": "python3"
  },
  "language_info": {
   "codemirror_mode": {
    "name": "ipython",
    "version": 3
   },
   "file_extension": ".py",
   "mimetype": "text/x-python",
   "name": "python",
   "nbconvert_exporter": "python",
   "pygments_lexer": "ipython3",
   "version": "3.10.9"
  },
  "orig_nbformat": 4
 },
 "nbformat": 4,
 "nbformat_minor": 2
}
