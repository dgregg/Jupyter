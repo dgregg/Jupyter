{
 "cells": [
  {
   "cell_type": "code",
   "execution_count": 6,
   "metadata": {},
   "outputs": [],
   "source": [
    "# This Author class contains methods to track the articles written by an Author\n",
    "class Author:\n",
    "    \n",
    "    def __init__(self, n, e):\n",
    "        self.articles = list()\n",
    "        self.name = n\n",
    "        self.email = e\n",
    "        \n",
    "    @property\n",
    "    def email(self):\n",
    "        return self.__email\n",
    "\n",
    "    @email.setter\n",
    "    def email(self, x):\n",
    "        x = str(x)\n",
    "        if x.find(\"@\") > 0 :\n",
    "            self.__email = x    \n",
    "\n",
    "    def add_article(self, art) :\n",
    "        assert isinstance(art, Article), \"Article provided should be of type Article\"\n",
    "        self.articles.append(art)\n",
    " \n",
    "    def remove_article(self, title) :\n",
    "        for art in self.articles :\n",
    "            if art.title == title:\n",
    "                self.articles.remove(art)\n",
    "        \n",
    "    def display_articles(self) :\n",
    "        for article in self.articles :\n",
    "            print(article)\n",
    "\n",
    "    def number_articles(self) :\n",
    "        return len(self.articles)\n",
    "\n",
    "# This Article class contains relevant information about articles and is\n",
    "# designed to be used in conjunction with the Author class     \n",
    "class Article:\n",
    "    def __init__(self, n, t, p, d):\n",
    "        assert isinstance(n, (list, tuple)), \"Author names should be provided in a list or tuple\"\n",
    "        self.authors = n\n",
    "        self.title = t\n",
    "        self.pub = p\n",
    "        self.date = d\n",
    "        \n",
    "    def __str__(self):\n",
    "        return self.author.name + \", '\" + self.title + \"', \" + self.pub + \", \" + str(self.date)\n",
    "    "
   ]
  },
  {
   "cell_type": "code",
   "execution_count": 7,
   "metadata": {},
   "outputs": [
    {
     "name": "stderr",
     "output_type": "stream",
     "text": [
      "test_add_article (__main__.TestAuthorArticle) ... ok\n",
      "test_number_articles (__main__.TestAuthorArticle) ... ok\n",
      "test_remove_article (__main__.TestAuthorArticle) ... ok\n",
      "\n",
      "----------------------------------------------------------------------\n",
      "Ran 3 tests in 0.003s\n",
      "\n",
      "OK\n"
     ]
    }
   ],
   "source": [
    "import unittest\n",
    "\n",
    "class TestAuthorArticle(unittest.TestCase):\n",
    "    \n",
    "    # Setup method run before every unit test.\n",
    "    def setUp(self):\n",
    "        self.au = Author(\"Dhruv Devi\", \"dhruv.devi@ucdenver.edu\")\n",
    "        self.art = Article([\"Dhruv Devi\"], \"Introduction to Python Programming\", \"Learn Python\", \"September 2022\")\n",
    "        \n",
    "    # This tests that the number_articles method in the author class\n",
    "    def test_number_articles(self):\n",
    "       self.assertEqual(self.au.number_articles(), 0)\n",
    "\n",
    "    # This tests that the add_article method in the author and article classes \n",
    "    def test_add_article(self):\n",
    "       self.au.add_article(self.art)  #Adds an Article object to the articles list\n",
    "       self.assertEqual(self.au.number_articles(), 1)\n",
    "\n",
    "    # This tests that the remove_article method in the author and article classes \n",
    "    def test_remove_article(self):\n",
    "       self.au.add_article(self.art)  #Adds an Article object to the articles list  \n",
    "       self.au.remove_article(self.art.title)\n",
    "       self.assertEqual(self.au.number_articles(), 0)\n",
    "\n",
    "# if only runs main if this it the primary program being run\n",
    "if __name__ == \"__main__\":\n",
    "    unittest.main(argv=['ignored', '-v'], exit=False)\n",
    "    "
   ]
  },
  {
   "cell_type": "code",
   "execution_count": null,
   "metadata": {},
   "outputs": [],
   "source": []
  }
 ],
 "metadata": {
  "kernelspec": {
   "display_name": "Python 3",
   "language": "python",
   "name": "python3"
  },
  "language_info": {
   "codemirror_mode": {
    "name": "ipython",
    "version": 3
   },
   "file_extension": ".py",
   "mimetype": "text/x-python",
   "name": "python",
   "nbconvert_exporter": "python",
   "pygments_lexer": "ipython3",
   "version": "3.7.3"
  }
 },
 "nbformat": 4,
 "nbformat_minor": 2
}
