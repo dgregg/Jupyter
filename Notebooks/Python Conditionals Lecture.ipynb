{
 "cells": [
  {
   "attachments": {},
   "cell_type": "markdown",
   "metadata": {},
   "source": [
    "<h1>Python Conditionals</h1>\n",
    "<p><img src=\"images/1line.png\" width=\"100%\" /></p>\n",
    "<h3>Boolean Expressions</h3>\n",
    "<ul>\n",
    "    <li>Relational operators are those used for comparisons and are binary operators - that means they return one of two values: true or false (yes or no);</li>\n",
    "    <li>There are six relational operators:&nbsp; less than (&lt;), less than or equal to (&lt;=), greater than (&gt;), greater than or equal to (&gt;=), equal (==) and not equal (! =)</li>\n",
    "    <li>Relational operators look at variables but do not change the variables</li>\n",
    "</ul>\n",
    "<table style=\"margin-left: auto; margin-right: auto;\" border=\"1\" cellspacing=\"0\" cellpadding=\"4\">\n",
    "    <caption><strong>Comparison Operators</strong></caption>\n",
    "    <tbody>\n",
    "        <tr>\n",
    "            <th><span>Operator</span></th>\n",
    "            <th>\n",
    "                <p><span>Description</span></p>\n",
    "            </th>\n",
    "            <th>\n",
    "                <p><span>Example</span></p>\n",
    "            </th>\n",
    "        </tr>\n",
    "        <tr>\n",
    "            <td>==</td>\n",
    "            <td>is equal to</td>\n",
    "            <td>5==8 returns false</td>\n",
    "        </tr>\n",
    "        <tr>\n",
    "            <td>!=</td>\n",
    "            <td>is not equal</td>\n",
    "            <td>5!=8 returns true</td>\n",
    "        </tr>\n",
    "        <tr>\n",
    "            <td>&gt;</td>\n",
    "            <td>is greater than</td>\n",
    "            <td>5&gt;8 returns false</td>\n",
    "        </tr>\n",
    "        <tr>\n",
    "            <td>&lt;</td>\n",
    "            <td>is less than</td>\n",
    "            <td>5</td>\n",
    "        </tr>\n",
    "        <tr>\n",
    "            <td>&gt;=</td>\n",
    "            <td>is greater than or equal to</td>\n",
    "            <td>5&gt;=8 returns false</td>\n",
    "        </tr>\n",
    "        <tr>\n",
    "            <td>&lt;=</td>\n",
    "            <td>is less than or equal to</td>\n",
    "            <td>5&lt;=8 returns true</td>\n",
    "        </tr>\n",
    "    </tbody>\n",
    "</table>\n",
    "<p>&nbsp;</p>\n",
    "<h3>Conditional Statements</h3>\n",
    "<p>Very often when you write code, you want to perform different actions for different decisions. Just like you did with JavaScript, you can use conditional statements in your Python code to do this.</p>\n",
    "<p>In Python we have the following conditional statements:</p>\n",
    "<ul>\n",
    "    <li><strong>if statement</strong><span>&nbsp;</span>- executes some code only if a specified condition is true</li>\n",
    "    <li><strong>if...else statement</strong><span>&nbsp;</span>- executes some code if a condition is true and another code if the condition is false</li>\n",
    "    <li><strong>if...elif....else statement</strong><span>&nbsp;</span>- selects one of several blocks of code to be executed</li>\n",
    "</ul>\n",
    "<h3>If Statements</h3><img style=\"float: right;\" src=\"images/ConditionalFlow.PNG\" width=\"269\" height=\"382\"  />\n",
    "<p>The if statement is used to execute some code<span>&nbsp;</span><strong>only if a specified condition is true</strong>.</p>\n",
    "<h3>Syntax</h3>\n",
    "<pre>if <em>condition :</em><em><br /> &nbsp; code to be executed if <br />   condition is true</em><em><br /></em></pre>\n",
    "<p>The example checks the variable x against a variety of Boolean conditions:</p>\n"
   ]
  },
  {
   "cell_type": "code",
   "execution_count": 1,
   "metadata": {},
   "outputs": [
    {
     "name": "stdout",
     "output_type": "stream",
     "text": [
      "Smaller\n",
      "Greater than or Equals 5\n",
      "Equals 5\n",
      "Less than or Equals 5\n",
      "Still Less than or Equal to 5\n",
      "Not equal 6\n"
     ]
    }
   ],
   "source": [
    "# Simple if statements\n",
    "x = 5\n",
    "if x < 10 :\n",
    "    print('Smaller')\n",
    "\n",
    "if x > 20 :\n",
    "    print('Bigger')\n",
    "    \n",
    "if x >= 5 :\n",
    "    print('Greater than or Equals 5')\n",
    "    \n",
    "if x == 5 : print('Equals 5') \n",
    "    \n",
    "if x <= 5 :\n",
    "    print('Less than or Equals 5')    \n",
    "    print('Still Less than or Equal to 5') \n",
    "    \n",
    "if x != 6 :\n",
    "    print('Not equal 6')"
   ]
  },
  {
   "attachments": {},
   "cell_type": "markdown",
   "metadata": {},
   "source": [
    "<h4>If Statement Rules</h4>\n",
    "<ul>\n",
    "    <li>Increase indent indent after an if statement or for statement (after : )</li>\n",
    "    <li>Maintain indent to indicate the scope of the block (which lines are affected by the if/for)</li>\n",
    "    <li>Reduce indent back to the level of the if statement or for statement to indicate the end of the block</li>\n",
    "    <li>Blank lines are ignored - they do not affect indentation</li>\n",
    "    <li>Comments on a line by themselves are ignored with regard to indentation</li>\n",
    "    <li>You can have a single line if where the if block is placed on the same line as the if condition.</li>\n",
    "</ul>\n",
    "<h3>Nested if&nbsp;Statements</h3><img style=\"float: right;\" src=\"images/nestedIf.PNG\" alt=\"if statements can be written within other if statements, which are called nested\" />\n",
    "<ul>\n",
    "    <li><code>if<span>&nbsp;</span></code>statements can be written within other if statements, which are called<span>&nbsp;</span><em>nested</em><span>&nbsp;</span>if statements.</li>\n",
    "    <li>When creating a nested if statement you have the second if statement indented inside the first, and the block of code that is run if the nested statement is true is indented even further.</li>\n",
    "    <li>The&nbsp; 'All done' line&nbsp; is not in either if statement so is aligned at the far left.</li>\n",
    "</ul>\n",
    "<p>&nbsp;</p>"
   ]
  },
  {
   "cell_type": "code",
   "execution_count": 1,
   "metadata": {},
   "outputs": [
    {
     "name": "stdout",
     "output_type": "stream",
     "text": [
      "More than one\n",
      "Less than 100\n",
      "All done\n"
     ]
    }
   ],
   "source": [
    "# Nested if statements\n",
    "x = 42\n",
    "if x > 1 :\n",
    "    print('More than one')\n",
    "    if x < 100 :\n",
    "        print('Less than 100')\n",
    "print('All done')"
   ]
  },
  {
   "attachments": {},
   "cell_type": "markdown",
   "metadata": {},
   "source": [
    "<h3>if - else Statements</h3><img style=\"float: right;\" src=\"images/ifElse.PNG\" alt=\"if else flow chart\" />\n",
    "<ul>\n",
    "    <li>Sometimes we want to do one thing if a logical expression is <strong>true</strong> and <strong>something else</strong> if the expression is <strong>false</strong></li>\n",
    "    <li>It is like a fork in the road - we must choose one or the other path but not both</li>\n",
    "</ul>\n",
    "<h3>Syntax</h3>\n",
    "<div class=\"code notranslate\">\n",
    "    <pre>if <em>condition </em>:<br /> &nbsp;  <em>code to be executed if<br /></em><em>    condition is true</em><br />else :<br /> &nbsp; <em>code to be executed if <br />   condition is false<br /> </em></pre>\n",
    "</div>"
   ]
  },
  {
   "cell_type": "code",
   "execution_count": 3,
   "metadata": {},
   "outputs": [
    {
     "name": "stdout",
     "output_type": "stream",
     "text": [
      "Bigger\n",
      "All done\n"
     ]
    }
   ],
   "source": [
    "# if else statements\n",
    "x = 4\n",
    "if x > 2 :\n",
    "    print('Bigger')\n",
    "else :\n",
    "    print('Not Bigger')\n",
    "\n",
    "print('All done')"
   ]
  },
  {
   "attachments": {},
   "cell_type": "markdown",
   "metadata": {},
   "source": [
    "<hr><h3>References</h3>\n",
    "<ul>\n",
    "            <li>This Juptyer Notebook contains content from “Python for Everybody” by Charles R Severance is licensed under CC BY-ND 3.0. </li></ul>"
   ]
  }
 ],
 "metadata": {
  "kernelspec": {
   "display_name": "Python 3",
   "language": "python",
   "name": "python3"
  },
  "language_info": {
   "codemirror_mode": {
    "name": "ipython",
    "version": 3
   },
   "file_extension": ".py",
   "mimetype": "text/x-python",
   "name": "python",
   "nbconvert_exporter": "python",
   "pygments_lexer": "ipython3",
   "version": "3.8.8"
  }
 },
 "nbformat": 4,
 "nbformat_minor": 2
}
