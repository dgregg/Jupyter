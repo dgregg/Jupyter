{
 "cells": [
  {
   "attachments": {},
   "cell_type": "markdown",
   "metadata": {},
   "source": [
    "<h1>More Python Functions</h1><p><img src=\"images/1line.png\" width=\"100%\" /></p>\n",
    "<h3>def</h3>\n",
    "<ul>\n",
    "<li>We create a new function using the <strong>def</strong> keyword followed by optional parameters in parentheses followed by a colon (:)</li>\n",
    "<li>We indent the body of the function</li>\n",
    "<li>This defines the function but does not execute the body of the function</li>\n",
    "</ul>\n",
    "<pre><strong>def</strong> <strong>print_lyrics</strong><strong>():<br /></strong><strong>&nbsp;&nbsp;&nbsp; </strong><strong>print</strong><strong>(</strong><strong>\"I'm </strong><strong>a lumberjack, and I'm okay</strong><strong>.</strong><strong>\")<br /></strong><strong>&nbsp;&nbsp;&nbsp; </strong><strong>print</strong><strong>(</strong><strong>'I </strong><strong>sleep all night and I work all day</strong><strong>.')</strong></pre>\n",
    "<ul>\n",
    "<li>Once we have defined a function, we can call (or invoke) it as many times as we like</li>\n",
    "<li>This is the store and reuse pattern</li>\n",
    "</ul>\n",
    "<pre><strong>x</strong><strong> = 5<br /></strong><strong>print</strong><strong>(</strong><strong>'Hello')<br /></strong><strong>def</strong> <strong>print_lyrics</strong><strong>():<br /></strong><strong>&nbsp; &nbsp;</strong><strong>print</strong><strong>(</strong><strong>\"I'm </strong><strong>a lumberjack, and I'm okay</strong><strong>.</strong><strong>\")<br /></strong><strong>&nbsp;&nbsp; </strong><strong>print</strong><strong>(</strong><strong>'I </strong><strong>sleep all night and I work all day</strong><strong>.')<br /></strong><strong><br />print</strong><strong>(</strong><strong>'</strong><strong>Yo</strong><strong>')<br /></strong><strong>print_lyrics</strong><strong>()<br /></strong><strong>x</strong><strong> = </strong><strong>x</strong> <strong>+</strong><strong> 2<br /></strong><strong>print</strong><strong>(</strong><strong>x</strong><strong>)</strong></pre>\n",
    "<p><strong>Output:</strong></p>\n",
    "<pre><span style=\"color: #0000ff;\">Hello</span><br /><span style=\"color: #0000ff;\">Yo</span><br /><span style=\"color: #0000ff;\">I'm a lumberjack, and I'm okay.</span><br /><span style=\"color: #0000ff;\">I sleep all night and I work all day.</span><br /><span style=\"color: #0000ff;\">7</span></pre>\n",
    "<hr />\n",
    "<h3>Arguments and Parameters</h3>\n",
    "<ul>\n",
    "<li>An argument is a value we pass into the function as its input when we call the function</li>\n",
    "<li>We use arguments so we can direct the function to do different kinds of work when we call it at different times</li>\n",
    "<li>We put the arguments in parentheses after the name of the function</li>\n",
    "</ul>\n",
    "<p><img style=\"display: block; margin-left: auto; margin-right: auto;\" src=\"images/arguments.PNG\" alt=\"big = max('Hello World') Hello World is the argument\" data-api-returntype=\"File\" /></p>\n",
    "<ul>\n",
    "<li>A parameter is a variable which we use in the function definition.&nbsp; It is a &ldquo;handle&rdquo; that allows the code in the function to access the arguments for a particular function invocation.</li>\n",
    "<li>In the code below -\n",
    "<ul>\n",
    "<li>the variable name lang is a parameter</li>\n",
    "<li>It is assigned the arguments 'en', 'es' and 'fr' the first three time the functoin greet is invoked.</li>\n",
    "</ul>\n",
    "</li>\n",
    "</ul>\n",
    "<pre><strong>def</strong> <strong>greet</strong><strong>(</strong><strong>lang</strong><strong>):<br /></strong><strong>... </strong><strong>&nbsp;&nbsp;&nbsp;&nbsp;</strong><strong>if</strong> <strong>lang</strong><strong> == '</strong><strong>es</strong><strong>':<br /></strong><strong>...&nbsp;&nbsp;&nbsp;&nbsp;&nbsp;&nbsp;&nbsp; </strong><strong>print</strong><strong>(</strong><strong>'</strong><strong>Hola</strong><strong>')<br /></strong><strong>...&nbsp;&nbsp;&nbsp;&nbsp; </strong><strong>elif</strong> <strong>lang</strong><strong> == '</strong><strong>fr</strong><strong>':<br /></strong><strong>...&nbsp;&nbsp;&nbsp;&nbsp;&nbsp;&nbsp;&nbsp; </strong><strong>print</strong><strong>(</strong><strong>'Bonjour</strong><strong>')<br /></strong><strong>...&nbsp;&nbsp;&nbsp;&nbsp; </strong><strong>else:<br /></strong><strong>...&nbsp;&nbsp;&nbsp;&nbsp; </strong><strong>&nbsp;&nbsp;&nbsp;</strong><strong>print</strong><strong>(</strong><strong>'Hello</strong><strong>')<br /></strong><strong>...<br /></strong><strong style=\"font-size: 0.875rem;\">&gt;&gt;&gt; </strong><strong style=\"font-size: 0.875rem;\">greet</strong><strong style=\"font-size: 0.875rem;\">(</strong><strong style=\"font-size: 0.875rem;\">'</strong><strong style=\"font-size: 0.875rem;\">en</strong><strong style=\"font-size: 0.875rem;\">'</strong><strong style=\"font-size: 0.875rem;\">)<br /></strong><strong><span style=\"color: #0000ff;\">Hello</span><br /></strong><strong>&gt;&gt;&gt; </strong><strong>greet</strong><strong>(</strong><strong>'</strong><strong>es</strong><strong>'</strong><strong>)<br /></strong><strong><span style=\"color: #0000ff;\">Hola</span><br /></strong><strong>&gt;&gt;&gt; </strong><strong>greet</strong><strong>(</strong><strong>'</strong><strong>fr</strong><strong>'</strong><strong>)<br /></strong><strong><span style=\"color: #0000ff;\">Bonjour</span><br /></strong><strong>&gt;&gt;&gt;</strong></pre>\n",
    "<hr />\n",
    "<h3>Return Values</h3>\n",
    "<ul>\n",
    "<li>Often a function will take its arguments, do some computation, and return a value to be used as the value of the function call in the calling expression.&nbsp; The <strong>return</strong> keyword is used for this.</li>\n",
    "<li>A &ldquo;fruitful&rdquo; function is one that produces a result (or return value)</li>\n",
    "<li>The return statement ends the function execution and &ldquo;sends back&rdquo; the result of the function</li>\n",
    "</ul>\n",
    "<pre><strong>&gt;&gt;&gt; </strong><strong>def</strong> <strong>greet</strong><strong>(</strong><strong>lang</strong><strong>):<br /></strong><strong>... </strong><strong>&nbsp;&nbsp;&nbsp;&nbsp;</strong><strong>if</strong> <strong>lang</strong><strong> == '</strong><strong>es</strong><strong>':<br /></strong><strong>...&nbsp;&nbsp;&nbsp;&nbsp; </strong><strong>&nbsp;&nbsp;&nbsp;&nbsp;</strong><strong>return</strong> <strong>'</strong><strong>Hola</strong><strong>'<br /></strong><strong>...&nbsp;&nbsp;&nbsp;&nbsp; </strong><strong>elif</strong> <strong>lang</strong><strong> == '</strong><strong>fr</strong><strong>':<br /></strong><strong>...&nbsp;&nbsp;&nbsp;&nbsp;&nbsp;&nbsp;&nbsp; </strong><strong>&nbsp;</strong><strong>return</strong> <strong>'Bonjour</strong><strong>'<br /></strong><strong>...&nbsp;&nbsp;&nbsp;&nbsp; </strong><strong>else:<br /></strong><strong>...&nbsp;&nbsp;&nbsp;&nbsp;&nbsp;&nbsp;&nbsp;&nbsp; </strong><strong>return</strong> <strong>'Hello</strong><strong>'<br /></strong><strong>... </strong></pre>\n",
    "<pre><strong>&gt;&gt;&gt; </strong><strong>print</strong><strong>(</strong><strong>greet</strong><strong>(</strong><strong>'</strong><strong>en</strong><strong>'</strong><strong>),'Glenn</strong><strong>')<br /></strong><strong><span style=\"color: #0000ff;\">Hello Glenn</span><br /></strong><strong>&gt;&gt;&gt; </strong><strong>print</strong><strong>(</strong><strong>greet</strong><strong>(</strong><strong>'</strong><strong>es</strong><strong>'</strong><strong>),'Sally</strong><strong>')<br /></strong><span style=\"color: #0000ff;\"><strong>Hola</strong></span><strong><span style=\"color: #0000ff;\"> Sally</span><br /></strong><strong>&gt;&gt;&gt; </strong><strong>print</strong><strong>(</strong><strong>greet</strong><strong>(</strong><strong>'</strong><strong>fr</strong><strong>'</strong><strong>),'Michael</strong><strong>')<br /></strong><strong><span style=\"color: #0000ff;\">Bonjour Michael</span><br /></strong><strong>&gt;&gt;&gt;</strong></pre>\n",
    "<hr />\n",
    "<h3>Multiple Arguments/Parameters</h3>\n",
    "<ul>\n",
    "<li>We can define more than one parameter in the function definition</li>\n",
    "<li>We simply add more arguments when we call the function</li>\n",
    "<li>We match the number and order of arguments and parameters</li>\n",
    "</ul>\n",
    "<pre><strong>def</strong> <strong>addtwo</strong><strong>(</strong><strong>a, b</strong><strong>):<br /></strong><strong>&nbsp;&nbsp;&nbsp; added = </strong><strong>a</strong><strong> + </strong><strong>b<br /></strong><strong>&nbsp;&nbsp;&nbsp; </strong><strong>return</strong><strong> added<br /></strong><strong>x = </strong><strong>addtwo</strong><strong>(</strong><strong>3, 5</strong><strong>)<br /></strong><strong>print</strong><strong>(</strong><strong>x)<br /><br /></strong><span style=\"color: #0000ff;\"><strong>8</strong></span></pre>\n",
    "<hr />\n",
    "<h3>Void (non-fruitful) Functions</h3>\n",
    "<ul>\n",
    "<li>When a function does not return a value, we call it a &ldquo;void&rdquo; function</li>\n",
    "<li>Functions that return values are &ldquo;fruitful&rdquo; functions</li>\n",
    "<li>Void functions are &ldquo;not fruitful&rdquo;</li>\n",
    "</ul>\n",
    "<hr />\n",
    "<h3>What to Do with Functions</h3>\n",
    "<ul>\n",
    "<li>Organize your code into &ldquo;paragraphs&rdquo; - capture a complete thought and &ldquo;name it&rdquo;</li>\n",
    "<li>Don&rsquo;t repeat yourself - make it work once and then reuse it</li>\n",
    "<li>If something gets too long or complex, break it up into logical chunks and put those chunks in functions</li>\n",
    "<li>Make a library of common stuff that you do over and over - perhaps share this with your friends...</li>\n",
    "</ul>\n"
   ]
  },
  {
   "cell_type": "code",
   "execution_count": null,
   "metadata": {},
   "outputs": [],
   "source": []
  },
  {
   "attachments": {},
   "cell_type": "markdown",
   "metadata": {},
   "source": [
    "<hr><h3>References</h3>\n",
    "<ul>\n",
    "            <li>This Juptyer Notebook contains content from “Python for Everybody” by Charles R Severance is licensed under <a href=\"https://runestone.academy/ns/books/published/universityofcoloradodenver_py4e-int_summer23/ack/creativecommons.org/licenses/by-nc-sa/3.0/\">CC BY-ND 3.0</a>. </li></ul>\n"
   ]
  }
 ],
 "metadata": {
  "kernelspec": {
   "display_name": "base",
   "language": "python",
   "name": "python3"
  },
  "language_info": {
   "name": "python",
   "version": "3.9.12"
  },
  "orig_nbformat": 4
 },
 "nbformat": 4,
 "nbformat_minor": 2
}
