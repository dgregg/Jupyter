{
 "cells": [
  {
   "attachments": {},
   "cell_type": "markdown",
   "metadata": {},
   "source": [
    "<h1>More Python Functions</h1><p><img src=\"images/1line.png\" width=\"100%\" /></p>\n",
    "<h3>def</h3>\n",
    "<ul>\n",
    "<li>We create a new function using the <strong>def</strong> keyword followed by optional parameters in parentheses followed by a colon (:)</li>\n",
    "<li>We indent the body of the function</li>\n",
    "<li>This defines the function but does not execute the body of the function</li>\n",
    "</ul>\n"
   ]
  },
  {
   "cell_type": "code",
   "execution_count": 1,
   "metadata": {},
   "outputs": [],
   "source": [
    "def print_lyrics():\n",
    "    print(\"I'm a lumberjack, and I'm okay.\")\n",
    "    print('I sleep all night and I work all day.')"
   ]
  },
  {
   "attachments": {},
   "cell_type": "markdown",
   "metadata": {},
   "source": [
    "<ul>\n",
    "<li>Once we have defined a function, we can call (or invoke) it as many times as we like</li>\n",
    "<li>This is the store and reuse pattern</li>\n",
    "</ul>"
   ]
  },
  {
   "cell_type": "code",
   "execution_count": 2,
   "metadata": {},
   "outputs": [
    {
     "name": "stdout",
     "output_type": "stream",
     "text": [
      "Hello\n",
      "Yo\n",
      "I'm a lumberjack, and I'm okay.\n",
      "I sleep all night and I work all day.\n",
      "7\n"
     ]
    }
   ],
   "source": [
    "x = 5\n",
    "print('Hello')\n",
    "def print_lyrics():\n",
    "   print(\"I'm a lumberjack, and I'm okay.\")\n",
    "   print('I sleep all night and I work all day.')\n",
    "\n",
    "print('Yo')\n",
    "print_lyrics()\n",
    "x = x + 2\n",
    "print(x)"
   ]
  },
  {
   "attachments": {},
   "cell_type": "markdown",
   "metadata": {},
   "source": [
    "<hr />\n",
    "<h3>Arguments and Parameters</h3>\n",
    "<ul>\n",
    "<li>An argument is a value we pass into the function as its input when we call the function</li>\n",
    "<li>We use arguments so we can direct the function to do different kinds of work when we call it at different times</li>\n",
    "<li>We put the arguments in parentheses after the name of the function</li>\n",
    "</ul>\n",
    "<p><img style=\"display: block; margin-left: auto; margin-right: auto;\" src=\"images/arguments.PNG\" alt=\"big = max('Hello World') Hello World is the argument\" data-api-returntype=\"File\" /></p>\n",
    "<ul>\n",
    "<li>A parameter is a variable which we use in the function definition.&nbsp; It is a &ldquo;handle&rdquo; that allows the code in the function to access the arguments for a particular function invocation.</li>\n",
    "<li>In the code below -\n",
    "<ul>\n",
    "<li>the variable name lang is a parameter</li>\n",
    "<li>It is assigned the arguments 'en', 'es' and 'fr' the first three time the functoin greet is invoked.</li>\n",
    "</ul>\n",
    "</li>\n",
    "</ul>"
   ]
  },
  {
   "cell_type": "code",
   "execution_count": 3,
   "metadata": {},
   "outputs": [
    {
     "name": "stdout",
     "output_type": "stream",
     "text": [
      "Hello\n"
     ]
    }
   ],
   "source": [
    "def greet(lang):\n",
    "     if lang == 'es':\n",
    "        print('Hola')\n",
    "     elif lang == 'fr':\n",
    "        print('Bonjour')\n",
    "     else:\n",
    "        print('Hello')\n",
    "\n",
    "greet('en')"
   ]
  },
  {
   "cell_type": "code",
   "execution_count": 5,
   "metadata": {},
   "outputs": [
    {
     "name": "stdout",
     "output_type": "stream",
     "text": [
      "Hola\n"
     ]
    }
   ],
   "source": [
    "greet('es')"
   ]
  },
  {
   "cell_type": "code",
   "execution_count": 6,
   "metadata": {},
   "outputs": [
    {
     "name": "stdout",
     "output_type": "stream",
     "text": [
      "Bonjour\n"
     ]
    }
   ],
   "source": [
    "greet('fr')"
   ]
  },
  {
   "attachments": {},
   "cell_type": "markdown",
   "metadata": {},
   "source": [
    "<hr />\n",
    "<h3>Return Values</h3>\n",
    "<ul>\n",
    "<li>Often a function will take its arguments, do some computation, and return a value to be used as the value of the function call in the calling expression.&nbsp; The <strong>return</strong> keyword is used for this.</li>\n",
    "<li>A &ldquo;fruitful&rdquo; function is one that produces a result (or return value)</li>\n",
    "<li>The return statement ends the function execution and &ldquo;sends back&rdquo; the result of the function</li>\n",
    "</ul>"
   ]
  },
  {
   "cell_type": "code",
   "execution_count": 9,
   "metadata": {},
   "outputs": [
    {
     "name": "stdout",
     "output_type": "stream",
     "text": [
      "Hello Glenn\n"
     ]
    }
   ],
   "source": [
    "def greet(lang):\n",
    "    if lang == 'es':\n",
    "         return 'Hola'\n",
    "    elif lang == 'fr':\n",
    "         return 'Bonjour'\n",
    "    else:\n",
    "         return 'Hello'\n",
    "         \n",
    "print(greet('en'),'Glenn')"
   ]
  },
  {
   "cell_type": "code",
   "execution_count": 10,
   "metadata": {},
   "outputs": [
    {
     "name": "stdout",
     "output_type": "stream",
     "text": [
      "Hola Sally\n"
     ]
    }
   ],
   "source": [
    "print(greet('es'),'Sally')"
   ]
  },
  {
   "cell_type": "code",
   "execution_count": 11,
   "metadata": {},
   "outputs": [
    {
     "name": "stdout",
     "output_type": "stream",
     "text": [
      "Bonjour Michael\n"
     ]
    }
   ],
   "source": [
    "print(greet('fr'),'Michael')"
   ]
  },
  {
   "attachments": {},
   "cell_type": "markdown",
   "metadata": {},
   "source": [
    "<hr />\n",
    "<h3>Multiple Arguments/Parameters</h3>\n",
    "<ul>\n",
    "<li>We can define more than one parameter in the function definition</li>\n",
    "<li>We simply add more arguments when we call the function</li>\n",
    "<li>We match the number and order of arguments and parameters</li>\n",
    "</ul>"
   ]
  },
  {
   "cell_type": "code",
   "execution_count": 12,
   "metadata": {},
   "outputs": [
    {
     "name": "stdout",
     "output_type": "stream",
     "text": [
      "8\n"
     ]
    }
   ],
   "source": [
    "def addtwo(a, b):\n",
    "    added = a + b\n",
    "    return added\n",
    "x = addtwo(3, 5)\n",
    "print(x)"
   ]
  },
  {
   "attachments": {},
   "cell_type": "markdown",
   "metadata": {},
   "source": [
    "<hr />\n",
    "<h3>Void (non-fruitful) Functions</h3>\n",
    "<ul>\n",
    "<li>When a function does not return a value, we call it a &ldquo;void&rdquo; function</li>\n",
    "<li>Functions that return values are &ldquo;fruitful&rdquo; functions</li>\n",
    "<li>Void functions are &ldquo;not fruitful&rdquo;</li>\n",
    "</ul>\n",
    "<hr />\n",
    "<h3>What to Do with Functions</h3>\n",
    "<ul>\n",
    "<li>Organize your code into &ldquo;paragraphs&rdquo; - capture a complete thought and &ldquo;name it&rdquo;</li>\n",
    "<li>Don&rsquo;t repeat yourself - make it work once and then reuse it</li>\n",
    "<li>If something gets too long or complex, break it up into logical chunks and put those chunks in functions</li>\n",
    "<li>Make a library of common stuff that you do over and over - perhaps share this with your friends...</li>\n",
    "</ul>"
   ]
  },
  {
   "attachments": {},
   "cell_type": "markdown",
   "metadata": {},
   "source": [
    "<hr><h3>References</h3>\n",
    "<ul>\n",
    "            <li>This Juptyer Notebook contains content from “Python for Everybody” by Charles R Severance is licensed under <a href=\"https://runestone.academy/ns/books/published/universityofcoloradodenver_py4e-int_summer23/ack/creativecommons.org/licenses/by-nc-sa/3.0/\">CC BY-ND 3.0</a>. </li></ul>\n"
   ]
  }
 ],
 "metadata": {
  "kernelspec": {
   "display_name": "base",
   "language": "python",
   "name": "python3"
  },
  "language_info": {
   "codemirror_mode": {
    "name": "ipython",
    "version": 3
   },
   "file_extension": ".py",
   "mimetype": "text/x-python",
   "name": "python",
   "nbconvert_exporter": "python",
   "pygments_lexer": "ipython3",
   "version": "3.11.4"
  },
  "orig_nbformat": 4
 },
 "nbformat": 4,
 "nbformat_minor": 2
}
