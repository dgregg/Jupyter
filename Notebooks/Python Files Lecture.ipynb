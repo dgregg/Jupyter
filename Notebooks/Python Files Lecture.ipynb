{
 "cells": [
  {
   "attachments": {},
   "cell_type": "markdown",
   "metadata": {},
   "source": [
    "<p><img src=\"images/1line.png\" width=\"100%\"  /></p>\n",
    "<h3>File Processing</h3>\n",
    "<ul>\n",
    "<li>A text file can be thought of as a sequence of lines</li>\n",
    "</ul>\n",
    "<pre>From stephen.marquard@uct.ac.za Sat Jan 5 09:14:16 2008<br />Return-Path: &lt;postmaster@collab.sakaiproject.org&gt;<br />Date: Sat, 5 Jan 2008 09:12:18 -0500<br />To: source@collab.sakaiproject.org<br />From: stephen.marquard@uct.ac.za<br />Subject: [sakai] svn commit: r39772 - content/branches/\n",
    "<br />Details: http://source.sakaiproject.org/viewsvn/?view=rev&amp;rev=39772</pre>\n",
    "<ul>\n",
    "<li>Before we can read the contents of the file, we must tell Python which file we are going to work with and what we will be doing with the file</li>\n",
    "<li>The <strong>open()</strong> function&nbsp;returns a &ldquo;file handle&rdquo; - a variable used to perform operations on the file</li>\n",
    "<li>Similar to &ldquo;File -&gt; Open&rdquo; in a Word Processor</li>\n",
    "<li>handle = open(filename, mode)\n",
    "<ul>\n",
    "<li>returns a handle use to manipulate the file</li>\n",
    "<li>filename is a string</li>\n",
    "<li>mode is optional and is different depending on what we plan to do with the file.</li>\n",
    "</ul>\n",
    "</li>\n",
    "</ul>\n",
    "<pre>fhand = open('mbox.txt', 'r')</pre>\n",
    "<p><img style=\"display: block; margin-left: auto; margin-right: auto;\" src=\"images/FileHandle.PNG\"  /></p>\n",
    "<ul>\n",
    "<li>&nbsp;When files are missing the code will generate an error message:</li>\n",
    "</ul>\n",
    "<pre><strong>&gt;&gt;&gt; </strong><strong>fhand</strong><strong> = </strong><strong>open</strong><strong>('</strong><strong>stuff.txt</strong><strong>'</strong><strong>)<br /></strong><span style=\"color: #ff0000;\"><strong>Traceback</strong><strong> (most recent call last</strong><strong>): </strong><strong>File \"&lt;</strong><strong>stdin</strong><strong>&gt;\", line 1, in &lt;module</strong><strong>&gt;<br /></strong><strong>FileNotFoundError</strong><strong>: [</strong><strong>Errno</strong> <strong>2]</strong> <strong>No </strong><strong>such file or directory: '</strong><strong>stuff.txt</strong><strong>'</strong></span></pre>\n",
    "<hr />\n",
    "<h3>File Open Modes</h3>\n",
    "<p>The argument mode points to a string beginning with one of the following sequences (Additional characters may follow these sequences.):</p>\n",
    "<ul>\n",
    "<li>\"r\": Open text file for reading. The stream is positioned at the beginning of the file.</li>\n",
    "<li>\"r+\": Open for reading and writing. The stream is positioned at the beginning of the file.</li>\n",
    "<li>\"w\": Truncate file to zero length or create text file for writing. The stream is positioned at the beginning of the file.</li>\n",
    "<li>\"w+\": Open for reading and writing. The file is created if it does not exist, otherwise it is truncated. The stream is positioned at the beginning of the file.</li>\n",
    "<li>\"a\": Open for writing. The file is created if it does not exist. The stream is positioned at the end of the file. Subsequent writes to the file will always end up at the then current end of file, irrespective of any intervening fseek(3) or similar.</li>\n",
    "<li>\"a+\": Open for reading and writing. The file is created if it does not exist. The stream is positioned at the end of the file. Subsequent writes to the file will always end up at the then current end of file.</li>\n",
    "</ul>\n",
    "<hr />\n",
    "<h2><span>Closing a File</span></h2>\n",
    "<p>The&nbsp;<code>close()</code>&nbsp;function is used to close a file.&nbsp;</p>\n",
    "<pre>fhand.close()</pre>\n",
    "<div><span>This will</span><span>&nbsp;free up any system resources taken up by the open file. After calling </span><span class=\"pre\">fhand.close()</span><span>, attempts to use the file object will automatically fail.</span></div>\n",
    "<div><span>NOTE: If you are writing to a file and forget to close the file, the last few lines you wrote to the file might not be there.</span></div>\n",
    "<hr />\n",
    "<h3>The newline Character</h3>\n",
    "<ul>\n",
    "<li>We use a special character called the &ldquo;newline&rdquo; to indicate when a line ends</li>\n",
    "<li>We represent it as \\n in strings</li>\n",
    "<li>Newline is still one character - not two</li>\n",
    "</ul>\n",
    "<pre>&gt;&gt;&gt; stuff = 'Hello\\nWorld!'<br />&gt;&gt;&gt; stuff<br /><span style=\"color: #0000ff;\">'Hello\\nWorld!'</span><br />&gt;&gt;&gt; print(stuff)<br /><span style=\"color: #0000ff;\">Hello</span><br /><span style=\"color: #0000ff;\">World!</span><br />&gt;&gt;&gt; stuff = 'X\\nY'<br />&gt;&gt;&gt; print(stuff)<br /><span style=\"color: #0000ff;\">X</span><br /><span style=\"color: #0000ff;\">Y</span><br />&gt;&gt;&gt; len(stuff)<br /><span style=\"color: #0000ff;\">3</span></pre>\n",
    "<ul>\n",
    "<li>A text file has newlines at the end of each line</li>\n",
    "</ul>\n",
    "<pre>From stephen.marquard@uct.ac.za Sat Jan 5 09:14:16 2008<strong>\\n</strong><br />Return-Path: &lt;postmaster@collab.sakaiproject.org&gt;<strong>\\n</strong><br />Date: Sat, 5 Jan 2008 09:12:18 -0500<strong>\\n</strong><br />To: source@collab.sakaiproject.org<strong>\\n</strong><br />From: stephen.marquard@uct.ac.za<strong>\\n</strong><br />Subject: [sakai] svn commit: r39772 - content/branches/<strong>\\n</strong><br /><strong>\\n</strong><br />Details: http://source.sakaiproject.org/viewsvn/?view=rev&amp;rev=39772<strong>\\n</strong></pre>\n",
    "<p>&nbsp;</p>"
   ]
  },
  {
   "cell_type": "code",
   "execution_count": null,
   "metadata": {},
   "outputs": [],
   "source": []
  },
  {
   "cell_type": "code",
   "execution_count": null,
   "metadata": {},
   "outputs": [],
   "source": []
  },
  {
   "cell_type": "code",
   "execution_count": null,
   "metadata": {},
   "outputs": [],
   "source": []
  },
  {
   "cell_type": "code",
   "execution_count": null,
   "metadata": {},
   "outputs": [],
   "source": []
  },
  {
   "attachments": {},
   "cell_type": "markdown",
   "metadata": {},
   "source": [
    "<hr><h3>References</h3>\n",
    "<ul>\n",
    "<li>This Juptyer Notebook contains content from &ldquo;Python for Everybody&rdquo; by Charles R Severance is licensed under <a href=\"https://runestone.academy/ns/books/published/universityofcoloradodenver_py4e-int_summer23/ack/creativecommons.org/licenses/by-nc-sa/3.0/\">CC BY-ND 3.0</a>.</li>"
   ]
  }
 ],
 "metadata": {
  "kernelspec": {
   "display_name": "Python 3",
   "language": "python",
   "name": "python3"
  },
  "language_info": {
   "codemirror_mode": {
    "name": "ipython",
    "version": 3
   },
   "file_extension": ".py",
   "mimetype": "text/x-python",
   "name": "python",
   "nbconvert_exporter": "python",
   "pygments_lexer": "ipython3",
   "version": "3.9.12"
  }
 },
 "nbformat": 4,
 "nbformat_minor": 2
}
