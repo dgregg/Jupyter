{
 "cells": [
  {
   "attachments": {},
   "cell_type": "markdown",
   "metadata": {},
   "source": [
    "<p><img src=\"images/1line.png\" width=\"100%\" /></p>\n",
    "\n",
    "<ul>\n",
    "<li>The example below utilizes Businesses formation information from a Colorado site for Colorado Business entities.</li>\n",
    "\n",
    "<li>Data Site: <a href=\"https://data.colorado.gov/resource/4ykn-tg5h.json\">https://data.colorado.gov/resource/4ykn-tg5h.json</a>&nbsp;</li>\n",
    "<li>Data JSON Format (one entity):</li>\n",
    "</ul>\n",
    "<pre>{\t\"entityid\": \"18861217679\",\n",
    "\t\"entityname\": \"DENVER UNION CORPROATION, Dissolved January 17, 1983\",\n",
    "\t\"principaladdress1\": \"1512 LARIMER STREET #760\",\n",
    "\t\"principalcity\": \"Denver\",\n",
    "\t\"principalstate\": \"CO\",\n",
    "\t\"principalzipcode\": \"80202\",\n",
    "\t\"entitystatus\": \"Voluntarily Dissolved\",\n",
    "\t\"jurisdictonofformation\": \"CO\",\n",
    "\t\"entitytype\": \"Corporation\",\n",
    "\t\"agentfirstname\": \"JOHN\",\n",
    "\t\"agentmiddlename\": \"F.\",\n",
    "\t\"agentlastname\": \"O'DEA\",\n",
    "\t\"agentprincipaladdress1\": \"1512 LARIMER STREET #760\",\n",
    "\t\"agentprincipalcity\": \"DENVER\",\n",
    "\t\"agentprincipalstate\": \"CO\",\n",
    "\t\"agentprincipalzipcode\": \"80202\",\n",
    "\t\"agentprincipalcountry\": \"US\",\n",
    "\t\"entityformdate\": \"1886-03-29T00:00:00.000\"  }</pre>\n",
    "<ul>\n",
    "<li>Records are read from a file <span class=\"instructure_file_holder link_holder\"><a class=\"instructure_file_link\" title=\"bizdata_json.txt\" href=\"data/bizdata_json.txt\" >bizdata_json.txt</a> </span>containing data for \"80211\".</li>\n",
    "<li>It illustrates how tor write multiple records from an external data source to a MongoDB database.</li>\n",
    "<li><span>It also illustrates how to read data back out of the MongoDB database, loop though the data and display it as formatted text</span><span>.</span></li>\n",
    "</ul>"
   ]
  },
  {
   "cell_type": "code",
   "execution_count": 1,
   "metadata": {},
   "outputs": [
    {
     "name": "stdout",
     "output_type": "stream",
     "text": [
      "['bikesdb', 'cobizdb', 'earthquakesdb', 'sample_geospatial', 'sample_mflix', 'sample_weatherdata', 'admin', 'local']\n",
      "MyDystopia LTD         11-20-2020  Good Standing       \n",
      "know + heal, LLC       11-20-2020  Good Standing       \n",
      "Alpine Imports, LLC    11-20-2020  Good Standing       \n"
     ]
    }
   ],
   "source": [
    "# -*- coding: utf-8 -*-\n",
    "\"\"\"\n",
    "Manipulating COBiz MongoDB database\n",
    "Created on Fri Nov 13 12:07:50 2020\n",
    "\n",
    "@author: dawng\n",
    "\"\"\"\n",
    "import pymongo\n",
    "import json\n",
    "import datetime\n",
    "\n",
    "import os   # allows us to connect to operating system\n",
    "uri = os.environ.get(\"atlas-uri\")\n",
    "client = pymongo.MongoClient(uri)\n",
    "\n",
    "dblist = client.list_database_names()\n",
    "print(dblist)\n",
    "\n",
    "# Create/Open a database to hold the raw JSON Colorado Business data\n",
    "db = client['cobizdb']\n",
    "cobiz = db.cobiz\n",
    "\n",
    "# Check wheter db not in MongoDB\n",
    "if 'cobizdb'not in dblist :\n",
    "    # Read JSON data from a file\n",
    "    fdata = open('bizdata_json.txt', \"r\")\n",
    "   \n",
    "    # get all of the text from the document\n",
    "    text = fdata.read()\n",
    "\n",
    "    # Load the JSON text from the URL into a dictionary using the json library\n",
    "    js = json.loads(text)\n",
    "\n",
    "    # Use insert_many to insert ALL of the CO Businesses\n",
    "    new_biz = cobiz.insert_many(js)\n",
    "    \n",
    "    print(js[-1][\"entityformdate\"])   \n",
    "\n",
    "# Find data for specific Businesses And Display it\n",
    "# find all Businesses that were formaed as a \"Corporation\"\n",
    "filters = {'entitytype': { '$eq': \"Limited Liability Company\" }}\n",
    "\n",
    "for biz in cobiz.find(filters):\n",
    "    \n",
    "    # Use isoformat to convert to datetime THEN strftime to format output\n",
    "    dt = datetime.datetime.fromisoformat(biz[\"entityformdate\"])\n",
    "    dstring = dt.strftime(\"%m-%d-%Y\")\n",
    "      \n",
    "    # Use format to format output in columns\n",
    "    print(\"{: <20} {: >12}  {: <20}\".format(biz['entityname'], dstring, biz[\"entitystatus\"]))"
   ]
  },
  {
   "cell_type": "code",
   "execution_count": null,
   "metadata": {},
   "outputs": [],
   "source": []
  }
 ],
 "metadata": {
  "kernelspec": {
   "display_name": "Python 3",
   "language": "python",
   "name": "python3"
  },
  "language_info": {
   "codemirror_mode": {
    "name": "ipython",
    "version": 3
   },
   "file_extension": ".py",
   "mimetype": "text/x-python",
   "name": "python",
   "nbconvert_exporter": "python",
   "pygments_lexer": "ipython3",
   "version": "3.11.4"
  }
 },
 "nbformat": 4,
 "nbformat_minor": 2
}
