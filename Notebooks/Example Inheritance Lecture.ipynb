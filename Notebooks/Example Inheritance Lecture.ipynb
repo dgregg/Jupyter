{
 "cells": [
  {
   "cell_type": "code",
   "execution_count": 52,
   "metadata": {},
   "outputs": [],
   "source": [
    "# -*- coding: utf-8 -*-\n",
    "\"\"\"\n",
    "Created on Tue Nov 17 14:00:24 2020\n",
    "@author: Dawn Gregg\n",
    "\"\"\"\n",
    "# Generic Person class that can be used to create differnt \"types of people\"\n",
    "class Person:\n",
    "    # Constructor for the person class\n",
    "    def __init__(self, n, e):\n",
    "        self.name = n\n",
    "        self.email = e\n",
    "\n",
    "    # email is set as a property so error checking can be done every time yu set it.\n",
    "    @property\n",
    "    def email(self):\n",
    "        return self.__email\n",
    "\n",
    "    @email.setter\n",
    "    def email(self, x):\n",
    "        x = str(x)\n",
    "        if x.find(\"@\") > 0 :\n",
    "            self.__email = x    \n",
    "\n",
    "# Author class extends the Person class\n",
    "# Authors have name and email properties (associated with any Person) \n",
    "# Authors also have a list of articles which are specific to Authors\n",
    "class Author(Person):\n",
    "    # COnstructor creates the articles list and then calls the Person constructor    \n",
    "    def __init__(self, n, e):\n",
    "        self.articles = list()\n",
    "        super().__init__(n,e)\n",
    "\n",
    "    # adds an article name to the articles list\n",
    "    def add_article(self, art) :\n",
    "        self.articles.append(art)\n",
    "        \n",
    "    # Prints out the article names for an Author\n",
    "    def display_articles(self) :\n",
    "        for article in self.articles :\n",
    "            print(article)\n",
    "\n",
    "    # Returns the nmber of articles written by an Author\n",
    "    def number_articles(self) :\n",
    "        print(\"Number of articles by\", self.name, \":\", len(self.articles))\n",
    "\n",
    "    # returns the Author as a String\n",
    "    def __str__(self) :\n",
    "        return self.name + \" wrote \" + str(self.articles)\n",
    "  \n",
    "        \n"
   ]
  },
  {
   "cell_type": "code",
   "execution_count": 53,
   "metadata": {},
   "outputs": [],
   "source": [
    "def main():\n",
    "    #Open the file containing Author data\n",
    "    fhand = open('authors.txt', \"r\")\n",
    "    name = \"\"\n",
    "    email = \"\"\n",
    "    article = \"\"    \n",
    "    alist = list()  # List of authors\n",
    "\n",
    "    # Loop through all of the lines in the file\n",
    "    for line in fhand:\n",
    "        # split the line at the comma with each pieses of the form \"key\": \"value\"\n",
    "        pieces = line.split(', ') \n",
    "    \n",
    "        # Loop through the \"key\": \"value\" pieces\n",
    "        for p in pieces : \n",
    "            # look in each piece for the keywords: name, email and articles\n",
    "            parts =  p.split(\"=\")  # split the part at the = (parts[0] is key, parts[1] is value)\n",
    "            if 'name' in parts[0]:\n",
    "                name = parts[1].replace('_', \" \") # Get rid of the _\n",
    "            elif 'email' in parts[0]  :\n",
    "                email = parts[1]\n",
    "            elif 'articles' in parts[0] :\n",
    "                articles = parts[1].replace('_', \" \") # Get rid of the _\n",
    "                articles = articles.strip()  # get rid of \\n (end of line)\n",
    "  \n",
    "        # Create a new author from the data in one line in from the file\n",
    "        a = Author(name, email)\n",
    "    \n",
    "        # Split the articles on \"|\" to create individual articles\n",
    "        for article in articles.split(\"|\"): \n",
    "            a.add_article(article) # Add each article to the author object\n",
    "        # Append the current Author to the list containing Authors\n",
    "        alist.append(a)\n",
    "\n",
    "    #Loop throu the list of Authors and display each Author\n",
    "    for a in alist:\n",
    "        print(a)"
   ]
  },
  {
   "cell_type": "code",
   "execution_count": 54,
   "metadata": {},
   "outputs": [
    {
     "name": "stdout",
     "output_type": "stream",
     "text": [
      "Dawn Gregg wrote ['OOP and Python', 'Data Analysis in Python']\n",
      "Jorge Mena wrote ['Introduction to Spanish']\n",
      "Sally Jones wrote ['Static Methods']\n"
     ]
    }
   ],
   "source": [
    "if __name__ == \"__main__\":\n",
    "    main()"
   ]
  },
  {
   "cell_type": "code",
   "execution_count": null,
   "metadata": {},
   "outputs": [],
   "source": []
  }
 ],
 "metadata": {
  "kernelspec": {
   "display_name": "Python 3",
   "language": "python",
   "name": "python3"
  },
  "language_info": {
   "codemirror_mode": {
    "name": "ipython",
    "version": 3
   },
   "file_extension": ".py",
   "mimetype": "text/x-python",
   "name": "python",
   "nbconvert_exporter": "python",
   "pygments_lexer": "ipython3",
   "version": "3.7.3"
  }
 },
 "nbformat": 4,
 "nbformat_minor": 2
}
