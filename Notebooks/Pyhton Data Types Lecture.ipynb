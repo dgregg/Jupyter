{
 "cells": [
  {
   "attachments": {},
   "cell_type": "markdown",
   "metadata": {},
   "source": [
    "<h1>Python Data Types</h1><p><img src=\"images/1line.png\" width=\"100%\" d /></p>\n",
    "<h3>Data Types in Python</h3>\n",
    "<ul>\n",
    "<li>In Python variables, literals, and constants have a &ldquo;type&rdquo;</li>\n",
    "<li>Python knows the difference between an integer number and a string</li>\n",
    "<li>For example &ldquo;+&rdquo; means &ldquo;addition&rdquo; if something is a number and &ldquo;concatenate&rdquo; if something is a string</li>\n",
    "</ul>"
   ]
  },
  {
   "cell_type": "code",
   "execution_count": 1,
   "metadata": {},
   "outputs": [
    {
     "name": "stdout",
     "output_type": "stream",
     "text": [
      "5\n"
     ]
    }
   ],
   "source": [
    "ddd = 1 + 4\n",
    "print(ddd)"
   ]
  },
  {
   "cell_type": "code",
   "execution_count": 2,
   "metadata": {},
   "outputs": [
    {
     "name": "stdout",
     "output_type": "stream",
     "text": [
      "hello there\n"
     ]
    }
   ],
   "source": [
    "eee = 'hello ' + 'there'\n",
    "print(eee)"
   ]
  },
  {
   "attachments": {},
   "cell_type": "markdown",
   "metadata": {},
   "source": [
    "<ul>\n",
    "<li>Some operations are prohibited\n",
    "<ul>\n",
    "<li>You cannot &ldquo;add 1&rdquo; to a string</li>\n",
    "</ul>\n",
    "</li>\n",
    "</ul>"
   ]
  },
  {
   "cell_type": "code",
   "execution_count": 3,
   "metadata": {},
   "outputs": [
    {
     "ename": "TypeError",
     "evalue": "can only concatenate str (not \"int\") to str",
     "output_type": "error",
     "traceback": [
      "\u001b[1;31m---------------------------------------------------------------------------\u001b[0m",
      "\u001b[1;31mTypeError\u001b[0m                                 Traceback (most recent call last)",
      "\u001b[1;32m<ipython-input-3-aff18d948e39>\u001b[0m in \u001b[0;36m<module>\u001b[1;34m()\u001b[0m\n\u001b[0;32m      1\u001b[0m \u001b[0meee\u001b[0m \u001b[1;33m=\u001b[0m \u001b[1;34m'hello '\u001b[0m \u001b[1;33m+\u001b[0m \u001b[1;34m'there'\u001b[0m\u001b[1;33m\u001b[0m\u001b[0m\n\u001b[1;32m----> 2\u001b[1;33m \u001b[0meee\u001b[0m \u001b[1;33m=\u001b[0m \u001b[0meee\u001b[0m \u001b[1;33m+\u001b[0m \u001b[1;36m1\u001b[0m\u001b[1;33m\u001b[0m\u001b[0m\n\u001b[0m",
      "\u001b[1;31mTypeError\u001b[0m: can only concatenate str (not \"int\") to str"
     ]
    }
   ],
   "source": [
    "eee = 'hello ' + 'there'\n",
    "eee = eee + 1"
   ]
  },
  {
   "attachments": {},
   "cell_type": "markdown",
   "metadata": {},
   "source": [
    "<ul>\n",
    "<li>We can ask Python what type something is by using the type() function</li>\n",
    "</ul>"
   ]
  },
  {
   "cell_type": "code",
   "execution_count": 3,
   "metadata": {},
   "outputs": [
    {
     "data": {
      "text/plain": [
       "str"
      ]
     },
     "execution_count": 3,
     "metadata": {},
     "output_type": "execute_result"
    }
   ],
   "source": [
    "type(eee)"
   ]
  },
  {
   "cell_type": "code",
   "execution_count": 4,
   "metadata": {},
   "outputs": [
    {
     "data": {
      "text/plain": [
       "str"
      ]
     },
     "execution_count": 4,
     "metadata": {},
     "output_type": "execute_result"
    }
   ],
   "source": [
    "type(\"hello\")"
   ]
  },
  {
   "cell_type": "code",
   "execution_count": 5,
   "metadata": {},
   "outputs": [
    {
     "data": {
      "text/plain": [
       "int"
      ]
     },
     "execution_count": 5,
     "metadata": {},
     "output_type": "execute_result"
    }
   ],
   "source": [
    "type(1)"
   ]
  },
  {
   "attachments": {},
   "cell_type": "markdown",
   "metadata": {},
   "source": [
    "<hr />\n",
    "<h3>Numeric Types</h3>\n",
    "<ul>\n",
    "<li>Numbers have two main types</li>\n",
    "<li>Integers are whole numbers: <br />-14, -2, 0, 1, 100, 401233</li>\n",
    "<li>Floating Point Numbers have decimal parts: -2.5 , 0.0, 98.6, 14.0</li>\n",
    "<li>There are other number types - they are variations on float and integer</li>\n",
    "<li>When you put an integer and floating point in an expression, the integer is implicitly converted to a float</li>\n",
    "<li>You can control this with the built-in functions int() and float()</li>\n",
    "</ul>"
   ]
  },
  {
   "cell_type": "code",
   "execution_count": 6,
   "metadata": {},
   "outputs": [
    {
     "name": "stdout",
     "output_type": "stream",
     "text": [
      "199.0\n"
     ]
    }
   ],
   "source": [
    "print(float(99) + 100)"
   ]
  },
  {
   "cell_type": "code",
   "execution_count": 7,
   "metadata": {},
   "outputs": [
    {
     "data": {
      "text/plain": [
       "int"
      ]
     },
     "execution_count": 7,
     "metadata": {},
     "output_type": "execute_result"
    }
   ],
   "source": [
    "i = 42\n",
    "type(i)"
   ]
  },
  {
   "cell_type": "code",
   "execution_count": 8,
   "metadata": {},
   "outputs": [
    {
     "name": "stdout",
     "output_type": "stream",
     "text": [
      "42.0\n"
     ]
    }
   ],
   "source": [
    "f = float(i)\n",
    "print(f)"
   ]
  },
  {
   "cell_type": "code",
   "execution_count": 9,
   "metadata": {},
   "outputs": [
    {
     "data": {
      "text/plain": [
       "float"
      ]
     },
     "execution_count": 9,
     "metadata": {},
     "output_type": "execute_result"
    }
   ],
   "source": [
    "type(f)"
   ]
  },
  {
   "attachments": {},
   "cell_type": "markdown",
   "metadata": {},
   "source": [
    "<ul>\n",
    "<li>You can also use int() and float() to convert between strings and integers</li>\n",
    "<li>You will get an error if the string does not contain numeric characters</li>\n",
    "</ul>"
   ]
  },
  {
   "cell_type": "code",
   "execution_count": 11,
   "metadata": {},
   "outputs": [
    {
     "ename": "TypeError",
     "evalue": "can only concatenate str (not \"int\") to str",
     "output_type": "error",
     "traceback": [
      "\u001b[1;31m---------------------------------------------------------------------------\u001b[0m",
      "\u001b[1;31mTypeError\u001b[0m                                 Traceback (most recent call last)",
      "\u001b[1;32mc:\\Users\\dawng\\OneDrive - The University of Colorado Denver\\Courses\\ISMG4400_6020\\Jupyter\\Notebooks\\Pyhton Data Types Lecture.ipynb Cell 16\u001b[0m in \u001b[0;36m<cell line: 3>\u001b[1;34m()\u001b[0m\n\u001b[0;32m      <a href='vscode-notebook-cell:/c%3A/Users/dawng/OneDrive%20-%20The%20University%20of%20Colorado%20Denver/Courses/ISMG4400_6020/Jupyter/Notebooks/Pyhton%20Data%20Types%20Lecture.ipynb#W3sZmlsZQ%3D%3D?line=0'>1</a>\u001b[0m sval \u001b[39m=\u001b[39m \u001b[39m'\u001b[39m\u001b[39m123\u001b[39m\u001b[39m'\u001b[39m\n\u001b[0;32m      <a href='vscode-notebook-cell:/c%3A/Users/dawng/OneDrive%20-%20The%20University%20of%20Colorado%20Denver/Courses/ISMG4400_6020/Jupyter/Notebooks/Pyhton%20Data%20Types%20Lecture.ipynb#W3sZmlsZQ%3D%3D?line=1'>2</a>\u001b[0m \u001b[39mtype\u001b[39m(sval) \n\u001b[1;32m----> <a href='vscode-notebook-cell:/c%3A/Users/dawng/OneDrive%20-%20The%20University%20of%20Colorado%20Denver/Courses/ISMG4400_6020/Jupyter/Notebooks/Pyhton%20Data%20Types%20Lecture.ipynb#W3sZmlsZQ%3D%3D?line=2'>3</a>\u001b[0m \u001b[39mprint\u001b[39m(sval \u001b[39m+\u001b[39;49m \u001b[39m1\u001b[39;49m)\n",
      "\u001b[1;31mTypeError\u001b[0m: can only concatenate str (not \"int\") to str"
     ]
    }
   ],
   "source": [
    "sval = '123'\n",
    "type(sval) \n",
    "print(sval + 1)"
   ]
  },
  {
   "cell_type": "code",
   "execution_count": 12,
   "metadata": {},
   "outputs": [
    {
     "data": {
      "text/plain": [
       "int"
      ]
     },
     "execution_count": 12,
     "metadata": {},
     "output_type": "execute_result"
    }
   ],
   "source": [
    "ival = int(sval)\n",
    "type(ival)"
   ]
  },
  {
   "cell_type": "code",
   "execution_count": 13,
   "metadata": {},
   "outputs": [
    {
     "name": "stdout",
     "output_type": "stream",
     "text": [
      "124\n"
     ]
    }
   ],
   "source": [
    "print(ival + 1)"
   ]
  },
  {
   "cell_type": "code",
   "execution_count": 14,
   "metadata": {},
   "outputs": [
    {
     "ename": "ValueError",
     "evalue": "invalid literal for int() with base 10: 'hello bob'",
     "output_type": "error",
     "traceback": [
      "\u001b[1;31m---------------------------------------------------------------------------\u001b[0m",
      "\u001b[1;31mValueError\u001b[0m                                Traceback (most recent call last)",
      "\u001b[1;32mc:\\Users\\dawng\\OneDrive - The University of Colorado Denver\\Courses\\ISMG4400_6020\\Jupyter\\Notebooks\\Pyhton Data Types Lecture.ipynb Cell 19\u001b[0m in \u001b[0;36m<cell line: 2>\u001b[1;34m()\u001b[0m\n\u001b[0;32m      <a href='vscode-notebook-cell:/c%3A/Users/dawng/OneDrive%20-%20The%20University%20of%20Colorado%20Denver/Courses/ISMG4400_6020/Jupyter/Notebooks/Pyhton%20Data%20Types%20Lecture.ipynb#W4sZmlsZQ%3D%3D?line=0'>1</a>\u001b[0m nsv \u001b[39m=\u001b[39m \u001b[39m'\u001b[39m\u001b[39mhello bob\u001b[39m\u001b[39m'\u001b[39m\n\u001b[1;32m----> <a href='vscode-notebook-cell:/c%3A/Users/dawng/OneDrive%20-%20The%20University%20of%20Colorado%20Denver/Courses/ISMG4400_6020/Jupyter/Notebooks/Pyhton%20Data%20Types%20Lecture.ipynb#W4sZmlsZQ%3D%3D?line=1'>2</a>\u001b[0m niv \u001b[39m=\u001b[39m \u001b[39mint\u001b[39;49m(nsv)\n",
      "\u001b[1;31mValueError\u001b[0m: invalid literal for int() with base 10: 'hello bob'"
     ]
    }
   ],
   "source": [
    "nsv = 'hello bob'\n",
    "niv = int(nsv)"
   ]
  },
  {
   "attachments": {},
   "cell_type": "markdown",
   "metadata": {},
   "source": [
    "<hr />\n",
    "<h4>Integer Division</h4>\n",
    "<ul>\n",
    "<li>Integer division produces a floating point result</li>\n",
    "<li>(This was different in Python 2.x)</li>\n",
    "</ul>"
   ]
  },
  {
   "cell_type": "code",
   "execution_count": 15,
   "metadata": {},
   "outputs": [
    {
     "name": "stdout",
     "output_type": "stream",
     "text": [
      "5.0\n"
     ]
    }
   ],
   "source": [
    "print(10 / 2)"
   ]
  },
  {
   "cell_type": "code",
   "execution_count": 16,
   "metadata": {},
   "outputs": [
    {
     "name": "stdout",
     "output_type": "stream",
     "text": [
      "4.5\n"
     ]
    }
   ],
   "source": [
    "print(9 / 2)"
   ]
  },
  {
   "cell_type": "code",
   "execution_count": 17,
   "metadata": {},
   "outputs": [
    {
     "name": "stdout",
     "output_type": "stream",
     "text": [
      "0.99\n"
     ]
    }
   ],
   "source": [
    "print(99 / 100)"
   ]
  },
  {
   "attachments": {},
   "cell_type": "markdown",
   "metadata": {},
   "source": [
    "\n",
    "<hr />\n",
    "<h3>User Input</h3>\n",
    "<ul>\n",
    "<li>When Python programs are run from the command line, we can instruct Python to pause and read data from the user using the input() function</li>\n",
    "<li>The input() function returns a string</li>\n",
    "<li>If we want to read a number from the user, we must convert it from a string to a number using a type conversion function</li>\n",
    "</ul>"
   ]
  },
  {
   "cell_type": "code",
   "execution_count": 8,
   "metadata": {},
   "outputs": [
    {
     "name": "stdout",
     "output_type": "stream",
     "text": [
      "Europe floor?5\n",
      "US floor 6\n"
     ]
    }
   ],
   "source": [
    "inp = input('Europe floor?')\n",
    "usf = int(inp) + 1\n",
    "print('US floor', usf)"
   ]
  },
  {
   "attachments": {},
   "cell_type": "markdown",
   "metadata": {},
   "source": [
    "<ul>\n",
    "<li>Whenever getting input from a user - it is IMPORTANT to check it to ensure the data is of the correct type and within a reasonable range. We will discuss this further when we discuss secure coding practices at the end of the term.</li>\n",
    "</ul>\n",
    "<hr><h3>References</h3>\n",
    "<ul>\n",
    "            <li>This Juptyer Notebook contains content from “Python for Everybody” by Charles R Severance is licensed under CC BY-ND 3.0. </li></ul>"
   ]
  }
 ],
 "metadata": {
  "kernelspec": {
   "display_name": "Python 3",
   "language": "python",
   "name": "python3"
  },
  "language_info": {
   "codemirror_mode": {
    "name": "ipython",
    "version": 3
   },
   "file_extension": ".py",
   "mimetype": "text/x-python",
   "name": "python",
   "nbconvert_exporter": "python",
   "pygments_lexer": "ipython3",
   "version": "3.9.12"
  }
 },
 "nbformat": 4,
 "nbformat_minor": 2
}
