{
 "cells": [
  {
   "cell_type": "code",
   "execution_count": 4,
   "metadata": {},
   "outputs": [
    {
     "name": "stdout",
     "output_type": "stream",
     "text": [
      "<class '__main__.Author'> was created\n",
      "Default Name\n",
      "I am destructed Default Name\n",
      "\n",
      "a1 is <class 'int'> \n",
      "\n",
      "<class '__main__.Author'> was created\n",
      "I am destructed Default Name\n"
     ]
    }
   ],
   "source": [
    "class Author :\n",
    "    \n",
    "    def __init__(self):\n",
    "        self.name = \"Default Name\"\n",
    "        print(type(self), \"was created\")\n",
    "    \n",
    "    def __del__(self):\n",
    "        print('I am destructed', self.name)\n",
    "\n",
    "a1 = Author()\n",
    "print(a1.name)\n",
    "\n",
    "a1 = 42\n",
    "print(\"\\na1 is\", type(a1), \"\\n\")\n",
    "\n",
    "a1 = Author()\n",
    "del(a1)"
   ]
  },
  {
   "cell_type": "code",
   "execution_count": 5,
   "metadata": {},
   "outputs": [
    {
     "name": "stdout",
     "output_type": "stream",
     "text": [
      "Sally Jones constructed\n",
      "Jim Smith constructed\n",
      "{'x': 4, 'name': 'Sally Jones', 'email': 'sally.jones@ucdenver.edu'}\n",
      "{'x': 2, 'name': 'Jim Smith', 'email': 'jim.smith@ucdenver.edu'}\n"
     ]
    }
   ],
   "source": [
    "class Author:\n",
    "\n",
    "    def __init__(self, n, e):\n",
    "        self.x = 0\n",
    "        self.name = n\n",
    "        self.email = e\n",
    "        print(self.name,\"constructed\")\n",
    "\n",
    "s = Author(\"Sally Jones\", \"sally.jones@ucdenver.edu\")\n",
    "s.x = 3\n",
    "\n",
    "j = Author(\"Jim Smith\", \"jim.smith@ucdenver.edu\")\n",
    "j.x = 2\n",
    "s.x = s.x + 1\n",
    "\n",
    "print(s.__dict__)\n",
    "print(j.__dict__)"
   ]
  },
  {
   "cell_type": "code",
   "execution_count": 33,
   "metadata": {},
   "outputs": [
    {
     "name": "stdout",
     "output_type": "stream",
     "text": [
      "Introduction to Python Programming By: Sally Jones\n",
      "OOP and Python By: Sally Jones\n",
      "Number of articles by Sally Jones : 2\n"
     ]
    }
   ],
   "source": [
    "class Author:\n",
    "\n",
    "    def __init__(self, n, e):\n",
    "        self.articles = list()\n",
    "        self.name = n\n",
    "        self.email = e\n",
    "    \n",
    "    def add_article(self, art) :\n",
    "        self.articles.append(art)\n",
    "        \n",
    "    def display_articles(self) :\n",
    "        for article in self.articles :\n",
    "            print(article, \"By:\", self.name)\n",
    "\n",
    "    def number_articles(self) :\n",
    "        print(\"Number of articles by\", self.name, \":\", len(self.articles))\n",
    "        \n",
    "s = Author(\"Sally Jones\", \"sally.jones@ucdenver.edu\")\n",
    "s.add_article(\"Introduction to Python Programming\")\n",
    "s.add_article(\"OOP and Python\")\n",
    "\n",
    "s.display_articles()\n",
    "s.number_articles()\n"
   ]
  },
  {
   "cell_type": "code",
   "execution_count": 34,
   "metadata": {},
   "outputs": [
    {
     "name": "stdout",
     "output_type": "stream",
     "text": [
      "['__class__', '__delattr__', '__dict__', '__dir__', '__doc__', '__eq__', '__format__', '__ge__', '__getattribute__', '__gt__', '__hash__', '__init__', '__init_subclass__', '__le__', '__lt__', '__module__', '__ne__', '__new__', '__reduce__', '__reduce_ex__', '__repr__', '__setattr__', '__sizeof__', '__str__', '__subclasshook__', '__weakref__', 'add_article', 'articles', 'display_articles', 'email', 'name', 'number_articles']\n"
     ]
    }
   ],
   "source": [
    "print(dir(s))"
   ]
  },
  {
   "cell_type": "code",
   "execution_count": 35,
   "metadata": {},
   "outputs": [
    {
     "name": "stdout",
     "output_type": "stream",
     "text": [
      "42\n"
     ]
    }
   ],
   "source": [
    "s.email = 42\n",
    "print(s.email)"
   ]
  },
  {
   "cell_type": "code",
   "execution_count": 36,
   "metadata": {},
   "outputs": [],
   "source": [
    "class Author:\n",
    "\n",
    "    def __init__(self, n, e):\n",
    "        self.articles = list()\n",
    "        self.__name = n\n",
    "        self.set_email(e)\n",
    "    \n",
    "    def get_email(self): \n",
    "        return self.__emaail \n",
    "    \n",
    "    def set_email(self, x):\n",
    "        self.__email = x\n",
    "    \n",
    "      \n",
    "s = Author(\"Sally Jones\", \"sally.jones@ucdenver.edu\")\n",
    "s.__email = 42"
   ]
  },
  {
   "cell_type": "code",
   "execution_count": 29,
   "metadata": {},
   "outputs": [
    {
     "name": "stdout",
     "output_type": "stream",
     "text": [
      "42\n"
     ]
    }
   ],
   "source": [
    "print(s.__email)"
   ]
  }
 ],
 "metadata": {
  "kernelspec": {
   "display_name": "Python 3",
   "language": "python",
   "name": "python3"
  },
  "language_info": {
   "codemirror_mode": {
    "name": "ipython",
    "version": 3
   },
   "file_extension": ".py",
   "mimetype": "text/x-python",
   "name": "python",
   "nbconvert_exporter": "python",
   "pygments_lexer": "ipython3",
   "version": "3.7.3"
  }
 },
 "nbformat": 4,
 "nbformat_minor": 2
}
