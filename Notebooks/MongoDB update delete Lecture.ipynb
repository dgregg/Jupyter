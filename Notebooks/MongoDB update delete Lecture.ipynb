{
 "cells": [
  {
   "attachments": {},
   "cell_type": "markdown",
   "metadata": {},
   "source": [
    "<h1>MongoDB Updata & Delete</h1><p><img src=\"images/1line.png\" /></p>\n",
    "<h3 id=\"updating-a-document\">Updating a Document</h3>\n",
    "<ul>\n",
    "<li>We update a document using the&nbsp;<code>update_one()</code> method.</li>\n",
    "<li>The first parameter taken by this function is a query object defining the document to be updated.</li>\n",
    "<li>If the method finds more than one document, it will only update the first one.</li>\n",
    "<li>If you want to update more than one document use the&nbsp;<code>update()</code> method.</li>\n",
    "<li>Let's update the name of the author in the article written by Derrick Mwiti.</li>\n",
    "</ul>"
   ]
  },
  {
   "cell_type": "code",
   "execution_count": null,
   "metadata": {},
   "outputs": [],
   "source": [
    "# Instaling PyMongo, this is the interface to connect to MongoDB with Python\n",
    "! python -m pip install pymongo"
   ]
  },
  {
   "cell_type": "code",
   "execution_count": 2,
   "metadata": {},
   "outputs": [],
   "source": [
    "import pymongo\n",
    "\n",
    "# Stored Mongodb connection string in environment variable atlas-uri \n",
    "# Replace \"os.environ.get(\"atlas-uri\")\" with your connection URI from the Atlas UI\n",
    "import os   # allows us to connect to operating system\n",
    "uri = os.environ.get(\"atlas-uri\")\n",
    "\n",
    "mc = pymongo.MongoClient(uri)\n",
    "db = mc['test']\n",
    "\n",
    "# JSON Data for 3 articles\n",
    "articles = [\n",
    "    {\"author\":\"Dawn Gregg\", \"title\":\"How Should We Do IS Research in the Age of Environmental Crises? \", \"year\": 2023 },\n",
    "    {\"author\":\"Ersin Dincelli\", \"title\":\"Cyber Attack! A story-driven Educational hacking game\", \"year\": 2020 },\n",
    "    {\"author\":\"Jiban Khuntia\", \"title\":\"Theory and Practice of Business Intelligence in Healthcare\", \"year\": 2019}\n",
    "]\n",
    "\n",
    "result = db.articles.insert_many(articles)\n"
   ]
  },
  {
   "cell_type": "code",
   "execution_count": 5,
   "metadata": {},
   "outputs": [
    {
     "name": "stdout",
     "output_type": "stream",
     "text": [
      "{'_id': ObjectId('649a215db8b7a189c375dd78'), 'author': 'Onook Oh', 'title': 'How Should We Do IS Research in the Age of Environmental Crises? ', 'year': 2023}\n",
      "{'_id': ObjectId('649a215db8b7a189c375dd79'), 'author': 'Ersin Dincelli', 'title': 'Cyber Attack! A story-driven Educational hacking game', 'year': 2020}\n",
      "{'_id': ObjectId('649a215db8b7a189c375dd7a'), 'author': 'Jiban Khuntia', 'title': 'Theory and Practice of Business Intelligence in Healthcare', 'year': 2019}\n"
     ]
    }
   ],
   "source": [
    "query = { \"author\": \"Dawn Gregg\" }\n",
    "new_author = { \"$set\": { \"author\": \"Onook Oh\" } }\n",
    "\n",
    "db.articles.update_one(query, new_author)\n",
    "\n",
    "for article in db.articles.find():\n",
    "  print(article)"
   ]
  },
  {
   "attachments": {},
   "cell_type": "markdown",
   "metadata": {},
   "source": [
    "<ul>\n",
    "<li>NOTE:&nbsp;If you update a field that does not exist, the update operator will ADD the field to the document.&nbsp;</li>\n",
    "</ul>\n",
    "<h4>Update Operators</h4>\n",
    "<ul>\n",
    "<li>MongoDB actually has a number of update operators that allows you to update records.\n",
    "<ul>\n",
    "<li>\n",
    "<div class=\"rc-Phrase\" data-cue=\"69\" data-cue-index=\"68\">Array update operators include&nbsp;$addToSet, &nbsp;$push, $pop, $pull, $pullAll and even $ position operator,</div>\n",
    "</li>\n",
    "<li>\n",
    "<div class=\"rc-Phrase\" data-cue=\"72\" data-cue-index=\"71\">Field update operators include $set, $unset, $inc, $currentDate, $min, $max, $mul, $rename and $setOnInsert etc...</div>\n",
    "</li>\n",
    "</ul>\n",
    "</li>\n",
    "<li>\n",
    "<div class=\"rc-Phrase\" data-cue=\"72\" data-cue-index=\"71\">The operators enable us to make&nbsp;changes on existing documents in MongoDB without the need for application side logic.&nbsp;</div>\n",
    "</li>\n",
    "<li>For example, we can update an article's year (e.g. after it was published) using the $inc (increment) operator:</li>\n",
    "</ul>"
   ]
  },
  {
   "cell_type": "code",
   "execution_count": 6,
   "metadata": {},
   "outputs": [
    {
     "name": "stdout",
     "output_type": "stream",
     "text": [
      "True\n"
     ]
    }
   ],
   "source": [
    "query = {\"author\": \"Onook Oh\"}\n",
    "result = db.articles.users.update_one(query, { \"$inc\": { \"year\": 1 }})\n",
    "print(result.acknowledged)"
   ]
  },
  {
   "attachments": {},
   "cell_type": "markdown",
   "metadata": {},
   "source": [
    "<ul>\n",
    "<li>A complete list of update operators can be found here: <a href=\"https://docs.mongodb.com/manual/reference/operator/update/\">https://docs.mongodb.com/manual/reference/operator/update/</a></li>\n",
    "</ul>\n",
    "<h3>MongoDB Delete Document</h3>\n",
    "<ul>\n",
    "<li>We use the&nbsp;<code>delete_one()</code>&nbsp;method to delete a document in MongoDB.\n",
    "<ul>\n",
    "<li>The first parameter for this method is the query object of the document we want to delete.</li>\n",
    "<li>If this method finds more than one document, it deletes only the first one found.</li>\n",
    "<li>Let's delete the article with the id&nbsp;<code>649a215db8b7a189c375dd78</code>.</li>\n",
    "</ul>\n",
    "</li>\n",
    "</ul>"
   ]
  },
  {
   "cell_type": "code",
   "execution_count": 10,
   "metadata": {},
   "outputs": [
    {
     "data": {
      "text/plain": [
       "<pymongo.results.DeleteResult at 0x255a1770040>"
      ]
     },
     "execution_count": 10,
     "metadata": {},
     "output_type": "execute_result"
    }
   ],
   "source": [
    "from bson.objectid import ObjectId\n",
    "db.articles.delete_one({\"_id\":ObjectId(\"649a215db8b7a189c375dd78\")})"
   ]
  },
  {
   "attachments": {},
   "cell_type": "markdown",
   "metadata": {},
   "source": [
    "<h3 id=\"deleting-many-documents\">Deleting Many Documents</h3>\n",
    "<ul>\n",
    "<li>In order to delete many documents, we use the&nbsp;<code>delete_many()</code>&nbsp;method.</li>\n",
    "<li>Passing an empty query object will delete all the documents.</li>\n",
    "</ul>"
   ]
  },
  {
   "cell_type": "code",
   "execution_count": 12,
   "metadata": {},
   "outputs": [
    {
     "name": "stdout",
     "output_type": "stream",
     "text": [
      "2  articles deleted.\n"
     ]
    }
   ],
   "source": [
    "delete_articles = db.articles.delete_many({})\n",
    "print(delete_articles.deleted_count, \" articles deleted.\")"
   ]
  },
  {
   "attachments": {},
   "cell_type": "markdown",
   "metadata": {},
   "source": [
    "<h3 id=\"dropping-a-collection\">Dropping a Collection</h3>\n",
    "<ul>\n",
    "<li>In MongoDB, we can delete a collection using the&nbsp;<code>drop()</code>&nbsp;method.</li>\n",
    "</ul>\n",
    "\n"
   ]
  },
  {
   "cell_type": "code",
   "execution_count": 13,
   "metadata": {},
   "outputs": [],
   "source": [
    "db.articles.drop()"
   ]
  },
  {
   "attachments": {},
   "cell_type": "markdown",
   "metadata": {},
   "source": [
    "<ul>\n",
    "<li>We can confirm that the collection has been deleted since when we call the&nbsp;<code>list_collection_names</code>, we get an empty list.</li>\n",
    "</ul>"
   ]
  },
  {
   "cell_type": "code",
   "execution_count": 14,
   "metadata": {},
   "outputs": [
    {
     "data": {
      "text/plain": [
       "['test2', 'test1', 'employees']"
      ]
     },
     "execution_count": 14,
     "metadata": {},
     "output_type": "execute_result"
    }
   ],
   "source": [
    "db.list_collection_names()"
   ]
  },
  {
   "attachments": {},
   "cell_type": "markdown",
   "metadata": {},
   "source": [
    "<hr />\n",
    "<h3>References</h3>\n",
    "<p>This lecture contains content from MongoDB Basics <a href=\"https://learn.mongodb.com/learning-paths/introduction-to-mongodb\" target=\"_blank\" rel=\"noopener\">https://learn.mongodb.com/learning-paths/introduction-to-mongodb</a></p>\n"
   ]
  }
 ],
 "metadata": {
  "kernelspec": {
   "display_name": "Python 3",
   "language": "python",
   "name": "python3"
  },
  "language_info": {
   "codemirror_mode": {
    "name": "ipython",
    "version": 3
   },
   "file_extension": ".py",
   "mimetype": "text/x-python",
   "name": "python",
   "nbconvert_exporter": "python",
   "pygments_lexer": "ipython3",
   "version": "3.11.4"
  }
 },
 "nbformat": 4,
 "nbformat_minor": 2
}
