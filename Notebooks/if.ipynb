{
 "cells": [
  {
   "cell_type": "code",
   "execution_count": 1,
   "metadata": {},
   "outputs": [
    {
     "name": "stdout",
     "output_type": "stream",
     "text": [
      "Smaller\n",
      "Greater than or Equals 5\n",
      "Equals 5\n",
      "Less than or Equals 5\n",
      "Still Less than or Equal to 5\n",
      "Not equal 6\n"
     ]
    }
   ],
   "source": [
    "# Simple if statements\n",
    "x = 5\n",
    "if x < 10 :\n",
    "    print('Smaller')\n",
    "\n",
    "if x > 20 :\n",
    "    print('Bigger')\n",
    "    \n",
    "if x >= 5 :\n",
    "    print('Greater than or Equals 5')\n",
    "    \n",
    "if x == 5 : print('Equals 5') \n",
    "    \n",
    "if x <= 5 :\n",
    "    print('Less than or Equals 5')    \n",
    "    print('Still Less than or Equal to 5') \n",
    "    \n",
    "if x != 6 :\n",
    "    print('Not equal 6')"
   ]
  },
  {
   "cell_type": "code",
   "execution_count": 2,
   "metadata": {},
   "outputs": [
    {
     "name": "stdout",
     "output_type": "stream",
     "text": [
      "More than one\n",
      "Less than 100\n",
      "All done\n"
     ]
    }
   ],
   "source": [
    "# Nested if statements\n",
    "x = 42\n",
    "if x > 1 :\n",
    "    print('More than one')\n",
    "    if x < 100 :\n",
    "        print('Less than 100')\n",
    "print('All done')"
   ]
  },
  {
   "cell_type": "code",
   "execution_count": 3,
   "metadata": {},
   "outputs": [
    {
     "name": "stdout",
     "output_type": "stream",
     "text": [
      "Bigger\n",
      "All done\n"
     ]
    }
   ],
   "source": [
    "# if else statements\n",
    "x = 4\n",
    "if x > 2 :\n",
    "    print('Bigger')\n",
    "else :\n",
    "    print('Not Bigger')\n",
    "\n",
    "print('All done')"
   ]
  },
  {
   "cell_type": "code",
   "execution_count": null,
   "metadata": {},
   "outputs": [],
   "source": []
  }
 ],
 "metadata": {
  "kernelspec": {
   "display_name": "Python 3",
   "language": "python",
   "name": "python3"
  },
  "language_info": {
   "codemirror_mode": {
    "name": "ipython",
    "version": 3
   },
   "file_extension": ".py",
   "mimetype": "text/x-python",
   "name": "python",
   "nbconvert_exporter": "python",
   "pygments_lexer": "ipython3",
   "version": "3.7.3"
  }
 },
 "nbformat": 4,
 "nbformat_minor": 2
}
