{
 "cells": [
  {
   "cell_type": "code",
   "execution_count": 1,
   "metadata": {},
   "outputs": [],
   "source": [
    "import datetime\n",
    "\n",
    "class Person:\n",
    "    \n",
    "    def __init__(self, n, e):\n",
    "        self.name = n\n",
    "        self.email = e\n",
    "        \n",
    "    @property\n",
    "    def email(self):\n",
    "        return self.__email\n",
    "\n",
    "    @email.setter\n",
    "    def email(self, x):\n",
    "        x = str(x)\n",
    "        if x.find(\"@\") > 0 :\n",
    "            self.__email = x    \n",
    "   \n",
    "    def sayHello(self, lang=None):\n",
    "        greet = {'en': 'Hello', 'es': 'Hola', 'fr': 'Bonjour', 'ar': 'Marhaba'}\n",
    "        if lang is not None:\n",
    "            for la in greet :\n",
    "                if lang is la:\n",
    "                    print(greet[la] + ' ' + self.name)\n",
    "                    break\n",
    "        else:\n",
    "             print('Hello ' + self.name)\n",
    "        \n",
    "class Author(Person):\n",
    "    \n",
    "    def __init__(self, n, e):\n",
    "        self.articles = list()\n",
    "        super().__init__(n,e)\n",
    "        \n",
    "    def add_article(self, art) :\n",
    "        self.articles.append(art)\n",
    "        \n",
    "    def display_articles(self) :\n",
    "        for article in self.articles :\n",
    "            print(article)\n",
    "\n",
    "    def number_articles(self) :\n",
    "        print(\"Number of articles by\", self.name, \":\", len(self.articles))\n",
    "        \n",
    "class Editor(Person):\n",
    "    def canEdit(self):\n",
    "         print(\"This person can edit other people!\")\n",
    "            \n",
    "    def sayHello(self, lang=None):\n",
    "        greet = {'py': 's', 'js': 'var s', 'java': 'String s', 'vb': 'Dim s'}\n",
    "        if lang is not None:\n",
    "            for la in greet :\n",
    "                if lang is la:\n",
    "                    print(greet[la] +  ' = \"' + self.name +'\"')\n",
    "                    break\n",
    "        else:\n",
    "             print('String s = \"' + self.name +'\"')\n",
    "                \n",
    "                \n",
    "class Article:\n",
    "    def __init__(self, n, e, t, p, d):\n",
    "        self.author = Author(n, e)\n",
    "        self.title = t\n",
    "        self.pub = p\n",
    "        self.date = d\n",
    "        \n",
    "    def __str__(self):\n",
    "        return self.author.name + \", '\" + self.title + \"', \" + self.pub + \", \" + str(self.date)\n",
    "    \n",
    "    def __repr__(self):\n",
    "        return '{name:'+self.author.name+', title:'+ self.title +', pub:'+ self.pub +', date:'+ str(self.date) + '}'\n",
    "    \n",
    "    def __gt__(self, other):\n",
    "        return self.date > other.date\n",
    "    \n",
    "\n"
   ]
  },
  {
   "cell_type": "code",
   "execution_count": 2,
   "metadata": {},
   "outputs": [
    {
     "name": "stdout",
     "output_type": "stream",
     "text": [
      "Hola Jorge Mena\n",
      "Hello Jorge Mena\n"
     ]
    }
   ],
   "source": [
    "p = Person(\"Jorge Mena\", \"Jmena@gmail.com\")\n",
    "p.sayHello(\"es\")\n",
    "p.sayHello()"
   ]
  },
  {
   "cell_type": "code",
   "execution_count": 3,
   "metadata": {},
   "outputs": [
    {
     "name": "stdout",
     "output_type": "stream",
     "text": [
      "String s = \"Dawn Gregg\"\n",
      "s = \"Dawn Gregg\"\n"
     ]
    }
   ],
   "source": [
    "e = Editor(\"Dawn Gregg\", \"dawn.gregg@ucdenver.edu\")\n",
    "e.sayHello()\n",
    "e.sayHello(\"py\")"
   ]
  },
  {
   "cell_type": "code",
   "execution_count": 4,
   "metadata": {},
   "outputs": [
    {
     "name": "stdout",
     "output_type": "stream",
     "text": [
      "Introduction to Python Programming\n",
      "OOP and Python\n",
      "Number of articles by Sally Jones : 2\n",
      "Hello Sally Jones\n"
     ]
    }
   ],
   "source": [
    "s = Author(\"Sally Jones\", \"sally.jones@ucdenver.edu\")\n",
    "s.add_article(\"Introduction to Python Programming\")\n",
    "s.add_article(\"OOP and Python\")\n",
    "\n",
    "s.display_articles()\n",
    "s.number_articles()\n",
    "s.sayHello()"
   ]
  },
  {
   "cell_type": "code",
   "execution_count": 5,
   "metadata": {},
   "outputs": [
    {
     "name": "stdout",
     "output_type": "stream",
     "text": [
      "Jim Smith, 'Using Static Methods in Python', Learn Python Magazine, 2019-09-30\n",
      "Number of articles by Jim Smith : 1\n"
     ]
    }
   ],
   "source": [
    "j = Author(\"Jim Smith\", \"jim.smith@ucdenver.edu\")\n",
    "ja1 = Article (\"Jim Smith\", \"jim.smith@ucdenver.edu\", \"Using Static Methods in Python\", \"Learn Python Magazine\", datetime.date(2019, 9, 30))\n",
    "j.add_article(ja1)\n",
    "j.display_articles()\n",
    "j.number_articles()"
   ]
  },
  {
   "cell_type": "code",
   "execution_count": 6,
   "metadata": {},
   "outputs": [
    {
     "name": "stdout",
     "output_type": "stream",
     "text": [
      "Jim Smith, 'Using Static Methods in Python', Learn Python Magazine, 2019-09-30\n",
      "{name:Jim Smith, title:Using Static Methods in Python, pub:Learn Python Magazine, date:2019-09-30}\n"
     ]
    }
   ],
   "source": [
    "ja1 = Article (\"Jim Smith\", \"jim.smith@ucdenver.edu\", \"Using Static Methods in Python\", \"Learn Python Magazine\", datetime.date(2019, 9, 30))\n",
    "print(ja1)\n",
    "print(repr(ja1))\n"
   ]
  },
  {
   "cell_type": "code",
   "execution_count": 7,
   "metadata": {},
   "outputs": [
    {
     "name": "stdout",
     "output_type": "stream",
     "text": [
      "False\n"
     ]
    }
   ],
   "source": [
    "ja1 = Article(\"Jim Smith\", \"jim.smith@ucdenver.edu\", \"Using Static Methods in Python\", \"Learn Python Magazine\", datetime.date(2019, 9, 30))\n",
    "sa1 = Article(\"Sally Jones\", \"sally.jones@ucdenver.edu\", \"Introduction to Python Programming\", \"Learn Python Magazine\", datetime.date(2018, 6, 30))\n",
    "\n",
    "print(sa1>ja1)"
   ]
  },
  {
   "cell_type": "code",
   "execution_count": null,
   "metadata": {},
   "outputs": [],
   "source": []
  }
 ],
 "metadata": {
  "kernelspec": {
   "display_name": "Python 3",
   "language": "python",
   "name": "python3"
  },
  "language_info": {
   "codemirror_mode": {
    "name": "ipython",
    "version": 3
   },
   "file_extension": ".py",
   "mimetype": "text/x-python",
   "name": "python",
   "nbconvert_exporter": "python",
   "pygments_lexer": "ipython3",
   "version": "3.7.3"
  }
 },
 "nbformat": 4,
 "nbformat_minor": 2
}
