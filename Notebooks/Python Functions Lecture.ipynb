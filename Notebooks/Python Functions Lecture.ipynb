{
 "cells": [
  {
   "attachments": {},
   "cell_type": "markdown",
   "metadata": {},
   "source": [
    "<h2>Python Functions</h2>\n",
    "<p><img src=\"images/1line.png\" width=\"100%\" /></p>\n",
    "<ul>\n",
    "    <li>There are two kinds of functions in Python.</li>\n",
    "    <li>Built-in functions that are provided as part of Python - print(), input(), type(), float(), int() ...</li>\n",
    "    <li>Functions that we define ourselves and then use</li>\n",
    "    <li>We treat the built-in function names as &ldquo;new&rdquo; reserved words <br />(i.e., we avoid them as variable names)</li>\n",
    "</ul>\n",
    "<hr />\n",
    "<h3>Function Definition</h3>\n",
    "<ul>\n",
    "    <li>In Python a function is some reusable code that takes arguments(s) as input, does some computation, and then returns a result or results</li>\n",
    "    <li>We define a function using the def reserved word</li>\n",
    "    <li>We call/invoke the function by using the function name, parentheses, and arguments in an expression</li>\n",
    "    <li>You do not always need to know HOW a function works to use it.</li>\n",
    "</ul>\n",
    "<p><img src=\"images/function1.PNG\" alt=\"A function is some stored code that we use. A function takes some input and produces output.\"/></p>\n",
    "<hr />\n",
    "<h3>Built In Functions</h3>\n",
    "<ul>\n",
    "    <li>When you put an integer and floating point in an expression, the integer is implicitly converted to a float</li>\n",
    "    <li>You can control this with the built-in functions <strong>int()</strong> and f<strong>loat()</strong></li>\n",
    "</ul>"
   ]
  },
  {
   "cell_type": "code",
   "execution_count": 1,
   "metadata": {},
   "outputs": [
    {
     "name": "stdout",
     "output_type": "stream",
     "text": [
      "0.99\n"
     ]
    }
   ],
   "source": [
    "print(float(99)/100)"
   ]
  },
  {
   "cell_type": "code",
   "execution_count": 2,
   "metadata": {},
   "outputs": [
    {
     "data": {
      "text/plain": [
       "int"
      ]
     },
     "execution_count": 2,
     "metadata": {},
     "output_type": "execute_result"
    }
   ],
   "source": [
    "i = 42\n",
    "type(i)"
   ]
  },
  {
   "cell_type": "code",
   "execution_count": 3,
   "metadata": {},
   "outputs": [
    {
     "name": "stdout",
     "output_type": "stream",
     "text": [
      "42.0\n"
     ]
    }
   ],
   "source": [
    "f = float(i)\n",
    "print(f)"
   ]
  },
  {
   "cell_type": "code",
   "execution_count": 4,
   "metadata": {},
   "outputs": [
    {
     "data": {
      "text/plain": [
       "float"
      ]
     },
     "execution_count": 4,
     "metadata": {},
     "output_type": "execute_result"
    }
   ],
   "source": [
    "type(f)"
   ]
  },
  {
   "cell_type": "code",
   "execution_count": 5,
   "metadata": {},
   "outputs": [
    {
     "name": "stdout",
     "output_type": "stream",
     "text": [
      "-2.5\n"
     ]
    }
   ],
   "source": [
    "print(1 + 2*float(3) / 4 - 5)"
   ]
  },
  {
   "attachments": {},
   "cell_type": "markdown",
   "metadata": {},
   "source": [
    "<ul>\n",
    "    <li>You can also use <strong>int()</strong> and <strong>float()</strong> to convert between strings and integers</li>\n",
    "    <li>You will get an <span style=\"color: #ff0000;\">error</span> if the string does not contain numeric characters</li>\n",
    "</ul>"
   ]
  },
  {
   "cell_type": "code",
   "execution_count": 6,
   "metadata": {},
   "outputs": [
    {
     "data": {
      "text/plain": [
       "str"
      ]
     },
     "execution_count": 6,
     "metadata": {},
     "output_type": "execute_result"
    }
   ],
   "source": [
    "sval = '123'\n",
    "type(sval)"
   ]
  },
  {
   "cell_type": "code",
   "execution_count": 7,
   "metadata": {},
   "outputs": [
    {
     "ename": "TypeError",
     "evalue": "can only concatenate str (not \"int\") to str",
     "output_type": "error",
     "traceback": [
      "\u001b[1;31m---------------------------------------------------------------------------\u001b[0m",
      "\u001b[1;31mTypeError\u001b[0m                                 Traceback (most recent call last)",
      "\u001b[1;32mc:\\Users\\dawng\\OneDrive - The University of Colorado Denver\\Courses\\ISMG4400_6020\\Jupyter\\Notebooks\\Python Funcrtions Lecture.ipynb Cell 9\u001b[0m in \u001b[0;36m<cell line: 1>\u001b[1;34m()\u001b[0m\n\u001b[1;32m----> <a href='vscode-notebook-cell:/c%3A/Users/dawng/OneDrive%20-%20The%20University%20of%20Colorado%20Denver/Courses/ISMG4400_6020/Jupyter/Notebooks/Python%20Funcrtions%20Lecture.ipynb#X12sZmlsZQ%3D%3D?line=0'>1</a>\u001b[0m \u001b[39mprint\u001b[39m(sval \u001b[39m+\u001b[39;49m \u001b[39m1\u001b[39;49m)\n",
      "\u001b[1;31mTypeError\u001b[0m: can only concatenate str (not \"int\") to str"
     ]
    }
   ],
   "source": [
    "\n",
    "print(sval + 1)"
   ]
  },
  {
   "cell_type": "code",
   "execution_count": null,
   "metadata": {},
   "outputs": [
    {
     "data": {
      "text/plain": [
       "int"
      ]
     },
     "execution_count": 8,
     "metadata": {},
     "output_type": "execute_result"
    }
   ],
   "source": [
    "ival = int(sval)\n",
    "type(ival)"
   ]
  },
  {
   "cell_type": "code",
   "execution_count": null,
   "metadata": {},
   "outputs": [
    {
     "name": "stdout",
     "output_type": "stream",
     "text": [
      "124\n"
     ]
    }
   ],
   "source": [
    "print(ival + 1)"
   ]
  },
  {
   "cell_type": "code",
   "execution_count": null,
   "metadata": {},
   "outputs": [
    {
     "ename": "ValueError",
     "evalue": "invalid literal for int() with base 10: 'hello bob'",
     "output_type": "error",
     "traceback": [
      "\u001b[1;31m---------------------------------------------------------------------------\u001b[0m",
      "\u001b[1;31mValueError\u001b[0m                                Traceback (most recent call last)",
      "\u001b[1;32mc:\\Users\\dawng\\OneDrive - The University of Colorado Denver\\Courses\\ISMG4400_6020\\Jupyter\\Notebooks\\Python Funcrtions Lecture.ipynb Cell 13\u001b[0m in \u001b[0;36m<cell line: 2>\u001b[1;34m()\u001b[0m\n\u001b[0;32m      <a href='vscode-notebook-cell:/c%3A/Users/dawng/OneDrive%20-%20The%20University%20of%20Colorado%20Denver/Courses/ISMG4400_6020/Jupyter/Notebooks/Python%20Funcrtions%20Lecture.ipynb#X20sZmlsZQ%3D%3D?line=0'>1</a>\u001b[0m nsv \u001b[39m=\u001b[39m \u001b[39m'\u001b[39m\u001b[39mhello bob\u001b[39m\u001b[39m'\u001b[39m\n\u001b[1;32m----> <a href='vscode-notebook-cell:/c%3A/Users/dawng/OneDrive%20-%20The%20University%20of%20Colorado%20Denver/Courses/ISMG4400_6020/Jupyter/Notebooks/Python%20Funcrtions%20Lecture.ipynb#X20sZmlsZQ%3D%3D?line=1'>2</a>\u001b[0m niv \u001b[39m=\u001b[39m \u001b[39mint\u001b[39;49m(nsv)\n",
      "\u001b[1;31mValueError\u001b[0m: invalid literal for int() with base 10: 'hello bob'"
     ]
    }
   ],
   "source": [
    "nsv = 'hello bob'\n",
    "niv = int(nsv)"
   ]
  },
  {
   "attachments": {},
   "cell_type": "markdown",
   "metadata": {},
   "source": [
    "<ul>\n",
    "    <li>Other built-in functions include\n",
    "        <ul>\n",
    "            <li><strong>type()</strong> - which shows the data type of a variable and</li>\n",
    "            <li><strong>input()</strong> - which allows you to get user input from the console and return it as a string.</li>\n",
    "        </ul>\n",
    "    </li>\n",
    "</ul>"
   ]
  }
 ],
 "metadata": {
  "kernelspec": {
   "display_name": "base",
   "language": "python",
   "name": "python3"
  },
  "language_info": {
   "codemirror_mode": {
    "name": "ipython",
    "version": 3
   },
   "file_extension": ".py",
   "mimetype": "text/x-python",
   "name": "python",
   "nbconvert_exporter": "python",
   "pygments_lexer": "ipython3",
   "version": "3.9.12"
  },
  "orig_nbformat": 4
 },
 "nbformat": 4,
 "nbformat_minor": 2
}
