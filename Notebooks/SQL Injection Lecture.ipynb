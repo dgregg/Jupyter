{
 "cells": [
  {
   "attachments": {},
   "cell_type": "markdown",
   "metadata": {},
   "source": [
    "<h1>SQL Injection</h1><p><img src=\"images/1line.png\" width=\"100%/\"  /></p>\n",
    "\n",
    "<ul>\n",
    "<li>Specifically in this lecture shows you how SQL Injection works. <em>Don&rsquo;t do this on any site that you don&rsquo;t own!</em></li>\n",
    "</ul>\n",
    "<h3>SQL Injection</h3>\n",
    "<ul>\n",
    "<li>SQL injection is a code injection technique, used to attack data-driven applications, in which malicious SQL statements are inserted into an entry field for execution (e.g. to dump the database contents to the attacker).[1]</li>\n",
    "<li>SQL injection must exploit a security vulnerability in an application's software,\n",
    "<ul>\n",
    "<li>for example, when user input is either incorrectly filtered for string literal escape characters embedded in SQL statements:\n",
    "<ul>\n",
    "<li>Value delimiter:&nbsp; <span style=\"color: #0000ff;\"><strong>'</strong></span>&nbsp; or<span style=\"color: #0000ff;\"> <strong>\"</strong></span></li>\n",
    "<li>End of Statement:&nbsp; <span style=\"color: #0000ff;\"><strong>;</strong></span></li>\n",
    "<li>Inline Comment:&nbsp; <span style=\"color: #0000ff;\"><strong>/* comment */</strong></span></li>\n",
    "<li>Remainder of line Comment:&nbsp; <span style=\"color: #0000ff;\"><strong>-- comment</strong></span></li>\n",
    "</ul>\n",
    "</li>\n",
    "</ul>\n",
    "</li>\n",
    "<li>SQL injection is mostly known as an attack vector for websites but can be used to attack any type of SQL database.</li>\n",
    "</ul>\n",
    "<h4>Forms of SQL Injection include:</h4>\n",
    "<ol>\n",
    "<li>Incorrectly filtered escape characters:\n",
    "<ul>\n",
    "<li>The following line of code illustrates this vulnerability:<br />\n",
    "<pre>qry = \"SELECT * FROM users WHERE name ='\" + userName + \"';\"\n",
    "If the Hacker uses this as the username:\n",
    "' or '1'='1\n",
    "This is the query that will be run\n",
    "SELECT * FROM users WHERE name = '' OR '1'='1';</pre>\n",
    "</li>\n",
    "</ul>\n",
    "</li>\n",
    "<li>Incorrect type handling</li>\n",
    "</ol>\n",
    "<h4>Defense against SQL Injection</h4>\n",
    "<ol>\n",
    "<ol>\n",
    "<li>The proper defense against SQL injection, which should always be done, is either prepared statements or parameterized queries. However, let&rsquo;s consider what would happen if the developer had validated the input but still formed the query with string concatenation. In this case, the code might look like:</li>\n",
    "</ol>\n",
    "</ol>"
   ]
  },
  {
   "cell_type": "code",
   "execution_count": 2,
   "metadata": {},
   "outputs": [],
   "source": [
    "#This code creates the users database.  \n",
    "import sqlite3 \n",
    "\n",
    "conn = sqlite3.connect('users.sqlite')\n",
    "cur = conn.cursor()\n",
    "\n",
    "cur.execute(\"CREATE TABLE IF NOT EXISTS users(id INTEGER PRIMARY KEY AUTOINCREMENT, name TEXT, account REAL)\")\n",
    "\n",
    "data = [('Jane',52642),\n",
    "        ('Paul',57127),\n",
    "        ('Steve', 9000),\n",
    "        ('Vince', 29000),\n",
    "        ('Ben', 350000),\n",
    "        ('Ham', 41400),\n",
    "        ('James', 21600)]\n",
    "\n",
    "cur.executemany(\"INSERT INTO users (name, account) VALUES(?, ?)\", data)\n",
    "\n",
    "conn.commit()"
   ]
  },
  {
   "cell_type": "code",
   "execution_count": 3,
   "metadata": {},
   "outputs": [
    {
     "name": "stdout",
     "output_type": "stream",
     "text": [
      "(1, 'Jane', 52642.0)\n",
      "(2, 'Paul', 57127.0)\n",
      "(3, 'Steve', 9000.0)\n",
      "(4, 'Vince', 29000.0)\n",
      "(5, 'Ben', 350000.0)\n",
      "(6, 'Ham', 41400.0)\n",
      "(7, 'James', 21600.0)\n"
     ]
    }
   ],
   "source": [
    "# Example SQL Injection\n",
    "userName = \"' or '1'='1\"\n",
    "qry = \"SELECT * FROM users WHERE name ='\" + userName + \"';\"\n",
    "\n",
    "for row in cur.execute(qry):\n",
    "    print(row)"
   ]
  },
  {
   "cell_type": "code",
   "execution_count": 4,
   "metadata": {},
   "outputs": [
    {
     "name": "stdout",
     "output_type": "stream",
     "text": [
      "(1, 'Jane', 52642.0)\n",
      "(2, 'Paul', 57127.0)\n",
      "(3, 'Steve', 9000.0)\n",
      "(4, 'Vince', 29000.0)\n",
      "(5, 'Ben', 350000.0)\n",
      "(6, 'Ham', 41400.0)\n",
      "(7, 'James', 21600.0)\n"
     ]
    }
   ],
   "source": [
    "# Another SQL Injection\n",
    "injection = \"3 OR name is not NULL\"\n",
    "\n",
    "for row in cur.execute('SELECT * FROM users Where ID=' + injection):\n",
    "    print(row)"
   ]
  },
  {
   "cell_type": "code",
   "execution_count": 5,
   "metadata": {},
   "outputs": [
    {
     "ename": "ProgrammingError",
     "evalue": "Incorrect number of bindings supplied. The current statement uses 1, and there are 21 supplied.",
     "output_type": "error",
     "traceback": [
      "\u001b[1;31m---------------------------------------------------------------------------\u001b[0m",
      "\u001b[1;31mProgrammingError\u001b[0m                          Traceback (most recent call last)",
      "\u001b[1;32m<ipython-input-5-37896face00e>\u001b[0m in \u001b[0;36m<module>\u001b[1;34m\u001b[0m\n\u001b[0;32m      1\u001b[0m \u001b[0minjection\u001b[0m \u001b[1;33m=\u001b[0m \u001b[1;34m\"3 OR name is not NULL\"\u001b[0m\u001b[1;33m\u001b[0m\u001b[1;33m\u001b[0m\u001b[0m\n\u001b[0;32m      2\u001b[0m \u001b[1;33m\u001b[0m\u001b[0m\n\u001b[1;32m----> 3\u001b[1;33m \u001b[1;32mfor\u001b[0m \u001b[0mrow\u001b[0m \u001b[1;32min\u001b[0m \u001b[0mcur\u001b[0m\u001b[1;33m.\u001b[0m\u001b[0mexecute\u001b[0m\u001b[1;33m(\u001b[0m\u001b[1;34m'SELECT * FROM users Where ID=?'\u001b[0m\u001b[1;33m,\u001b[0m \u001b[1;33m(\u001b[0m\u001b[0minjection\u001b[0m\u001b[1;33m)\u001b[0m\u001b[1;33m)\u001b[0m\u001b[1;33m:\u001b[0m\u001b[1;33m\u001b[0m\u001b[1;33m\u001b[0m\u001b[0m\n\u001b[0m\u001b[0;32m      4\u001b[0m     \u001b[0mprint\u001b[0m\u001b[1;33m(\u001b[0m\u001b[0mrow\u001b[0m\u001b[1;33m)\u001b[0m\u001b[1;33m\u001b[0m\u001b[1;33m\u001b[0m\u001b[0m\n",
      "\u001b[1;31mProgrammingError\u001b[0m: Incorrect number of bindings supplied. The current statement uses 1, and there are 21 supplied."
     ]
    }
   ],
   "source": [
    "# Using parameterized query to cause code to crash instead of allowing injection\n",
    "injection = \"3 OR name is not NULL\"\n",
    "\n",
    "for row in cur.execute('SELECT * FROM users Where ID=?', (injection)):\n",
    "    print(row)\n"
   ]
  },
  {
   "cell_type": "code",
   "execution_count": 6,
   "metadata": {},
   "outputs": [
    {
     "name": "stdout",
     "output_type": "stream",
     "text": [
      "Invalid input\n"
     ]
    }
   ],
   "source": [
    "# Using input validation to avoid program crash due to injection\n",
    "def validate_user_input(text):\n",
    "    illegal = [\";\", \"\\'\", \"\\\"\", \"\\\\\", \"*\"]\n",
    "    for char in illegal :\n",
    "        if(text.find(char) >= 0): return False\n",
    "    return True\n",
    "\n",
    "\n",
    "injection = \"Jane'; DROP TABLE IF EXISTS users; Select * from '\"\n",
    "\n",
    "if(validate_user_input(injection)):\n",
    "    for row in cur.execute(\"SELECT * FROM users Where name='\" + injection + \"'\"):\n",
    "        print(row)\n",
    "else:\n",
    "    print(\"Invalid input\")"
   ]
  },
  {
   "attachments": {},
   "cell_type": "markdown",
   "metadata": {},
   "source": [
    "<ol start=\"2\"><li>Sanitize Input: For data types like user ids, phone numbers, quantities, email addresses, and many others, input validation would not have allowed the single quote, which has already stopped the attack. However, for a field like a last name, a single quote must be allowed or else O’Malley will not work.</li></ul>"
   ]
  },
  {
   "cell_type": "code",
   "execution_count": 7,
   "metadata": {},
   "outputs": [
    {
     "name": "stdout",
     "output_type": "stream",
     "text": [
      "Invalid input\n"
     ]
    }
   ],
   "source": [
    "# Using input validation AND parameterized quer to avoid program crash due to injection (BEST)\n",
    "def validate_user_input(text):\n",
    "    illegal = [\";\", \"\\'\", \"\\\"\", \"\\\\\", \"*\"]\n",
    "    for char in illegal :\n",
    "        if(text.find(char) >= 0): return False\n",
    "    return True\n",
    "\n",
    "\n",
    "injection = \"Jane'; DROP TABLE IF EXISTS users; Select * from '\"\n",
    "\n",
    "if(validate_user_input(injection)):\n",
    "    for row in cur.execute(\"SELECT * FROM users Where name=?\", (injection)):\n",
    "        print(row)\n",
    "else:\n",
    "    print(\"Invalid input\")"
   ]
  },
  {
   "attachments": {},
   "cell_type": "markdown",
   "metadata": {},
   "source": [
    "<ol start=\"3\">\n",
    "<li>Least Possible Privileges</li>\n",
    "</ol>\n",
    "<ul>\n",
    "<li>&nbsp;&ldquo;A user (or process) should have the lowest level of privilege required to perform his assigned task&rdquo;</li>\n",
    "<li>Use GRANT &ndash; create users / grant them privileges</li>\n",
    "<li>Use REVOKE &ndash; remove privileges</li>\n",
    "<li>Available Privileges:</li>\n",
    "<ul>\n",
    "<li>ALL</li>\n",
    "<li>SELECT</li>\n",
    "<li>INSERT, DELETE, UPDATE</li>\n",
    "<li>CREATE, ALTER, DROP</li>\n",
    "<li>USAGE //no privileges</li>\n",
    "</ul>\n",
    "</ul>\n",
    "<ul>\n",
    "<li>The DBUSER account used by your Python pages should probably have SELECT, INSERT and UPDATE Privileges only.</li>\n",
    "<li>To reset privileges in a MySQL database:<br />\n",
    "<pre>REVOKE ALL ON dbtest.* FROM dbuser\n",
    "GRANT SELECT, INSERT, UPDATE ON dbtest.* TO dbuser IDENTIFIED BY 'xxx'</pre>\n",
    "</li>\n",
    "</ul>\n",
    "<ol start=\"4\">\n",
    "<li>Make final field in your Query as short as possible to reduce the chances SQL injected code will be possible.</li>\n",
    "</ol>\n",
    "<ul>\n",
    "<li>For example: If your last field in your query is the State and it is limited to 2 characters&nbsp; then the likelihood of successful SQL Injection&nbsp; goes down.</li>\n",
    "<li>The lesson here is: Just because you validated the data does not mean that you can be sloppy elsewhere.</li>\n",
    "</ul>\n",
    "<p>&nbsp;</p><hr>\n",
    "<h3>References:</h3>\n",
    "<ul>\n",
    "<li><a>http://www.newthinktank.com/2011/01/php-security-pt-2/</a></li>\n",
    "</ul>"
   ]
  }
 ],
 "metadata": {
  "kernelspec": {
   "display_name": "Python 3",
   "language": "python",
   "name": "python3"
  },
  "language_info": {
   "codemirror_mode": {
    "name": "ipython",
    "version": 3
   },
   "file_extension": ".py",
   "mimetype": "text/x-python",
   "name": "python",
   "nbconvert_exporter": "python",
   "pygments_lexer": "ipython3",
   "version": "3.7.3"
  }
 },
 "nbformat": 4,
 "nbformat_minor": 2
}
