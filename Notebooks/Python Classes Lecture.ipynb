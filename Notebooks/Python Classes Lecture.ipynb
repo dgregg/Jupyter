{
 "cells": [
  {
   "attachments": {},
   "cell_type": "markdown",
   "metadata": {},
   "source": [
    "<h1>Python Classes</h1><p><img src=\"images/1line.png\" width=100% /></p>\n",
    "\n",
    "<ul>\n",
    "<li>Objects in Python are created using a class.</li>\n",
    "<li>In addition to the predefined classes like dict and datetime you can ceate your own classes.</li>\n",
    "<li>The syntax to create a class is pretty straightforward: declare a class using the class keyword, followed by the name of the class and a colon .</li>\n",
    "<li><a class=\"instructure_file_link\" title=\"Author Class.ipynb\" href=\"https://ucdenver.instructure.com/courses/518274/files/19359149/download?wrap=1\" data-api-endpoint=\"https://ucdenver.instructure.com/api/v1/courses/518274/files/19359149\" data-api-returntype=\"File\">Author Class.ipynb</a></li>\n",
    "</ul>\n",
    "<pre>class Author :<br />    # Classes require at least on line of code<br />    # pass is a null operation - it does nothing - creating an empty class<br />    pass </pre>\n",
    "<ul>\n",
    "<li>After creating the class, objects can be instantiated and stored in a variable using the class name followed by parentheses - e.g.&nbsp; Author():</li>\n",
    "</ul>\n",
    "<pre><code>obj = Author()<br />print(obj)<br /></code></pre>\n",
    "<p><strong>Output</strong></p>\n",
    "<pre style=\"overflow: auto; font-family: monospace; font-size: 14px; display: block; padding: 1px 0px; margin: 0px; line-height: inherit; color: #000000; background-color: #ffffff; border: 0px; white-space: pre-wrap; vertical-align: baseline; font-style: normal; text-align: left; text-indent: 0px;\">&lt;__main__.Author object at 0x000001AB30EB3D30&gt;</pre>\n",
    "<hr />\n",
    "<h2>Defining Class Properties</h2>\n",
    "<ul>\n",
    "<li>To add data to a class,&nbsp;<strong>properties</strong>, or class-specific <strong>attributes</strong>, are used. These work exactly like regular variables, except they're bound to the object and therefore can only be accessed using the object.\n",
    "<ul>\n",
    "<li>The terms attributes and properties are usually synonymous: <i>\"In computing, an attribute is a specification that defines a property of an object, element, or file.\"</i></li>\n",
    "</ul>\n",
    "</li>\n",
    "<li>To add a property to the Author class, add the following code to your script:</li>\n",
    "</ul>\n",
    "<pre>class Author :<br />   email = \"I'm an email address!\"<br />   name = \"I'm a name!\"<br /><br />author = Author()<br />print(author.email)<br /><br />author.email = \"jane.doe@ucdenver.edu\"<br />print(author.email)</pre>\n",
    "<ul>\n",
    "<li>The property is named using standard variable syntax, and a value is assigned .</li>\n",
    "<li>To read this property and output it to the browser, use the object name dot (.) the property name (e.g. obj.email)</li>\n",
    "<li>You can reset the value stored in the property using the object name dot (.) the property name as well</li>\n",
    "</ul>\n",
    "<p><strong>Output</strong></p>\n",
    "<pre style=\"overflow: auto; font-family: monospace; font-size: 14px; display: block; padding: 1px 0px; margin: 0px; line-height: inherit; color: #000000; background-color: #ffffff; border: 0px; white-space: pre-wrap; vertical-align: baseline; font-style: normal; text-align: left; text-indent: 0px;\">I'm an email address!<br />jane.doe@ucdenver.edu</pre>\n",
    "<ul>\n",
    "<li>The examples above are classes and objects in their simplest form, and are not really useful in real life applications.</li>\n",
    "</ul>\n",
    "<h3>The __init__() Function</h3>\n",
    "<ul>\n",
    "<li>To understand the meaning of classes we have to understand the built-in <code>__init__()</code> function.</li>\n",
    "<li>All classes have a function called <code>__init__()</code>, which is always executed when the class is being initiated.</li>\n",
    "<li>Use the <code>__init__()</code> function to assign values to object properties, or other operations that are necessary to do when the object is being created:</li>\n",
    "</ul>\n",
    "<pre><span class=\"pythoncolor\" style=\"color: black;\"><span class=\"pythonkeywordcolor\" style=\"color: mediumblue;\">class</span> Author:<br />&nbsp; <span class=\"pythonkeywordcolor\" style=\"color: mediumblue;\">def</span> __init__(self, name, email):<br />&nbsp;&nbsp;&nbsp;   self.name = name<br /> &nbsp;&nbsp;   self.email = email<br /><br />a1 = Author(<span class=\"pythonstringcolor\" style=\"color: #800000;\">\"John\"</span>,&nbsp;<span class=\"pythonnumbercolor\" style=\"color: #800000;\">\"john.doe@company.com\"</span>)<br />  <br /><span class=\"pythonkeywordcolor\" style=\"color: mediumblue;\">print</span>(a1.name)<br /><span class=\"pythonkeywordcolor\" style=\"color: mediumblue;\">print</span>(a1.email) </span></pre>\n",
    "<p>Output</p>\n",
    "<pre style=\"overflow: auto; font-family: monospace; font-size: 14px; display: block; padding: 1px 0px; margin: 0px; line-height: inherit; color: #000000; background-color: #ffffff; border: 0px; white-space: pre-wrap; vertical-align: baseline; font-style: normal; text-align: left; text-indent: 0px;\">John\n",
    "john.doe@company.com</pre>\n",
    "\n",
    "\n",
    "\n"
   ]
  },
  {
   "attachments": {},
   "cell_type": "markdown",
   "metadata": {},
   "source": [
    "<h3><img style=\"display: block; margin-left: auto; margin-right: auto;\" src=\"images/Author_Self.PNG\" alt=\"Author self not passed\" width=\"622\" height=\"499\"  /></h3>\n",
    "<h3>self</h3>\n",
    "<ul>\n",
    "<li>The first argument of every method is a reference to the current instance of the class</li>\n",
    "<li>By convention, we name this argument <code>self</code></li>\n",
    "<li>In __init__, <code>self</code> refers to the object&nbsp; currently being created; so, in other class methods, it refers to the instance whose method was called &nbsp;</li>\n",
    "<li>Similar to the keyword<em> this</em> in Java or C++.</li>\n",
    "<li>Although you must specify self explicitly when defining the method, you <strong>don&rsquo;t</strong> include it when calling&nbsp; the method.&nbsp;</li>\n",
    "<li>Python passes it for you automatically</li>\n",
    "</ul>"
   ]
  },
  {
   "attachments": {},
   "cell_type": "markdown",
   "metadata": {},
   "source": [
    "<hr><h3>References</h3>\n",
    "<ul>\n",
    "<li>This lecture contains content from &ldquo;Python for Everybody&rdquo; by Charles R Severance is licensed under <a href=\"https://runestone.academy/ns/books/published/universityofcoloradodenver_py4e-int_summer23/ack/creativecommons.org/licenses/by-nc-sa/3.0/\">CC BY-ND 3.0</a>.</li>"
   ]
  }
 ],
 "metadata": {
  "kernelspec": {
   "display_name": "Python 3",
   "language": "python",
   "name": "python3"
  },
  "language_info": {
   "codemirror_mode": {
    "name": "ipython",
    "version": 3
   },
   "file_extension": ".py",
   "mimetype": "text/x-python",
   "name": "python",
   "nbconvert_exporter": "python",
   "pygments_lexer": "ipython3",
   "version": "3.7.3"
  }
 },
 "nbformat": 4,
 "nbformat_minor": 2
}
