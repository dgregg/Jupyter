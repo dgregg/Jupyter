{
 "cells": [
  {
   "attachments": {},
   "cell_type": "markdown",
   "metadata": {},
   "source": [
    "<h1>Extending Classes</h1>\n",
    "<p><img src=\"images/1line.png\" width=\"100%\" data-api-endpoint=\"https://ucdenver.instructure.com/api/v1/courses/529133/files/19998215\"  /></p>\n",
    "<ul>\n",
    "<li>We can extend all of Python's classes.</li>\n",
    "<li>This allows us to add or modify features of the data types that come with Python.</li>\n",
    "<li>This may save us from having to build a program from scratch.</li>\n",
    "<li>We'll look at an example of creating a specialized list.</li>\n",
    "</ul>\n",
    "<h3>Extending List</h3>\n",
    "<ul>\n",
    "<li>Assume we need a list for an application and we know we will need to remove the maximum and minimum elements from the list several times through out the program.</li>\n",
    "<li>We might want to create our own class, <strong>MyList</strong>, that extends the traditional list class BUT adds two methods: <strong>remove_min</strong> and <strong>remove_max</strong>.</li>\n",
    "</ul>\n"
   ]
  },
  {
   "cell_type": "code",
   "execution_count": 2,
   "metadata": {},
   "outputs": [
    {
     "name": "stdout",
     "output_type": "stream",
     "text": [
      "['__add__', '__class__', '__class_getitem__', '__contains__', '__delattr__', '__delitem__', '__dict__', '__dir__', '__doc__', '__eq__', '__format__', '__ge__', '__getattribute__', '__getitem__', '__getstate__', '__gt__', '__hash__', '__iadd__', '__imul__', '__init__', '__init_subclass__', '__iter__', '__le__', '__len__', '__lt__', '__module__', '__mul__', '__ne__', '__new__', '__reduce__', '__reduce_ex__', '__repr__', '__reversed__', '__rmul__', '__setattr__', '__setitem__', '__sizeof__', '__str__', '__subclasshook__', '__weakref__', 'append', 'clear', 'copy', 'count', 'extend', 'index', 'insert', 'pop', 'remove', 'remove_max', 'remove_min', 'reverse', 'sort']\n"
     ]
    }
   ],
   "source": [
    "class MyList(list) :\n",
    "    def remove_min(self):\n",
    "        self.remove(min(self))\n",
    "    def remove_max(self):\n",
    "        self.remove(max(self))\n",
    "x = [10, 3, 5, 1, 2, 7, 6, 4, 8]\n",
    "y = MyList(x)\n",
    "\n",
    "print(dir(y))"
   ]
  },
  {
   "attachments": {},
   "cell_type": "markdown",
   "metadata": {},
   "source": [
    "<ul>\n",
    "<li>The objec<strong>t</strong> y has all of the methods of a traditional List object PLUS the two new methods <strong>remove_min</strong> and <strong>remove_max</strong>.that we added to the MyList class.</li>\n",
    "<li>Notice,we did not have to create an __init__ method for the MyList class.&nbsp; Since it <strong>is a</strong> list, it inherits the __init__ method from the list class.</li>\n",
    "</ul>\n",
    "<p>Using MyList</p>\n",
    "<ul>\n",
    "<li>You can call the MyList methods just like any other methods in the list class:</li>\n",
    "</ul>\n",
    "\n"
   ]
  },
  {
   "cell_type": "code",
   "execution_count": 3,
   "metadata": {},
   "outputs": [
    {
     "name": "stdout",
     "output_type": "stream",
     "text": [
      "[10, 3, 5, 2, 7, 6, 4, 8]\n"
     ]
    }
   ],
   "source": [
    "y.remove_min()\n",
    "print(y)"
   ]
  },
  {
   "cell_type": "code",
   "execution_count": 4,
   "metadata": {},
   "outputs": [
    {
     "name": "stdout",
     "output_type": "stream",
     "text": [
      "[3, 5, 2, 7, 6, 4, 8]\n"
     ]
    }
   ],
   "source": [
    "y.remove_max()\n",
    "print(y)"
   ]
  },
  {
   "attachments": {},
   "cell_type": "markdown",
   "metadata": {},
   "source": [
    "<p>&nbsp;</p>\n",
    "<ul>\n",
    "<li>The process of extending classes is known as <strong>INHERITANCE</strong>.</li>\n",
    "</ul>"
   ]
  }
 ],
 "metadata": {
  "kernelspec": {
   "display_name": "Python 3",
   "language": "python",
   "name": "python3"
  },
  "language_info": {
   "codemirror_mode": {
    "name": "ipython",
    "version": 3
   },
   "file_extension": ".py",
   "mimetype": "text/x-python",
   "name": "python",
   "nbconvert_exporter": "python",
   "pygments_lexer": "ipython3",
   "version": "3.11.4"
  },
  "orig_nbformat": 4
 },
 "nbformat": 4,
 "nbformat_minor": 2
}
