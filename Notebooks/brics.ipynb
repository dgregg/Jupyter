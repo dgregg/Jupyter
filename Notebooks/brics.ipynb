{
 "cells": [
  {
   "cell_type": "code",
   "execution_count": 1,
   "metadata": {},
   "outputs": [
    {
     "name": "stdout",
     "output_type": "stream",
     "text": [
      "  Unnamed: 0       country  population      area   capital \n",
      "0         BR        Brazil         200   8515767   Brasilia\n",
      "1         RU        Russia         144  17098242    Moscow \n",
      "2         IN         India        1252   3287590  New Delhi\n",
      "3         CH         China        1357   9596961   Beijing \n",
      "4         SA  South Africa          55   1221037    Pretori\n"
     ]
    }
   ],
   "source": [
    "import pandas as pd\n",
    "brics = pd.read_csv(\"data/brics.txt\")\n",
    "print(brics)"
   ]
  },
  {
   "cell_type": "code",
   "execution_count": 2,
   "metadata": {},
   "outputs": [
    {
     "name": "stdout",
     "output_type": "stream",
     "text": [
      "         country  population      area   capital \n",
      "BR        Brazil         200   8515767   Brasilia\n",
      "RU        Russia         144  17098242    Moscow \n",
      "IN         India        1252   3287590  New Delhi\n",
      "CH         China        1357   9596961   Beijing \n",
      "SA  South Africa          55   1221037    Pretori\n"
     ]
    }
   ],
   "source": [
    "brics = pd.read_csv(\"brics.txt\", index_col=0)\n",
    "print(brics)"
   ]
  },
  {
   "cell_type": "code",
   "execution_count": 3,
   "metadata": {},
   "outputs": [
    {
     "data": {
      "text/plain": [
       "Index(['BR', 'RU', 'IN', 'CH', 'SA'], dtype='object')"
      ]
     },
     "execution_count": 3,
     "metadata": {},
     "output_type": "execute_result"
    }
   ],
   "source": [
    "brics.index"
   ]
  },
  {
   "cell_type": "code",
   "execution_count": 4,
   "metadata": {},
   "outputs": [
    {
     "name": "stdout",
     "output_type": "stream",
     "text": [
      "         country  population      area   capital   on_earth\n",
      "BR        Brazil         200   8515767   Brasilia      True\n",
      "RU        Russia         144  17098242    Moscow       True\n",
      "IN         India        1252   3287590  New Delhi      True\n",
      "CH         China        1357   9596961   Beijing       True\n",
      "SA  South Africa          55   1221037    Pretori      True\n"
     ]
    }
   ],
   "source": [
    "brics[\"on_earth\"] = [True, True, True, True, True]\n",
    "print(brics)"
   ]
  },
  {
   "cell_type": "code",
   "execution_count": 6,
   "metadata": {},
   "outputs": [
    {
     "name": "stdout",
     "output_type": "stream",
     "text": [
      "         country  population      area   capital   on_earth     density\n",
      "BR        Brazil         200   8515767   Brasilia      True   23.485847\n",
      "RU        Russia         144  17098242    Moscow       True    8.421918\n",
      "IN         India        1252   3287590  New Delhi      True  380.826076\n",
      "CH         China        1357   9596961   Beijing       True  141.398928\n",
      "SA  South Africa          55   1221037    Pretori      True   45.043680\n"
     ]
    }
   ],
   "source": [
    "brics[\"density\"] = brics[\"population\"] / brics[\"area\"] * 1000000\n",
    "print(brics)"
   ]
  },
  {
   "cell_type": "code",
   "execution_count": null,
   "metadata": {},
   "outputs": [],
   "source": []
  }
 ],
 "metadata": {
  "kernelspec": {
   "display_name": "Python 3",
   "language": "python",
   "name": "python3"
  },
  "language_info": {
   "codemirror_mode": {
    "name": "ipython",
    "version": 3
   },
   "file_extension": ".py",
   "mimetype": "text/x-python",
   "name": "python",
   "nbconvert_exporter": "python",
   "pygments_lexer": "ipython3",
   "version": "3.9.12"
  }
 },
 "nbformat": 4,
 "nbformat_minor": 2
}
