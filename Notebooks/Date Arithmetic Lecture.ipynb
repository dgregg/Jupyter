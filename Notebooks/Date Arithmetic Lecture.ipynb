{
 "cells": [
  {
   "attachments": {},
   "cell_type": "markdown",
   "metadata": {},
   "source": [
    "<h1>Date Arithmetic</h1>\n",
    "<img src=\"images/1line.png\" width=\"100%\" >\n",
    "<div id=\"timedeltas\" class=\"section\">\n",
    "    <h3>timedeltas</h3>\n",
    "    <ul>\n",
    "        <li>Future and past dates can be calculated using basic arithmetic on two<span>&nbsp;</span><code class=\"docutils literal notranslate\"><span class=\"pre\">datetime</span></code><span>&nbsp;</span>objects, or by combining a<span>&nbsp;</span><code class=\"docutils literal notranslate\"><span class=\"pre\">datetime</span></code><span>&nbsp;</span>with a<span>&nbsp;</span><code class=\"docutils literal notranslate\"><span class=\"pre\">timedelta</span></code>.</li>\n",
    "        <li>Subtracting dates produces a<span>&nbsp;</span><code class=\"docutils literal notranslate\"><span class=\"pre\">timedelta</span></code>, and a<span>&nbsp;</span><code class=\"docutils literal notranslate\"><span class=\"pre\">timedelta</span></code><span>&nbsp;</span>can be added or subtracted from a date to produce another date.</li>\n",
    "        <li>The internal values for a<span>&nbsp;</span><code class=\"docutils literal notranslate\"><span class=\"pre\">timedelta</span></code><span>&nbsp;</span>are stored in days, seconds, and microseconds.</li>\n",
    "    </ul>"
   ]
  },
  {
   "cell_type": "code",
   "execution_count": 1,
   "metadata": {},
   "outputs": [
    {
     "name": "stdout",
     "output_type": "stream",
     "text": [
      "microseconds: 0:00:00.000001\n",
      "milliseconds: 0:00:00.001000\n",
      "seconds     : 0:00:01\n",
      "minutes     : 0:01:00\n",
      "hours       : 1:00:00\n",
      "days        : 1 day, 0:00:00\n",
      "weeks       : 7 days, 0:00:00\n"
     ]
    }
   ],
   "source": [
    "import datetime\n",
    "\n",
    "print('microseconds:', datetime.timedelta(microseconds=1))\n",
    "print('milliseconds:', datetime.timedelta(milliseconds=1))\n",
    "print('seconds     :', datetime.timedelta(seconds=1))\n",
    "print('minutes     :', datetime.timedelta(minutes=1))\n",
    "print('hours       :', datetime.timedelta(hours=1))\n",
    "print('days        :', datetime.timedelta(days=1))\n",
    "print('weeks       :', datetime.timedelta(weeks=1))"
   ]
  },
  {
   "attachments": {},
   "cell_type": "markdown",
   "metadata": {},
   "source": [
    "<ul>\n",
    "        <li>The full duration of a<span>&nbsp;</span><code class=\"docutils literal notranslate\"><span class=\"pre\">timedelta</span></code><span>&nbsp;</span>can be retrieved as a number of seconds using<span>&nbsp;</span><code class=\"docutils literal notranslate\"><span class=\"pre\">total_seconds()</span></code>.</li> <li>The return value is a floating point number, to accommodate sub-second durations.</li>\n",
    "    </ul>"
   ]
  },
  {
   "cell_type": "code",
   "execution_count": 2,
   "metadata": {},
   "outputs": [
    {
     "name": "stdout",
     "output_type": "stream",
     "text": [
      "0:00:00.000001  =    1e-06 seconds\n",
      "0:00:00.001000  =    0.001 seconds\n",
      "0:00:01         =      1.0 seconds\n",
      "0:01:00         =     60.0 seconds\n",
      "1:00:00         =   3600.0 seconds\n",
      "1 day, 0:00:00  =  86400.0 seconds\n",
      "7 days, 0:00:00 = 604800.0 seconds\n"
     ]
    }
   ],
   "source": [
    "import datetime\n",
    "\n",
    "for delta in [datetime.timedelta(microseconds=1),\n",
    "              datetime.timedelta(milliseconds=1),\n",
    "              datetime.timedelta(seconds=1),\n",
    "              datetime.timedelta(minutes=1),\n",
    "              datetime.timedelta(hours=1),\n",
    "              datetime.timedelta(days=1),\n",
    "              datetime.timedelta(weeks=1),\n",
    "              ]:\n",
    "    print('{:15} = {:8} seconds'.format(\n",
    "        str(delta), delta.total_seconds())\n",
    "    )"
   ]
  },
  {
   "attachments": {},
   "cell_type": "markdown",
   "metadata": {},
   "source": [
    "<h3>Date Arithmetic</h3>\n",
    "    <ul>\n",
    "        <li>Date math uses the standard arithmetic operators.</li>\n",
    "        <li>This example with date objects illustrates using timedelta objects to compute new dates, and subtracting date instances to produce timedeltas (including a negative delta value).</li>\n",
    "    </ul>"
   ]
  },
  {
   "cell_type": "code",
   "execution_count": 3,
   "metadata": {},
   "outputs": [
    {
     "name": "stdout",
     "output_type": "stream",
     "text": [
      "Today    : 2023-07-05 11:19:38.177294\n",
      "One day  : 1 day, 0:00:00\n",
      "Yesterday: 2023-07-04 11:19:38.177294\n",
      "Tomorrow : 2023-07-06 11:19:38.177294\n",
      "\n",
      "tomorrow - yesterday: 2 days, 0:00:00\n",
      "yesterday - tomorrow: -2 days, 0:00:00\n"
     ]
    }
   ],
   "source": [
    "import datetime\n",
    "\n",
    "today = datetime.datetime.today()\n",
    "print('Today    :', today)\n",
    "\n",
    "one_day = datetime.timedelta(days=1)\n",
    "print('One day  :', one_day)\n",
    "\n",
    "yesterday = today - one_day\n",
    "print('Yesterday:', yesterday)\n",
    "\n",
    "tomorrow = today + one_day\n",
    "print('Tomorrow :', tomorrow)\n",
    "\n",
    "print()\n",
    "print('tomorrow - yesterday:', tomorrow - yesterday)\n",
    "print('yesterday - tomorrow:', yesterday - tomorrow)"
   ]
  },
  {
   "attachments": {},
   "cell_type": "markdown",
   "metadata": {},
   "source": [
    "<h3>Comparing Values</h3>\n",
    "<ul>\n",
    "    <li>Both date and time values can be compared using the standard comparison operators to determine which is earlier or later.</li>\n",
    "    <li>All comparison operators are supported.</li>\n",
    "</ul>"
   ]
  },
  {
   "cell_type": "code",
   "execution_count": 4,
   "metadata": {},
   "outputs": [
    {
     "name": "stdout",
     "output_type": "stream",
     "text": [
      "Times:\n",
      "  t1: 12:55:00\n",
      "  t2: 13:05:00\n",
      "  t1 < t2: True\n",
      "\n",
      "Dates:\n",
      "  d1: 2023-07-05\n",
      "  d2: 2023-07-06\n",
      "  d1 > d2: False\n"
     ]
    }
   ],
   "source": [
    "import datetime\n",
    "\n",
    "print('Times:')\n",
    "t1 = datetime.time(12, 55, 0)\n",
    "print('  t1:', t1)\n",
    "t2 = datetime.time(13, 5, 0)\n",
    "print('  t2:', t2)\n",
    "print('  t1 < t2:', t1 < t2)\n",
    "\n",
    "print()\n",
    "print('Dates:')\n",
    "d1 = datetime.date.today()\n",
    "print('  d1:', d1)\n",
    "d2 = datetime.date.today() + datetime.timedelta(days=1)\n",
    "print('  d2:', d2)\n",
    "print('  d1 > d2:', d1 > d2)"
   ]
  },
  {
   "attachments": {},
   "cell_type": "markdown",
   "metadata": {},
   "source": [
    "<h3>Time Zones</h3>\n",
    "<ul>\n",
    "    <li>Within<span>&nbsp;</span><code class=\"docutils literal notranslate\"><span class=\"pre\">datetime</span></code>, time zones are represented by subclasses of<span>&nbsp;</span><code class=\"docutils literal notranslate\"><span class=\"pre\">tzinfo</span></code>. Since<span>&nbsp;</span><code class=\"docutils literal notranslate\"><span class=\"pre\">tzinfo</span></code><span>&nbsp;</span>is an abstract base class, applications need to define a subclass and provide appropriate implementations for a few methods to make it useful.</li>\n",
    "    <li><code class=\"docutils literal notranslate\"><span class=\"pre\">datetime</span></code><span>&nbsp;</span>does include a somewhat naive implementation in the class<span>&nbsp;</span><code class=\"docutils literal notranslate\"><span class=\"pre\">timezone</span></code><span>&nbsp;</span>that uses a fixed offset from UTC, and does not support different offset values on different days of the year, such as where daylight savings time applies, or where the offset from UTC has changed over time.</li>\n",
    "</ul>"
   ]
  },
  {
   "cell_type": "code",
   "execution_count": 5,
   "metadata": {},
   "outputs": [
    {
     "name": "stdout",
     "output_type": "stream",
     "text": [
      "UTC-06:00 : 2023-07-05 11:19:38.297224-06:00\n",
      "UTC : 2023-07-05 17:19:38.297224+00:00\n",
      "UTC+06:00 : 2023-07-05 23:19:38.297224+06:00\n",
      "Mountain Daylight Time       : 2023-07-05 11:19:38.297224-06:00\n"
     ]
    }
   ],
   "source": [
    "import datetime\n",
    "\n",
    "min6 = datetime.timezone(datetime.timedelta(hours=-6))\n",
    "plus6 = datetime.timezone(datetime.timedelta(hours=6))\n",
    "d = datetime.datetime.now(min6)\n",
    "\n",
    "print(min6, ':', d)\n",
    "print(datetime.timezone.utc, ':',\n",
    "      d.astimezone(datetime.timezone.utc))\n",
    "print(plus6, ':', d.astimezone(plus6))\n",
    "\n",
    "# convert to the current system timezone\n",
    "d_system = d.astimezone()\n",
    "print(d_system.tzinfo, '      :', d_system)"
   ]
  },
  {
   "attachments": {},
   "cell_type": "markdown",
   "metadata": {},
   "source": [
    "<ul>\n",
    "    <li>To convert a datetime value from one time zone to another, use<span>&nbsp;</span><code class=\"docutils literal notranslate\"><span class=\"pre\">astimezone()</span></code>.</li>\n",
    "    <li>In the example above, two separate time zones 6 hours on either side of UTC are shown, and the<span>&nbsp;</span><code class=\"docutils literal notranslate\"><span class=\"pre\">utc</span></code>instance from<span>&nbsp;</span><code class=\"docutils literal notranslate\"><span class=\"pre\">datetime.timezone</span></code><span>&nbsp;</span>is also used for reference.</li>\n",
    "    <li>The final output line shows the value in the system timezone, acquired by calling<span>&nbsp;</span><code class=\"docutils literal notranslate\"><span class=\"pre\">astimezone()</span></code><span>&nbsp;</span>with no argument.</li>\n",
    "</ul>"
   ]
  },
  {
   "cell_type": "markdown",
   "metadata": {},
   "source": [
    "<hr><h3>References</h3>\n",
    "<p>PyMOTW-3, datetime - Date and Time Value Manipulation, 2018-12-09<a href=\"https://pymotw.com/3/datetime/\" target=\"_blank\" rel=\"noopener\"> https://pymotw.com/3/datetime/</a>&nbsp;</p>"
   ]
  }
 ],
 "metadata": {
  "kernelspec": {
   "display_name": "Python 3",
   "language": "python",
   "name": "python3"
  },
  "language_info": {
   "codemirror_mode": {
    "name": "ipython",
    "version": 3
   },
   "file_extension": ".py",
   "mimetype": "text/x-python",
   "name": "python",
   "nbconvert_exporter": "python",
   "pygments_lexer": "ipython3",
   "version": "3.8.8"
  }
 },
 "nbformat": 4,
 "nbformat_minor": 2
}
