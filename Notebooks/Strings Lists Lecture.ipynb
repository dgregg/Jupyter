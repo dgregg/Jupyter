{
 "cells": [
  {
   "attachments": {},
   "cell_type": "markdown",
   "metadata": {},
   "source": [
    "<h1>Strings and Lists</h1>\n",
    "<p><img src=\"images/1line.png\" width=\"100%\"  /></p>\n",
    "<ul>\n",
    "<li>When parsing a file or other String data we frequently break large strings into discrete pieces</li>\n",
    "<li>Split breaks a string into parts and produces a list of strings.&nbsp; We think of these as words.&nbsp; We can access a particular word or loop through all the words.</li>\n",
    "</ul>"
   ]
  },
  {
   "cell_type": "code",
   "execution_count": 1,
   "metadata": {},
   "outputs": [
    {
     "name": "stdout",
     "output_type": "stream",
     "text": [
      "['With', 'three', 'words']\n",
      "3\n",
      "With\n",
      "['With', 'three', 'words']\n",
      "With\n",
      "three\n",
      "words\n"
     ]
    }
   ],
   "source": [
    "abc = 'With three words'\n",
    "stuff = abc.split() #['With', 'three', 'words']\n",
    "print(stuff)\n",
    "print(len(stuff))\n",
    "print(stuff[0])\n",
    "print(stuff)\n",
    "for w in stuff :\n",
    "   print(w)"
   ]
  },
  {
   "attachments": {},
   "cell_type": "markdown",
   "metadata": {},
   "source": [
    "<ul>\n",
    "<li>When you do not specify a delimiter, multiple spaces are treated like one delimiter</li>\n",
    "</ul>"
   ]
  },
  {
   "cell_type": "code",
   "execution_count": 2,
   "metadata": {},
   "outputs": [
    {
     "name": "stdout",
     "output_type": "stream",
     "text": [
      "['A', 'lot', 'of', 'spaces']\n"
     ]
    }
   ],
   "source": [
    "line = 'A lot of          spaces'\n",
    "etc = line.split()\n",
    "print(etc)"
   ]
  },
  {
   "attachments": {},
   "cell_type": "markdown",
   "metadata": {},
   "source": [
    "<ul>\n",
    "<li>You can specify what delimiter character to use in the splitting</li>\n",
    "</ul>"
   ]
  },
  {
   "cell_type": "code",
   "execution_count": 3,
   "metadata": {},
   "outputs": [
    {
     "name": "stdout",
     "output_type": "stream",
     "text": [
      "['first;second;third']\n",
      "1\n",
      "['first', 'second', 'third']\n",
      "3\n"
     ]
    }
   ],
   "source": [
    "line = 'first;second;third'\n",
    "word = line.split()\n",
    "print(word)\n",
    "print(len(word))\n",
    "words = line.split(';')\n",
    "print(words)\n",
    "print(len(words))"
   ]
  },
  {
   "attachments": {},
   "cell_type": "markdown",
   "metadata": {},
   "source": [
    "<hr />\n",
    "<h4>Multiple Splits</h4>\n",
    "<ul>\n",
    "<li>Sometimes we split a line one way, and then grab one of the pieces of the line and split that piece again</li>\n",
    "</ul>\n",
    "\n"
   ]
  },
  {
   "cell_type": "code",
   "execution_count": 4,
   "metadata": {},
   "outputs": [
    {
     "name": "stdout",
     "output_type": "stream",
     "text": [
      "['From', 'stephen.marquard@uct.ac.za', 'Sat', 'Jan', '5', '09:14:16', '2008']\n",
      "stephen.marquard@uct.ac.za\n",
      "['stephen.marquard', 'uct.ac.za']\n"
     ]
    }
   ],
   "source": [
    "line = 'From stephen.marquard@uct.ac.za Sat Jan 5 09:14:16 2008'\n",
    "words = line.split()\n",
    "print(words)    #['From', 'stephen.marquard@uct.ac.za', 'Sat', 'Jan', '5', '09:14:16', '2008']\n",
    "print(words[1]) #stephen.marquard@uct.ac.za\n",
    "email = words[1]\n",
    "pieces = email.split('@')\n",
    "print(pieces) #['stephen.marquard', 'uct.ac.za']"
   ]
  },
  {
   "attachments": {},
   "cell_type": "markdown",
   "metadata": {},
   "source": [
    "<hr><h3>References</h3>\n",
    "<ul>\n",
    "<li>This Juptyer Notebook contains content from &ldquo;Python for Everybody&rdquo; by Charles R Severance is licensed under <a href=\"https://runestone.academy/ns/books/published/universityofcoloradodenver_py4e-int_summer23/ack/creativecommons.org/licenses/by-nc-sa/3.0/\">CC BY-ND 3.0</a>.</li>\n"
   ]
  }
 ],
 "metadata": {
  "kernelspec": {
   "display_name": "base",
   "language": "python",
   "name": "python3"
  },
  "language_info": {
   "codemirror_mode": {
    "name": "ipython",
    "version": 3
   },
   "file_extension": ".py",
   "mimetype": "text/x-python",
   "name": "python",
   "nbconvert_exporter": "python",
   "pygments_lexer": "ipython3",
   "version": "3.11.4"
  },
  "orig_nbformat": 4
 },
 "nbformat": 4,
 "nbformat_minor": 2
}
