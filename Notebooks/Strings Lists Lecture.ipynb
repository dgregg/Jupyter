{
 "cells": [
  {
   "attachments": {},
   "cell_type": "markdown",
   "metadata": {},
   "source": [
    "<p><img src=\"images/1line.png\" width=\"100%\"  /></p>\n",
    "<ul>\n",
    "<li>When parsing a file or other String data we frequently break large strings into discrete pieces</li>\n",
    "<li>Split breaks a string into parts and produces a list of strings.&nbsp; We think of these as words.&nbsp; We can access a particular word or loop through all the words.</li>\n",
    "</ul>\n",
    "<pre>abc = 'With three words'<br />stuff = abc.split() #['With', 'three', 'words']<br />print(stuff)<br />print(len(stuff))<br />print(stuff[0])<br />print(stuff)<br />for w in stuff :<br />   print(w)</pre>\n",
    "<p>Output</p>\n",
    "<pre><span style=\"color: #0000ff;\">['With', 'three', 'words']</span><br /><span style=\"color: #0000ff;\">3</span><br /><span style=\"color: #0000ff;\">With</span><br /><span style=\"color: #0000ff;\">['With', 'three', 'words']</span><br /><span style=\"color: #0000ff;\">With</span><br /><span style=\"color: #0000ff;\">three</span><br /><span style=\"color: #0000ff;\">words</span></pre>\n",
    "<ul>\n",
    "<li>When you do not specify a delimiter, multiple spaces are treated like one delimiter</li>\n",
    "</ul>\n",
    "<pre>line = 'A lot of &nbsp; &nbsp; &nbsp; &nbsp; &nbsp;spaces'<br />etc = line.split()<br />print(etc)</pre>\n",
    "<p>Output:</p>\n",
    "<pre><span style=\"color: #0000ff;\">['A', 'lot', 'of', 'spaces']</span></pre>\n",
    "<ul>\n",
    "<li>You can specify what delimiter character to use in the splitting</li>\n",
    "</ul>\n",
    "<pre>line = 'first;second;third'<br />word = line.split()<br />print(word)<br />print(len(word))<br />words = line.split(';')<br />print(words)<br />print(len(words))</pre>\n",
    "<p>Output:</p>\n",
    "<pre><span style=\"color: #0000ff;\">['first;second;third']</span><br /><span style=\"color: #0000ff;\">1</span><br /><span style=\"color: #0000ff;\">['first', 'second', 'third']</span><br /><span style=\"color: #0000ff;\">3</span> </pre>\n",
    "<hr />\n",
    "<h4>Multiple Splits</h4>\n",
    "<ul>\n",
    "<li>Sometimes we split a line one way, and then grab one of the pieces of the line and split that piece again</li>\n",
    "</ul>\n",
    "<pre>line = 'From stephen.marquard@uct.ac.za Sat Jan 5 09:14:16 2008'<br />words = line.split()<br />print(words)    <span style=\"color: #999999;\"><em>#['From', 'stephen.marquard@uct.ac.za', 'Sat', 'Jan', '5', '09:14:16', '2008']</em></span><br />print(words[1]) <em><span style=\"color: #999999;\">#stephen.marquard@uct.ac.za</span></em><br />email = words[1]<br />pieces = email.split('@')<br />print(pieces) <span style=\"color: #999999;\"><em>#['stephen.marquard', 'uct.ac.za']</em></span></pre>\n",
    "<p>Output:</p>\n",
    "<pre>['From', 'stephen.marquard@uct.ac.za', 'Sat', 'Jan', '5', '09:14:16', '2008']\n",
    "stephen.marquard@uct.ac.za\n",
    "['stephen.marquard', 'uct.ac.za']</pre>\n"
   ]
  },
  {
   "cell_type": "code",
   "execution_count": null,
   "metadata": {},
   "outputs": [],
   "source": []
  },
  {
   "attachments": {},
   "cell_type": "markdown",
   "metadata": {},
   "source": [
    "<hr><h3>References</h3>\n",
    "<ul>\n",
    "<li>This Juptyer Notebook contains content from &ldquo;Python for Everybody&rdquo; by Charles R Severance is licensed under <a href=\"https://runestone.academy/ns/books/published/universityofcoloradodenver_py4e-int_summer23/ack/creativecommons.org/licenses/by-nc-sa/3.0/\">CC BY-ND 3.0</a>.</li>\n"
   ]
  }
 ],
 "metadata": {
  "kernelspec": {
   "display_name": "base",
   "language": "python",
   "name": "python3"
  },
  "language_info": {
   "name": "python",
   "version": "3.9.12"
  },
  "orig_nbformat": 4
 },
 "nbformat": 4,
 "nbformat_minor": 2
}
