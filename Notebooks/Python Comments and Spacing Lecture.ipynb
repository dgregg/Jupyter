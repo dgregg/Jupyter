{
 "cells": [
  {
   "attachments": {},
   "cell_type": "markdown",
   "metadata": {},
   "source": [
    "<h1>Comments &amp; Spacing</h1>\n",
    "<p><img src=\"images/1line.png\" width=\"100%\"  /></p>\n",
    "<ul>\n",
    "<li>Python has 2 ways to indicate comments in the code:\n",
    "<ul>\n",
    "<li># (pound sign) indicates a single line comment</li>\n",
    "</ul>\n",
    "</li>\n",
    "</ul>\n",
    "<p><code>x = 5;&nbsp; # Set the value of x</code></p>\n",
    "<ul>\n",
    "<ul>\n",
    "<li><code>\"\"\"</code>&nbsp; - bracket the comment with<code> \"\"\"</code> and <code>\"\"\"</code> (triple quotes)</li>\n",
    "</ul>\n",
    "</ul>\n",
    "<pre>\"\"\"<br /> &nbsp;Popular to use a multi-line string&nbsp; <br /> &nbsp;to indicate a comment block in Python<br />\"\"\" </pre>\n",
    "<ul>\n",
    "<li><em>Good Programming Practice</em>: Always comment every major block of code (if block, for loop or a function) to indicate what the purpose of that block of code is:</li>\n",
    "</ul>\n",
    "<p><code># Loop to get grades and sum them</code></p>\n",
    "<p>or</p>\n",
    "<pre><code>\"\"\" Select the correct message for a given <br /> &nbsp;&nbsp; temperature input (t) <br />\"\"\"</code></pre>\n",
    "<h3>Blocks</h3>\n",
    "<ul>\n",
    "<li><span>A block is a group of statements in a program or script. </span></li>\n",
    "<li><span>A block in a script or program functions as a mean to group statements to be treated as if they were one statement. </span></li>\n",
    "<li><span>In many cases, it also serves as a way to limit the scope of variables and functions.&nbsp;</span></li>\n",
    "<li><span>JavaScript, Java, C and PHP all define blocks using curly braces { }, Python does not.</span></li>\n",
    "</ul>\n",
    "<h4>Blocks<span>&nbsp;in Python</span></h4>\n",
    "<ul>\n",
    "<li><span><img style=\"float: right;\" src=\"images/blocks.png\" width=\"323\" height=\"196\"  />Python programs get structured through indentation, i.e. code blocks begin with a colon : and then are defined by their indentation. </span></li>\n",
    "<li><span>This is a language requirement not a matter of style. </span></li>\n",
    "<li><span>All statements with the same distance to the right belong to the same block of code, i.e. the statements within a block line up vertically. </span></li>\n",
    "<li><span>The block ends at a line less indented or the end of the file. If a block has to be more deeply nested, it is simply indented further to the right.</span></li>\n",
    "<li><span>Functions, if statements and for loops (which we will learn about soon) all follow this code block structure.</span></li>\n",
    "</ul>"
   ]
  },
  {
   "cell_type": "code",
   "execution_count": 1,
   "metadata": {},
   "outputs": [
    {
     "name": "stdout",
     "output_type": "stream",
     "text": [
      "3 4 5\n",
      "6 8 10\n"
     ]
    }
   ],
   "source": [
    "# Function finds all Pythagorean triples within a given range. \n",
    "# A Pythagorean triple consists of three positive integers (a, b, c) that satisfy the Pythagorean theorem\n",
    "from math import sqrt\n",
    "n = input(\"Maximum Number? \")\n",
    "n = int(n)+1\n",
    "for a in range(1,n):\n",
    "    for b in range(a,n):\n",
    "        c_square = a**2 + b**2\n",
    "        c = int(sqrt(c_square))\n",
    "        if ((c_square - c**2) == 0):\n",
    "            print(a, b, c)"
   ]
  },
  {
   "attachments": {},
   "cell_type": "markdown",
   "metadata": {},
   "source": [
    "<h4>Be Careful</h4><ul><li>Spaces and Tabs are not the same!</li><li>Most text editors can turn tabs into spaces - make sure to enable this feature</li><li>NotePad++: Settings -&gt; Preferences -&gt; Language Menu/Tab Settings</li><li>TextWrangler: TextWrangler -&gt; Preferences -&gt; Editor Defaults</li><li>Python cares a *lot* about how far a line is indented. If you mix tabs and spaces, you may get “indentation errors” even if everything looks fine</li></ul>"
   ]
  }
 ],
 "metadata": {
  "kernelspec": {
   "display_name": "base",
   "language": "python",
   "name": "python3"
  },
  "language_info": {
   "codemirror_mode": {
    "name": "ipython",
    "version": 3
   },
   "file_extension": ".py",
   "mimetype": "text/x-python",
   "name": "python",
   "nbconvert_exporter": "python",
   "pygments_lexer": "ipython3",
   "version": "3.9.12"
  },
  "orig_nbformat": 4
 },
 "nbformat": 4,
 "nbformat_minor": 2
}
