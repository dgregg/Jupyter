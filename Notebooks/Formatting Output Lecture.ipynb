{
 "cells": [
  {
   "attachments": {},
   "cell_type": "markdown",
   "metadata": {},
   "source": [
    "<h1>Formatting Output</h1>\n",
    "<img src=\"images/1line.png\" width=100%>\n",
    "<h3>Formatting Strings</h3>\n",
    "<ul>\n",
    "<li>The string format method uses one or more format codes (fields to be replaced) embedded in constant text.</li>\n",
    "<li>The \"fields to be replaced\" are surrounded by curly braces {}. The curly braces and the \"code\" inside will be substituted with a formatted value.</li>\n",
    "<li>Anything else, which is not contained in curly braces will be literally printed, i.e. without any changes.</li>\n",
    "<li>If a brace character has to be printed, it has to be escaped by doubling it: {{ and }}.</li>\n",
    "<li>You can use the format method using positional parameters or keywords.</li>\n",
    "</ul>\n",
    "    "
   ]
  },
  {
   "cell_type": "code",
   "execution_count": 4,
   "metadata": {},
   "outputs": [
    {
     "name": "stdout",
     "output_type": "stream",
     "text": [
      "Item:   753, Price per unit:    59.06\n"
     ]
    }
   ],
   "source": [
    "# Formatting Strings\n",
    "s1 = \"Item: {0:5d}, Price per unit: {1:8.2f}\".format(753,59.058)\n",
    "print(s1)"
   ]
  },
  {
   "attachments": {},
   "cell_type": "markdown",
   "metadata": {},
   "source": [
    "<h3>Using format with keyword parameters</h3>\n",
    "<ul><li>In the following example we demonstrate how keyword parameters can be used with the format method:</li></ul>\n"
   ]
  },
  {
   "cell_type": "code",
   "execution_count": 2,
   "metadata": {},
   "outputs": [
    {
     "name": "stdout",
     "output_type": "stream",
     "text": [
      "Item:   753, Price per unit:    59.06\n"
     ]
    }
   ],
   "source": [
    "s2 = \"Item: {i:5}, Price per unit: {p:8.2f}\".format(i=753, p=59.058)\n",
    "print(s2)"
   ]
  },
  {
   "attachments": {},
   "cell_type": "markdown",
   "metadata": {},
   "source": [
    "<h3>Aligning Strings in Columns</span></h3>\n",
    "<ul>\n",
    "<li>It's possible to left or right justify data with the format method by preceding the formatting with a \"&lt;\" (left justify) or \"&gt;\" (right justify). We demonstrate this with the following examples:&nbsp;</li>\n",
    "</ul>"
   ]
  },
  {
   "cell_type": "code",
   "execution_count": 7,
   "metadata": {},
   "outputs": [
    {
     "name": "stdout",
     "output_type": "stream",
     "text": [
      "Spam & Eggs:           6.99\n",
      "        Spam & Eggs:   6.99\n"
     ]
    }
   ],
   "source": [
    "# Aligning Strings Columns\n",
    "# Left align and provide argument number\n",
    "s1 = \"{0:<20s} {1:6.2f}\".format('Spam & Eggs:', 6.99)\n",
    "# Right Align and do not provide argument number\n",
    "s2 = \"{:>20s} {:6.2f}\".format('Spam & Eggs:', 6.99)\n",
    "print(s1)\n",
    "print(s2)"
   ]
  },
  {
   "attachments": {},
   "cell_type": "markdown",
   "metadata": {},
   "source": [
    "<h3>Formatting Dates</h3>\n",
    "<ul>\n",
    "<li>The program below converts a&nbsp;<code>datetime</code><span>&nbsp;</span>object containing current date and time to different string formats using <code>strftime</code>.</li>\n",
    "<li>In the code below,<span>&nbsp;</span><var>year</var>,<span>&nbsp;</span><var>day</var>,<span>&nbsp;</span><var>time</var><span>&nbsp;</span>and<span>&nbsp;</span><var>date_time</var><span>&nbsp;</span>are strings, whereas<span>&nbsp;</span><var>now</var><span>&nbsp;</span>is a<span>&nbsp;</span><code>datetime</code><span>&nbsp;</span>object.</li>\n",
    "</ul>"
   ]
  },
  {
   "cell_type": "code",
   "execution_count": 6,
   "metadata": {},
   "outputs": [
    {
     "name": "stdout",
     "output_type": "stream",
     "text": [
      "year:  2020\n",
      "month: 12\n",
      "day:   04\n",
      "time:  12:14:39\n",
      "date and time: 12/04/2020, 12:14:39\n"
     ]
    }
   ],
   "source": [
    "# Formatting Dates as Strings\n",
    "import datetime\n",
    "\n",
    "now = datetime.datetime.now() # current date and time\n",
    "\n",
    "year = now.strftime(\"%Y\")\n",
    "print(\"year: \", year)\n",
    "\n",
    "month = now.strftime(\"%m\")\n",
    "print(\"month:\", month)\n",
    "\n",
    "day = now.strftime(\"%d\")\n",
    "print(\"day:  \", day)\n",
    "\n",
    "time = now.strftime(\"%H:%M:%S\")\n",
    "print(\"time: \", time)\n",
    "\n",
    "date_time = now.strftime(\"%m/%d/%Y, %H:%M:%S\")\n",
    "print(\"date and time:\",date_time)\t"
   ]
  },
  {
   "attachments": {},
   "cell_type": "markdown",
   "metadata": {},
   "source": [
    "<ul><li>A list of date format codes can be found <a href=\"https://www.w3schools.com/python/python_datetime.asp\" class=\"external\" target=\"_blank\" >https://www.w3schools.com/python/python_datetime.asp</a></li></ul>"
   ]
  },
  {
   "cell_type": "code",
   "execution_count": 2,
   "metadata": {},
   "outputs": [
    {
     "name": "stdout",
     "output_type": "stream",
     "text": [
      "First argument: 47, second one: 11\n",
      "Second argument: 11, first one: 47\n",
      "Second argument:  11, first one:   47.42\n",
      "First argument: 47, second one: 11\n",
      "various precisions:   1.41 or  1.415\n"
     ]
    }
   ],
   "source": [
    "# More String Formatting\n",
    "print(\"First argument: {0}, second one: {1}\".format(47,11) )\n",
    "print(\"Second argument: {1}, first one: {0}\".format(47,11) )\n",
    "print(\"Second argument: {1:3d}, first one: {0:7.2f}\".format(47.42,11) )\n",
    "print(\"First argument: {}, second one: {}\".format(47,11) )\n",
    "# arguments can be used more than once:\n",
    "print(\"various precisions: {0:6.2f} or {0:6.3f}\".format(1.4148) )"
   ]
  },
  {
   "attachments": {},
   "cell_type": "markdown",
   "metadata": {},
   "source": [
    "<hr><h3>References</h3>\n",
    "<p>Bernd Klein, 21. Formatted Output, python-course.eu,&nbsp; 29 Jun 2022, <a href=\"https://python-course.eu/python-tutorial/formatted-output.php\" target=\"_blank\" rel=\"noopener\">https://python-course.eu/python-tutorial/formatted-output.php</a> </p>"
   ]
  }
 ],
 "metadata": {
  "kernelspec": {
   "display_name": "Python 3",
   "language": "python",
   "name": "python3"
  },
  "language_info": {
   "codemirror_mode": {
    "name": "ipython",
    "version": 3
   },
   "file_extension": ".py",
   "mimetype": "text/x-python",
   "name": "python",
   "nbconvert_exporter": "python",
   "pygments_lexer": "ipython3",
   "version": "3.11.4"
  }
 },
 "nbformat": 4,
 "nbformat_minor": 2
}
