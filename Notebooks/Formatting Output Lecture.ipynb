{
 "cells": [
  {
   "cell_type": "code",
   "execution_count": 3,
   "metadata": {},
   "outputs": [
    {
     "name": "stdout",
     "output_type": "stream",
     "text": [
      "Art:   453, Price per unit:    59.06\n",
      "Art:   453, Price per unit:    59.06\n"
     ]
    }
   ],
   "source": [
    "# Formatting Strings\n",
    "s1 = \"Art: {0:5d}, Price per unit: {1:8.2f}\".format(453,59.058)\n",
    "s2 = \"Art: {a:5}, Price per unit: {p:8.2f}\".format(a=453, p=59.058)\n",
    "print(s1)\n",
    "print(s2)"
   ]
  },
  {
   "cell_type": "code",
   "execution_count": 7,
   "metadata": {},
   "outputs": [
    {
     "name": "stdout",
     "output_type": "stream",
     "text": [
      "Spam & Eggs:           6.99\n",
      "        Spam & Eggs:   6.99\n"
     ]
    }
   ],
   "source": [
    "# Aligning Strings Columns\n",
    "# Left align and provide argument number\n",
    "s1 = \"{0:<20s} {1:6.2f}\".format('Spam & Eggs:', 6.99)\n",
    "# Right Align and do not provide argument number\n",
    "s2 = \"{:>20s} {:6.2f}\".format('Spam & Eggs:', 6.99)\n",
    "print(s1)\n",
    "print(s2)"
   ]
  },
  {
   "cell_type": "code",
   "execution_count": 6,
   "metadata": {},
   "outputs": [
    {
     "name": "stdout",
     "output_type": "stream",
     "text": [
      "year:  2020\n",
      "month: 12\n",
      "day:   04\n",
      "time:  12:14:39\n",
      "date and time: 12/04/2020, 12:14:39\n"
     ]
    }
   ],
   "source": [
    "# Formatting Dates as Strings\n",
    "import datetime\n",
    "\n",
    "now = datetime.datetime.now() # current date and time\n",
    "\n",
    "year = now.strftime(\"%Y\")\n",
    "print(\"year: \", year)\n",
    "\n",
    "month = now.strftime(\"%m\")\n",
    "print(\"month:\", month)\n",
    "\n",
    "day = now.strftime(\"%d\")\n",
    "print(\"day:  \", day)\n",
    "\n",
    "time = now.strftime(\"%H:%M:%S\")\n",
    "print(\"time: \", time)\n",
    "\n",
    "date_time = now.strftime(\"%m/%d/%Y, %H:%M:%S\")\n",
    "print(\"date and time:\",date_time)\t"
   ]
  },
  {
   "cell_type": "code",
   "execution_count": 2,
   "metadata": {},
   "outputs": [
    {
     "name": "stdout",
     "output_type": "stream",
     "text": [
      "First argument: 47, second one: 11\n",
      "Second argument: 11, first one: 47\n",
      "Second argument:  11, first one:   47.42\n",
      "First argument: 47, second one: 11\n",
      "various precisions:   1.41 or  1.415\n"
     ]
    }
   ],
   "source": [
    "# More String Formatting\n",
    "print(\"First argument: {0}, second one: {1}\".format(47,11) )\n",
    "print(\"Second argument: {1}, first one: {0}\".format(47,11) )\n",
    "print(\"Second argument: {1:3d}, first one: {0:7.2f}\".format(47.42,11) )\n",
    "print(\"First argument: {}, second one: {}\".format(47,11) )\n",
    "# arguments can be used more than once:\n",
    "print(\"various precisions: {0:6.2f} or {0:6.3f}\".format(1.4148) )"
   ]
  },
  {
   "cell_type": "code",
   "execution_count": null,
   "metadata": {},
   "outputs": [],
   "source": []
  }
 ],
 "metadata": {
  "kernelspec": {
   "display_name": "Python 3",
   "language": "python",
   "name": "python3"
  },
  "language_info": {
   "codemirror_mode": {
    "name": "ipython",
    "version": 3
   },
   "file_extension": ".py",
   "mimetype": "text/x-python",
   "name": "python",
   "nbconvert_exporter": "python",
   "pygments_lexer": "ipython3",
   "version": "3.7.3"
  }
 },
 "nbformat": 4,
 "nbformat_minor": 2
}
