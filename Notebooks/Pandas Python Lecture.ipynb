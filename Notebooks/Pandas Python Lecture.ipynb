{
 "cells": [
  {
   "attachments": {},
   "cell_type": "markdown",
   "metadata": {},
   "source": [
    "<h1>Python with Pandas</h1>\n",
    "<p><img src=\"images/1line.png\" width=\"100%\" /></p>\n",
    "<ul>\n",
    "<li>Suppose you have a data about the sales of different products.</li>\n",
    "<li>You can use Pandas to load this data into a DataFrame, and then manipulate and analyze the data easily.</li>\n",
    "</ul>"
   ]
  },
  {
   "cell_type": "code",
   "execution_count": 1,
   "metadata": {},
   "outputs": [
    {
     "name": "stdout",
     "output_type": "stream",
     "text": [
      "Total Sales 2044.0\n"
     ]
    }
   ],
   "source": [
    "# Must import the pandas library to use it\n",
    "import pandas as pd\n",
    "\n",
    "# Create sales data as a Python dictionary\n",
    "sales_data = {\n",
    " 'Type': [\"Shoes\",\"Clothing\", \"Shoes\", \"Clothing\", \"Cosmetics\"],\n",
    " 'Units': [18, 14, 17, 26, 3],\n",
    " 'Sales': [306.00, 448.00, 425.00, 832.00, 33.00]\n",
    "}\n",
    "\n",
    "# Create a DataFrame from the sales data dictionary\n",
    "df = pd.DataFrame(sales_data)\n",
    "\n",
    "# Calculate the sum for a single column\n",
    "total_sales = df['Sales'].sum()\n",
    "\n",
    "# Print out the results\n",
    "print(\"Total Sales\", total_sales)"
   ]
  },
  {
   "attachments": {},
   "cell_type": "markdown",
   "metadata": {},
   "source": [
    "<ul>\n",
    "<li>In this example, we start by creating the sales data as a Python dictionary called <code>sales_data</code>, where each key represents a column in the DataFrame and each value represents a list of values for that column.</li>\n",
    "<li>We then use the <code>pd.DataFrame()</code> function to create a DataFrame from the <code>sales_data</code> dictionary.</li>\n",
    "<li>The <code>sum()</code> method is used to calculate the total for the \"Sales\" column.</li>\n",
    "<li>The results are stored in the <code>total_sales</code> variable, which is then printed to the console using the <code>print()</code> function.</li>\n",
    "</ul>"
   ]
  }
 ],
 "metadata": {
  "kernelspec": {
   "display_name": "base",
   "language": "python",
   "name": "python3"
  },
  "language_info": {
   "codemirror_mode": {
    "name": "ipython",
    "version": 3
   },
   "file_extension": ".py",
   "mimetype": "text/x-python",
   "name": "python",
   "nbconvert_exporter": "python",
   "pygments_lexer": "ipython3",
   "version": "3.9.12"
  },
  "orig_nbformat": 4
 },
 "nbformat": 4,
 "nbformat_minor": 2
}
