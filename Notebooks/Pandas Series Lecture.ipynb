{
 "cells": [
  {
   "attachments": {},
   "cell_type": "markdown",
   "metadata": {},
   "source": [
    "<h1>Pandas: Series</h1>\n",
    "<p><img src=\"images/1line.png\" width=\"100%\" /></p>\n",
    "<ul><li>Pandas has two data structures, Series and Data Frame.</li>\n",
    "<li>Series is a one-dimensional array-like object,<br>\n",
    "        Data Frame is a two-dimensional array-like object.</li>\n",
    "    <li>Both objects also contain additional information about the data called metadata.</li></ul>"
   ]
  },
  {
   "cell_type": "code",
   "execution_count": 1,
   "metadata": {},
   "outputs": [
    {
     "name": "stdout",
     "output_type": "stream",
     "text": [
      "0    1.0\n",
      "1    3.0\n",
      "2    5.0\n",
      "3    NaN\n",
      "4    6.0\n",
      "5    8.0\n",
      "dtype: float64\n"
     ]
    }
   ],
   "source": [
    "# Pandas Series from a list of values\n",
    "# Pandas create a default integer index\n",
    "import numpy as np\n",
    "import pandas as pd\n",
    "x = pd.Series([1, 3, 5, np.nan, 6, 8])\n",
    "print(x)"
   ]
  },
  {
   "cell_type": "code",
   "execution_count": 2,
   "metadata": {},
   "outputs": [
    {
     "name": "stdout",
     "output_type": "stream",
     "text": [
      "q    1\n",
      "w    3\n",
      "e    5\n",
      "r    6\n",
      "d    8\n",
      "dtype: int64\n"
     ]
    }
   ],
   "source": [
    "# Pandas Series with an index list having\n",
    "# the same number of arguments as your data.\n",
    "import pandas as pd\n",
    "x = pd.Series([1, 3, 5, 6, 8], \n",
    "        index=[\"q\", \"w\", \"e\", \"r\", \"d\"])\n",
    "\n",
    "print(x)"
   ]
  },
  {
   "cell_type": "code",
   "execution_count": 3,
   "metadata": {},
   "outputs": [
    {
     "name": "stdout",
     "output_type": "stream",
     "text": [
      "3\n",
      "r    6\n",
      "w    3\n",
      "dtype: int64\n"
     ]
    }
   ],
   "source": [
    "# Use List syntax to get values from a Series\n",
    "print(x[\"w\"])\n",
    "print(x[[\"r\", \"w\"]])"
   ]
  },
  {
   "cell_type": "code",
   "execution_count": 4,
   "metadata": {},
   "outputs": [
    {
     "name": "stdout",
     "output_type": "stream",
     "text": [
      "3\n",
      "6 3\n"
     ]
    }
   ],
   "source": [
    "# Use OOP syntax to get values from a Series\n",
    "print(x.w)\n",
    "print(x.r, x.w)"
   ]
  },
  {
   "cell_type": "code",
   "execution_count": 6,
   "metadata": {},
   "outputs": [
    {
     "name": "stdout",
     "output_type": "stream",
     "text": [
      "Tim    29\n",
      "Jim    31\n",
      "Pam    27\n",
      "Sam    35\n",
      "dtype: int64\n"
     ]
    }
   ],
   "source": [
    "# Pandas Series from a Dictionary\n",
    "import pandas as pd\n",
    "age = { \"Tim\": 29 , \"Jim\": 31, \n",
    "       \"Pam\": 27, \"Sam\": 35 }\n",
    "x = pd.Series(age)\n",
    "\n",
    "print(x)"
   ]
  },
  {
   "cell_type": "code",
   "execution_count": 7,
   "metadata": {},
   "outputs": [
    {
     "name": "stdout",
     "output_type": "stream",
     "text": [
      "q    1\n",
      "w    3\n",
      "e    5\n",
      "r    6\n",
      "d    8\n",
      "dtype: int64\n"
     ]
    }
   ],
   "source": [
    "# Sorting a Pandas Series\n",
    "import pandas as pd\n",
    "x = pd.Series([1, 3, 5, 6, 8], \n",
    "              index=[\"q\", \"w\", \"e\", \"r\", \"d\"])\n",
    "\n",
    "print(x)"
   ]
  },
  {
   "cell_type": "code",
   "execution_count": 9,
   "metadata": {},
   "outputs": [
    {
     "name": "stdout",
     "output_type": "stream",
     "text": [
      "Index Index(['q', 'w', 'e', 'r', 'd'], dtype='object')\n",
      "Sorted index ['d', 'e', 'q', 'r', 'w']\n",
      "Reindexed Series\n",
      "d    8\n",
      "e    5\n",
      "q    1\n",
      "r    6\n",
      "w    3\n",
      "dtype: int64\n"
     ]
    }
   ],
   "source": [
    "# Get the index\n",
    "print(\"Index\", x.index)\n",
    "#Sort the index\n",
    "print(\"Sorted index\", sorted(x.index))\n",
    "# Reindex the Pandas Series\n",
    "print(\"Reindexed Series\")\n",
    "print(x.reindex(sorted(x.index)))\n"
   ]
  },
  {
   "cell_type": "code",
   "execution_count": 10,
   "metadata": {},
   "outputs": [
    {
     "name": "stdout",
     "output_type": "stream",
     "text": [
      "d     NaN\n",
      "e    12.0\n",
      "q     4.0\n",
      "r     8.0\n",
      "t     NaN\n",
      "v     NaN\n",
      "w     NaN\n",
      "dtype: float64\n"
     ]
    }
   ],
   "source": [
    "# Adding Series (like NumPy)\n",
    "import pandas as pd\n",
    "x = pd.Series([1, 3, 5, 6, 8], \n",
    "              index=[\"q\", \"w\", \"e\", \"r\", \"d\"])\n",
    "y = pd.Series([7, 3, 5, 2, 1], \n",
    "              index=[\"e\", \"q\", \"t\", \"r\", \"v\"])\n",
    "\n",
    "print(x+y)"
   ]
  },
  {
   "cell_type": "code",
   "execution_count": 11,
   "metadata": {},
   "outputs": [
    {
     "name": "stdout",
     "output_type": "stream",
     "text": [
      "d     8.0\n",
      "e    12.0\n",
      "q     4.0\n",
      "r     8.0\n",
      "t     5.0\n",
      "v     1.0\n",
      "w     3.0\n",
      "dtype: float64\n"
     ]
    }
   ],
   "source": [
    "# Series Addition assumes anything plus NaN is NaN\n",
    "# Can fill the NaN with some value\n",
    "print(x.add(y, fill_value=0) )"
   ]
  },
  {
   "attachments": {},
   "cell_type": "markdown",
   "metadata": {},
   "source": [
    "<hr><h3>Reference</h3>\n",
    "<p>Jukka-Pekka Onnela, Python for Research, Case Study 4: Classifying Whiskies, 4.1.1: Getting Started with Pandas, edX,<span>&nbsp;</span><a class=\"external\" href=\"https://www.edx.org/course/using-python-for-research\" target=\"_blank\" rel=\"noopener\"><span>https://www.edx.org/course/using-python-for-research</span></a></p>"
   ]
  }
 ],
 "metadata": {
  "kernelspec": {
   "display_name": "Python 3",
   "language": "python",
   "name": "python3"
  },
  "language_info": {
   "codemirror_mode": {
    "name": "ipython",
    "version": 3
   },
   "file_extension": ".py",
   "mimetype": "text/x-python",
   "name": "python",
   "nbconvert_exporter": "python",
   "pygments_lexer": "ipython3",
   "version": "3.7.3"
  }
 },
 "nbformat": 4,
 "nbformat_minor": 2
}
