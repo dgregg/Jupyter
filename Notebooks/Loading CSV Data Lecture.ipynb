{
 "cells": [
  {
   "attachments": {},
   "cell_type": "markdown",
   "metadata": {},
   "source": [
    "<ul>\n",
    "<li>Have a look at this data frame, called `brics`.</li>\n",
    "<li>It contains some basic information on the so called 'brics' countries: Brazil, Russia, India, China and South Africa.</li>\n",
    "</ul>\n",
    "<p><img style=\"display: block; margin-left: auto; margin-right: auto;\" src=\"images/PandasDataFrame_brics.PNG\" alt=\"Pandas DataFrame brics\" width=\"537\" height=\"300\" /></p>\n",
    "<ul>\n",
    "<li>A dataframe is a table: the rows represent different entries or observations, which are countries in this case.</li>\n",
    "<li>Each row has unique row label: BR for Brazil, RU for Russia and so on.</li>\n",
    "<li>The columns represent different properties, and are identified by their column labels:\n",
    "<ul>\n",
    "<li>country, population, area and capital.</li>\n",
    "</ul>\n",
    "</li>\n",
    "<li>The columns can have different types.</li>\n",
    "</ul>\n",
    "<hr />\n",
    "<h3>Building a DataFrame</h3>\n",
    "<ul>\n",
    "<li>You typically import data from an external file to build a data frame: e.g. <a class=\"instructure_file_link\" title=\"brics.ipynb\" href=\"data/brics.txt\" >brics.txt</a></li>\n",
    "</ul>\n",
    "<p><strong>brics.txt</strong></p>\n",
    "<pre>,country,population,area,capital <br />BR,Brazil,200,8515767,Brasilia<br />RU,Russia,144,17098242,Moscow <br />IN,India,1252,3287590,New Delhi<br />CH,China,1357,9596961,Beijing <br />SA,South Africa,55,1221037,Pretori</pre>\n",
    "<ul>\n",
    "<li>The first line are the column names and the other lines are the rows of the table.</li>\n",
    "<li>The code below will import the file into a Pandas DataFrame</li>\n",
    "</ul>\n",
    "\n"
   ]
  },
  {
   "cell_type": "code",
   "execution_count": 1,
   "metadata": {},
   "outputs": [
    {
     "name": "stdout",
     "output_type": "stream",
     "text": [
      "  Unnamed: 0       country  population      area   capital \n",
      "0         BR        Brazil         200   8515767   Brasilia\n",
      "1         RU        Russia         144  17098242    Moscow \n",
      "2         IN         India        1252   3287590  New Delhi\n",
      "3         CH         China        1357   9596961   Beijing \n",
      "4         SA  South Africa          55   1221037    Pretori\n"
     ]
    }
   ],
   "source": [
    "import pandas as pd\n",
    "brics = pd.read_csv(\"data/brics.txt\")\n",
    "print(brics)"
   ]
  },
  {
   "attachments": {},
   "cell_type": "markdown",
   "metadata": {},
   "source": [
    "<ul>\n",
    "<li>To solve this, we'll have to tell the 'read_csv()' function that the first column contain the row indexes.</li>\n",
    "</ul>"
   ]
  },
  {
   "cell_type": "code",
   "execution_count": 2,
   "metadata": {},
   "outputs": [
    {
     "name": "stdout",
     "output_type": "stream",
     "text": [
      "         country  population      area   capital \n",
      "BR        Brazil         200   8515767   Brasilia\n",
      "RU        Russia         144  17098242    Moscow \n",
      "IN         India        1252   3287590  New Delhi\n",
      "CH         China        1357   9596961   Beijing \n",
      "SA  South Africa          55   1221037    Pretori\n"
     ]
    }
   ],
   "source": [
    "brics = pd.read_csv(\"brics.txt\", index_col=0)\n",
    "print(brics)"
   ]
  },
  {
   "attachments": {},
   "cell_type": "markdown",
   "metadata": {},
   "source": [
    "<ul>\n",
    "<li>Pandas has the 'read_csv()'&nbsp; which allows you to import a csv file directly into a DataFrame.</li>\n",
    "<li>If you do not specify the column that contains the \"keys\" for each row, Pandas will autogenerate a unique index for each row.<br /><br /></li>\n",
    "</ul>"
   ]
  },
  {
   "cell_type": "code",
   "execution_count": 3,
   "metadata": {},
   "outputs": [
    {
     "data": {
      "text/plain": [
       "Index(['BR', 'RU', 'IN', 'CH', 'SA'], dtype='object')"
      ]
     },
     "execution_count": 3,
     "metadata": {},
     "output_type": "execute_result"
    }
   ],
   "source": [
    "brics.index"
   ]
  },
  {
   "attachments": {},
   "cell_type": "markdown",
   "metadata": {},
   "source": [
    "<p>&nbsp;</p>\n",
    "<h3>Adding a Column</h3>\n",
    "<ul>\n",
    "<li>To add a column you place the new column name in square brackets and then assign a list to it.</li>\n",
    "<li>Note: You can also read the column from a second CSV file.</li>\n",
    "</ul>"
   ]
  },
  {
   "cell_type": "code",
   "execution_count": 4,
   "metadata": {},
   "outputs": [
    {
     "name": "stdout",
     "output_type": "stream",
     "text": [
      "         country  population      area   capital   on_earth\n",
      "BR        Brazil         200   8515767   Brasilia      True\n",
      "RU        Russia         144  17098242    Moscow       True\n",
      "IN         India        1252   3287590  New Delhi      True\n",
      "CH         China        1357   9596961   Beijing       True\n",
      "SA  South Africa          55   1221037    Pretori      True\n"
     ]
    }
   ],
   "source": [
    "brics[\"on_earth\"] = [True, True, True, True, True]\n",
    "print(brics)"
   ]
  },
  {
   "attachments": {},
   "cell_type": "markdown",
   "metadata": {},
   "source": [
    "<ul>\n",
    "<li>You can even make a calculated column, based on other columns.</li>\n",
    "<li>Here we make a column with the population density.</li>\n",
    "<li>In pandas we can simply divide the population by the area (you cannot do this with regular Python lists).</li>\n",
    "<li>We multiply by one million because the population columns is expressed in millions.</li>\n",
    "</ul>"
   ]
  },
  {
   "cell_type": "code",
   "execution_count": 6,
   "metadata": {},
   "outputs": [
    {
     "name": "stdout",
     "output_type": "stream",
     "text": [
      "         country  population      area   capital   on_earth     density\n",
      "BR        Brazil         200   8515767   Brasilia      True   23.485847\n",
      "RU        Russia         144  17098242    Moscow       True    8.421918\n",
      "IN         India        1252   3287590  New Delhi      True  380.826076\n",
      "CH         China        1357   9596961   Beijing       True  141.398928\n",
      "SA  South Africa          55   1221037    Pretori      True   45.043680\n"
     ]
    }
   ],
   "source": [
    "brics[\"density\"] = brics[\"population\"] / brics[\"area\"] * 1000000\n",
    "print(brics)"
   ]
  },
  {
   "attachments": {},
   "cell_type": "markdown",
   "metadata": {},
   "source": [
    "<hr><h3>References</h3>\n",
    "<p>Learn Python.org, Pandas Basics, <a href=\"https://www.learnpython.org/en/Pandas_Basics\" target=\"_blank\" rel=\"noopener\">https://www.learnpython.org/en/Pandas_Basics</a></p>"
   ]
  }
 ],
 "metadata": {
  "kernelspec": {
   "display_name": "Python 3",
   "language": "python",
   "name": "python3"
  },
  "language_info": {
   "codemirror_mode": {
    "name": "ipython",
    "version": 3
   },
   "file_extension": ".py",
   "mimetype": "text/x-python",
   "name": "python",
   "nbconvert_exporter": "python",
   "pygments_lexer": "ipython3",
   "version": "3.9.12"
  }
 },
 "nbformat": 4,
 "nbformat_minor": 2
}
