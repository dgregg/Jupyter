{
 "cells": [
  {
   "attachments": {},
   "cell_type": "markdown",
   "id": "849aa055",
   "metadata": {},
   "source": [
    "<ul>\n",
    "<li>Let&rsquo;s load a sample Pandas DataFrame that we use throughout the lecture from this file: <a title=\"sales_data.csv\" href=\"data/sales_data.csv\" target=\"_blank\" rel=\"noopener\" >sales_data.csv</a>.</li>\n",
    "<li>You can also load this content directly from the internet using this URL: <a href=\"https://github.com/dgregg/Jupyter/blob/master/Notebooks/data/sales_data.csv\" target=\"_blank\" rel=\"noopener\">https://github.com/dgregg/Jupyter/blob/master/Notebooks/sales_data.csv</a></li>\n",
    "<li>Note: This is a different (larger) data set than the one described in the lecture video - the columns are not idential.</li>\n",
    "</ul>"
   ]
  },
  {
   "cell_type": "code",
   "execution_count": 5,
   "id": "645c499d",
   "metadata": {},
   "outputs": [
    {
     "data": {
      "text/html": [
       "<div>\n",
       "<style scoped>\n",
       "    .dataframe tbody tr th:only-of-type {\n",
       "        vertical-align: middle;\n",
       "    }\n",
       "\n",
       "    .dataframe tbody tr th {\n",
       "        vertical-align: top;\n",
       "    }\n",
       "\n",
       "    .dataframe thead th {\n",
       "        text-align: right;\n",
       "    }\n",
       "</style>\n",
       "<table border=\"1\" class=\"dataframe\">\n",
       "  <thead>\n",
       "    <tr style=\"text-align: right;\">\n",
       "      <th></th>\n",
       "      <th>Date</th>\n",
       "      <th>Category</th>\n",
       "      <th>Quantity</th>\n",
       "      <th>Sales</th>\n",
       "      <th>Type</th>\n",
       "      <th>Region</th>\n",
       "      <th>Gender</th>\n",
       "      <th>Age</th>\n",
       "    </tr>\n",
       "  </thead>\n",
       "  <tbody>\n",
       "    <tr>\n",
       "      <th>0</th>\n",
       "      <td>1/1/2022</td>\n",
       "      <td>Clothing</td>\n",
       "      <td>5</td>\n",
       "      <td>1500.40</td>\n",
       "      <td>Cash</td>\n",
       "      <td>South</td>\n",
       "      <td>Male</td>\n",
       "      <td>65</td>\n",
       "    </tr>\n",
       "    <tr>\n",
       "      <th>1</th>\n",
       "      <td>1/1/2022</td>\n",
       "      <td>Cosmetics</td>\n",
       "      <td>5</td>\n",
       "      <td>203.30</td>\n",
       "      <td>Cash</td>\n",
       "      <td>South</td>\n",
       "      <td>Male</td>\n",
       "      <td>55</td>\n",
       "    </tr>\n",
       "    <tr>\n",
       "      <th>2</th>\n",
       "      <td>1/1/2022</td>\n",
       "      <td>Clothing</td>\n",
       "      <td>2</td>\n",
       "      <td>600.16</td>\n",
       "      <td>Debit Card</td>\n",
       "      <td>North</td>\n",
       "      <td>Female</td>\n",
       "      <td>35</td>\n",
       "    </tr>\n",
       "    <tr>\n",
       "      <th>3</th>\n",
       "      <td>1/1/2022</td>\n",
       "      <td>Clothing</td>\n",
       "      <td>1</td>\n",
       "      <td>300.08</td>\n",
       "      <td>Credit Card</td>\n",
       "      <td>North</td>\n",
       "      <td>Female</td>\n",
       "      <td>18</td>\n",
       "    </tr>\n",
       "    <tr>\n",
       "      <th>4</th>\n",
       "      <td>1/1/2022</td>\n",
       "      <td>Clothing</td>\n",
       "      <td>1</td>\n",
       "      <td>300.08</td>\n",
       "      <td>Debit Card</td>\n",
       "      <td>West</td>\n",
       "      <td>Female</td>\n",
       "      <td>63</td>\n",
       "    </tr>\n",
       "    <tr>\n",
       "      <th>...</th>\n",
       "      <td>...</td>\n",
       "      <td>...</td>\n",
       "      <td>...</td>\n",
       "      <td>...</td>\n",
       "      <td>...</td>\n",
       "      <td>...</td>\n",
       "      <td>...</td>\n",
       "      <td>...</td>\n",
       "    </tr>\n",
       "    <tr>\n",
       "      <th>16679</th>\n",
       "      <td>12/31/2022</td>\n",
       "      <td>Clothing</td>\n",
       "      <td>1</td>\n",
       "      <td>300.08</td>\n",
       "      <td>Credit Card</td>\n",
       "      <td>South</td>\n",
       "      <td>Female</td>\n",
       "      <td>34</td>\n",
       "    </tr>\n",
       "    <tr>\n",
       "      <th>16680</th>\n",
       "      <td>12/31/2022</td>\n",
       "      <td>Cosmetics</td>\n",
       "      <td>3</td>\n",
       "      <td>121.98</td>\n",
       "      <td>Credit Card</td>\n",
       "      <td>East</td>\n",
       "      <td>Male</td>\n",
       "      <td>69</td>\n",
       "    </tr>\n",
       "    <tr>\n",
       "      <th>16681</th>\n",
       "      <td>12/31/2022</td>\n",
       "      <td>Clothing</td>\n",
       "      <td>2</td>\n",
       "      <td>600.16</td>\n",
       "      <td>Credit Card</td>\n",
       "      <td>North</td>\n",
       "      <td>Female</td>\n",
       "      <td>68</td>\n",
       "    </tr>\n",
       "    <tr>\n",
       "      <th>16682</th>\n",
       "      <td>12/31/2022</td>\n",
       "      <td>Shoes</td>\n",
       "      <td>1</td>\n",
       "      <td>600.17</td>\n",
       "      <td>Debit Card</td>\n",
       "      <td>North</td>\n",
       "      <td>Male</td>\n",
       "      <td>36</td>\n",
       "    </tr>\n",
       "    <tr>\n",
       "      <th>16683</th>\n",
       "      <td>12/31/2022</td>\n",
       "      <td>Clothing</td>\n",
       "      <td>5</td>\n",
       "      <td>1500.40</td>\n",
       "      <td>Cash</td>\n",
       "      <td>East</td>\n",
       "      <td>Female</td>\n",
       "      <td>56</td>\n",
       "    </tr>\n",
       "  </tbody>\n",
       "</table>\n",
       "<p>16684 rows × 8 columns</p>\n",
       "</div>"
      ],
      "text/plain": [
       "             Date   Category  Quantity    Sales         Type Region  Gender  \\\n",
       "0        1/1/2022   Clothing         5  1500.40         Cash  South    Male   \n",
       "1        1/1/2022  Cosmetics         5   203.30         Cash  South    Male   \n",
       "2        1/1/2022   Clothing         2   600.16   Debit Card  North  Female   \n",
       "3        1/1/2022   Clothing         1   300.08  Credit Card  North  Female   \n",
       "4        1/1/2022   Clothing         1   300.08   Debit Card   West  Female   \n",
       "...           ...        ...       ...      ...          ...    ...     ...   \n",
       "16679  12/31/2022   Clothing         1   300.08  Credit Card  South  Female   \n",
       "16680  12/31/2022  Cosmetics         3   121.98  Credit Card   East    Male   \n",
       "16681  12/31/2022   Clothing         2   600.16  Credit Card  North  Female   \n",
       "16682  12/31/2022      Shoes         1   600.17   Debit Card  North    Male   \n",
       "16683  12/31/2022   Clothing         5  1500.40         Cash   East  Female   \n",
       "\n",
       "       Age  \n",
       "0       65  \n",
       "1       55  \n",
       "2       35  \n",
       "3       18  \n",
       "4       63  \n",
       "...    ...  \n",
       "16679   34  \n",
       "16680   69  \n",
       "16681   68  \n",
       "16682   36  \n",
       "16683   56  \n",
       "\n",
       "[16684 rows x 8 columns]"
      ]
     },
     "metadata": {},
     "output_type": "display_data"
    }
   ],
   "source": [
    "import pandas as pd\n",
    "\n",
    "# Create a DataFrame from the sales_data csv file in the data directory\n",
    "df = pd.read_csv(\"data/sales_data.csv\")\n",
    "\n",
    "display(df)"
   ]
  },
  {
   "attachments": {},
   "cell_type": "markdown",
   "id": "32fc86d8",
   "metadata": {},
   "source": [
    "<p>The dataframe has eight columns:</p>\n",
    "<ol>\n",
    "<li>A <code>Date</code> column that holds the transaction date</li>\n",
    "<li><code>Region</code>, <code>Category</code>, <code>Type</code>, and <code>Gender</code> columns that contain categorical/text variables</li>\n",
    "<li>A <code>Quantity</code>  column that holds the number of units sold</li>\n",
    "<li>A <code>Sales</code> column that holds the total amount of a sale</li>\n",
    "<li>An <code>Age</code> column that holds the ace of the shopper</li>\n",
    "</ol>\n",
    "<p>We can also see that the DataFrame has 16684 rows, even though only the top five and bottome five rows are displayed.</p>\n",
    "<h3>Acessing cells, rows and columns</h3>\n",
    "<h4>Columns</h4>\n",
    "<ul>\n",
    "<li>To access a specific column, you use the index notation (like from lists and dictionaries) with square brackets (e.g. df[\"Sales\"])</li>\n",
    "<li>You can also use the dot notation (Notice that in this case, you don't have to use quotation marks, e.g. df.Units).</li>\n",
    "</ul>"
   ]
  },
  {
   "cell_type": "code",
   "execution_count": 4,
   "id": "7a091784",
   "metadata": {},
   "outputs": [
    {
     "name": "stdout",
     "output_type": "stream",
     "text": [
      "0      242.40\n",
      "1       15.15\n",
      "2       15.15\n",
      "3      378.75\n",
      "4      378.75\n",
      "        ...  \n",
      "995    573.44\n",
      "996    322.56\n",
      "997     35.84\n",
      "998     35.84\n",
      "999     36.84\n",
      "Name: Sales, Length: 1000, dtype: float64\n",
      "0      4\n",
      "1      1\n",
      "2      1\n",
      "3      5\n",
      "4      5\n",
      "      ..\n",
      "995    4\n",
      "996    3\n",
      "997    1\n",
      "998    1\n",
      "999    1\n",
      "Name: Units, Length: 1000, dtype: int64\n"
     ]
    }
   ],
   "source": [
    "#Get one column from data frame\n",
    "print(df[\"Sales\"])\n",
    "print(df.Quantity)"
   ]
  },
  {
   "attachments": {},
   "cell_type": "markdown",
   "id": "04af4904",
   "metadata": {},
   "source": [
    "<h4>Cells</h4>\n",
    "<ul>\n",
    "<li>To access individual cells, you use the column name followed by the row name.</li>\n",
    "</ul>"
   ]
  },
  {
   "cell_type": "code",
   "execution_count": 5,
   "id": "9e497434",
   "metadata": {},
   "outputs": [
    {
     "name": "stdout",
     "output_type": "stream",
     "text": [
      "Sales Row 995: 573.44\n"
     ]
    }
   ],
   "source": [
    "# Get the value in one cell\n",
    "print(\"Sales Row 995:\", df[\"Sales\"][995])"
   ]
  },
  {
   "attachments": {},
   "cell_type": "markdown",
   "id": "e1a5da83",
   "metadata": {},
   "source": [
    "<h4>Rows</h4>\n",
    "<ul>\n",
    "<li>You can access an entire row from a data frame using the .loc() method.</li>\n",
    "</ul>"
   ]
  },
  {
   "cell_type": "code",
   "execution_count": 6,
   "id": "4f09aefe",
   "metadata": {},
   "outputs": [
    {
     "name": "stdout",
     "output_type": "stream",
     "text": [
      "Row 995\n",
      "Date         12/23/2022\n",
      "Region             East\n",
      "Type       Books & Toys\n",
      "Units                 4\n",
      "Price            143.36\n",
      "Sales            573.44\n",
      "Payment            Cash\n",
      "Gender           Female\n",
      "Age                  49\n",
      "Name: 995, dtype: object\n"
     ]
    }
   ],
   "source": [
    "#Get one row from the daaframe\n",
    "print(\"Row 995\")\n",
    "print(df.loc[995])"
   ]
  },
  {
   "attachments": {},
   "cell_type": "markdown",
   "id": "f9abcd21",
   "metadata": {},
   "source": [
    "<h3 class=\"wp-block-heading\">Finding the Mean</h3>\n",
    "<ul>\n",
    "<li >Use, the <code>.mean()</code> method to calculate the mean of a Pandas DataFrame </li>\n",
    "<li>DataFrame methods (like <code>.mean()</code>) can be applied to a single column (representing a Series) or to multiple columns</li>\n",
    "</ul>"
   ]
  },
  {
   "cell_type": "code",
   "execution_count": 3,
   "id": "691b2557",
   "metadata": {},
   "outputs": [
    {
     "name": "stdout",
     "output_type": "stream",
     "text": [
      "857.978724526611\n"
     ]
    }
   ],
   "source": [
    "# Calculate the mean for the Sales column\n",
    "avg_sales = df['Sales'].mean()\n",
    "print(avg_sales)"
   ]
  },
  {
   "attachments": {},
   "cell_type": "markdown",
   "id": "ff716056",
   "metadata": {},
   "source": [
    "<ul>\n",
    "<li>Applying the <code>.mean()</code> method to a single column returns a single numeric value.</li>\n",
    "<li>This means we can easily assign it to a variable (avg_sales) so it can be reused throught your progam.</li>\n",
    "<li>You can also apply applied the <code>.mean()</code> method to an entire DataFrame.</li>\n",
    "<li>When applying a data analysis method to an entire dataframe you need to specify that only NUMERIC  columns should be analyzed. This requires you set the <code>numeric_only = True</code> parameter.</li>\n",
    "</ul>"
   ]
  },
  {
   "cell_type": "code",
   "execution_count": 4,
   "id": "1a0bc44a",
   "metadata": {},
   "outputs": [
    {
     "name": "stdout",
     "output_type": "stream",
     "text": [
      "Quantity      3.007193\n",
      "Sales       857.978725\n",
      "Age          43.500719\n",
      "dtype: float64\n",
      "Average of Sales: 857.978724526611\n"
     ]
    }
   ],
   "source": [
    "# Calculate the average for all numeric columns in a dataframe\n",
    "avg_df = df.mean(numeric_only=True)\n",
    "print(avg_df)\n",
    "\n",
    "print(\"Average of Sales:\", avg_df[\"Sales\"])"
   ]
  },
  {
   "attachments": {},
   "cell_type": "markdown",
   "id": "dab532ea",
   "metadata": {},
   "source": [
    "<ul>\n",
    "<li>This returns a pandas Series &ndash; which allows you to access individual values using the index.</li>\n",
    "</ul>\n",
    "<p >&nbsp;</p>\n",
    "<h3 >Reading Documentation</h3>\n",
    "<ul>\n",
    "<li>Knowing how to read documentation is one important way to improveyour programming skill (especially if you want to explore newer functionality that ChatGPT does not yet know about).</li>\n",
    "<li>The documentation for the <code>.mean()</code> method, can be found at <a href=\"https://pandas.pydata.org/docs/reference/api/pandas.DataFrame.mean.html\" target=\"_blank\" rel=\"noopener\">pandas.pydata.org/docs/reference/api/pandas.DataFrame.mean.html</a>.</li>\n",
    "</ul>\n",
    "<figure>\n",
    "<figcaption><img src=\"images/Documentation.PNG\" alt=\"The documentation for the Pandas .mean() method\"   /></figcaption>\n",
    "</figure>\n",
    "<p>There are four main sections to the pandas documentation:</p>\n",
    "<ol>\n",
    "<li><strong>Method Name</strong>: we can see here, for example that we&rsquo;re looking at the DataFrame method (rather than the Series) method</li>\n",
    "<li><strong>Description</strong>: this provides a plain English description of what the method does</li>\n",
    "<li><strong>Inputs Allowed</strong>: the different parameters the method allows (in Pandas not all parameters are required). It also describes what the paramers do and what the default values are (if a paramerer is not provided). For example, Pandas will, by default, skip over missing data.</li>\n",
    "<li><strong>Output Produced</strong>: what the method returns (i.e., what to expect)</li>\n",
    "</ol>\n",
    "<p>There are many other computational and descriptive statistics methods available in Pandas.  You can find most of them in the <a href=\"https://pandas.pydata.org/pandas-docs/stable/reference/frame.html#computations-descriptive-stats\" target=\"_blank\" rel=\"noopener\">DataFrame Documentation</a></p>\n",
    "<hr />\n",
    "\n",
    "<h4>References</h4>\n",
    "<ul>\n",
    "<li>Pandas DataFrame Documentation: <a href=\"https://pandas.pydata.org/pandas-docs/stable/reference/frame.html\" target=\"_blank\" rel=\"noopener\">https://pandas.pydata.org/pandas-docs/stable/reference/frame.html</a></li>\n",
    "<li>Summarizing and Analyzing a Pandas DataFrame, datagy.io, 1/5/22, <a href=\"https://datagy.io/pandas-exploratory-data-analysis/\" target=\"_blank\" rel=\"noopener\">https://datagy.io/pandas-exploratory-data-analysis/</a></li>\n",
    "<li>Pandas DataFrames, W3 Schools: <a href=\"https://www.w3schools.com/python/pandas/pandas_dataframes.asp\" target=\"_blank\" rel=\"noopener\">https://www.w3schools.com/python/pandas/pandas_dataframes.asp</a></li>\n",
    "</ul>"
   ]
  }
 ],
 "metadata": {
  "kernelspec": {
   "display_name": "Python 3",
   "language": "python",
   "name": "python3"
  },
  "language_info": {
   "codemirror_mode": {
    "name": "ipython",
    "version": 3
   },
   "file_extension": ".py",
   "mimetype": "text/x-python",
   "name": "python",
   "nbconvert_exporter": "python",
   "pygments_lexer": "ipython3",
   "version": "3.9.12"
  }
 },
 "nbformat": 4,
 "nbformat_minor": 5
}
