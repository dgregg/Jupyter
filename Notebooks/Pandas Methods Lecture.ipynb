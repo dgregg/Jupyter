{
 "cells": [
  {
   "cell_type": "code",
   "execution_count": 1,
   "id": "645c499d",
   "metadata": {},
   "outputs": [
    {
     "data": {
      "text/html": [
       "<div>\n",
       "<style scoped>\n",
       "    .dataframe tbody tr th:only-of-type {\n",
       "        vertical-align: middle;\n",
       "    }\n",
       "\n",
       "    .dataframe tbody tr th {\n",
       "        vertical-align: top;\n",
       "    }\n",
       "\n",
       "    .dataframe thead th {\n",
       "        text-align: right;\n",
       "    }\n",
       "</style>\n",
       "<table border=\"1\" class=\"dataframe\">\n",
       "  <thead>\n",
       "    <tr style=\"text-align: right;\">\n",
       "      <th></th>\n",
       "      <th>Date</th>\n",
       "      <th>Region</th>\n",
       "      <th>Type</th>\n",
       "      <th>Units</th>\n",
       "      <th>Sales</th>\n",
       "    </tr>\n",
       "  </thead>\n",
       "  <tbody>\n",
       "    <tr>\n",
       "      <th>0</th>\n",
       "      <td>2020-07-11</td>\n",
       "      <td>East</td>\n",
       "      <td>Children's Clothing</td>\n",
       "      <td>18.0</td>\n",
       "      <td>306.0</td>\n",
       "    </tr>\n",
       "    <tr>\n",
       "      <th>1</th>\n",
       "      <td>2020-09-23</td>\n",
       "      <td>North</td>\n",
       "      <td>Children's Clothing</td>\n",
       "      <td>14.0</td>\n",
       "      <td>448.0</td>\n",
       "    </tr>\n",
       "    <tr>\n",
       "      <th>2</th>\n",
       "      <td>2020-04-02</td>\n",
       "      <td>South</td>\n",
       "      <td>Women's Clothing</td>\n",
       "      <td>17.0</td>\n",
       "      <td>425.0</td>\n",
       "    </tr>\n",
       "    <tr>\n",
       "      <th>3</th>\n",
       "      <td>2020-02-28</td>\n",
       "      <td>East</td>\n",
       "      <td>Children's Clothing</td>\n",
       "      <td>26.0</td>\n",
       "      <td>832.0</td>\n",
       "    </tr>\n",
       "    <tr>\n",
       "      <th>4</th>\n",
       "      <td>2020-03-19</td>\n",
       "      <td>West</td>\n",
       "      <td>Women's Clothing</td>\n",
       "      <td>3.0</td>\n",
       "      <td>33.0</td>\n",
       "    </tr>\n",
       "    <tr>\n",
       "      <th>...</th>\n",
       "      <td>...</td>\n",
       "      <td>...</td>\n",
       "      <td>...</td>\n",
       "      <td>...</td>\n",
       "      <td>...</td>\n",
       "    </tr>\n",
       "    <tr>\n",
       "      <th>995</th>\n",
       "      <td>2020-02-11</td>\n",
       "      <td>East</td>\n",
       "      <td>Children's Clothing</td>\n",
       "      <td>35.0</td>\n",
       "      <td>735.0</td>\n",
       "    </tr>\n",
       "    <tr>\n",
       "      <th>996</th>\n",
       "      <td>2020-12-25</td>\n",
       "      <td>North</td>\n",
       "      <td>Men's Clothing</td>\n",
       "      <td>NaN</td>\n",
       "      <td>1155.0</td>\n",
       "    </tr>\n",
       "    <tr>\n",
       "      <th>997</th>\n",
       "      <td>2020-08-31</td>\n",
       "      <td>South</td>\n",
       "      <td>Men's Clothing</td>\n",
       "      <td>13.0</td>\n",
       "      <td>208.0</td>\n",
       "    </tr>\n",
       "    <tr>\n",
       "      <th>998</th>\n",
       "      <td>2020-08-23</td>\n",
       "      <td>South</td>\n",
       "      <td>Women's Clothing</td>\n",
       "      <td>17.0</td>\n",
       "      <td>493.0</td>\n",
       "    </tr>\n",
       "    <tr>\n",
       "      <th>999</th>\n",
       "      <td>2020-08-17</td>\n",
       "      <td>North</td>\n",
       "      <td>Women's Clothing</td>\n",
       "      <td>25.0</td>\n",
       "      <td>300.0</td>\n",
       "    </tr>\n",
       "  </tbody>\n",
       "</table>\n",
       "<p>1000 rows × 5 columns</p>\n",
       "</div>"
      ],
      "text/plain": [
       "           Date Region                 Type  Units   Sales\n",
       "0    2020-07-11   East  Children's Clothing   18.0   306.0\n",
       "1    2020-09-23  North  Children's Clothing   14.0   448.0\n",
       "2    2020-04-02  South     Women's Clothing   17.0   425.0\n",
       "3    2020-02-28   East  Children's Clothing   26.0   832.0\n",
       "4    2020-03-19   West     Women's Clothing    3.0    33.0\n",
       "..          ...    ...                  ...    ...     ...\n",
       "995  2020-02-11   East  Children's Clothing   35.0   735.0\n",
       "996  2020-12-25  North       Men's Clothing    NaN  1155.0\n",
       "997  2020-08-31  South       Men's Clothing   13.0   208.0\n",
       "998  2020-08-23  South     Women's Clothing   17.0   493.0\n",
       "999  2020-08-17  North     Women's Clothing   25.0   300.0\n",
       "\n",
       "[1000 rows x 5 columns]"
      ]
     },
     "metadata": {},
     "output_type": "display_data"
    }
   ],
   "source": [
    "import pandas as pd\n",
    "\n",
    "\n",
    "# Create a DataFrame from the sales_data csv file\n",
    "df = pd.read_csv(\"sales_data.csv\")\n",
    "\n",
    "display(df)"
   ]
  },
  {
   "cell_type": "code",
   "execution_count": 2,
   "id": "7a091784",
   "metadata": {},
   "outputs": [
    {
     "name": "stdout",
     "output_type": "stream",
     "text": [
      "0       306.0\n",
      "1       448.0\n",
      "2       425.0\n",
      "3       832.0\n",
      "4        33.0\n",
      "        ...  \n",
      "995     735.0\n",
      "996    1155.0\n",
      "997     208.0\n",
      "998     493.0\n",
      "999     300.0\n",
      "Name: Sales, Length: 1000, dtype: float64\n",
      "0      18.0\n",
      "1      14.0\n",
      "2      17.0\n",
      "3      26.0\n",
      "4       3.0\n",
      "       ... \n",
      "995    35.0\n",
      "996     NaN\n",
      "997    13.0\n",
      "998    17.0\n",
      "999    25.0\n",
      "Name: Units, Length: 1000, dtype: float64\n"
     ]
    }
   ],
   "source": [
    "#Get one column from data frame\n",
    "print(df[\"Sales\"])\n",
    "print(df.Units)"
   ]
  },
  {
   "cell_type": "code",
   "execution_count": 3,
   "id": "9e497434",
   "metadata": {},
   "outputs": [
    {
     "name": "stdout",
     "output_type": "stream",
     "text": [
      "Sales Row 995: 735.0\n"
     ]
    }
   ],
   "source": [
    "# Get the value in one cell\n",
    "print(\"Sales Row 995:\", df[\"Sales\"][995])"
   ]
  },
  {
   "cell_type": "code",
   "execution_count": 4,
   "id": "4f09aefe",
   "metadata": {},
   "outputs": [
    {
     "name": "stdout",
     "output_type": "stream",
     "text": [
      "Row 995\n",
      "Date               2020-02-11\n",
      "Region                   East\n",
      "Type      Children's Clothing\n",
      "Units                    35.0\n",
      "Sales                   735.0\n",
      "Name: 995, dtype: object\n"
     ]
    }
   ],
   "source": [
    "#Get one row from the daaframe\n",
    "print(\"Row 995\")\n",
    "print(df.loc[995])"
   ]
  },
  {
   "cell_type": "code",
   "execution_count": 5,
   "id": "691b2557",
   "metadata": {},
   "outputs": [
    {
     "name": "stdout",
     "output_type": "stream",
     "text": [
      "427.254\n"
     ]
    }
   ],
   "source": [
    "# Calculate the average for a single column\n",
    "avg_sales = df['Sales'].mean()\n",
    "print(avg_sales)"
   ]
  },
  {
   "cell_type": "code",
   "execution_count": 6,
   "id": "1a0bc44a",
   "metadata": {},
   "outputs": [
    {
     "name": "stdout",
     "output_type": "stream",
     "text": [
      "Units     19.638858\n",
      "Sales    427.254000\n",
      "dtype: float64\n",
      "Average of Sales: 427.254\n"
     ]
    }
   ],
   "source": [
    "# Calculate the average for an entire dataframe\n",
    "avg_df = df.mean(numeric_only=True)\n",
    "print(avg_df)\n",
    "\n",
    "print(\"Average of Sales:\", avg_df[\"Sales\"])"
   ]
  },
  {
   "cell_type": "code",
   "execution_count": null,
   "id": "40184cdc",
   "metadata": {},
   "outputs": [],
   "source": []
  }
 ],
 "metadata": {
  "kernelspec": {
   "display_name": "Python 3",
   "language": "python",
   "name": "python3"
  },
  "language_info": {
   "codemirror_mode": {
    "name": "ipython",
    "version": 3
   },
   "file_extension": ".py",
   "mimetype": "text/x-python",
   "name": "python",
   "nbconvert_exporter": "python",
   "pygments_lexer": "ipython3",
   "version": "3.8.8"
  }
 },
 "nbformat": 4,
 "nbformat_minor": 5
}
