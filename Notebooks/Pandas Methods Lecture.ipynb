{
 "cells": [
  {
   "attachments": {},
   "cell_type": "markdown",
   "id": "849aa055",
   "metadata": {},
   "source": [
    "<ul>\n",
    "<li>Let&rsquo;s load a sample Pandas DataFrame that we use throughout the lecture from this file: <a title=\"customer_sales_data.csv\" href=\"data/customer_sales_data.csv\" target=\"_blank\" rel=\"noopener\" >customer_sales_data.csv</a>.</li>\n",
    "<li>You can also load this content directly from the internet using this URL: <a href=\"https://github.com/dgregg/Jupyter/blob/master/Notebooks/data/customer_sales_data.csv\" target=\"_blank\" rel=\"noopener\">https://github.com/dgregg/Jupyter/blob/master/Notebooks/data/customer_sales_data.csv</a></li>\n",
    "</ul>"
   ]
  },
  {
   "cell_type": "code",
   "execution_count": 3,
   "id": "645c499d",
   "metadata": {},
   "outputs": [
    {
     "data": {
      "text/html": [
       "<div>\n",
       "<style scoped>\n",
       "    .dataframe tbody tr th:only-of-type {\n",
       "        vertical-align: middle;\n",
       "    }\n",
       "\n",
       "    .dataframe tbody tr th {\n",
       "        vertical-align: top;\n",
       "    }\n",
       "\n",
       "    .dataframe thead th {\n",
       "        text-align: right;\n",
       "    }\n",
       "</style>\n",
       "<table border=\"1\" class=\"dataframe\">\n",
       "  <thead>\n",
       "    <tr style=\"text-align: right;\">\n",
       "      <th></th>\n",
       "      <th>Date</th>\n",
       "      <th>Region</th>\n",
       "      <th>Type</th>\n",
       "      <th>Units</th>\n",
       "      <th>Price</th>\n",
       "      <th>Sales</th>\n",
       "      <th>Payment</th>\n",
       "      <th>Gender</th>\n",
       "      <th>Age</th>\n",
       "    </tr>\n",
       "  </thead>\n",
       "  <tbody>\n",
       "    <tr>\n",
       "      <th>0</th>\n",
       "      <td>1/6/2022</td>\n",
       "      <td>West</td>\n",
       "      <td>Books &amp; Toys</td>\n",
       "      <td>4</td>\n",
       "      <td>60.60</td>\n",
       "      <td>242.40</td>\n",
       "      <td>Cash</td>\n",
       "      <td>Female</td>\n",
       "      <td>45</td>\n",
       "    </tr>\n",
       "    <tr>\n",
       "      <th>1</th>\n",
       "      <td>1/24/2022</td>\n",
       "      <td>East</td>\n",
       "      <td>Books &amp; Toys</td>\n",
       "      <td>1</td>\n",
       "      <td>15.15</td>\n",
       "      <td>15.15</td>\n",
       "      <td>Debit Card</td>\n",
       "      <td>Female</td>\n",
       "      <td>54</td>\n",
       "    </tr>\n",
       "    <tr>\n",
       "      <th>2</th>\n",
       "      <td>2/5/2022</td>\n",
       "      <td>West</td>\n",
       "      <td>Books &amp; Toys</td>\n",
       "      <td>1</td>\n",
       "      <td>15.15</td>\n",
       "      <td>15.15</td>\n",
       "      <td>Cash</td>\n",
       "      <td>Female</td>\n",
       "      <td>50</td>\n",
       "    </tr>\n",
       "    <tr>\n",
       "      <th>3</th>\n",
       "      <td>2/12/2022</td>\n",
       "      <td>West</td>\n",
       "      <td>Books &amp; Toys</td>\n",
       "      <td>5</td>\n",
       "      <td>75.75</td>\n",
       "      <td>378.75</td>\n",
       "      <td>Debit Card</td>\n",
       "      <td>Female</td>\n",
       "      <td>22</td>\n",
       "    </tr>\n",
       "    <tr>\n",
       "      <th>4</th>\n",
       "      <td>2/23/2022</td>\n",
       "      <td>North</td>\n",
       "      <td>Books &amp; Toys</td>\n",
       "      <td>5</td>\n",
       "      <td>75.75</td>\n",
       "      <td>378.75</td>\n",
       "      <td>Cash</td>\n",
       "      <td>Female</td>\n",
       "      <td>67</td>\n",
       "    </tr>\n",
       "    <tr>\n",
       "      <th>...</th>\n",
       "      <td>...</td>\n",
       "      <td>...</td>\n",
       "      <td>...</td>\n",
       "      <td>...</td>\n",
       "      <td>...</td>\n",
       "      <td>...</td>\n",
       "      <td>...</td>\n",
       "      <td>...</td>\n",
       "      <td>...</td>\n",
       "    </tr>\n",
       "    <tr>\n",
       "      <th>995</th>\n",
       "      <td>12/23/2022</td>\n",
       "      <td>East</td>\n",
       "      <td>Books &amp; Toys</td>\n",
       "      <td>4</td>\n",
       "      <td>143.36</td>\n",
       "      <td>573.44</td>\n",
       "      <td>Cash</td>\n",
       "      <td>Female</td>\n",
       "      <td>49</td>\n",
       "    </tr>\n",
       "    <tr>\n",
       "      <th>996</th>\n",
       "      <td>12/24/2022</td>\n",
       "      <td>North</td>\n",
       "      <td>Books &amp; Toys</td>\n",
       "      <td>3</td>\n",
       "      <td>107.52</td>\n",
       "      <td>322.56</td>\n",
       "      <td>Credit Card</td>\n",
       "      <td>Male</td>\n",
       "      <td>58</td>\n",
       "    </tr>\n",
       "    <tr>\n",
       "      <th>997</th>\n",
       "      <td>12/29/2022</td>\n",
       "      <td>North</td>\n",
       "      <td>Books &amp; Toys</td>\n",
       "      <td>1</td>\n",
       "      <td>35.84</td>\n",
       "      <td>35.84</td>\n",
       "      <td>Credit Card</td>\n",
       "      <td>Female</td>\n",
       "      <td>38</td>\n",
       "    </tr>\n",
       "    <tr>\n",
       "      <th>998</th>\n",
       "      <td>12/31/2022</td>\n",
       "      <td>East</td>\n",
       "      <td>Books &amp; Toys</td>\n",
       "      <td>1</td>\n",
       "      <td>35.84</td>\n",
       "      <td>35.84</td>\n",
       "      <td>Debit Card</td>\n",
       "      <td>Female</td>\n",
       "      <td>59</td>\n",
       "    </tr>\n",
       "    <tr>\n",
       "      <th>999</th>\n",
       "      <td>8/17/2022</td>\n",
       "      <td>East</td>\n",
       "      <td>Books &amp; Toys</td>\n",
       "      <td>1</td>\n",
       "      <td>36.84</td>\n",
       "      <td>36.84</td>\n",
       "      <td>Debit Card</td>\n",
       "      <td>Female</td>\n",
       "      <td>60</td>\n",
       "    </tr>\n",
       "  </tbody>\n",
       "</table>\n",
       "<p>1000 rows × 9 columns</p>\n",
       "</div>"
      ],
      "text/plain": [
       "           Date Region          Type  Units   Price   Sales      Payment  \\\n",
       "0      1/6/2022   West  Books & Toys      4   60.60  242.40         Cash   \n",
       "1     1/24/2022   East  Books & Toys      1   15.15   15.15   Debit Card   \n",
       "2      2/5/2022   West  Books & Toys      1   15.15   15.15         Cash   \n",
       "3     2/12/2022   West  Books & Toys      5   75.75  378.75   Debit Card   \n",
       "4     2/23/2022  North  Books & Toys      5   75.75  378.75         Cash   \n",
       "..          ...    ...           ...    ...     ...     ...          ...   \n",
       "995  12/23/2022   East  Books & Toys      4  143.36  573.44         Cash   \n",
       "996  12/24/2022  North  Books & Toys      3  107.52  322.56  Credit Card   \n",
       "997  12/29/2022  North  Books & Toys      1   35.84   35.84  Credit Card   \n",
       "998  12/31/2022   East  Books & Toys      1   35.84   35.84   Debit Card   \n",
       "999   8/17/2022   East  Books & Toys      1   36.84   36.84   Debit Card   \n",
       "\n",
       "     Gender  Age  \n",
       "0    Female   45  \n",
       "1    Female   54  \n",
       "2    Female   50  \n",
       "3    Female   22  \n",
       "4    Female   67  \n",
       "..      ...  ...  \n",
       "995  Female   49  \n",
       "996    Male   58  \n",
       "997  Female   38  \n",
       "998  Female   59  \n",
       "999  Female   60  \n",
       "\n",
       "[1000 rows x 9 columns]"
      ]
     },
     "metadata": {},
     "output_type": "display_data"
    }
   ],
   "source": [
    "import pandas as pd\n",
    "\n",
    "# Create a DataFrame from the customer_sales_data csv file\n",
    "df = pd.read_csv(\"data/customer_sales_data.csv\")\n",
    "\n",
    "display(df)"
   ]
  },
  {
   "attachments": {},
   "cell_type": "markdown",
   "id": "32fc86d8",
   "metadata": {},
   "source": [
    "<p>The dataframe has nine different columns:</p>\n",
    "<ol>\n",
    "<li>A <code>Date</code> column that holds the transaction date</li>\n",
    "<li><code>Region</code>, <code>Type</code>, <code>Payment</code>, and <code>Gender</code> columns that contain categorical/text variables</li>\n",
    "<li>A <code>Units</code>  column that holds the number of units sold</li>\n",
    "<li>A <code>Price</code> column that holds the price per unit</li>\n",
    "<li>A <code>Sales</code> column that holds the total amount of a sale</li>\n",
    "<li>An <code>Age</code> column that holds the ace of the shopper</li>\n",
    "</ol>\n",
    "<p>We can also see that the DataFrame has 1000 rows, even though only the top five and bottome five rows are displayed.</p>\n",
    "<h3 class=\"wp-block-heading\">Locating cells, rows and columns</h3>\n",
    "<h4>Columns</h4>\n",
    "<ul>\n",
    "<li>To locate a specific column, you use the index notation (like from lists and dictionaries) with square brackets (e.g. df[\"Sales\"])</li>\n",
    "<li>You can also use the dot notation (Notice that in this case, you don't have to use quotation marks, e.g. df.Units).</li>\n",
    "</ul>"
   ]
  },
  {
   "cell_type": "code",
   "execution_count": 4,
   "id": "7a091784",
   "metadata": {},
   "outputs": [
    {
     "name": "stdout",
     "output_type": "stream",
     "text": [
      "0      242.40\n",
      "1       15.15\n",
      "2       15.15\n",
      "3      378.75\n",
      "4      378.75\n",
      "        ...  \n",
      "995    573.44\n",
      "996    322.56\n",
      "997     35.84\n",
      "998     35.84\n",
      "999     36.84\n",
      "Name: Sales, Length: 1000, dtype: float64\n",
      "0      4\n",
      "1      1\n",
      "2      1\n",
      "3      5\n",
      "4      5\n",
      "      ..\n",
      "995    4\n",
      "996    3\n",
      "997    1\n",
      "998    1\n",
      "999    1\n",
      "Name: Units, Length: 1000, dtype: int64\n"
     ]
    }
   ],
   "source": [
    "#Get one column from data frame\n",
    "print(df[\"Sales\"])\n",
    "print(df.Units)"
   ]
  },
  {
   "attachments": {},
   "cell_type": "markdown",
   "id": "04af4904",
   "metadata": {},
   "source": [
    "<h4>Cells</h4>\n",
    "<ul>\n",
    "<li>To access individual cells, you use the column name followed by the row name.</li>\n",
    "</ul>"
   ]
  },
  {
   "cell_type": "code",
   "execution_count": 5,
   "id": "9e497434",
   "metadata": {},
   "outputs": [
    {
     "name": "stdout",
     "output_type": "stream",
     "text": [
      "Sales Row 995: 573.44\n"
     ]
    }
   ],
   "source": [
    "# Get the value in one cell\n",
    "print(\"Sales Row 995:\", df[\"Sales\"][995])"
   ]
  },
  {
   "attachments": {},
   "cell_type": "markdown",
   "id": "e1a5da83",
   "metadata": {},
   "source": [
    "<h4>Rows</h4>\n",
    "<ul>\n",
    "<li>You can access an entire row from a data frame using the .loc() method.</li>\n",
    "</ul>"
   ]
  },
  {
   "cell_type": "code",
   "execution_count": 6,
   "id": "4f09aefe",
   "metadata": {},
   "outputs": [
    {
     "name": "stdout",
     "output_type": "stream",
     "text": [
      "Row 995\n",
      "Date         12/23/2022\n",
      "Region             East\n",
      "Type       Books & Toys\n",
      "Units                 4\n",
      "Price            143.36\n",
      "Sales            573.44\n",
      "Payment            Cash\n",
      "Gender           Female\n",
      "Age                  49\n",
      "Name: 995, dtype: object\n"
     ]
    }
   ],
   "source": [
    "#Get one row from the daaframe\n",
    "print(\"Row 995\")\n",
    "print(df.loc[995])"
   ]
  },
  {
   "attachments": {},
   "cell_type": "markdown",
   "id": "f9abcd21",
   "metadata": {},
   "source": [
    "<h3 class=\"wp-block-heading\">Finding the Mean</h3>\n",
    "<ul>\n",
    "<li >Use, the <code>.mean()</code> method to calculate the mean of a Pandas DataFrame </li>\n",
    "<li>DataFrame methods (like <code>.mean()</code>) can be applied to a single column (representing a Series) or to multiple columns</li>\n",
    "</ul>"
   ]
  },
  {
   "cell_type": "code",
   "execution_count": 7,
   "id": "691b2557",
   "metadata": {},
   "outputs": [
    {
     "name": "stdout",
     "output_type": "stream",
     "text": [
      "2490.3641899999798\n"
     ]
    }
   ],
   "source": [
    "# Calculate the average for the Sales column\n",
    "avg_sales = df['Sales'].mean()\n",
    "print(avg_sales)"
   ]
  },
  {
   "attachments": {},
   "cell_type": "markdown",
   "id": "ff716056",
   "metadata": {},
   "source": [
    "<ul>\n",
    "<li>Applying the <code>.mean()</code> method to a single column returns a single numeric value.</li>\n",
    "<li>This means we can easily assign it to a variable (avg_sales) so it can be reused throught your progam.</li>\n",
    "<li>You can also apply applied the <code>.mean()</code> method to an entire DataFrame.</li>\n",
    "<li>When applying a data analysis method to an entire dataframe you need to specify that only NUMERIC  columns should be analyzed. This requires you set the <code>numeric_only = True</code> parameter.</li>\n",
    "</ul>"
   ]
  },
  {
   "cell_type": "code",
   "execution_count": 8,
   "id": "1a0bc44a",
   "metadata": {},
   "outputs": [
    {
     "name": "stdout",
     "output_type": "stream",
     "text": [
      "Units       3.01800\n",
      "Price     666.34743\n",
      "Sales    2490.36419\n",
      "Age        43.41900\n",
      "dtype: float64\n",
      "Average of Sales: 2490.3641899999798\n"
     ]
    }
   ],
   "source": [
    "# Calculate the average for all numeric columns in a dataframe\n",
    "avg_df = df.mean(numeric_only=True)\n",
    "print(avg_df)\n",
    "\n",
    "print(\"Average of Sales:\", avg_df[\"Sales\"])"
   ]
  },
  {
   "attachments": {},
   "cell_type": "markdown",
   "id": "dab532ea",
   "metadata": {},
   "source": [
    "<ul>\n",
    "<li>This returns a pandas Series &ndash; which allows you to access individual values using the index.</li>\n",
    "<li>If we were to print out <code>avg_df['Sales']</code>, the same value would be returned as we got when we calculated the mean on the 'Sales' column by itself.</li>\n",
    "</ul>\n",
    "<p >&nbsp;</p>\n",
    "<h3 >Reading Documentation</h3>\n",
    "<ul>\n",
    "<li>Knowing how to read documentation is important if you want to increase your skill set and take on more complex programming tasks.</li>\n",
    "<li>The documentation for the <code>.mean()</code> method, can be found at <a href=\"https://pandas.pydata.org/docs/reference/api/pandas.DataFrame.mean.html\" target=\"_blank\" rel=\"noopener\">pandas.pydata.org/docs/reference/api/pandas.DataFrame.mean.html</a>.</li>\n",
    "</ul>\n",
    "<figure>\n",
    "<figcaption><img src=\"images/Documentation.PNG\" alt=\"The documentation for the Pandas .mean() method\"   /></figcaption>\n",
    "</figure>\n",
    "<p>There are four main sections to the pandas documentation:</p>\n",
    "<ol>\n",
    "<li><strong>Method Name</strong>: we can see here, for example that we&rsquo;re looking at the DataFrame method (rather than the Series) method</li>\n",
    "<li><strong>Description</strong>: this provides a plain English description of what the method does</li>\n",
    "<li><strong>Inputs Allowed</strong>: the different parameters the method allows (in Pandas not all parameters are required). It also describes what the paramers do and what the default values are (if a paramerer is not provided). For example, Pandas will, by default, skip over missing data.</li>\n",
    "<li><strong>Output Produced</strong>: what the method returns (i.e., what to expect)</li>\n",
    "</ol>\n",
    "<p>There are many other computational and descriptive statistics methods available in Pandas.  You can find most of them in the <a href=\"https://pandas.pydata.org/pandas-docs/stable/reference/frame.html#computations-descriptive-stats\" target=\"_blank\" rel=\"noopener\">DataFrame Documentation</a></p>\n",
    "<hr />\n",
    "\n",
    "<h4>References</h4>\n",
    "<ul>\n",
    "<li>Pandas DataFrame Documentation: <a href=\"https://pandas.pydata.org/pandas-docs/stable/reference/frame.html\" target=\"_blank\" rel=\"noopener\">https://pandas.pydata.org/pandas-docs/stable/reference/frame.html</a></li>\n",
    "<li>Summarizing and Analyzing a Pandas DataFrame, datagy.io, 1/5/22, <a href=\"https://datagy.io/pandas-exploratory-data-analysis/\" target=\"_blank\" rel=\"noopener\">https://datagy.io/pandas-exploratory-data-analysis/</a></li>\n",
    "<li>Pandas DataFrames, W3 Schools: <a href=\"https://www.w3schools.com/python/pandas/pandas_dataframes.asp\" target=\"_blank\" rel=\"noopener\">https://www.w3schools.com/python/pandas/pandas_dataframes.asp</a></li>\n",
    "</ul>"
   ]
  }
 ],
 "metadata": {
  "kernelspec": {
   "display_name": "Python 3",
   "language": "python",
   "name": "python3"
  },
  "language_info": {
   "codemirror_mode": {
    "name": "ipython",
    "version": 3
   },
   "file_extension": ".py",
   "mimetype": "text/x-python",
   "name": "python",
   "nbconvert_exporter": "python",
   "pygments_lexer": "ipython3",
   "version": "3.9.12"
  }
 },
 "nbformat": 4,
 "nbformat_minor": 5
}
