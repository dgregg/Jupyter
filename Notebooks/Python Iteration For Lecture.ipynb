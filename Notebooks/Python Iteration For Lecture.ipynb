{
 "cells": [
  {
   "attachments": {},
   "cell_type": "markdown",
   "metadata": {},
   "source": [
    "<h1>Python Iteration: For</h1>\n",
    "<p><img src=\"images/1line.png\" width=\"100%\"  /></p>\n",
    "<h3>for&nbsp;loops</h3>\n",
    "<img style=\"float: right;\" src=\"images/for.PNG\" width=\"307\" height=\"223\" alt=\"for loop flow chart showing explicit iteration variable (i) that changes and then printed each time through a loop.\" />\n",
    "<ul>\n",
    "    <li>Quite often we have a list of items of the lines in a file - effectively a finite set of things</li>\n",
    "    <li>We can write a loop to run the loop once for each of the items in a set using the Python for construct</li>\n",
    "    <li>These loops are called &ldquo;definite loops&rdquo; because they execute an exact number of times</li>\n",
    "    <li>We say that &ldquo;definite loops iterate through the members of a set&rdquo;</li>\n",
    "    <li>Definite loops (for loops) have explicit iteration variables that change each time through a loop.&nbsp; These iteration variables move through the sequence or set.</li>\n",
    "    <li>In Python, <strong>for</strong> loops behave more like foreach loops in other programming languages:</li>\n",
    "</ul>"
   ]
  },
  {
   "cell_type": "code",
   "execution_count": 2,
   "metadata": {},
   "outputs": [
    {
     "name": "stdout",
     "output_type": "stream",
     "text": [
      "5\n",
      "4\n",
      "3\n",
      "2\n",
      "1\n",
      "Blastoff!\n"
     ]
    }
   ],
   "source": [
    "for i in [5, 4, 3, 2, 1] :\n",
    "    print(i)\n",
    "print('Blastoff!')"
   ]
  },
  {
   "attachments": {},
   "cell_type": "markdown",
   "metadata": {},
   "source": [
    "<p>OR</p>"
   ]
  },
  {
   "cell_type": "code",
   "execution_count": 3,
   "metadata": {},
   "outputs": [
    {
     "name": "stdout",
     "output_type": "stream",
     "text": [
      "Happy New Year: Joseph\n",
      "Happy New Year: Glenn\n",
      "Happy New Year: Sally\n",
      "Done!\n"
     ]
    }
   ],
   "source": [
    "friends = ['Joseph', 'Glenn', 'Sally']\n",
    "for friend in friends :\n",
    "    print('Happy New Year:', friend)\n",
    "print('Done!')"
   ]
  },
  {
   "attachments": {},
   "cell_type": "markdown",
   "metadata": {},
   "source": [
    "<hr />\n",
    "<h3>in (the iteration variable)</h3>\n",
    "<ul>\n",
    "    <li>The iteration variable &ldquo;iterates&rdquo; through the sequence (ordered set)</li>\n",
    "    <li>The block (body) of code is executed once for each value <strong>in</strong> the sequence</li>\n",
    "    <li>The iteration variable moves through all of the values <strong>in</strong> the sequence</li>\n",
    "</ul>\n",
    "<p><img style=\"display: block; margin-left: auto; margin-right: auto;\" src=\"images/iteration.PNG\" alt=\"for i in [5, 4, 3, 2, 1], i is the iteration varible iterating through the sequence 5, 4, 3, 2, 1\" /></p>\n",
    "<hr />\n",
    "<h3>for with range()</h3>\n",
    "<ul>\n",
    "    <li>If you want a loop that runs a specified number of times BUT you don't have a list you want to run through, you can use the range() function with the for loop.</li>\n",
    "    <li>Function <code>range(min_value, max_value)</code> generates a sequence with numbers min_value, <code>min_value + 1</code>, ..., <code>max_value - 1</code>. The last number is not included.</li>\n",
    "    <li>This makes the for loop in Python work more like the for loop in JavaScript.\n",
    "        <ul>\n",
    "            <li><code>min_value</code> is the initial value of the counter variable.</li>\n",
    "            <li><code>max_value</code> would be the maximum value in the conditional expression (assuming you used &lt;)</li>\n",
    "            <li>The looping variable (<code>i</code>&nbsp;in the example below) is incremented by one each time the loop is run.</li>\n",
    "        </ul>\n",
    "    </li>\n",
    "</ul>\n",
    "<h4>For example:</h4>\n",
    "<ul>\n",
    "    <li><span>The range() function supplies the numbers from 1 to 100 for the for loop to calculate the sum of these numbers:</span></li>\n",
    "</ul>\n"
   ]
  },
  {
   "cell_type": "code",
   "execution_count": 5,
   "metadata": {},
   "outputs": [
    {
     "name": "stdout",
     "output_type": "stream",
     "text": [
      "5050\n"
     ]
    }
   ],
   "source": [
    "n = 101\n",
    "sum = 0\n",
    "for i in range(1,n):\n",
    "    sum = sum + i\n",
    "print(sum)"
   ]
  },
  {
   "attachments": {},
   "cell_type": "markdown",
   "metadata": {},
   "source": [
    "<ul>\n",
    "    <li\">The<span>&nbsp;</span><code >range()</code><span>&nbsp;</span>function can also be called with three arguments.</li>\n",
    "    <li>The first two arguments will be the start and stop values, and the third will be the<span>&nbsp;</span><span class=\"calibre1\"><em class=\"calibre5\">step argument</em></span>.</li>\n",
    "    <li\">The step is the amount that the variable is increased by after each iteration.</li>\n",
    "</ul>"
   ]
  },
  {
   "cell_type": "code",
   "execution_count": 6,
   "metadata": {},
   "outputs": [
    {
     "name": "stdout",
     "output_type": "stream",
     "text": [
      "0\n",
      "2\n",
      "4\n",
      "6\n",
      "8\n"
     ]
    }
   ],
   "source": [
    "for i in range(0, 10, 2):\n",
    "    print(i)"
   ]
  },
  {
   "attachments": {},
   "cell_type": "markdown",
   "metadata": {},
   "source": [
    "<h3>References</h3>\n",
    "<ul>\n",
    "    <li>This lecture contains content from &ldquo;Python for Everybody&rdquo; by Charles R Severance, licensed under CC BY-ND 3.0.</li>\n",
    "</ul>"
   ]
  }
 ],
 "metadata": {
  "kernelspec": {
   "display_name": "Python 3",
   "language": "python",
   "name": "python3"
  },
  "language_info": {
   "codemirror_mode": {
    "name": "ipython",
    "version": 3
   },
   "file_extension": ".py",
   "mimetype": "text/x-python",
   "name": "python",
   "nbconvert_exporter": "python",
   "pygments_lexer": "ipython3",
   "version": "3.8.8"
  }
 },
 "nbformat": 4,
 "nbformat_minor": 2
}
