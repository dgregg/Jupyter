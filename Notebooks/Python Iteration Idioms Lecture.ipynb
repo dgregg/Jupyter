{
 "cells": [
  {
   "attachments": {},
   "cell_type": "markdown",
   "metadata": {},
   "source": [
    "<h1>Python: Iterator Idioms</h1>\n",
    "<p><img src=\"images/1line.png\" alt=\"1line.png\" width=\"100%\"  /></p>\n",
    "<h3>Looping Through a List</h3>"
   ]
  },
  {
   "cell_type": "code",
   "execution_count": 1,
   "metadata": {},
   "outputs": [
    {
     "name": "stdout",
     "output_type": "stream",
     "text": [
      "Before\n",
      "9\n",
      "41\n",
      "12\n",
      "3\n",
      "74\n",
      "15\n",
      "After\n"
     ]
    }
   ],
   "source": [
    "print('Before')\n",
    "for thing in [9, 41, 12, 3, 74, 15] :\n",
    "    print(thing)\n",
    "print('After')"
   ]
  },
  {
   "attachments": {},
   "cell_type": "markdown",
   "metadata": {},
   "source": [
    "<hr />\n",
    "<h3>Counting in a Loop</h3>\n",
    "<ul>\n",
    "<li>To count how many times we execute a loop, we introduce a counter variable that starts at 0 and we add one to it each time through the loop.</li>\n",
    "</ul>"
   ]
  },
  {
   "cell_type": "code",
   "execution_count": 2,
   "metadata": {},
   "outputs": [
    {
     "name": "stdout",
     "output_type": "stream",
     "text": [
      "Before 0\n",
      "1 9\n",
      "2 41\n",
      "3 12\n",
      "4 3\n",
      "5 74\n",
      "6 15\n",
      "After 6\n"
     ]
    }
   ],
   "source": [
    "counter = 0\n",
    "print('Before', counter)\n",
    "for thing in [9, 41, 12, 3, 74, 15] :\n",
    "    counter = counter + 1\n",
    "    print(counter, thing)\n",
    "print('After', counter)"
   ]
  },
  {
   "attachments": {},
   "cell_type": "markdown",
   "metadata": {},
   "source": [
    "<hr />\n",
    "<h3>Summing in a Loop</h3>\n",
    "<ul>\n",
    "<li>To add up a value we encounter in a loop,&nbsp; we introduce a sum variable that starts at 0 and we add the value to the sum each time through the loop.</li>\n",
    "</ul>\n"
   ]
  },
  {
   "cell_type": "code",
   "execution_count": 3,
   "metadata": {},
   "outputs": [
    {
     "name": "stdout",
     "output_type": "stream",
     "text": [
      "Before 0\n",
      "9 9\n",
      "50 41\n",
      "62 12\n",
      "65 3\n",
      "139 74\n",
      "154 15\n",
      "After 154\n"
     ]
    }
   ],
   "source": [
    "total = 0\n",
    "print('Before', total)\n",
    "for thing in [9, 41, 12, 3, 74, 15] :\n",
    "    total = total + thing\n",
    "    print(total, thing)\n",
    "print('After', total)"
   ]
  },
  {
   "attachments": {},
   "cell_type": "markdown",
   "metadata": {},
   "source": [
    "<hr />\n",
    "<h3>Finding the Average in a Loop</h3>\n",
    "<ul>\n",
    "<li>An average just combines the counting and sum patterns and divides when the loop is done.</li>\n",
    "</ul>\n",
    "\n"
   ]
  },
  {
   "cell_type": "code",
   "execution_count": 4,
   "metadata": {},
   "outputs": [
    {
     "name": "stdout",
     "output_type": "stream",
     "text": [
      "Before 0 0\n",
      "1 9 9\n",
      "2 50 41\n",
      "3 62 12\n",
      "4 65 3\n",
      "5 139 74\n",
      "6 154 15\n",
      "After 6 154 25.666666666666668\n"
     ]
    }
   ],
   "source": [
    "count = 0\n",
    "sum = 0\n",
    "print('Before', count, sum)\n",
    "for value in [9, 41, 12, 3, 74, 15] :\n",
    "    count = count + 1\n",
    "    sum = sum + value\n",
    "    print(count, sum, value)\n",
    "print('After', count, sum, sum / count)"
   ]
  },
  {
   "attachments": {},
   "cell_type": "markdown",
   "metadata": {},
   "source": [
    "<hr />\n",
    "<h3>Filtering in a Loop</h3>\n",
    "<ul>\n",
    "<li>We use an if statement in the loop to catch / filter the values we are looking for.</li>\n",
    "<li>If we just want to search and know if a value was found, we use a variable that starts at False and is set to True as soon as we find what we are looking for.</li>\n",
    "</ul>\n"
   ]
  },
  {
   "cell_type": "code",
   "execution_count": 5,
   "metadata": {},
   "outputs": [
    {
     "name": "stdout",
     "output_type": "stream",
     "text": [
      "Before False\n",
      "After False\n"
     ]
    }
   ],
   "source": [
    "found = False\n",
    "print('Before', found)\n",
    "for value in [9, 41, 12, 3, 74, 15] :\n",
    "    if value == 20:\n",
    "       found = True\n",
    "       break\n",
    "print('After', found)"
   ]
  },
  {
   "attachments": {},
   "cell_type": "markdown",
   "metadata": {},
   "source": [
    "<hr />\n",
    "<h3>Finding the Largest (or smallest) Number</h3>\n",
    "<ul>\n",
    "<li>To find the largest (or smallest) value in a set we use a temporary variable to store the largest (or smallest) number we have found so far.</li>\n",
    "</ul>\n"
   ]
  },
  {
   "cell_type": "code",
   "execution_count": 6,
   "metadata": {},
   "outputs": [
    {
     "name": "stdout",
     "output_type": "stream",
     "text": [
      "Before -1\n",
      "9 9\n",
      "41 41\n",
      "41 12\n",
      "41 3\n",
      "74 74\n",
      "74 15\n",
      "After 74\n"
     ]
    }
   ],
   "source": [
    "largest_so_far = -1\n",
    "print('Before', largest_so_far)\n",
    "for the_num in [9, 41, 12, 3, 74, 15] :\n",
    "   if the_num > largest_so_far :\n",
    "     largest_so_far = the_num\n",
    "   print(largest_so_far, the_num)\n",
    "print('After', largest_so_far)"
   ]
  },
  {
   "attachments": {},
   "cell_type": "markdown",
   "metadata": {},
   "source": [
    "<ul>\n",
    "<li>How would we change this to make it find the smallest value in the list?</li>\n",
    "</ul>\n",
    "<hr />\n",
    "<h3>The &ldquo;is&rdquo; and &ldquo;is not&rdquo; Operators</h3>\n",
    "<ul>\n",
    "<li>Python has an <strong>is</strong> operator that can be used in logical expressions</li>\n",
    "<li>Implies &ldquo;is the same as&rdquo;</li>\n",
    "<li>Similar to, but stronger than ==</li>\n",
    "<li><strong>is not</strong> also is a logical operator</li>\n",
    "<li><span>The <strong>is</strong> operator</span><span>&nbsp;tests if two variables point the </span><em>same object</em><span>, not if two variables have the same value.</span></li>\n",
    "<li><span>Can be useful if you do not know beforehand what the range the numbers might be.&nbsp; <br />(-1 does not work as an initial smallest number&nbsp;if the set contains negative numbers).</span></li>\n",
    "</ul>\n"
   ]
  },
  {
   "cell_type": "code",
   "execution_count": 9,
   "metadata": {},
   "outputs": [
    {
     "name": "stdout",
     "output_type": "stream",
     "text": [
      "Before\n",
      "9 9\n",
      "9 41\n",
      "9 12\n",
      "3 3\n",
      "3 74\n",
      "3 15\n",
      "After 3\n"
     ]
    }
   ],
   "source": [
    "smallest = None\n",
    "print('Before')\n",
    "for value in [9, 41, 12, 3, 74, 15] :\n",
    "   if smallest is None :\n",
    "      smallest = value\n",
    "   elif value < smallest :\n",
    "      smallest = value\n",
    "   print(smallest, value)\n",
    "print('After', smallest)"
   ]
  }
 ],
 "metadata": {
  "kernelspec": {
   "display_name": "base",
   "language": "python",
   "name": "python3"
  },
  "language_info": {
   "codemirror_mode": {
    "name": "ipython",
    "version": 3
   },
   "file_extension": ".py",
   "mimetype": "text/x-python",
   "name": "python",
   "nbconvert_exporter": "python",
   "pygments_lexer": "ipython3",
   "version": "3.9.12"
  },
  "orig_nbformat": 4
 },
 "nbformat": 4,
 "nbformat_minor": 2
}
