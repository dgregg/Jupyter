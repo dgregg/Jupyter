{
 "cells": [
  {
   "attachments": {},
   "cell_type": "markdown",
   "metadata": {},
   "source": [
    "<h1>Local & Global Scope Lecture</h1><p><img src=\"images/1line.png\" width=\"100%\" /></p>\n",
    "<ul>\n",
    "<li>In Python there are two types of scope:\n",
    "<ul>\n",
    "<li>Local scope</li>\n",
    "<li>Global scope</li>\n",
    "</ul>\n",
    "</li>\n",
    "<li>Scope determines the accessibility (visibility) of these variables.</li>\n",
    "<li>Scopes matter for several reasons:\n",
    "<ul>\n",
    "<li>Code in the global scope cannot use any local variables.</li>\n",
    "<li>However, a local scope can access global variables.</li>\n",
    "<li>Code in a function&rsquo;s local scope cannot use variables in any other local scope.</li>\n",
    "<li>You can use the same name for different variables if they are in different scopes. That is, there can be a local variable named spam and a global variable also named spam.</li>\n",
    "</ul>\n",
    "</li>\n",
    "<li>Programmers avoid global variables.\n",
    "<ul>\n",
    "<li>If your program contained nothing but global variables and had a bug because of a variable being set to a bad value, then it would be hard to track down where this bad value was set.</li>\n",
    "</ul>\n",
    "</li>\n",
    "</ul>\n",
    "<p class=\"calibre4\"><span style=\"font-size: 1.8em;\">Local Variables Cannot Be Used in the Global Scope</span></p>\n",
    "<ul>\n",
    "<li class=\"calibre4\">Consider this program, which will cause an error when you run it:</li>\n",
    "</ul>"
   ]
  },
  {
   "cell_type": "code",
   "execution_count": 1,
   "metadata": {},
   "outputs": [
    {
     "ename": "NameError",
     "evalue": "name 'number' is not defined",
     "output_type": "error",
     "traceback": [
      "\u001b[1;31m---------------------------------------------------------------------------\u001b[0m",
      "\u001b[1;31mNameError\u001b[0m                                 Traceback (most recent call last)",
      "Cell \u001b[1;32mIn[1], line 4\u001b[0m\n\u001b[0;32m      2\u001b[0m     number \u001b[39m=\u001b[39m \u001b[39m31337\u001b[39m\n\u001b[0;32m      3\u001b[0m myFunction()\n\u001b[1;32m----> 4\u001b[0m \u001b[39mprint\u001b[39m(number)\n",
      "\u001b[1;31mNameError\u001b[0m: name 'number' is not defined"
     ]
    }
   ],
   "source": [
    "def myFunction():\n",
    "    number = 31337\n",
    "myFunction()\n",
    "print(number)"
   ]
  },
  {
   "attachments": {},
   "cell_type": "markdown",
   "metadata": {},
   "source": [
    "<h2 class=\"title3\">Local Scopes Cannot Use Variables in Other Local Scopes</h2>\n",
    "<ul>\n",
    "<li class=\"calibre4\">A new local scope is created whenever a function is called, including when a function is called from another function.</li>\n",
    "</ul>"
   ]
  },
  {
   "cell_type": "code",
   "execution_count": 2,
   "metadata": {},
   "outputs": [
    {
     "name": "stdout",
     "output_type": "stream",
     "text": [
      "99\n"
     ]
    }
   ],
   "source": [
    "def spam():\n",
    "    eggs = 99\n",
    "    bacon()\n",
    "    print(eggs)\n",
    "\n",
    "def bacon():\n",
    "    ham = 101\n",
    "    eggs = 0\n",
    "\n",
    "spam()"
   ]
  },
  {
   "attachments": {},
   "cell_type": "markdown",
   "metadata": {},
   "source": [
    "<ul>\n",
    "<li>When the program starts, the spam() function is called, and a local scope is created.\n",
    "<ul>\n",
    "<li>In the spam function:\n",
    "<ul>\n",
    "<li>The local variable eggs is set to 99.</li>\n",
    "<li>The bacon() function is called, and a second local scope is created (multiple local scopes can exist at the same time).</li>\n",
    "<li>In the bacon function:\n",
    "<ul>\n",
    "<li>The local variable ham is set to 101</li>\n",
    "<li>A local variable eggs&mdash;which is different from the one in spam()&rsquo;s local scope&mdash;is also created and set to 0.</li>\n",
    "<li>When bacon() returns, the local scope for that call is destroyed.</li>\n",
    "</ul>\n",
    "</li>\n",
    "</ul>\n",
    "</li>\n",
    "<li>The program execution continues in the spam() function\n",
    "<ul>\n",
    "<li>It prints the value of eggs, and since the local scope for the call to spam() still exists here, the eggs variable still has a value of 99.&nbsp;</li>\n",
    "</ul>\n",
    "</li>\n",
    "</ul>\n",
    "</li>\n",
    "</ul>\n",
    "<h2 class=\"title3\">Global Variables Can Be Read from a Local Scope</h2>"
   ]
  },
  {
   "cell_type": "code",
   "execution_count": 4,
   "metadata": {},
   "outputs": [
    {
     "name": "stdout",
     "output_type": "stream",
     "text": [
      "in spam 42\n",
      "last line 42\n"
     ]
    }
   ],
   "source": [
    "def spam():\n",
    "    print(\"in spam\", eggs)\n",
    "eggs = 42\n",
    "spam()\n",
    "print(\"last line\", eggs)"
   ]
  },
  {
   "attachments": {},
   "cell_type": "markdown",
   "metadata": {},
   "source": [
    "\n",
    "<ul>\n",
    "<li>When eggs is used in spam(), Python considers it a reference to the global variable eggs.</li>\n",
    "</ul>\n",
    "<div class=\"titlepage\">\n",
    "<div class=\"book\">\n",
    "<div class=\"book\">\n",
    "<h2 class=\"title3\">Local and Global Variables with the Same Name</h2>\n",
    "</div>\n",
    "</div>\n",
    "</div>\n",
    "<ul>\n",
    "<li class=\"calibre4\">To simplify your life, avoid using local variables that have the same name as a global variable or another local variable.</li>\n",
    "<li class=\"calibre4\">However, if you do, the local variable will be used in the local function.</li>\n",
    "<li class=\"calibre4\"><span>If you need to modify a global variable from within a function, use the&nbsp;</span><code class=\"literal1\">global </code><span>statement. </span></li>\n",
    "<li class=\"calibre4\"><span>If you have a line such as&nbsp;</span><code class=\"literal1\">global eggs</code><span>&nbsp;at the top of a function, it tells Python, &ldquo;In this function,&nbsp;</span><code class=\"literal1\">eggs</code><span>&nbsp;refers to the global variable, so don&rsquo;t create a local variable with this name.&rdquo;</span></li>\n",
    "</ul>\n"
   ]
  },
  {
   "cell_type": "code",
   "execution_count": 7,
   "metadata": {},
   "outputs": [
    {
     "name": "stdout",
     "output_type": "stream",
     "text": [
      "spam\n"
     ]
    }
   ],
   "source": [
    "def spam():\n",
    "     global eggs\n",
    "     eggs = 'spam'\n",
    "\n",
    "eggs = 'global'\n",
    "spam()\n",
    "print(eggs)"
   ]
  },
  {
   "attachments": {},
   "cell_type": "markdown",
   "metadata": {},
   "source": [
    "<ul>\n",
    "<li class=\"calibre4\">When you run this program, the final<span>&nbsp;</span><code class=\"literal1\">print()</code><span>&nbsp;</span>call will oproduce the output above.</li>\n",
    "<li>The global variable in the function spam is executed after the global variable created outside the function so the final values of eggs is spam.</li>\n",
    "</ul>"
   ]
  },
  {
   "attachments": {},
   "cell_type": "markdown",
   "metadata": {},
   "source": [
    "<h3>Local vs. Global Variable Rules</h3>\n",
    "<p class=\"calibre4\">There are four rules to tell whether a variable is in a local scope or global scope:</p>\n",
    "<div class=\"book\">\n",
    "<ol>\n",
    "<li class=\"calibre4\">If a variable is being used in the global scope (that is, outside of all functions), then it is always a global variable.</li>\n",
    "<li class=\"calibre4\">If there is a<span>&nbsp;</span><code class=\"literal1\">global</code><span>&nbsp;</span>statement for that variable in a function, it is a global variable.</li>\n",
    "<li class=\"calibre4\">Otherwise, if the variable is used in an assignment statement in the function, it is a local variable.</li>\n",
    "<li class=\"calibre4\">But if the variable is not used in an assignment statement, it is a global variable.</li>\n",
    "</ol>\n",
    "</div>\n",
    "<hr><h3>References</h3>\n",
    "<ul>\n",
    "            <li>This Juptyer Notebook contains content from “Automate the Boring Stuff with Python” By Al Sweigart. is licensed under <a href=\"https://creativecommons.org/licenses/by-nc-sa/3.0/\">CC BY-NC-SA 3.0</a>. </li></ul>\n"
   ]
  }
 ],
 "metadata": {
  "kernelspec": {
   "display_name": "base",
   "language": "python",
   "name": "python3"
  },
  "language_info": {
   "codemirror_mode": {
    "name": "ipython",
    "version": 3
   },
   "file_extension": ".py",
   "mimetype": "text/x-python",
   "name": "python",
   "nbconvert_exporter": "python",
   "pygments_lexer": "ipython3",
   "version": "3.11.4"
  },
  "orig_nbformat": 4
 },
 "nbformat": 4,
 "nbformat_minor": 2
}
