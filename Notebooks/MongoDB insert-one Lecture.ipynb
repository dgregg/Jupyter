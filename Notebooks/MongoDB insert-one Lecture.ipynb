{
 "cells": [
  {
   "attachments": {},
   "cell_type": "markdown",
   "metadata": {},
   "source": [
    "<h1>Insert Data in MongoDB</h1>\n",
    "<p><img src=\"images/1line.png\" width=100% /></p>\n",
    "\n",
    "<ul>\n",
    "<li>Data in MongoDB is represented and stored using&nbsp;JSON-Style&nbsp;documents.</li>\n",
    "<li>In PyMongo we use dictionaries to represent documents.</li>\n",
    "<li>Let's show an example of a PyMongo document below:</li>\n",
    "</ul>"
   ]
  },
  {
   "cell_type": "code",
   "execution_count": 1,
   "metadata": {},
   "outputs": [
    {
     "name": "stdout",
     "output_type": "stream",
     "text": [
      "Requirement already satisfied: pymongo in c:\\users\\dgregg\\anaconda3\\lib\\site-packages (3.12.1)\n"
     ]
    }
   ],
   "source": [
    "# Instaling PyMongo, this is the interface to connect to MongoDB with Python\n",
    "! python -m pip install pymongo"
   ]
  },
  {
   "cell_type": "code",
   "execution_count": 2,
   "metadata": {
    "collapsed": true
   },
   "outputs": [],
   "source": [
    "import pymongo\n",
    "import pprint\n",
    "import bson.objectid\n",
    "from datetime import datetime"
   ]
  },
  {
   "cell_type": "code",
   "execution_count": 4,
   "metadata": {},
   "outputs": [],
   "source": [
    " movie = { 'plot': 'Three men hammer on an anvil and pass a bottle of beer around.', \n",
    "           'genres': ['Short'], \n",
    "           'runtime': 1, \n",
    "           'cast': ['Charles Kayser', 'John Ott'], \n",
    "           'num_mflix_comments': 1, \n",
    "           'title': 'Blacksmith Scene', \n",
    "           'fullplot': 'A stationary camera ...', \n",
    "           'countries': ['USA'], \n",
    "           'released': datetime(1893, 5, 9, 0, 0), \n",
    "           'directors': ['William K.L. Dickson'], \n",
    "           'rated': 'UNRATED', \n",
    "           'year': 1893, \n",
    "           'imdb': {'rating': 6.2, 'votes': 1189, 'id': 5}, \n",
    "           'type': 'movie' }"
   ]
  },
  {
   "attachments": {},
   "cell_type": "markdown",
   "metadata": {},
   "source": [
    "Connect to Atlas\n",
    "---------------"
   ]
  },
  {
   "cell_type": "code",
   "execution_count": 5,
   "metadata": {
    "collapsed": true
   },
   "outputs": [],
   "source": [
    "# Replace os.environ.get(\"atlas-uri\") with your connection URI from the Atlas UI\n",
    "import os   # allows us to connect to operating system\n",
    "uri = os.environ.get(\"atlas-uri\")\n",
    "\n",
    "mc = pymongo.MongoClient(uri)\n",
    "mflix = mc['mflix']"
   ]
  },
  {
   "attachments": {},
   "cell_type": "markdown",
   "metadata": {},
   "source": [
    "Insert a single document\n",
    "------------------------\n",
    "<ul><li>To insert a document into a collection, we use the&nbsp;<code>insert_one()</code>&nbsp;method. As we saw earlier, a collection is similar to a table in RDBMS while a document is similar to a row.</li>"
   ]
  },
  {
   "cell_type": "code",
   "execution_count": 6,
   "metadata": {},
   "outputs": [],
   "source": [
    " \n",
    "result = mflix.movies.insert_one(movie)"
   ]
  },
  {
   "attachments": {},
   "cell_type": "markdown",
   "metadata": {},
   "source": [
    "<ul><li>When the document is inserted, a special key _id is generated and its unique to this document. We can print the document ID as shown below:</li>"
   ]
  },
  {
   "cell_type": "code",
   "execution_count": 10,
   "metadata": {
    "collapsed": true
   },
   "outputs": [
    {
     "name": "stdout",
     "output_type": "stream",
     "text": [
      "True\n"
     ]
    }
   ],
   "source": [
    "print(result.acknowledged)"
   ]
  },
  {
   "cell_type": "code",
   "execution_count": 9,
   "metadata": {
    "collapsed": true
   },
   "outputs": [
    {
     "name": "stdout",
     "output_type": "stream",
     "text": [
      "First movie key is: 649a17c065f957b1eed26bc4\n"
     ]
    }
   ],
   "source": [
    "print(\"First movie key is: {}\".format(result.inserted_id))"
   ]
  },
  {
   "attachments": {},
   "cell_type": "markdown",
   "metadata": {},
   "source": [
    "<ul><li>The movies collection is created after inserting the first document. We can confirm this using the list_collection_names method.</li></ul>"
   ]
  },
  {
   "cell_type": "code",
   "execution_count": 12,
   "metadata": {},
   "outputs": [
    {
     "data": {
      "text/plain": [
       "['movies']"
      ]
     },
     "execution_count": 12,
     "metadata": {},
     "output_type": "execute_result"
    }
   ],
   "source": [
    "mflix.list_collection_names()"
   ]
  },
  {
   "attachments": {},
   "cell_type": "markdown",
   "metadata": {},
   "source": [
    "<h3>Inserting Multiple Documents</h3><ul><li>We can insert multiple documents to a collection using the&nbsp;<code>insert_many()</code>&nbsp;method as shown below.</li></ul>"
   ]
  },
  {
   "cell_type": "code",
   "execution_count": 18,
   "metadata": {
    "collapsed": true
   },
   "outputs": [
    {
     "name": "stdout",
     "output_type": "stream",
     "text": [
      "The new movie IDs are [ObjectId('649a19bc65f957b1eed26bc7'), ObjectId('649a19bc65f957b1eed26bc8')]\n"
     ]
    }
   ],
   "source": [
    "m1 = { 'plot': 'Two youngsters from rival New York City gangs fall in love, ...',\n",
    "       'genres': ['Crime', 'Drama', 'Musical'], \n",
    "       'runtime': 152, \n",
    "       'rated': 'UNRATED', \n",
    "       'cast': ['Natalie Wood', 'Richard Beymer', 'Russ Tamblyn', 'Rita Moreno'], \n",
    "       'title': 'West Side Story', \n",
    "       'languages': ['English', 'Spanish'], \n",
    "       'released': datetime(1961, 12, 23, 0, 0), \n",
    "       'directors': ['Jerome Robbins', 'Robert Wise'], \n",
    "       'writers': ['Ernest Lehman (screenplay)', 'Arthur Laurents (book)', 'Jerome Robbins (play)'], \n",
    "       'awards': {'wins': 30, 'nominations': 7, 'text': 'Won 10 Oscars. Another 20 wins & 7 nominations.'}, \n",
    "       'year': 1961, \n",
    "       'imdb': {'rating': 7.6, 'votes': 66158, 'id': 55614}, \n",
    "       'countries': ['USA'], \n",
    "       'type': 'movie'} \n",
    "\n",
    "m2 = { \"plot\": \"Cynical look at a 50's rebellious Rocker who has to confront his future,...\",\n",
    "       \"genres\": [\"Action\", \"Drama\"],\n",
    "       \"runtime\": 95,\n",
    "       \"rated\": \"R\",\n",
    "       \"cast\": [  \"David Arquette\", \"John Hawkes\", \"Salma Hayek\", \"Jason Wiles\" ],\n",
    "       \"num_mflix_comments\": 1,\n",
    "       \"title\": \"Roadracers\",\n",
    "       \"languages\": [\"English\"],\n",
    "       \"released\": { \"date\": 774835200000 },\n",
    "       \"directors\": [\"Robert Rodriguez\"],\n",
    "       \"writers\": [\"Robert Rodriguez\", \"Tommy Nix\" ],\n",
    "       \"awards\": { \"wins\": 0, \"nominations\": 1, \"text\": \"1 nomination.\"  },\n",
    "       \"year\": 1994,\n",
    "       \"imdb\": { \"rating\": 6.7, \"votes\": 2036,  \"id\": 111002 },\n",
    "       \"countries\": [\"USA\"],\n",
    "       \"type\": \"movie\" }\n",
    "\n",
    "new_movies = mflix.movies.insert_many([m1, m2])\n",
    "print(\"The new movie IDs are {}\".format(new_movies.inserted_ids))"
   ]
  },
  {
   "attachments": {},
   "cell_type": "markdown",
   "metadata": {},
   "source": [
    "Insert document providing ``_id`` value\n",
    "-------------------------------------"
   ]
  },
  {
   "cell_type": "code",
   "execution_count": 20,
   "metadata": {
    "collapsed": true
   },
   "outputs": [
    {
     "name": "stdout",
     "output_type": "stream",
     "text": [
      "True\n",
      "'some_id_field'\n"
     ]
    }
   ],
   "source": [
    "# another fake comment\n",
    "comment = {\n",
    "    \"_id\": \"some_id_field\",\n",
    "    \"name\": \"some users's name\",\n",
    "    \"email\": \"someuser@email.com\",\n",
    "    \"movie_id\": bson.objectid.ObjectId(),\n",
    "    \"text\": \"Hi, it's me again!\",\n",
    "    \"date\": datetime.utcnow()\n",
    "}\n",
    "insert_result = mflix.comments.insert_one(comment)\n",
    "print(insert_result.acknowledged)\n",
    "print(insert_result.inserted_id)"
   ]
  },
  {
   "attachments": {},
   "cell_type": "markdown",
   "metadata": {},
   "source": [
    "Duplicate documents will raise error\n",
    "----------------------------------"
   ]
  },
  {
   "cell_type": "code",
   "execution_count": 21,
   "metadata": {
    "collapsed": true
   },
   "outputs": [
    {
     "ename": "DuplicateKeyError",
     "evalue": "E11000 duplicate key error collection: mflix.comments index: _id_ dup key: { _id: \"some_id_field\" }, full error: {'index': 0, 'code': 11000, 'errmsg': 'E11000 duplicate key error collection: mflix.comments index: _id_ dup key: { _id: \"some_id_field\" }', 'keyPattern': {'_id': 1}, 'keyValue': {'_id': 'some_id_field'}}",
     "output_type": "error",
     "traceback": [
      "\u001b[1;31m---------------------------------------------------------------------------\u001b[0m",
      "\u001b[1;31mDuplicateKeyError\u001b[0m                         Traceback (most recent call last)",
      "Cell \u001b[1;32mIn[21], line 4\u001b[0m\n\u001b[0;32m      1\u001b[0m comment \u001b[39m=\u001b[39m {\n\u001b[0;32m      2\u001b[0m     \u001b[39m\"\u001b[39m\u001b[39m_id\u001b[39m\u001b[39m\"\u001b[39m: \u001b[39m\"\u001b[39m\u001b[39msome_id_field\u001b[39m\u001b[39m\"\u001b[39m\n\u001b[0;32m      3\u001b[0m }\n\u001b[1;32m----> 4\u001b[0m insert_result \u001b[39m=\u001b[39m mflix\u001b[39m.\u001b[39;49mcomments\u001b[39m.\u001b[39;49minsert_one(comment)\n",
      "File \u001b[1;32mc:\\Users\\dawng\\AppData\\Local\\Programs\\Python\\Python311\\Lib\\site-packages\\pymongo\\collection.py:698\u001b[0m, in \u001b[0;36mCollection.insert_one\u001b[1;34m(self, document, bypass_document_validation, session)\u001b[0m\n\u001b[0;32m    694\u001b[0m     document[\u001b[39m\"\u001b[39m\u001b[39m_id\u001b[39m\u001b[39m\"\u001b[39m] \u001b[39m=\u001b[39m ObjectId()\n\u001b[0;32m    696\u001b[0m write_concern \u001b[39m=\u001b[39m \u001b[39mself\u001b[39m\u001b[39m.\u001b[39m_write_concern_for(session)\n\u001b[0;32m    697\u001b[0m \u001b[39mreturn\u001b[39;00m InsertOneResult(\n\u001b[1;32m--> 698\u001b[0m     \u001b[39mself\u001b[39;49m\u001b[39m.\u001b[39;49m_insert(document,\n\u001b[0;32m    699\u001b[0m                  write_concern\u001b[39m=\u001b[39;49mwrite_concern,\n\u001b[0;32m    700\u001b[0m                  bypass_doc_val\u001b[39m=\u001b[39;49mbypass_document_validation,\n\u001b[0;32m    701\u001b[0m                  session\u001b[39m=\u001b[39;49msession),\n\u001b[0;32m    702\u001b[0m     write_concern\u001b[39m.\u001b[39macknowledged)\n",
      "File \u001b[1;32mc:\\Users\\dawng\\AppData\\Local\\Programs\\Python\\Python311\\Lib\\site-packages\\pymongo\\collection.py:613\u001b[0m, in \u001b[0;36mCollection._insert\u001b[1;34m(self, docs, ordered, check_keys, manipulate, write_concern, op_id, bypass_doc_val, session)\u001b[0m\n\u001b[0;32m    611\u001b[0m \u001b[39m\u001b[39m\u001b[39m\"\"\"Internal insert helper.\"\"\"\u001b[39;00m\n\u001b[0;32m    612\u001b[0m \u001b[39mif\u001b[39;00m \u001b[39misinstance\u001b[39m(docs, abc\u001b[39m.\u001b[39mMapping):\n\u001b[1;32m--> 613\u001b[0m     \u001b[39mreturn\u001b[39;00m \u001b[39mself\u001b[39;49m\u001b[39m.\u001b[39;49m_insert_one(\n\u001b[0;32m    614\u001b[0m         docs, ordered, check_keys, manipulate, write_concern, op_id,\n\u001b[0;32m    615\u001b[0m         bypass_doc_val, session)\n\u001b[0;32m    617\u001b[0m ids \u001b[39m=\u001b[39m []\n\u001b[0;32m    619\u001b[0m \u001b[39mif\u001b[39;00m manipulate:\n",
      "File \u001b[1;32mc:\\Users\\dawng\\AppData\\Local\\Programs\\Python\\Python311\\Lib\\site-packages\\pymongo\\collection.py:602\u001b[0m, in \u001b[0;36mCollection._insert_one\u001b[1;34m(self, doc, ordered, check_keys, manipulate, write_concern, op_id, bypass_doc_val, session)\u001b[0m\n\u001b[0;32m    590\u001b[0m     result \u001b[39m=\u001b[39m sock_info\u001b[39m.\u001b[39mcommand(\n\u001b[0;32m    591\u001b[0m         \u001b[39mself\u001b[39m\u001b[39m.\u001b[39m__database\u001b[39m.\u001b[39mname,\n\u001b[0;32m    592\u001b[0m         command,\n\u001b[1;32m   (...)\u001b[0m\n\u001b[0;32m    597\u001b[0m         client\u001b[39m=\u001b[39m\u001b[39mself\u001b[39m\u001b[39m.\u001b[39m__database\u001b[39m.\u001b[39mclient,\n\u001b[0;32m    598\u001b[0m         retryable_write\u001b[39m=\u001b[39mretryable_write)\n\u001b[0;32m    600\u001b[0m     _check_write_command_response(result)\n\u001b[1;32m--> 602\u001b[0m \u001b[39mself\u001b[39;49m\u001b[39m.\u001b[39;49m__database\u001b[39m.\u001b[39;49mclient\u001b[39m.\u001b[39;49m_retryable_write(\n\u001b[0;32m    603\u001b[0m     acknowledged, _insert_command, session)\n\u001b[0;32m    605\u001b[0m \u001b[39mif\u001b[39;00m \u001b[39mnot\u001b[39;00m \u001b[39misinstance\u001b[39m(doc, RawBSONDocument):\n\u001b[0;32m    606\u001b[0m     \u001b[39mreturn\u001b[39;00m doc\u001b[39m.\u001b[39mget(\u001b[39m'\u001b[39m\u001b[39m_id\u001b[39m\u001b[39m'\u001b[39m)\n",
      "File \u001b[1;32mc:\\Users\\dawng\\AppData\\Local\\Programs\\Python\\Python311\\Lib\\site-packages\\pymongo\\mongo_client.py:1498\u001b[0m, in \u001b[0;36mMongoClient._retryable_write\u001b[1;34m(self, retryable, func, session)\u001b[0m\n\u001b[0;32m   1496\u001b[0m \u001b[39m\u001b[39m\u001b[39m\"\"\"Internal retryable write helper.\"\"\"\u001b[39;00m\n\u001b[0;32m   1497\u001b[0m \u001b[39mwith\u001b[39;00m \u001b[39mself\u001b[39m\u001b[39m.\u001b[39m_tmp_session(session) \u001b[39mas\u001b[39;00m s:\n\u001b[1;32m-> 1498\u001b[0m     \u001b[39mreturn\u001b[39;00m \u001b[39mself\u001b[39;49m\u001b[39m.\u001b[39;49m_retry_with_session(retryable, func, s, \u001b[39mNone\u001b[39;49;00m)\n",
      "File \u001b[1;32mc:\\Users\\dawng\\AppData\\Local\\Programs\\Python\\Python311\\Lib\\site-packages\\pymongo\\mongo_client.py:1384\u001b[0m, in \u001b[0;36mMongoClient._retry_with_session\u001b[1;34m(self, retryable, func, session, bulk)\u001b[0m\n\u001b[0;32m   1375\u001b[0m \u001b[39m\u001b[39m\u001b[39m\"\"\"Execute an operation with at most one consecutive retries\u001b[39;00m\n\u001b[0;32m   1376\u001b[0m \n\u001b[0;32m   1377\u001b[0m \u001b[39mReturns func()'s return value on success. On error retries the same\u001b[39;00m\n\u001b[1;32m   (...)\u001b[0m\n\u001b[0;32m   1380\u001b[0m \u001b[39mRe-raises any exception thrown by func().\u001b[39;00m\n\u001b[0;32m   1381\u001b[0m \u001b[39m\"\"\"\u001b[39;00m\n\u001b[0;32m   1382\u001b[0m retryable \u001b[39m=\u001b[39m (retryable \u001b[39mand\u001b[39;00m \u001b[39mself\u001b[39m\u001b[39m.\u001b[39mretry_writes\n\u001b[0;32m   1383\u001b[0m              \u001b[39mand\u001b[39;00m session \u001b[39mand\u001b[39;00m \u001b[39mnot\u001b[39;00m session\u001b[39m.\u001b[39min_transaction)\n\u001b[1;32m-> 1384\u001b[0m \u001b[39mreturn\u001b[39;00m \u001b[39mself\u001b[39;49m\u001b[39m.\u001b[39;49m_retry_internal(retryable, func, session, bulk)\n",
      "File \u001b[1;32mc:\\Users\\dawng\\AppData\\Local\\Programs\\Python\\Python311\\Lib\\site-packages\\pymongo\\mongo_client.py:1416\u001b[0m, in \u001b[0;36mMongoClient._retry_internal\u001b[1;34m(self, retryable, func, session, bulk)\u001b[0m\n\u001b[0;32m   1414\u001b[0m                 \u001b[39mraise\u001b[39;00m last_error\n\u001b[0;32m   1415\u001b[0m             retryable \u001b[39m=\u001b[39m \u001b[39mFalse\u001b[39;00m\n\u001b[1;32m-> 1416\u001b[0m         \u001b[39mreturn\u001b[39;00m func(session, sock_info, retryable)\n\u001b[0;32m   1417\u001b[0m \u001b[39mexcept\u001b[39;00m ServerSelectionTimeoutError:\n\u001b[0;32m   1418\u001b[0m     \u001b[39mif\u001b[39;00m is_retrying():\n\u001b[0;32m   1419\u001b[0m         \u001b[39m# The application may think the write was never attempted\u001b[39;00m\n\u001b[0;32m   1420\u001b[0m         \u001b[39m# if we raise ServerSelectionTimeoutError on the retry\u001b[39;00m\n\u001b[0;32m   1421\u001b[0m         \u001b[39m# attempt. Raise the original exception instead.\u001b[39;00m\n",
      "File \u001b[1;32mc:\\Users\\dawng\\AppData\\Local\\Programs\\Python\\Python311\\Lib\\site-packages\\pymongo\\collection.py:600\u001b[0m, in \u001b[0;36mCollection._insert_one.<locals>._insert_command\u001b[1;34m(session, sock_info, retryable_write)\u001b[0m\n\u001b[0;32m    588\u001b[0m     command[\u001b[39m'\u001b[39m\u001b[39mbypassDocumentValidation\u001b[39m\u001b[39m'\u001b[39m] \u001b[39m=\u001b[39m \u001b[39mTrue\u001b[39;00m\n\u001b[0;32m    590\u001b[0m result \u001b[39m=\u001b[39m sock_info\u001b[39m.\u001b[39mcommand(\n\u001b[0;32m    591\u001b[0m     \u001b[39mself\u001b[39m\u001b[39m.\u001b[39m__database\u001b[39m.\u001b[39mname,\n\u001b[0;32m    592\u001b[0m     command,\n\u001b[1;32m   (...)\u001b[0m\n\u001b[0;32m    597\u001b[0m     client\u001b[39m=\u001b[39m\u001b[39mself\u001b[39m\u001b[39m.\u001b[39m__database\u001b[39m.\u001b[39mclient,\n\u001b[0;32m    598\u001b[0m     retryable_write\u001b[39m=\u001b[39mretryable_write)\n\u001b[1;32m--> 600\u001b[0m _check_write_command_response(result)\n",
      "File \u001b[1;32mc:\\Users\\dawng\\AppData\\Local\\Programs\\Python\\Python311\\Lib\\site-packages\\pymongo\\helpers.py:230\u001b[0m, in \u001b[0;36m_check_write_command_response\u001b[1;34m(result)\u001b[0m\n\u001b[0;32m    228\u001b[0m write_errors \u001b[39m=\u001b[39m result\u001b[39m.\u001b[39mget(\u001b[39m\"\u001b[39m\u001b[39mwriteErrors\u001b[39m\u001b[39m\"\u001b[39m)\n\u001b[0;32m    229\u001b[0m \u001b[39mif\u001b[39;00m write_errors:\n\u001b[1;32m--> 230\u001b[0m     _raise_last_write_error(write_errors)\n\u001b[0;32m    232\u001b[0m error \u001b[39m=\u001b[39m result\u001b[39m.\u001b[39mget(\u001b[39m\"\u001b[39m\u001b[39mwriteConcernError\u001b[39m\u001b[39m\"\u001b[39m)\n\u001b[0;32m    233\u001b[0m \u001b[39mif\u001b[39;00m error:\n",
      "File \u001b[1;32mc:\\Users\\dawng\\AppData\\Local\\Programs\\Python\\Python311\\Lib\\site-packages\\pymongo\\helpers.py:211\u001b[0m, in \u001b[0;36m_raise_last_write_error\u001b[1;34m(write_errors)\u001b[0m\n\u001b[0;32m    209\u001b[0m error \u001b[39m=\u001b[39m write_errors[\u001b[39m-\u001b[39m\u001b[39m1\u001b[39m]\n\u001b[0;32m    210\u001b[0m \u001b[39mif\u001b[39;00m error\u001b[39m.\u001b[39mget(\u001b[39m\"\u001b[39m\u001b[39mcode\u001b[39m\u001b[39m\"\u001b[39m) \u001b[39m==\u001b[39m \u001b[39m11000\u001b[39m:\n\u001b[1;32m--> 211\u001b[0m     \u001b[39mraise\u001b[39;00m DuplicateKeyError(error\u001b[39m.\u001b[39mget(\u001b[39m\"\u001b[39m\u001b[39merrmsg\u001b[39m\u001b[39m\"\u001b[39m), \u001b[39m11000\u001b[39m, error)\n\u001b[0;32m    212\u001b[0m \u001b[39mraise\u001b[39;00m WriteError(error\u001b[39m.\u001b[39mget(\u001b[39m\"\u001b[39m\u001b[39merrmsg\u001b[39m\u001b[39m\"\u001b[39m), error\u001b[39m.\u001b[39mget(\u001b[39m\"\u001b[39m\u001b[39mcode\u001b[39m\u001b[39m\"\u001b[39m), error)\n",
      "\u001b[1;31mDuplicateKeyError\u001b[0m: E11000 duplicate key error collection: mflix.comments index: _id_ dup key: { _id: \"some_id_field\" }, full error: {'index': 0, 'code': 11000, 'errmsg': 'E11000 duplicate key error collection: mflix.comments index: _id_ dup key: { _id: \"some_id_field\" }', 'keyPattern': {'_id': 1}, 'keyValue': {'_id': 'some_id_field'}}"
     ]
    }
   ],
   "source": [
    "comment = {\n",
    "    \"_id\": \"some_id_field\"\n",
    "}\n",
    "insert_result = mflix.comments.insert_one(comment)"
   ]
  },
  {
   "attachments": {},
   "cell_type": "markdown",
   "metadata": {},
   "source": [
    "<hr />\n",
    "<h3>References</h3>\n",
    "<p>This lecture contains content from MongoDB Basics <a href=\"https://learn.mongodb.com/learning-paths/introduction-to-mongodb\" target=\"_blank\" rel=\"noopener\">https://learn.mongodb.com/learning-paths/introduction-to-mongodb</a></p>\n"
   ]
  }
 ],
 "metadata": {
  "kernelspec": {
   "display_name": "Python 3",
   "language": "python",
   "name": "python3"
  },
  "language_info": {
   "codemirror_mode": {
    "name": "ipython",
    "version": 3
   },
   "file_extension": ".py",
   "mimetype": "text/x-python",
   "name": "python",
   "nbconvert_exporter": "python",
   "pygments_lexer": "ipython3",
   "version": "3.8.8"
  }
 },
 "nbformat": 4,
 "nbformat_minor": 2
}
