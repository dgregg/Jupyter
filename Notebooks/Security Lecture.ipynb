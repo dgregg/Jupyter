{
 "cells": [
  {
   "attachments": {},
   "cell_type": "markdown",
   "metadata": {},
   "source": [
    "<h1>Overflow Errors</h1>\n",
    "<p><img src=\"images/1line.png\" dwidth=100% /></p>\n",
    "\n",
    "\n",
    "<h3>Buffer Overflow</h3>\n",
    "<ul>\n",
    "\n",
    "<li>A buffer overflow occurs when data is written beyond the boundaries of a fixed length buffer overwriting adjacent memory locations which may include other buffers, variables and program flow data.</li>\n",
    "<li>Considered the &ldquo;nuclear bomb&rdquo; of the software industry, the buffer overflow is one of the most persistent security vulnerabilities and frequently used attacks.</li>\n",
    "</ul>\n",
    "<h4>Risk: How Can It Happen?</h4>\n",
    "<ul>\n",
    "<li>Writing outside the bounds of a block of allocated memory can corrupt data, crash the program, or cause the execution of malicious code.</li>\n",
    "<li>Python, like Java, makes an effort to avoid buffer overflow by checking the bounds of a buffer (like an array) and preventing any access beyond those bounds.\n",
    "<ul>\n",
    "<li>In a memory unsafe programming language (e.g. C/C++), the program will look at wherever in memory the 11th element would be (if it existed) and try to access it.</li>\n",
    "</ul>\n",
    "</li>\n",
    "<li>No language is perfect, though, so it is essential for all programmers to understand the concepts described below.</li>\n",
    "</ul>\n",
    "<h4>Real-world Example:</h4>\n",
    "<ul>\n",
    "<li>Buffer overflow vulnerabilities were exploited by the the first major attack on the Internet. Known as the Morris worm, this attack infected more than 60,000 machines and shut down much of the Internet for several days in 1988.<br /><span style=\"font-size: xx-small;\">Carolyn Duffy Marsan. Morris Worm Turns 20: Look what it&rsquo;s Done Network World, October 30, 2008</span></li>\n",
    "</ul>\n",
    "<h4>Example in Code:</h4>\n",
    "<ul>\n",
    "<li>Though Python allows various ways to create and manipulate arrays, if you use arrays of a predetermined size you may cause the program to throw an IndexError to avoid a buffer overflow.</li>\n",
    "</ul>"
   ]
  },
  {
   "cell_type": "code",
   "execution_count": 2,
   "metadata": {},
   "outputs": [
    {
     "name": "stdout",
     "output_type": "stream",
     "text": [
      "0\n",
      "1\n",
      "2\n",
      "3\n",
      "4\n",
      "5\n",
      "6\n",
      "7\n",
      "8\n",
      "9\n"
     ]
    },
    {
     "ename": "IndexError",
     "evalue": "list assignment index out of range",
     "output_type": "error",
     "traceback": [
      "\u001b[1;31m---------------------------------------------------------------------------\u001b[0m",
      "\u001b[1;31mIndexError\u001b[0m                                Traceback (most recent call last)",
      "\u001b[1;32m<ipython-input-2-0cf9b63290a6>\u001b[0m in \u001b[0;36m<module>\u001b[1;34m\u001b[0m\n\u001b[0;32m      1\u001b[0m \u001b[0mbuffer\u001b[0m\u001b[1;33m=\u001b[0m\u001b[1;33m[\u001b[0m\u001b[1;32mNone\u001b[0m\u001b[1;33m]\u001b[0m\u001b[1;33m*\u001b[0m\u001b[1;36m10\u001b[0m\u001b[1;33m\u001b[0m\u001b[1;33m\u001b[0m\u001b[0m\n\u001b[0;32m      2\u001b[0m \u001b[1;32mfor\u001b[0m \u001b[0mi\u001b[0m \u001b[1;32min\u001b[0m \u001b[0mrange\u001b[0m\u001b[1;33m(\u001b[0m\u001b[1;36m0\u001b[0m\u001b[1;33m,\u001b[0m\u001b[1;36m14\u001b[0m\u001b[1;33m)\u001b[0m\u001b[1;33m:\u001b[0m\u001b[1;33m\u001b[0m\u001b[1;33m\u001b[0m\u001b[0m\n\u001b[1;32m----> 3\u001b[1;33m     \u001b[0mbuffer\u001b[0m\u001b[1;33m[\u001b[0m\u001b[0mi\u001b[0m\u001b[1;33m]\u001b[0m\u001b[1;33m=\u001b[0m\u001b[0mi\u001b[0m\u001b[1;33m\u001b[0m\u001b[1;33m\u001b[0m\u001b[0m\n\u001b[0m\u001b[0;32m      4\u001b[0m     \u001b[0mprint\u001b[0m\u001b[1;33m(\u001b[0m\u001b[0mbuffer\u001b[0m\u001b[1;33m[\u001b[0m\u001b[0mi\u001b[0m\u001b[1;33m]\u001b[0m\u001b[1;33m)\u001b[0m\u001b[1;33m\u001b[0m\u001b[1;33m\u001b[0m\u001b[0m\n",
      "\u001b[1;31mIndexError\u001b[0m: list assignment index out of range"
     ]
    }
   ],
   "source": [
    "buffer=[None]*10\n",
    "for i in range(0,14):\n",
    "    buffer[i]=i\n",
    "    print(buffer[i])"
   ]
  },
  {
   "attachments": {},
   "cell_type": "markdown",
   "metadata": {},
   "source": [
    "<ul>\n",
    "<li>In the code above, buffer&nbsp;has 10 elements&nbsp;but the loop attempts to writes through 15 elements, which results in an error.</li>\n",
    "</ul>\n",
    "<p><em><strong>Code Responsibly&ndash; How Can I Avoid Buffer Overflow?</strong></em></p>\n",
    "<ul>\n",
    "<li><em>Make sure you have enough space:</em>\n",
    "<ul>\n",
    "<li>Before copying data to a fixed size block, make sure it is large enough to hold the data that you are going to copy.</li>\n",
    "<li>If it is not large enough, do not copy more data than your available space can hold.</li>\n",
    "<li>If your program is not able to continue properly after filling the available space, you may have to find some way to recover from the error.</li>\n",
    "</ul>\n",
    "</li>\n",
    "<li><em>Validate indices:</em>\n",
    "<ul>\n",
    "<li>If you have an integer variable, verify that it is within the proper bounds before you use it as an index to an array.</li>\n",
    "<li>This validation is particularly important for any values that might have been provided as user input or other untrusted input, such as information that might be read from a file or from a network connection.</li>\n",
    "</ul>\n",
    "</li>\n",
    "<li><em>Use alternative data structures that reduce the risk of overflows: </em>\n",
    "<ul>\n",
    "<li>When possible, use lists in Python without defining the initial size and</li>\n",
    "<li>Use the .append method to add elements which can reduce your risk of buffer overflow vulnerabilities.</li>\n",
    "</ul>\n",
    "</li>\n",
    "</ul>"
   ]
  },
  {
   "cell_type": "code",
   "execution_count": 3,
   "metadata": {},
   "outputs": [
    {
     "name": "stdout",
     "output_type": "stream",
     "text": [
      "0\n",
      "1\n",
      "2\n",
      "3\n",
      "4\n",
      "5\n",
      "6\n",
      "7\n",
      "8\n",
      "9\n",
      "10\n",
      "11\n",
      "12\n",
      "13\n"
     ]
    }
   ],
   "source": [
    "buffer=[]\n",
    "for i in range(0,14):\n",
    "    buffer.append(i)\n",
    "    print(buffer[i])"
   ]
  },
  {
   "attachments": {},
   "cell_type": "markdown",
   "metadata": {},
   "source": [
    "<h3>Arithmetic Overflow</h3>\n",
    "<ul>\n",
    "<li>Integer values that are too large or too small may fall outside the allowable bounds for their data type, leading to unpredictable problems that can both reduce the robustness of your code and lead to potential security problems.\n",
    "<ul>\n",
    "<li>Declaring a variable as type <strong>int</strong> in most programming languages allocates a fixed amount of space in memory.</li>\n",
    "<li>Most languages include several integer types, including <strong>short, int, long,</strong> etc., to allow for less or more storage.</li>\n",
    "<li>The amount of space allocated limits the range of values that can be stored. For example, a 32-bit signed <strong>int</strong> variable can hold values from -2<sup>31</sup> through 2<sup>31</sup>-1.</li>\n",
    "</ul>\n",
    "</li>\n",
    "<li>Input or mathematical operations such as addition, subtraction, and multiplication may lead to values that are outside of this range.\n",
    "<ul>\n",
    "<li>This results in an integer error or overflow, which causes undefined behavior and the resulting value will likely not be what the programmer intended. Integer overflow is a common cause of software errors and vulnerabilities.</li>\n",
    "</ul>\n",
    "</li>\n",
    "</ul>\n",
    "<h4>Risk: How Can It Happen?</h4>\n",
    "<ul>\n",
    "<li>Not checking for overflow</li>\n",
    "<li>Mixing integer types of different ranges</li>\n",
    "<li>Mixing unsigned and signed integers</li>\n",
    "</ul>\n",
    "<h3>Arithmetic Overflow in Python</h3>\n",
    "<ul>\n",
    "<li>In<strong> Python</strong>, integers have <em>arbitrary precision</em> and therefore we can represent an arbitrarily large range of integers (only limited by memory available).\n",
    "<ul>\n",
    "<li>This means integers CANNOT overflow in pure Python!</li>\n",
    "</ul>\n",
    "</li>\n",
    "</ul>"
   ]
  },
  {
   "cell_type": "code",
   "execution_count": 4,
   "metadata": {},
   "outputs": [
    {
     "data": {
      "text/plain": [
       "1606938044258990275541962092341162602522202993782792835301376"
      ]
     },
     "execution_count": 4,
     "metadata": {},
     "output_type": "execute_result"
    }
   ],
   "source": [
    "# arbitrary precision of integers in python\n",
    "2 ** 200"
   ]
  },
  {
   "attachments": {},
   "cell_type": "markdown",
   "metadata": {},
   "source": [
    "<h3>Arithmetic Overflow in Numpy &amp; Pandas</h3>\n",
    "<ul>\n",
    "<li>Integers CAN overflow if the operations are done in the pydata stack (<strong>numpy/pandas</strong>), because they use C-style fixed-precision integers</li>\n",
    "<li>The example below creates a numpy array which will store&nbsp; a 64-bit integer: therefore <span id=\"MathJax-Element-7-Frame\" class=\"MathJax\" style=\"position: relative;\" role=\"presentation\" data-mathml=\"&lt;math xmlns=&quot;http://www.w3.org/1998/Math/MathML&quot;&gt;&lt;msup&gt;&lt;mn&gt;2&lt;/mn&gt;&lt;mrow class=&quot;MJX-TeXAtom-ORD&quot;&gt;&lt;mn&gt;63&lt;/mn&gt;&lt;/mrow&gt;&lt;/msup&gt;&lt;mo&gt;&amp;#x2212;&lt;/mo&gt;&lt;mn&gt;1&lt;/mn&gt;&lt;/math&gt;\"><span id=\"MathJax-Span-43\" class=\"math\" style=\"width: 3.516em; display: inline-block;\"><span style=\"display: inline-block; position: relative; width: 2.999em; height: 0px; font-size: 116%;\"><span style=\"position: absolute; top: -2.296em; left: 0em;\"><strong><span id=\"MathJax-Span-44\" class=\"mrow\"><span id=\"MathJax-Span-45\" class=\"msubsup\"><span style=\"display: inline-block; position: relative; width: 1.282em; height: 0px;\"><span style=\"position: absolute; top: -3.982em; left: 0em;\"><span id=\"MathJax-Span-46\" class=\"mn\">2</span></span><span style=\"position: absolute; top: -4.375em; left: 0.5em;\"><span id=\"MathJax-Span-47\" class=\"texatom\"><span id=\"MathJax-Span-48\" class=\"mrow\"><span id=\"MathJax-Span-49\" class=\"mn\">63</span></span></span></span></span></span><span id=\"MathJax-Span-50\" class=\"mo\">&minus;</span><span id=\"MathJax-Span-51\" class=\"mn\">1</span></span></strong></span></span></span></span> is actually the largest integer it can hold.</li>\n",
    "</ul>"
   ]
  },
  {
   "cell_type": "code",
   "execution_count": 5,
   "metadata": {},
   "outputs": [
    {
     "data": {
      "text/plain": [
       "array([9223372036854775807, 9223372036854775807], dtype=int64)"
      ]
     },
     "execution_count": 5,
     "metadata": {},
     "output_type": "execute_result"
    }
   ],
   "source": [
    "import numpy as np\n",
    "\n",
    "# Numpy and arithmetic overflowwith addition\n",
    "a = np.array([2**63 - 1, 2**63 - 1])\n",
    "a"
   ]
  },
  {
   "attachments": {},
   "cell_type": "markdown",
   "metadata": {},
   "source": [
    "<h4>Creating an Arithmetic Overflow</h4>\n",
    "<ul>\n",
    "<li>Adding 1 to the array will <em>silently</em> cause an overflow:</li>\n",
    "</ul>"
   ]
  },
  {
   "cell_type": "code",
   "execution_count": 6,
   "metadata": {},
   "outputs": [
    {
     "data": {
      "text/plain": [
       "array([-9223372036854775808, -9223372036854775808], dtype=int64)"
      ]
     },
     "execution_count": 6,
     "metadata": {},
     "output_type": "execute_result"
    }
   ],
   "source": [
    "a + 1"
   ]
  },
  {
   "attachments": {},
   "cell_type": "markdown",
   "metadata": {},
   "source": [
    "<ul>\n",
    "<li>Summing the arrays will also generate an error</li>\n",
    "</ul>"
   ]
  },
  {
   "cell_type": "code",
   "execution_count": 7,
   "metadata": {},
   "outputs": [
    {
     "data": {
      "text/plain": [
       "-2"
      ]
     },
     "execution_count": 7,
     "metadata": {},
     "output_type": "execute_result"
    }
   ],
   "source": [
    "# Numpy and arithmetic overflow with sum\n",
    "a = np.array([2**63 - 1, 2**63 - 1])\n",
    "a.sum()"
   ]
  },
  {
   "attachments": {},
   "cell_type": "markdown",
   "metadata": {},
   "source": [
    "<p>Mean DOES work because it converts the numbers to floats before doing the addition:</p>"
   ]
  },
  {
   "cell_type": "code",
   "execution_count": 8,
   "metadata": {},
   "outputs": [
    {
     "data": {
      "text/plain": [
       "9.223372036854776e+18"
      ]
     },
     "execution_count": 8,
     "metadata": {},
     "output_type": "execute_result"
    }
   ],
   "source": [
    "# Numpy and no arithmetic overflow\n",
    "a = np.array([2**63 - 1, 2**63 - 1])\n",
    "a.mean()"
   ]
  },
  {
   "attachments": {},
   "cell_type": "markdown",
   "metadata": {},
   "source": [
    "<h3>Take-away</h3>\n",
    "<ul>\n",
    "<li>You still needs to be careful with precision issues in Python especially when using the pydata stack (numpy/pandas).</li>\n",
    "<li><em>Validate input:</em>\n",
    "<ul>\n",
    "<li>If you have an integer variable, verify that it is within the proper bounds before you add it to a NumPy array.</li>\n",
    "<li>When doing mathematical operations in NumPy verify the size of numbers BEFORE completing the operation</li>\n",
    "</ul>\n",
    "</li>\n",
    "<li><em>Use alternative data structures that reduce the risk of aritmetic overflows: </em>\n",
    "<ul>\n",
    "<li style=\"list-style-type: none;\">\n",
    "<ul>\n",
    "<li>When possible, use lists in Python instead of NumPy - especially when working with numbers that may become large.</li>\n",
    "</ul>\n",
    "</li>\n",
    "</ul>\n",
    "</li>\n",
    "</ul>\n",
    "<hr />\n",
    "<h3>References</h3>\n",
    "<p><a href=\"https://cisserv1.towson.edu/~cssecinj/modules/cs1/buffer-overflow-cs1-python/\" target=\"_blank\" rel=\"noopener\">https://cisserv1.towson.edu/~cssecinj/modules/cs1/buffer-overflow-cs1-python/</a>&nbsp;</p>\n",
    "<p><a href=\"https://cisserv1.towson.edu/~cyber4all/modules/nanomodules/Integer_Error-CS2_Java.html\" target=\"_blank\" rel=\"noopener\">https://cisserv1.towson.edu/~cyber4all/modules/nanomodules/Integer_Error-CS2_Java.html</a>&nbsp;</p>"
   ]
  }
 ],
 "metadata": {
  "kernelspec": {
   "display_name": "Python 3",
   "language": "python",
   "name": "python3"
  },
  "language_info": {
   "codemirror_mode": {
    "name": "ipython",
    "version": 3
   },
   "file_extension": ".py",
   "mimetype": "text/x-python",
   "name": "python",
   "nbconvert_exporter": "python",
   "pygments_lexer": "ipython3",
   "version": "3.7.3"
  }
 },
 "nbformat": 4,
 "nbformat_minor": 2
}
