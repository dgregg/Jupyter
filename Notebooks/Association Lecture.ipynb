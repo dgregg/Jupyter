{
 "cells": [
  {
   "cell_type": "code",
   "execution_count": 11,
   "metadata": {},
   "outputs": [],
   "source": [
    "import datetime\n",
    "\n",
    "class Author:\n",
    "    \n",
    "    def __init__(self, n, e):\n",
    "        self.articles = list()\n",
    "        self.name = n\n",
    "        self.email = e\n",
    "        \n",
    "    @property\n",
    "    def email(self):\n",
    "        return self.__email\n",
    "\n",
    "    @email.setter\n",
    "    def email(self, x):\n",
    "        x = str(x)\n",
    "        if x.find(\"@\") > 0 :\n",
    "            self.__email = x    \n",
    "\n",
    "    def add_article(self, art) :\n",
    "        self.articles.append(art)\n",
    "        \n",
    "    def display_articles(self) :\n",
    "        for article in self.articles :\n",
    "            print(article)\n",
    "\n",
    "    def number_articles(self) :\n",
    "        print(\"Number of articles by\", self.name, \":\", len(self.articles))\n",
    "        \n",
    "class Article:\n",
    "    def __init__(self, n, e, t, p, d):\n",
    "        self.author = Author(n, e)\n",
    "        self.title = t\n",
    "        self.pub = p\n",
    "        self.date = d\n",
    "        \n",
    "    def __str__(self):\n",
    "        return self.author.name + \", '\" + self.title + \"', \" + self.pub + \", \" + str(self.date)\n",
    "    \n",
    "\n"
   ]
  },
  {
   "cell_type": "code",
   "execution_count": 10,
   "metadata": {},
   "outputs": [
    {
     "name": "stdout",
     "output_type": "stream",
     "text": [
      "Sally Jones, ''Introduction to Python Programming', Learn Python, 2018-03-29\n",
      "Number of articles by Sally Jones : 1\n"
     ]
    }
   ],
   "source": [
    "s = Author(\"Sally Jones\", \"sally.jones@ucdenver.edu\")\n",
    "a1 = Article(s.name, s.email, \"Introduction to Python Programming\", \"Learn Python\", datetime.date(2018, 3, 29))\n",
    "s.add_article(a1)\n",
    "\n",
    "s.display_articles()\n",
    "s.number_articles()"
   ]
  },
  {
   "cell_type": "code",
   "execution_count": null,
   "metadata": {},
   "outputs": [],
   "source": []
  }
 ],
 "metadata": {
  "kernelspec": {
   "display_name": "Python 3",
   "language": "python",
   "name": "python3"
  },
  "language_info": {
   "codemirror_mode": {
    "name": "ipython",
    "version": 3
   },
   "file_extension": ".py",
   "mimetype": "text/x-python",
   "name": "python",
   "nbconvert_exporter": "python",
   "pygments_lexer": "ipython3",
   "version": "3.7.3"
  }
 },
 "nbformat": 4,
 "nbformat_minor": 2
}
