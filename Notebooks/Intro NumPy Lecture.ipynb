{
 "cells": [
  {
   "attachments": {},
   "cell_type": "markdown",
   "metadata": {},
   "source": [
    "<h1>Introduction to Numpy</h1><p><img src=\"images/1line.png\" width=\"100%\" /></p>\n",
    "<ul>\n",
    "<li>NumPy is a Python module designed for scientific computation.</li>\n",
    "<li id=\"33df\" class=\"graf graf--p graf-after--figure\">It enables us to do computation more efficiently and effectively than with Python alone.</li>\n",
    "<li>This is why it is one of the libraries commonly used for big data analytics.</li>\n",
    "</ul>\n",
    "<h3>NumPy Characteristics</h3>\n",
    "<ul>\n",
    "<li>NumPy arrays are n-dimensional array objects and they are a core component of scientific and numerical computation&nbsp;in Python.</li>\n",
    "<li>NumPy provides tools for integrating your code with existing C,&nbsp;C++, and Fortran code.</li>\n",
    "<li>NumPy also provides many useful tools to help&nbsp;you perform linear algebra, generate random numbers, and much, much more.</li>\n",
    "</ul>\n",
    "<h3>NumPy Arrays</h3>\n",
    "<ul>\n",
    "<li>NumPy arrays are an additional data type provided by NumPy,&nbsp;and they are used for representing vectors (one dimensional arrays) and matrices (two dimensional arrays).</li>\n",
    "<li>Unlike dynamically growing Python lists, NumPy arrays&nbsp;have a size that is fixed when they are constructed.</li>\n",
    "<li>Elements of NumPy arrays are also all of the same data type leading to more efficient and simpler code than using Python's standard data types.</li>\n",
    "<li>By default, the elements are floating point numbers.</li>\n",
    "</ul>\n",
    "<h3>Using NumPy</h3>\n",
    "<ul>\n",
    "<li>Begin by importing NumPy into Python:</li>\n",
    "</ul>\n",
    "\n",
    "\n",
    "\n"
   ]
  },
  {
   "cell_type": "code",
   "execution_count": 10,
   "metadata": {},
   "outputs": [],
   "source": [
    "# import numpy\n",
    "import numpy as np"
   ]
  },
  {
   "attachments": {},
   "cell_type": "markdown",
   "metadata": {},
   "source": [
    "<ul>\n",
    "<li>This is the import typically used for NumPy.</li>\n",
    "<li>NumPy has three methods that can be used to create and auto-populate arrays\n",
    "<ul>\n",
    "<li><strong>np.zeros()</strong>: Creates an array initialized with 0.</li>\n",
    "<li><strong>np.ones()</strong>: Creates an array initialized with 1.</li>\n",
    "<li><strong>np.empty()</strong>: Allocates the requested space for the array, but does not initialize it,&nbsp;meaning that the content could be anything, whatever&nbsp;happens to be in the computer's memory at the location where&nbsp;the array is set up.</li>\n",
    "<li>If you are dealing with a very large array&nbsp;and you know for sure that you will be updating each element of the array, this could save you some computation time<br />because Python doesn't need to initialize the array.</li>\n",
    "</ul>\n",
    "</li>\n",
    "<li>These methods can be used to create one dimensional vectors, two dimensional&nbsp; matrices and beyond.</li>\n",
    "<li>When defining a 2-dimensional matrix a tuple is used:\n",
    "<ul>\n",
    "<li>The first argument is the number of rows in the table</li>\n",
    "<li>The second argument is the number of columns in our table.</li>\n",
    "</ul>\n",
    "</li>\n",
    "</ul>\n"
   ]
  },
  {
   "cell_type": "code",
   "execution_count": 9,
   "metadata": {},
   "outputs": [
    {
     "name": "stdout",
     "output_type": "stream",
     "text": [
      "[0. 0. 0. 0. 0.]\n",
      "[[0. 0. 0.]\n",
      " [0. 0. 0.]\n",
      " [0. 0. 0.]\n",
      " [0. 0. 0.]\n",
      " [0. 0. 0.]]\n"
     ]
    }
   ],
   "source": [
    "import numpy as np\n",
    "zeros_vector = np.zeros(5)\n",
    "zeros_matrix = np.zeros((5,3))\n",
    "\n",
    "print(zeros_vector)\n",
    "print(zeros_matrix)"
   ]
  },
  {
   "attachments": {},
   "cell_type": "markdown",
   "metadata": {},
   "source": [
    "<h3 id=\"2391\" class=\"graf graf--p graf-after--p\">Using One-dimensional NumPy Arrays</h3>\n",
    "<ul>\n",
    "<li>We can also construct NumPy arrays using specified values, in which case, we use the <strong>np.array()</strong> function, and the input argument to the function is a sequence of numbers, typically a list of numbers.</li>\n",
    "</ul>\n",
    "\n"
   ]
  },
  {
   "cell_type": "code",
   "execution_count": 7,
   "metadata": {},
   "outputs": [],
   "source": [
    "# python list\n",
    "a = [1,2,3,4,5,6,7,8,9]\n",
    "\n",
    "# numpy array\n",
    "b = np.array([1,2,3,4,5,6,7,8,9])"
   ]
  },
  {
   "attachments": {},
   "cell_type": "markdown",
   "metadata": {},
   "source": [
    "<ul><li>If you were to print them, you wouldn&rsquo;t see much difference.</li></ul>"
   ]
  },
  {
   "cell_type": "code",
   "execution_count": 8,
   "metadata": {},
   "outputs": [
    {
     "name": "stdout",
     "output_type": "stream",
     "text": [
      "[1, 2, 3, 4, 5, 6, 7, 8, 9]\n",
      "[1 2 3 4 5 6 7 8 9]\n"
     ]
    }
   ],
   "source": [
    "print(a)\n",
    "print(b)"
   ]
  },
  {
   "attachments": {},
   "cell_type": "markdown",
   "metadata": {},
   "source": [
    "<li>However,<span>&nbsp;</span><span class=\"markup--quote markup--p-quote is-other\" data-creator-ids=\"anon\">np arrays provide faster computation and easier manipulation.</span></li>\n",
    "</ul>\n",
    "<h3 >Using Two-dimensional NumPy Arrays</h3>\n",
    "<ul>\n",
    "<li>By convention lower case variables are used for vectors or one-dimensional arrays and upper case variables are used for&nbsp;matrices, or two-dimensional arrays.</li>\n",
    "<li>When you construct a two-dimensional NumPy array, you specify the elements of each row as a list&nbsp;and you can then define the entire table as a list that contains at its elements each of the lists of the row elements you've defined.</li>\n",
    "</ul>\n",
    "<pre style=\"font-size: 2em; font-weight: bold;\">\n",
    "A=[[<span style=\"color:red\">11,12,13</span>],\n",
    "   [<span style=\"color:cyan\">21,22,23</span>],\n",
    "   [<span style=\"color:purple\">31,32,33</span>]]\n",
    "</pre>\n",
    "<ul>\n",
    "<li>Let's define the first row as consisting of numbers 11, 12 and 13.</li>\n",
    "<li>The second row consists of the numbers 21, 22, and 23.</li>\n",
    "<li>Finally, the third row contains 31, 32 and 33.</li>\n",
    "<li>They are defined in three lists that are separated by a comma.</li>\n",
    "<li>And we will embed these three lists inside yet another list, to create a&nbsp;nested list object.</li>\n",
    "</ul>\n",
    "\n"
   ]
  },
  {
   "cell_type": "code",
   "execution_count": 3,
   "metadata": {},
   "outputs": [
    {
     "data": {
      "text/plain": [
       "array([[11, 12, 13],\n",
       "       [21, 22, 23],\n",
       "       [31, 32, 33]])"
      ]
     },
     "metadata": {},
     "output_type": "display_data"
    }
   ],
   "source": [
    "import numpy as np\n",
    "A=np.array([[11,12,13],[21,22,23],[31,32,33]])\n",
    "display(A)"
   ]
  },
  {
   "attachments": {},
   "cell_type": "markdown",
   "metadata": {},
   "source": [
    "<ul>\n",
    "<li>Finally, sometimes you want to turn the table sideways.</li>\n",
    "<li>This is called taking the transpose of a matrix, which&nbsp;means that the first row becomes the first column,&nbsp;the second row becomes the second column, and so on.</li>\n",
    "<li>We can transpose a two-dimensional array using the transpose method.</li>\n",
    "</ul>"
   ]
  },
  {
   "cell_type": "code",
   "execution_count": 6,
   "metadata": {},
   "outputs": [
    {
     "data": {
      "text/plain": [
       "array([[11, 21, 31],\n",
       "       [12, 22, 32],\n",
       "       [13, 23, 33]])"
      ]
     },
     "metadata": {},
     "output_type": "display_data"
    }
   ],
   "source": [
    "# Transposed Array\n",
    "display(A.transpose())"
   ]
  },
  {
   "attachments": {},
   "cell_type": "markdown",
   "metadata": {},
   "source": [
    "<hr />\n",
    "<h3>Reference</h3>\n",
    "<p>Jukka-Pekka Onnela, Python for Research, Python Libraries and Concepts Used in Research, CC 2.2.1 Introduction to NumPy, edX, <a href=\"https://www.edx.org/course/using-python-for-research\" target=\"_blank\" rel=\"noopener\">https://www.edx.org/course/using-python-for-research</a>&nbsp;</p>"
   ]
  }
 ],
 "metadata": {
  "kernelspec": {
   "display_name": "base",
   "language": "python",
   "name": "python3"
  },
  "language_info": {
   "codemirror_mode": {
    "name": "ipython",
    "version": 3
   },
   "file_extension": ".py",
   "mimetype": "text/x-python",
   "name": "python",
   "nbconvert_exporter": "python",
   "pygments_lexer": "ipython3",
   "version": "3.10.9"
  },
  "orig_nbformat": 4
 },
 "nbformat": 4,
 "nbformat_minor": 2
}
