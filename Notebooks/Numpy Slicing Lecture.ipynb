{
 "cells": [
  {
   "attachments": {},
   "cell_type": "markdown",
   "metadata": {},
   "source": [
    "<h1>Slicing NumPy Arrays</h1>\n",
    "<p><img src=\"images/1line.png\" width=\"100%\" /></p>\n",
    "<ul>\n",
    "<li>It's easy to index and slice NumPy arrays, whether they are vectors or matrices.</li>\n",
    "<li>With one-dimension arrays, we can index a given element by its position, keeping in mind that indices start at 0.</li>\n",
    "<li>With two-dimensional arrays, the first index specifies the row of the array and the second index&nbsp;specifies the column of the array.</li>\n",
    "<li>This is exactly the way we would index elements of a matrix in linear algebra.</li>\n",
    "<li><a class=\"instructure_file_link\" title=\"numpy1.ipynb\" href=\"https://ucdenver.instructure.com/courses/518274/files/19358374/download?wrap=1\" data-api-endpoint=\"https://ucdenver.instructure.com/api/v1/courses/518274/files/19358374\" data-api-returntype=\"File\">numpy1.ipynb</a></li>\n",
    "</ul>\n",
    "<h3>one-dimensional NumPy Arrays</h3>\n",
    "<ul>\n",
    "<li>We import numpy then convert two list to numpy arrays:</li>\n",
    "<li>To&nbsp;access a single element of the array you just use the index: x[2] gives the element at index 1&nbsp;of v.</li>\n",
    "</ul>"
   ]
  },
  {
   "cell_type": "code",
   "execution_count": 2,
   "metadata": {},
   "outputs": [
    {
     "name": "stdout",
     "output_type": "stream",
     "text": [
      "-1\n"
     ]
    }
   ],
   "source": [
    "# One-dimmensional numpy array\n",
    "import numpy as np \n",
    "\n",
    "x=np.array([1, 0, -1])\n",
    "y=np.array([0, 1, 2])\n",
    "\n",
    "print(x[2])"
   ]
  },
  {
   "attachments": {},
   "cell_type": "markdown",
   "metadata": {},
   "source": [
    "<ul>\n",
    "<li>You can also do slicing to extract part of the array.<br />You specify the start index and the end index, (remembering that you get the element at the start index, but you stop just before the element at the end index).</li>\n",
    "<li>slicing from 0:2 for both x and y produces the arrays below:</li>\n",
    "</ul>"
   ]
  },
  {
   "cell_type": "code",
   "execution_count": 3,
   "metadata": {},
   "outputs": [
    {
     "data": {
      "text/plain": [
       "array([1, 0])"
      ]
     },
     "metadata": {},
     "output_type": "display_data"
    },
    {
     "data": {
      "text/plain": [
       "array([0, 1])"
      ]
     },
     "metadata": {},
     "output_type": "display_data"
    }
   ],
   "source": [
    "# slicing\n",
    "u = x[0:2]\n",
    "display(u)\n",
    "\n",
    "v = y[0:2]\n",
    "display(v)"
   ]
  },
  {
   "attachments": {},
   "cell_type": "markdown",
   "metadata": {},
   "source": [
    "<ul>\n",
    "<li>The numpy array has many useful properties for example<span style=\"font-size: 1rem;\">&nbsp;</span><a style=\"font-size: 1rem;\" href=\"https://en.wikipedia.org/wiki/Euclidean_vector\">vector</a><span style=\"font-size: 1rem;\">&nbsp;</span><span style=\"font-size: 1rem;\">addition, we can add the two arrays as follows:</span></li>\n",
    "</ul>"
   ]
  },
  {
   "cell_type": "code",
   "execution_count": 4,
   "metadata": {},
   "outputs": [
    {
     "data": {
      "text/plain": [
       "array([1, 1])"
      ]
     },
     "metadata": {},
     "output_type": "display_data"
    }
   ],
   "source": [
    "# adding numpy arrays\n",
    "z=u+v\n",
    "display(z)"
   ]
  },
  {
   "attachments": {},
   "cell_type": "markdown",
   "metadata": {},
   "source": [
    "<ul>\n",
    "<li>Where the term &ldquo;z:array([1,1])&rdquo; means the variable z contains an array.</li>\n",
    "<li>The actual vector operation is shown in figure 2, where each component&nbsp;of the vector has a different color.</li>\n",
    "</ul>\n",
    "<p><img style=\"display: block; margin-left: auto; margin-right: auto;\" src=\"images/u plus v.png\" alt=\"z = u = v\" width=\"381\" height=\"226\" /></p>\n",
    "<ul>\n",
    "<li>Numpy arrays also follow similar conventions for vector scalar multiplication, for example, if you multiply a numpy array by an integer or float:</li>\n",
    "</ul>"
   ]
  },
  {
   "cell_type": "code",
   "execution_count": 11,
   "metadata": {},
   "outputs": [
    {
     "data": {
      "text/plain": [
       "array([2, 4])"
      ]
     },
     "execution_count": 11,
     "metadata": {},
     "output_type": "execute_result"
    }
   ],
   "source": [
    "# multiplying numpy array\n",
    "y=np.array([1,2])\n",
    "y=2*y\n",
    "y"
   ]
  },
  {
   "attachments": {},
   "cell_type": "markdown",
   "metadata": {},
   "source": [
    "<p><img class=\"alignnone wp-image-5327\" style=\"display: block; margin-left: auto; margin-right: auto;\" src=\"images/2y.png\" alt=\"y=2*z\" width=\"349\" height=\"227\"  /></p>\n",
    "<ul>\n",
    "<li>Many of the operations of numpy arrays are different from vectors, for example in numpy multiplication does not correspond to dot product or matrix multiplication but element-wise multiplication, we can multiply two numpy arrays as follows:</li>\n",
    "</ul>"
   ]
  },
  {
   "cell_type": "code",
   "execution_count": 12,
   "metadata": {},
   "outputs": [
    {
     "data": {
      "text/plain": [
       "array([3, 4])"
      ]
     },
     "execution_count": 12,
     "metadata": {},
     "output_type": "execute_result"
    }
   ],
   "source": [
    "#multiplying 2 arrays\n",
    "u=np.array([1,2])\n",
    "v=np.array([3,2])\n",
    "\n",
    "z=u*v\n",
    "z"
   ]
  },
  {
   "attachments": {},
   "cell_type": "markdown",
   "metadata": {},
   "source": [
    "<h3><img style=\"display: block; margin-left: auto; margin-right: auto;\" src=\"images/VectorMultiplication.png\" alt=\"u * v = [3 6]\" /></h3>\n",
    "<h3>Multi-dimensional NumPy Arrays</h3>\n",
    "<ul>\n",
    "<li>NumPy arrays can have more dimensions than one of two.</li>\n",
    "<li>For example, you could have three or four dimensional arrays.</li>\n",
    "<li>With multi-dimensional arrays, you can use the colon character in place of a fixed value for an index, which means that the array elements corresponding to all values of that particular index will be returned.</li>\n",
    "<li>For a two-dimensional array, using just one index returns the given row which is consistent with the construction of 2D arrays as lists of lists, where the inner lists correspond<br />to the rows of the array.</li>\n",
    "</ul>"
   ]
  },
  {
   "cell_type": "code",
   "execution_count": 6,
   "metadata": {},
   "outputs": [
    {
     "data": {
      "text/plain": [
       "array([0, 1])"
      ]
     },
     "metadata": {},
     "output_type": "display_data"
    },
    {
     "data": {
      "text/plain": [
       "array([1, 2])"
      ]
     },
     "metadata": {},
     "output_type": "display_data"
    },
    {
     "data": {
      "text/plain": [
       "array([0, 1, 2])"
      ]
     },
     "metadata": {},
     "output_type": "display_data"
    },
    {
     "data": {
      "text/plain": [
       "array([1, 2, 3])"
      ]
     },
     "metadata": {},
     "output_type": "display_data"
    },
    {
     "data": {
      "text/plain": [
       "array([0, 1, 2])"
      ]
     },
     "metadata": {},
     "output_type": "display_data"
    },
    {
     "data": {
      "text/plain": [
       "array([1, 2, 3])"
      ]
     },
     "metadata": {},
     "output_type": "display_data"
    }
   ],
   "source": [
    "X = np.array([[1, 0, -1], [0, 1, 2]]) \n",
    "Y = np.array([[2, 1, 0], [1, 2, 3]])\n",
    "\n",
    "# Second column of X and Y\n",
    "display(X[:, 1])   # array([0,1])\n",
    "display(Y[:, 1])   # array([1, 2])\n",
    "\n",
    "# Second row of X and Y\n",
    "display(X[1, :])   # array([0, 1, 2])\n",
    "\n",
    "display(Y[1, :])   # array([1, 2, 3])\n",
    "\n",
    "# Second row of X and Y (shorthand)\n",
    "display(X[1])      # array([0, 1, 2])\n",
    "\n",
    "display(Y[1])      # array([1, 2, 3])"
   ]
  },
  {
   "attachments": {},
   "cell_type": "markdown",
   "metadata": {},
   "source": [
    "<ul>\n",
    "<li><span>The 2-D arrays share similar properties to&nbsp;</span><a href=\"https://en.wikipedia.org/wiki/Matrix_(mathematics)\">matrices<span>&nbsp;</span></a><span>like scalar multiplication and addition.&nbsp; For example, adding two 2-D numpy arrays corresponds to matrix addition.</span></li>\n",
    "</ul>"
   ]
  },
  {
   "cell_type": "code",
   "execution_count": 7,
   "metadata": {},
   "outputs": [
    {
     "data": {
      "text/plain": [
       "array([[3, 1],\n",
       "       [1, 3]])"
      ]
     },
     "metadata": {},
     "output_type": "display_data"
    }
   ],
   "source": [
    "X=np.array([[1, 0], [0, 1]])\n",
    "Y=np.array([[2, 1], [1, 2]])\n",
    "\n",
    "Z=X+Y\n",
    "display(Z)"
   ]
  },
  {
   "attachments": {},
   "cell_type": "markdown",
   "metadata": {},
   "source": [
    "\n",
    "<h3><img class=\"aligncenter wp-image-5334\" style=\"display: block; margin-left: auto; margin-right: auto;\" src=\"images/MatrixAddition.png\" alt=\"An example of matrix addition.\" width=\"488\" height=\"227\" />Difference between NumPy Arrays and Lists</h3>\n",
    "<ul>\n",
    "<li>What happens if we take two lists and put a plus sign between them?</li>\n",
    "<li>Remember, putting a plus sign between two lists&nbsp;concatenates those two lists, resulting in a new list which is longer than&nbsp;the two lists that were added together.</li>\n",
    "</ul>"
   ]
  },
  {
   "cell_type": "code",
   "execution_count": 9,
   "metadata": {},
   "outputs": [
    {
     "data": {
      "text/plain": [
       "[1, 0, -1, 0, 1, 2]"
      ]
     },
     "metadata": {},
     "output_type": "display_data"
    }
   ],
   "source": [
    "x = [1, 0, -1]\n",
    "y = [0, 1, 2]\n",
    "\n",
    "display(x+y)"
   ]
  },
  {
   "attachments": {},
   "cell_type": "markdown",
   "metadata": {},
   "source": [
    "<ul>\n",
    "<li>What happens if we first turn those lists into NumPy arrays,&nbsp;and then have a plus sign between them?</li>\n",
    "<li>In this case, what's happening is we have two one-dimensional arrays.&nbsp;And what we've accomplished here is an element-wise addition&nbsp;between these two arrays.</li>\n",
    "</ul>"
   ]
  },
  {
   "cell_type": "code",
   "execution_count": 10,
   "metadata": {},
   "outputs": [
    {
     "data": {
      "text/plain": [
       "array([1, 1, 1])"
      ]
     },
     "metadata": {},
     "output_type": "display_data"
    }
   ],
   "source": [
    "x = np.array([1, 0, -1])\n",
    "y = np.array([0, 1, 2])\n",
    "\n",
    "display(x+y)"
   ]
  },
  {
   "attachments": {},
   "cell_type": "markdown",
   "metadata": {},
   "source": [
    "\n",
    "<hr>\n",
    "<h3>Reference</h3>\n",
    "<p>Jukka-Pekka Onnela, Python for Research, Python Libraries and Concepts Used in Research, CC 2.2.2_ Slicing NumPy Arrays, edX, <a href=\"https://www.edx.org/course/using-python-for-research\" target=\"_blank\" rel=\"noopener\">https://www.edx.org/course/using-python-for-research</a>&nbsp;</p>"
   ]
  }
 ],
 "metadata": {
  "kernelspec": {
   "display_name": "Python 3",
   "language": "python",
   "name": "python3"
  },
  "language_info": {
   "codemirror_mode": {
    "name": "ipython",
    "version": 3
   },
   "file_extension": ".py",
   "mimetype": "text/x-python",
   "name": "python",
   "nbconvert_exporter": "python",
   "pygments_lexer": "ipython3",
   "version": "3.10.9"
  }
 },
 "nbformat": 4,
 "nbformat_minor": 2
}
