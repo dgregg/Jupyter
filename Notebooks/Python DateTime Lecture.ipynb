{
 "cells": [
  {
   "attachments": {},
   "cell_type": "markdown",
   "metadata": {},
   "source": [
    "<h1>Inheritance & Association: datetime</h1>\n",
    "<h2><img style=\"width:100%\" src=\"images/1line.png\"  /></h2>\n",
    "<ul>\n",
    "    <li>Inheritance and Composition can be illustrated using the&nbsp;<code class=\"highlighter-rouge\">datetime</code> <strong>module</strong></li>\n",
    "    <ul>\n",
    "        <li><code class=\"highlighter-rouge\">datetime</code> <strong>module</strong> has a <code class=\"highlighter-rouge\">date</code> <strong>class</strong>\n",
    "            <ul>\n",
    "                <li>Date only ( year, month, day)</li>\n",
    "                <li>Only requires (and outputs) the date.</li>\n",
    "            </ul>\n",
    "        </li>\n",
    "        <li><code class=\"highlighter-rouge\">datetime</code> <strong>module</strong> has a <code class=\"highlighter-rouge\">time</code> <strong>class</strong>\n",
    "            <ul>\n",
    "                <li>Time independent of the day (Hour, minute, second, microsecond)</li>\n",
    "                <li>Works exactly like the datetime class but only requires (and outputs) the time.<strong></strong></li>\n",
    "            </ul>\n",
    "        </li>\n",
    "        <li><code class=\"highlighter-rouge\">datetime</code> <strong>module</strong> has a <code class=\"highlighter-rouge\">datetime</code> <strong>class</strong>\n",
    "            <ul>\n",
    "                <li>Combination of time and date (year, month, year, hour, minute, second, microsecond)</li>\n",
    "            </ul>\n",
    "        </li>\n",
    "    </ul>\n",
    "    <li>The class hierarchy for the&nbsp;<code class=\"highlighter-rouge\">datetime</code> <strong>module</strong> is shown below</li>\n",
    "    <li>The&nbsp;<code class=\"highlighter-rouge\">datetime</code> <strong>class</strong> inherits from the <code class=\"highlighter-rouge\">date</code> <strong>class </strong>meaning it IS-A specialized version of a<strong> </strong><code class=\"highlighter-rouge\">date</code></li>\n",
    "    <li>The&nbsp;<code class=\"highlighter-rouge\">datetime</code> <strong>class</strong> has an association with the <code class=\"highlighter-rouge\">time</code> <strong>class </strong>and the<strong> </strong><code class=\"highlighter-rouge\">timezone</code> <strong>class </strong><strong></strong>meaning it is HAS-A<strong> </strong><code class=\"highlighter-rouge\">time</code> and a <code class=\"highlighter-rouge\">timezone</code> <strong></strong></li>\n",
    "</ul>\n",
    "<p><img style=\"display: block; margin-left: auto; margin-right: auto;\" src=\"images/datetime OOP.png\" alt=\"object date tatetime time tzinfo timezone timedelta\" width=\"845\" height=\"245\" /></p>\n",
    "\n",
    "<h3>Dates and Times</h3>\n",
    "<ul>\n",
    "    <li>Use the&nbsp;<code class=\"docutils literal notranslate\"><span class=\"pre\">datetime</span></code>&nbsp;class to hold values consisting of both date and time components.</li>\n",
    "    <li>A&nbsp;<code class=\"docutils literal notranslate\"><span class=\"pre\">datetime</span></code> instance has attributes for&nbsp;<code class=\"xref py py-attr docutils literal notranslate\"><span class=\"pre\">year</span></code>,&nbsp;<code class=\"xref py py-attr docutils literal notranslate\"><span class=\"pre\">month</span></code>, <code class=\"xref py py-attr docutils literal notranslate\"><span class=\"pre\">day</span></code>, <code class=\"xref py py-attr docutils literal notranslate\"><span class=\"pre\">hour</span></code>,&nbsp;<code class=\"xref py py-attr docutils literal notranslate\"><span class=\"pre\">minute</span></code>,&nbsp;<code class=\"xref py py-attr docutils literal notranslate\"><span class=\"pre\">second</span></code>, and&nbsp;<code class=\"xref py py-attr docutils literal notranslate\"><span class=\"pre\">microsecond</span></code>&nbsp;and can also include time zone information.</li>\n",
    "    <li>It is easy to create a date representing the current date and time using either&nbsp; the <code class=\"docutils literal notranslate\"><span class=\"pre\">now()</span></code>&nbsp;or the&nbsp;<code class=\"docutils literal notranslate\"><span class=\"pre\">today()</span></code>&nbsp;class method.\n",
    "        <ul>\n",
    "            <li><strong>datetime.now()</strong> return the current local date and time.</li>\n",
    "            <li>It works like the <code class=\"docutils literal notranslate\"><span class=\"pre\">today()</span></code> class (inherited from date) method except, it optionally allows you to specify a tz keyword argument - allowing you to specify a time zone.</li>\n",
    "        </ul>\n",
    "    </li>\n",
    "    <li>The <code class=\"docutils literal notranslate\"><span class=\"pre\">utcnow()</span></code> class method will show the current date and time in UTC (Universal Time or Greenwich Mean Time).</li>\n",
    "    <li>To output the individual attributes of a&nbsp;<code class=\"docutils literal notranslate\"><span class=\"pre\">datetime</span></code> instance, use the object name dot (.) the property name (e.g. d.year)</li>\n",
    "</ul>\n",
    "<pre><spa"
   ]
  },
  {
   "cell_type": "code",
   "execution_count": 1,
   "metadata": {},
   "outputs": [
    {
     "name": "stdout",
     "output_type": "stream",
     "text": [
      "Now    : 2020-12-03 10:26:46.343703\n",
      "Today  : 2020-12-03 10:26:46.343704\n",
      "UTC Now: 2020-12-03 17:26:46.343703\n",
      "\n",
      "year 2020\n",
      "month 12\n",
      "day 3\n",
      "hour 10\n",
      "minute 26\n",
      "second 46\n",
      "microsecond 343703\n"
     ]
    }
   ],
   "source": [
    "import datetime\n",
    "\n",
    "print('Now    :', datetime.datetime.now())\n",
    "print('Today  :', datetime.datetime.today())\n",
    "print('UTC Now:', datetime.datetime.utcnow())\n",
    "print()\n",
    "\n",
    "d = datetime.datetime.now()\n",
    "print('year', getattr(d, 'year'))\n",
    "print('month', getattr(d, 'month'))\n",
    "print('day', getattr(d, 'day'))\n",
    "print('hour', getattr(d, 'hour'))\n",
    "print('minute', getattr(d, 'minute'))\n",
    "print('second', getattr(d, 'second'))\n",
    "print('microsecond', getattr(d, 'microsecond'))"
   ]
  },
  {
   "attachments": {},
   "cell_type": "markdown",
   "metadata": {},
   "source": [
    "<h3>Setting and Manipulating Dates</h3>\n",
    "<ul>\n",
    "    <li>Another way to create new&nbsp;<code class=\"docutils literal notranslate\"><span class=\"pre\">date</span></code>&nbsp;instances uses the&nbsp;<code class=\"docutils literal notranslate\"><span class=\"pre\">replace()</span></code>&nbsp;method of an existing&nbsp;<code class=\"docutils literal notranslate\"><span class=\"pre\">datetime</span></code>.</li>\n",
    "</ul>"
   ]
  },
  {
   "cell_type": "code",
   "execution_count": 3,
   "metadata": {},
   "outputs": [
    {
     "name": "stdout",
     "output_type": "stream",
     "text": [
      "d1: 2020-03-29 14:30:00\n",
      "d2: 2021-03-29 14:30:00\n"
     ]
    }
   ],
   "source": [
    "import datetime\n",
    "\n",
    "d1 = datetime.datetime(2020, 3, 29, 14, 30, 0)\n",
    "print('d1:', d1)\n",
    "\n",
    "d2 = d1.replace(year=2021)\n",
    "print('d2:', d2)"
   ]
  },
  {
   "attachments": {},
   "cell_type": "markdown",
   "metadata": {},
   "source": [
    "<hr><h3>References</h3>\n",
    "<p>PyMOTW-3, datetime - Date and Time Value Manipulation, 2018-12-09<a href=\"https://pymotw.com/3/datetime/\" target=\"_blank\" rel=\"noopener\"> https://pymotw.com/3/datetime/</a>&nbsp;</p>"
   ]
  }
 ],
 "metadata": {
  "kernelspec": {
   "display_name": "Python 3",
   "language": "python",
   "name": "python3"
  },
  "language_info": {
   "codemirror_mode": {
    "name": "ipython",
    "version": 3
   },
   "file_extension": ".py",
   "mimetype": "text/x-python",
   "name": "python",
   "nbconvert_exporter": "python",
   "pygments_lexer": "ipython3",
   "version": "3.7.3"
  }
 },
 "nbformat": 4,
 "nbformat_minor": 2
}
