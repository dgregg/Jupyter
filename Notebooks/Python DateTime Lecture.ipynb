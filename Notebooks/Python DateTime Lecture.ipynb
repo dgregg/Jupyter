{
 "cells": [
  {
   "cell_type": "code",
   "execution_count": 1,
   "metadata": {},
   "outputs": [
    {
     "name": "stdout",
     "output_type": "stream",
     "text": [
      "Now    : 2020-12-03 10:26:46.343703\n",
      "Today  : 2020-12-03 10:26:46.343704\n",
      "UTC Now: 2020-12-03 17:26:46.343703\n",
      "\n",
      "year 2020\n",
      "month 12\n",
      "day 3\n",
      "hour 10\n",
      "minute 26\n",
      "second 46\n",
      "microsecond 343703\n"
     ]
    }
   ],
   "source": [
    "import datetime\n",
    "\n",
    "print('Now    :', datetime.datetime.now())\n",
    "print('Today  :', datetime.datetime.today())\n",
    "print('UTC Now:', datetime.datetime.utcnow())\n",
    "print()\n",
    "\n",
    "d = datetime.datetime.now()\n",
    "print('year', getattr(d, 'year'))\n",
    "print('month', getattr(d, 'month'))\n",
    "print('day', getattr(d, 'day'))\n",
    "print('hour', getattr(d, 'hour'))\n",
    "print('minute', getattr(d, 'minute'))\n",
    "print('second', getattr(d, 'second'))\n",
    "print('microsecond', getattr(d, 'microsecond'))"
   ]
  },
  {
   "cell_type": "code",
   "execution_count": 3,
   "metadata": {},
   "outputs": [
    {
     "name": "stdout",
     "output_type": "stream",
     "text": [
      "d1: 2020-03-29 14:30:00\n",
      "d2: 2021-03-29 14:30:00\n"
     ]
    }
   ],
   "source": [
    "import datetime\n",
    "\n",
    "d1 = datetime.datetime(2020, 3, 29, 14, 30, 0)\n",
    "print('d1:', d1)\n",
    "\n",
    "d2 = d1.replace(year=2021)\n",
    "print('d2:', d2)"
   ]
  },
  {
   "cell_type": "code",
   "execution_count": 4,
   "metadata": {},
   "outputs": [
    {
     "name": "stdout",
     "output_type": "stream",
     "text": [
      "Today    : 2020-12-03 10:46:15.947693\n",
      "One day  : 1 day, 0:00:00\n",
      "Yesterday: 2020-12-02 10:46:15.947693\n",
      "Tomorrow : 2020-12-04 10:46:15.947693\n",
      "\n",
      "tomorrow - yesterday: 2 days, 0:00:00\n",
      "yesterday - tomorrow: -2 days, 0:00:00\n"
     ]
    }
   ],
   "source": [
    "import datetime\n",
    "\n",
    "today = datetime.datetime.today()\n",
    "print('Today    :', today)\n",
    "\n",
    "one_day = datetime.timedelta(days=1)\n",
    "print('One day  :', one_day)\n",
    "\n",
    "yesterday = today - one_day\n",
    "print('Yesterday:', yesterday)\n",
    "\n",
    "tomorrow = today + one_day\n",
    "print('Tomorrow :', tomorrow)\n",
    "\n",
    "print()\n",
    "print('tomorrow - yesterday:', tomorrow - yesterday)\n",
    "print('yesterday - tomorrow:', yesterday - tomorrow)"
   ]
  },
  {
   "cell_type": "code",
   "execution_count": 6,
   "metadata": {},
   "outputs": [
    {
     "name": "stdout",
     "output_type": "stream",
     "text": [
      "Comparing Dates:\n",
      "  t1: 2020-03-29 14:30:00\n",
      "  t2: 2020-12-03 10:48:22.973881\n",
      "  t1 < t2: True\n"
     ]
    }
   ],
   "source": [
    "import datetime\n",
    "\n",
    "print('Comparing Dates:')\n",
    "t1 = datetime.datetime(2020, 3, 29, 14, 30, 0)\n",
    "print('  t1:', t1)\n",
    "t2 = datetime.datetime.now()\n",
    "print('  t2:', t2)\n",
    "print('  t1 < t2:', t1 < t2)"
   ]
  },
  {
   "cell_type": "code",
   "execution_count": 1,
   "metadata": {},
   "outputs": [
    {
     "name": "stdout",
     "output_type": "stream",
     "text": [
      "01:02:03\n",
      "hour       : 1\n",
      "minute     : 2\n",
      "second     : 3\n",
      "microsecond: 0\n",
      "tzinfo     : None\n"
     ]
    }
   ],
   "source": [
    "# Using the Time Class\n",
    "import datetime\n",
    "\n",
    "t = datetime.time(1, 2, 3)\n",
    "print(t)\n",
    "print('hour       :', t.hour)\n",
    "print('minute     :', t.minute)\n",
    "print('second     :', t.second)\n",
    "print('microsecond:', t.microsecond)\n",
    "print('tzinfo     :', t.tzinfo)"
   ]
  },
  {
   "cell_type": "code",
   "execution_count": 3,
   "metadata": {},
   "outputs": [
    {
     "name": "stdout",
     "output_type": "stream",
     "text": [
      "2020-07-28\n",
      "ctime  : Tue Jul 28 00:00:00 2020\n",
      "tuple  : tm_year  = 2020\n",
      "         tm_mon   = 7\n",
      "         tm_mday  = 28\n",
      "         tm_hour  = 0\n",
      "         tm_min   = 0\n",
      "         tm_sec   = 0\n",
      "         tm_wday  = 1\n",
      "         tm_yday  = 210\n",
      "Year   : 2020\n",
      "Mon    : 7\n",
      "Day    : 28\n"
     ]
    }
   ],
   "source": [
    "# Using the Date Class\n",
    "import datetime\n",
    "\n",
    "today = datetime.date.today()\n",
    "print(today)\n",
    "print('ctime  :', today.ctime())\n",
    "tt = today.timetuple()\n",
    "print('tuple  : tm_year  =', tt.tm_year)\n",
    "print('         tm_mon   =', tt.tm_mon)\n",
    "print('         tm_mday  =', tt.tm_mday)\n",
    "print('         tm_hour  =', tt.tm_hour)\n",
    "print('         tm_min   =', tt.tm_min)\n",
    "print('         tm_sec   =', tt.tm_sec)\n",
    "print('         tm_wday  =', tt.tm_wday)\n",
    "print('         tm_yday  =', tt.tm_yday)\n",
    "print('Year   :', today.year)\n",
    "print('Mon    :', today.month)\n",
    "print('Day    :', today.day)"
   ]
  }
 ],
 "metadata": {
  "kernelspec": {
   "display_name": "Python 3",
   "language": "python",
   "name": "python3"
  },
  "language_info": {
   "codemirror_mode": {
    "name": "ipython",
    "version": 3
   },
   "file_extension": ".py",
   "mimetype": "text/x-python",
   "name": "python",
   "nbconvert_exporter": "python",
   "pygments_lexer": "ipython3",
   "version": "3.7.3"
  }
 },
 "nbformat": 4,
 "nbformat_minor": 2
}
