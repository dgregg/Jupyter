{
 "cells": [
  {
   "attachments": {},
   "cell_type": "markdown",
   "metadata": {},
   "source": [
    "<h1>Building and Examinong Numpy Arrays</h1><p><img src=\"images/1line.png\" width=\"100%\" /></p>\n",
    "<ul>\n",
    "<li>NumPy provides a couple of ways to construct arrays with fixed, start, and end values, such that the other elements are uniformly spaced between them.</li>\n",
    "</ul>\n",
    "<h3>numpy.arange()</h3>\n",
    "<ul>\n",
    "<li>Return evenly spaced values within a given interval.</li>\n",
    "<li>Values are generated within the half-open interval<span>&nbsp;</span><code>[start, stop)</code><span>&nbsp;</span>(in other words, the interval including<span>&nbsp;</span><code>start</code><span>&nbsp;</span>but excluding<span>&nbsp;</span><code>stop</code>).</li>\n",
    "<li>For integer arguments the function is equivalent to the Python built-in<span>&nbsp;</span><a class=\"reference external\" href=\"https://docs.python.org/3/library/functions.html\">range</a><span>&nbsp;</span>function, but returns an ndarray rather than a list.</li>\n",
    "</ul>\n",
    "<code>np.arange([start, ]stop, [step, ]dtype=None)</code>"
   ]
  },
  {
   "cell_type": "code",
   "execution_count": 1,
   "metadata": {},
   "outputs": [
    {
     "data": {
      "text/plain": [
       "array([0, 1, 2])"
      ]
     },
     "execution_count": 1,
     "metadata": {},
     "output_type": "execute_result"
    }
   ],
   "source": [
    "import numpy as np\n",
    "np.arange(3)"
   ]
  },
  {
   "cell_type": "code",
   "execution_count": 2,
   "metadata": {},
   "outputs": [
    {
     "data": {
      "text/plain": [
       "array([0., 1., 2.])"
      ]
     },
     "execution_count": 2,
     "metadata": {},
     "output_type": "execute_result"
    }
   ],
   "source": [
    "np.arange(3.0)"
   ]
  },
  {
   "cell_type": "code",
   "execution_count": 3,
   "metadata": {},
   "outputs": [
    {
     "data": {
      "text/plain": [
       "array([3, 4, 5, 6])"
      ]
     },
     "execution_count": 3,
     "metadata": {},
     "output_type": "execute_result"
    }
   ],
   "source": [
    "np.arange(3,7)"
   ]
  },
  {
   "cell_type": "code",
   "execution_count": 5,
   "metadata": {},
   "outputs": [
    {
     "data": {
      "text/plain": [
       "array([3, 5])"
      ]
     },
     "execution_count": 5,
     "metadata": {},
     "output_type": "execute_result"
    }
   ],
   "source": [
    "np.arange(3,7,2)"
   ]
  },
  {
   "attachments": {},
   "cell_type": "markdown",
   "metadata": {},
   "source": [
    "<ul>\n",
    "<li>When using a non-integer step, such as 0.1, the results will often not be consistent. It is better to use<span>&nbsp;</span><code>linspace</code><span>&nbsp;</span>for these cases.</li>\n",
    "</ul>\n",
    "<h3>numpy.linspace()</h3>\n",
    "<ul>\n",
    "<li>Return evenly spaced numbers over a specified interval.</li>\n",
    "<li>Returns&nbsp;<code>num</code>&nbsp;evenly spaced samples, calculated over the interval [<code>start</code>,&nbsp;<code>stop</code>].</li>\n",
    "<li>The endpoint of the interval can optionally be excluded.</li>\n",
    "</ul>\n",
    "<dl class=\"function\">\n",
    "<dt id=\"numpy.linspace\"><code>np.linspace(start, stop, num=50, endpoint=True, retstep=False, dtype=None)</code></dt>\n",
    "</dl>\n",
    "<ul>\n",
    "<li>To construct an array of 5 linearly spaced elements starting with 20 and ending with 30, we can use the NumPy linspace function.</li>\n",
    "</ul>\n"
   ]
  },
  {
   "cell_type": "code",
   "execution_count": 6,
   "metadata": {},
   "outputs": [
    {
     "data": {
      "text/plain": [
       "array([20. , 22.5, 25. , 27.5, 30. ])"
      ]
     },
     "execution_count": 6,
     "metadata": {},
     "output_type": "execute_result"
    }
   ],
   "source": [
    "np.linspace(20, 30, num=5)"
   ]
  },
  {
   "cell_type": "code",
   "execution_count": 7,
   "metadata": {},
   "outputs": [
    {
     "data": {
      "text/plain": [
       "array([20. , 22.5, 25. , 27.5, 30. ])"
      ]
     },
     "execution_count": 7,
     "metadata": {},
     "output_type": "execute_result"
    }
   ],
   "source": [
    "np.linspace(20, 30, 5) "
   ]
  },
  {
   "cell_type": "code",
   "execution_count": 8,
   "metadata": {},
   "outputs": [
    {
     "data": {
      "text/plain": [
       "array([20., 22., 24., 26., 28.])"
      ]
     },
     "execution_count": 8,
     "metadata": {},
     "output_type": "execute_result"
    }
   ],
   "source": [
    "np.linspace(20, 30, num=5, endpoint=False)"
   ]
  },
  {
   "attachments": {},
   "cell_type": "markdown",
   "metadata": {},
   "source": [
    "<h3>nupmy.shape and numpy.size</h3>\n",
    "<ul>\n",
    "<li>Often we need to know the shape of an array or the number of elements in an array.</li>\n",
    "<li>You can check the shape of an array using shape.</li>\n",
    "<li>You can check the number of elements of an array with size.</li>\n",
    "</ul>\n"
   ]
  },
  {
   "cell_type": "code",
   "execution_count": 9,
   "metadata": {},
   "outputs": [
    {
     "data": {
      "text/plain": [
       "(2, 3)"
      ]
     },
     "metadata": {},
     "output_type": "display_data"
    },
    {
     "data": {
      "text/plain": [
       "6"
      ]
     },
     "metadata": {},
     "output_type": "display_data"
    }
   ],
   "source": [
    "X = np.array([[1, 2, 3],\n",
    "              [4, 5, 6]])\n",
    "display(X.shape)\n",
    "display(X.size)"
   ]
  },
  {
   "attachments": {},
   "cell_type": "markdown",
   "metadata": {},
   "source": [
    "<ul>\n",
    "<li>Notice that you don't have parentheses following the shape or size in the above examples.</li>\n",
    "<li>This is because shape and size are data attributes, not methods of the arrays.</li>\n",
    "</ul>\n",
    "<h3>numpy.any() &amp; numpy.all()</h3>\n",
    "<ul>\n",
    "<li>Sometimes we need to examine whether any elements of an array fulfill some logical condition.</li>\n",
    "</ul>\n",
    "<p><code>numpy.any(a, axis=None, out=None, keepdims=False)</code></p>\n",
    "<ul>\n",
    "<li>Test whether <strong>any</strong> array element along a given axis evaluates to True.</li>\n",
    "</ul>\n",
    "<p><code>numpy.all(a, axis=None, out=None, keepdims=False)</code><span>&nbsp;</span><a class=\"reference external\" href=\"http://github.com/numpy/numpy/blob/v1.11.0/numpy/core/fromnumeric.py#L1973-L2044\"><span class=\"viewcode-link\">[source]</span></a></p>\n",
    "<ul>\n",
    "<li>Test whether all array elements along a given axis evaluate to True.</li>\n",
    "<li>Both methods return single boolean</li>\n",
    "</ul>"
   ]
  },
  {
   "cell_type": "code",
   "execution_count": 10,
   "metadata": {},
   "outputs": [
    {
     "data": {
      "text/plain": [
       "array([0.77466497, 0.81171748, 0.21329501, 0.98592691, 0.37173804,\n",
       "       0.6213692 , 0.74602465, 0.01817896, 0.63345021, 0.90112139])"
      ]
     },
     "execution_count": 10,
     "metadata": {},
     "output_type": "execute_result"
    }
   ],
   "source": [
    "x = np.random.random(10)\n",
    "x"
   ]
  },
  {
   "cell_type": "code",
   "execution_count": 11,
   "metadata": {},
   "outputs": [
    {
     "data": {
      "text/plain": [
       "True"
      ]
     },
     "execution_count": 11,
     "metadata": {},
     "output_type": "execute_result"
    }
   ],
   "source": [
    "np.any(x>0.9)"
   ]
  },
  {
   "cell_type": "code",
   "execution_count": 12,
   "metadata": {},
   "outputs": [
    {
     "data": {
      "text/plain": [
       "False"
      ]
     },
     "execution_count": 12,
     "metadata": {},
     "output_type": "execute_result"
    }
   ],
   "source": [
    "np.all(x>0.1)"
   ]
  },
  {
   "attachments": {},
   "cell_type": "markdown",
   "metadata": {},
   "source": [
    "\n",
    "<ul>\n",
    "<li>We generated a one d array using a random number generator.</li>\n",
    "<li>First, we check if any of the entries are greater than 0.9,</li>\n",
    "<li>Second, we check if if all of the entries are greater than or equal to 0.1.</li>\n",
    "<li>To make sense of these results, we can print out the content of x.</li>\n",
    "<li>Note that the output is either True or False for the whole array.</li>\n",
    "</ul>"
   ]
  },
  {
   "attachments": {},
   "cell_type": "markdown",
   "metadata": {},
   "source": [
    "<hr><h3>Reference</h3>\n",
    "\n",
    "<p >Jukka-Pekka Onnela, Python for Research, Python Libraries and Concepts Used in Research, CC 2.2.4_ Building and Examining NumPy Array, edX,<span>&nbsp;</span><a class=\"external\" style=\"color: var(--ic-link-color); text-decoration: underline;\" href=\"https://www.edx.org/course/using-python-for-research\" target=\"_blank\" rel=\"noopener\"><span>https://www.edx.org/course/using-python-for-research</span></a></p>"
   ]
  }
 ],
 "metadata": {
  "kernelspec": {
   "display_name": "Python 3",
   "language": "python",
   "name": "python3"
  },
  "language_info": {
   "codemirror_mode": {
    "name": "ipython",
    "version": 3
   },
   "file_extension": ".py",
   "mimetype": "text/x-python",
   "name": "python",
   "nbconvert_exporter": "python",
   "pygments_lexer": "ipython3",
   "version": "3.10.9"
  }
 },
 "nbformat": 4,
 "nbformat_minor": 2
}
