{
 "cells": [
  {
   "attachments": {},
   "cell_type": "markdown",
   "metadata": {},
   "source": [
    "<h1>Python Dates</h1><h2><img style=\"width:100%\" src=\"images/1line.png\" /></h2>\n",
    "<ul>\n",
    "    <li>Python does not include native types for dates and times as it does for&nbsp;<code class=\"docutils literal notranslate\"><span class=\"pre\">int</span></code>,&nbsp;<code class=\"docutils literal notranslate\"><span class=\"pre\">float</span></code>, and&nbsp;<code class=\"docutils literal notranslate\"><span class=\"pre\">str</span></code>, but the <code class=\"docutils literal notranslate\"><span class=\"pre\">datetime</span></code> module includes functions and classes for doing date and time parsing, formatting, and arithmetic.\n",
    "        <ul>\n",
    "            <li>date &ndash; Manipulate just date ( Month, day, year)\n",
    "                <ul>\n",
    "                    <li>Works exactly like the datetime class (below) but only requires (and outputs) the date.</li>\n",
    "                </ul>\n",
    "            </li>\n",
    "            <li>time &ndash; Time independent of the day (Hour, minute, second, microsecond)\n",
    "                <ul>\n",
    "                    <li>Works exactly like the datetime class (below) but only requires (and outputs) the time.</li>\n",
    "                </ul>\n",
    "            </li>\n",
    "            <li>datetime &ndash; Combination of time and date (Month, day, year, hour, second, microsecond)</li>\n",
    "            <li>timedelta&mdash; A duration of time used for manipulating dates</li>\n",
    "            <li>tzinfo&mdash; An abstract class for dealing with time zones</li>\n",
    "        </ul>\n",
    "    </li>\n",
    "</ul>\n",
    "<h3>Dates and Times</h3>\n",
    "<ul>\n",
    "    <li>Use the&nbsp;<code class=\"docutils literal notranslate\"><span class=\"pre\">datetime</span></code>&nbsp;class to hold values consisting of both date and time components.</li>\n",
    "    <li>A&nbsp;<code class=\"docutils literal notranslate\"><span class=\"pre\">datetime</span></code> instance has attributes for&nbsp;<code class=\"xref py py-attr docutils literal notranslate\"><span class=\"pre\">year</span></code>,&nbsp;<code class=\"xref py py-attr docutils literal notranslate\"><span class=\"pre\">month</span></code>, <code class=\"xref py py-attr docutils literal notranslate\"><span class=\"pre\">day</span></code>, <code class=\"xref py py-attr docutils literal notranslate\"><span class=\"pre\">hour</span></code>,&nbsp;<code class=\"xref py py-attr docutils literal notranslate\"><span class=\"pre\">minute</span></code>,&nbsp;<code class=\"xref py py-attr docutils literal notranslate\"><span class=\"pre\">second</span></code>, and&nbsp;<code class=\"xref py py-attr docutils literal notranslate\"><span class=\"pre\">microsecond</span></code>&nbsp;and can also include time zone information.</li>\n",
    "    <li>It is easy to create a date representing the current date and time using either&nbsp; the <code class=\"docutils literal notranslate\"><span class=\"pre\">now()</span></code>&nbsp;or the&nbsp;<code class=\"docutils literal notranslate\"><span class=\"pre\">today()</span></code>&nbsp;class method.\n",
    "        <ul>\n",
    "            <li><strong>datetime.now()</strong> return the current local date and time. It works like the <code class=\"docutils literal notranslate\"><span class=\"pre\">today()</span></code>&nbsp;class method except, it optionally allows you to specify a tz keyword argument - allowing you to specify a time zone.</li>\n",
    "        </ul>\n",
    "    </li>\n",
    "    <li>The <code class=\"docutils literal notranslate\"><span class=\"pre\">utcnow()</span></code> class method will show the current date and time in UTC (Universal Time or Greenwich Mean Time).</li>\n",
    "    <li>The <code class=\"docutils literal notranslate\"><span class=\"pre\">getattr(date_object, attribute_name)</span></code> method can be used to retrieve the value of a specific date&nbsp; attribute (eg. month, or hour).</li>\n",
    "</ul>"
   ]
  },
  {
   "cell_type": "code",
   "execution_count": 1,
   "metadata": {},
   "outputs": [
    {
     "name": "stdout",
     "output_type": "stream",
     "text": [
      "Now    : 2020-12-03 10:26:46.343703\n",
      "Today  : 2020-12-03 10:26:46.343704\n",
      "UTC Now: 2020-12-03 17:26:46.343703\n",
      "\n",
      "year 2020\n",
      "month 12\n",
      "day 3\n",
      "hour 10\n",
      "minute 26\n",
      "second 46\n",
      "microsecond 343703\n"
     ]
    }
   ],
   "source": [
    "import datetime\n",
    "\n",
    "print('Now    :', datetime.datetime.now())\n",
    "print('Today  :', datetime.datetime.today())\n",
    "print('UTC Now:', datetime.datetime.utcnow())\n",
    "print()\n",
    "\n",
    "d = datetime.datetime.now()\n",
    "print('year', getattr(d, 'year'))\n",
    "print('month', getattr(d, 'month'))\n",
    "print('day', getattr(d, 'day'))\n",
    "print('hour', getattr(d, 'hour'))\n",
    "print('minute', getattr(d, 'minute'))\n",
    "print('second', getattr(d, 'second'))\n",
    "print('microsecond', getattr(d, 'microsecond'))"
   ]
  },
  {
   "attachments": {},
   "cell_type": "markdown",
   "metadata": {},
   "source": [
    "<h3>Setting and Manipulating Dates</h3>\n",
    "<ul>\n",
    "    <li>Another way to create new&nbsp;<code class=\"docutils literal notranslate\"><span class=\"pre\">date</span></code>&nbsp;instances uses the&nbsp;<code class=\"docutils literal notranslate\"><span class=\"pre\">replace()</span></code>&nbsp;method of an existing&nbsp;<code class=\"docutils literal notranslate\"><span class=\"pre\">date</span></code>.</li>\n",
    "    <li>This example changes the year, leaving the day and month unmodified.</li>\n",
    "</ul>"
   ]
  },
  {
   "cell_type": "code",
   "execution_count": 3,
   "metadata": {},
   "outputs": [
    {
     "name": "stdout",
     "output_type": "stream",
     "text": [
      "d1: 2020-03-29 14:30:00\n",
      "d2: 2021-03-29 14:30:00\n"
     ]
    }
   ],
   "source": [
    "import datetime\n",
    "\n",
    "d1 = datetime.datetime(2020, 3, 29, 14, 30, 0)\n",
    "print('d1:', d1)\n",
    "\n",
    "d2 = d1.replace(year=2021)\n",
    "print('d2:', d2)"
   ]
  },
  {
   "attachments": {},
   "cell_type": "markdown",
   "metadata": {},
   "source": [
    "<h3>timedeltas</h3>\n",
    "<ul>\n",
    "    <li>Future and past dates can be calculated using basic arithmetic on two<span>&nbsp;</span><code class=\"docutils literal notranslate\"><span class=\"pre\">datetime</span></code><span>&nbsp;</span>objects, or by combining a<span>&nbsp;</span><code class=\"docutils literal notranslate\"><span class=\"pre\">datetime</span></code><span>&nbsp;</span>with a<span>&nbsp;</span><code class=\"docutils literal notranslate\"><span class=\"pre\">timedelta</span></code>.</li>\n",
    "    <li>Subtracting dates produces a<span>&nbsp;</span><code class=\"docutils literal notranslate\"><span class=\"pre\">timedelta</span></code>, and a<span>&nbsp;</span><code class=\"docutils literal notranslate\"><span class=\"pre\">timedelta</span></code><span>&nbsp;</span>can be added or subtracted from a date to produce another date.</li>\n",
    "    <li>The internal values for a<span>&nbsp;</span><code class=\"docutils literal notranslate\"><span class=\"pre\">timedelta</span></code><span>&nbsp;</span>are stored in days, seconds, and microseconds.</li>\n",
    "    <li>Date math uses the standard arithmetic operators.</li>\n",
    "</ul>"
   ]
  },
  {
   "cell_type": "code",
   "execution_count": 4,
   "metadata": {},
   "outputs": [
    {
     "name": "stdout",
     "output_type": "stream",
     "text": [
      "Today    : 2020-12-03 10:46:15.947693\n",
      "One day  : 1 day, 0:00:00\n",
      "Yesterday: 2020-12-02 10:46:15.947693\n",
      "Tomorrow : 2020-12-04 10:46:15.947693\n",
      "\n",
      "tomorrow - yesterday: 2 days, 0:00:00\n",
      "yesterday - tomorrow: -2 days, 0:00:00\n"
     ]
    }
   ],
   "source": [
    "import datetime\n",
    "\n",
    "today = datetime.datetime.today()\n",
    "print('Today    :', today)\n",
    "\n",
    "one_day = datetime.timedelta(days=1)\n",
    "print('One day  :', one_day)\n",
    "\n",
    "yesterday = today - one_day\n",
    "print('Yesterday:', yesterday)\n",
    "\n",
    "tomorrow = today + one_day\n",
    "print('Tomorrow :', tomorrow)\n",
    "\n",
    "print()\n",
    "print('tomorrow - yesterday:', tomorrow - yesterday)\n",
    "print('yesterday - tomorrow:', yesterday - tomorrow)"
   ]
  },
  {
   "attachments": {},
   "cell_type": "markdown",
   "metadata": {},
   "source": [
    "<ul>\n",
    "    <li>This example with date objects illustrates using<span>&nbsp;</span><code class=\"docutils literal notranslate\"><span class=\"pre\">timedelta</span></code><span>&nbsp;</span>objects to compute new dates, and subtracting date instances to produce <code class=\"docutils literal notranslate\"><span class=\"pre\">timedelta</span></code>s (including a negative delta value).</li>\n",
    "</ul>"
   ]
  },
  {
   "attachments": {},
   "cell_type": "markdown",
   "metadata": {},
   "source": [
    "<h3>Comparing Values</h3>\n",
    "<ul>\n",
    "    <li><code class=\"docutils literal notranslate\"><span class=\"pre\">datetime</span></code> values can be compared using the standard comparison operators to determine which is earlier or later.</li>\n",
    "    <li>All comparison operators are supported.</li>\n",
    "</ul>"
   ]
  },
  {
   "cell_type": "code",
   "execution_count": 6,
   "metadata": {},
   "outputs": [
    {
     "name": "stdout",
     "output_type": "stream",
     "text": [
      "Comparing Dates:\n",
      "  t1: 2020-03-29 14:30:00\n",
      "  t2: 2020-12-03 10:48:22.973881\n",
      "  t1 < t2: True\n"
     ]
    }
   ],
   "source": [
    "import datetime\n",
    "\n",
    "print('Comparing Dates:')\n",
    "t1 = datetime.datetime(2020, 3, 29, 14, 30, 0)\n",
    "print('  t1:', t1)\n",
    "t2 = datetime.datetime.now()\n",
    "print('  t2:', t2)\n",
    "print('  t1 < t2:', t1 < t2)"
   ]
  },
  {
   "attachments": {},
   "cell_type": "markdown",
   "metadata": {},
   "source": [
    "<h3>datetime.time()</h3><ul>            <li>time &ndash; Time independent of the day (Hour, minute, second, microsecond)\n",
    "                <ul>\n",
    "                    <li>Works exactly like the datetime class (below) but only requires (and outputs) the time.</li>\n",
    "                </ul>\n",
    "            </li></ul>"
   ]
  },
  {
   "cell_type": "code",
   "execution_count": 1,
   "metadata": {},
   "outputs": [
    {
     "name": "stdout",
     "output_type": "stream",
     "text": [
      "01:02:03\n",
      "hour       : 1\n",
      "minute     : 2\n",
      "second     : 3\n",
      "microsecond: 0\n",
      "tzinfo     : None\n"
     ]
    }
   ],
   "source": [
    "# Using the Time Class\n",
    "import datetime\n",
    "\n",
    "t = datetime.time(1, 2, 3)\n",
    "print(t)\n",
    "print('hour       :', t.hour)\n",
    "print('minute     :', t.minute)\n",
    "print('second     :', t.second)\n",
    "print('microsecond:', t.microsecond)\n",
    "print('tzinfo     :', t.tzinfo)"
   ]
  },
  {
   "attachments": {},
   "cell_type": "markdown",
   "metadata": {},
   "source": [
    "<h3>datetime.date()</h3>\n",
    "<ul>\n",
    "            <li>date &ndash; Manipulate just date ( Month, day, year)\n",
    "                <ul>\n",
    "                    <li>Works exactly like the datetime class (below) but only requires (and outputs) the date.</li>\n",
    "                </ul>\n",
    "            </li></ul>"
   ]
  },
  {
   "cell_type": "code",
   "execution_count": 3,
   "metadata": {},
   "outputs": [
    {
     "name": "stdout",
     "output_type": "stream",
     "text": [
      "2020-07-28\n",
      "ctime  : Tue Jul 28 00:00:00 2020\n",
      "tuple  : tm_year  = 2020\n",
      "         tm_mon   = 7\n",
      "         tm_mday  = 28\n",
      "         tm_hour  = 0\n",
      "         tm_min   = 0\n",
      "         tm_sec   = 0\n",
      "         tm_wday  = 1\n",
      "         tm_yday  = 210\n",
      "Year   : 2020\n",
      "Mon    : 7\n",
      "Day    : 28\n"
     ]
    }
   ],
   "source": [
    "# Using the Date Class\n",
    "import datetime\n",
    "\n",
    "today = datetime.date.today()\n",
    "print(today)\n",
    "print('ctime  :', today.ctime())\n",
    "tt = today.timetuple()\n",
    "print('tuple  : tm_year  =', tt.tm_year)\n",
    "print('         tm_mon   =', tt.tm_mon)\n",
    "print('         tm_mday  =', tt.tm_mday)\n",
    "print('         tm_hour  =', tt.tm_hour)\n",
    "print('         tm_min   =', tt.tm_min)\n",
    "print('         tm_sec   =', tt.tm_sec)\n",
    "print('         tm_wday  =', tt.tm_wday)\n",
    "print('         tm_yday  =', tt.tm_yday)\n",
    "print('Year   :', today.year)\n",
    "print('Mon    :', today.month)\n",
    "print('Day    :', today.day)"
   ]
  },
  {
   "attachments": {},
   "cell_type": "markdown",
   "metadata": {},
   "source": [
    "<hr><h3>References</h3>\n",
    "<p>PyMOTW-3, datetime - Date and Time Value Manipulation, 2018-12-09<a href=\"https://pymotw.com/3/datetime/\" target=\"_blank\" rel=\"noopener\"> https://pymotw.com/3/datetime/</a>&nbsp;</p>"
   ]
  }
 ],
 "metadata": {
  "kernelspec": {
   "display_name": "Python 3",
   "language": "python",
   "name": "python3"
  },
  "language_info": {
   "codemirror_mode": {
    "name": "ipython",
    "version": 3
   },
   "file_extension": ".py",
   "mimetype": "text/x-python",
   "name": "python",
   "nbconvert_exporter": "python",
   "pygments_lexer": "ipython3",
   "version": "3.7.3"
  }
 },
 "nbformat": 4,
 "nbformat_minor": 2
}
