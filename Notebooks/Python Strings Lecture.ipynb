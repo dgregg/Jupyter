{
 "cells": [
  {
   "attachments": {},
   "cell_type": "markdown",
   "metadata": {},
   "source": [
    "<h1>Python Strings</h1>\n",
    "<p><img src=\"images/1line.png\" width=\"100%\" /></p>\n",
    "<h2>String Type</h2>\n",
    "<ul>\n",
    "<li>A string is a sequence of characters</li>\n",
    "<li>A string literal uses quotes <br />'Hello' or \"Hello\"</li>\n",
    "<li>For strings, + means &ldquo;concatenate&rdquo;</li>\n",
    "<li>When a string contains numbers, it is still a string</li>\n",
    "<li>We can convert numbers in a string into a number using <strong>int()</strong></li>\n",
    "</ul>"
   ]
  },
  {
   "cell_type": "code",
   "execution_count": 1,
   "metadata": {},
   "outputs": [
    {
     "name": "stdout",
     "output_type": "stream",
     "text": [
      "Hellothere\n"
     ]
    }
   ],
   "source": [
    "str1 = \"Hello\"\n",
    "str2 = 'there'\n",
    "bob = str1 + str2\n",
    "print(bob)"
   ]
  },
  {
   "cell_type": "code",
   "execution_count": 2,
   "metadata": {},
   "outputs": [
    {
     "ename": "TypeError",
     "evalue": "can only concatenate str (not \"int\") to str",
     "output_type": "error",
     "traceback": [
      "\u001b[1;31m---------------------------------------------------------------------------\u001b[0m",
      "\u001b[1;31mTypeError\u001b[0m                                 Traceback (most recent call last)",
      "\u001b[1;32mc:\\Users\\dawng\\OneDrive - The University of Colorado Denver\\Courses\\ISMG4400_6020\\Jupyter\\Notebooks\\Python Strings Lecture.ipynb Cell 3\u001b[0m in \u001b[0;36m<cell line: 2>\u001b[1;34m()\u001b[0m\n\u001b[0;32m      <a href='vscode-notebook-cell:/c%3A/Users/dawng/OneDrive%20-%20The%20University%20of%20Colorado%20Denver/Courses/ISMG4400_6020/Jupyter/Notebooks/Python%20Strings%20Lecture.ipynb#W4sZmlsZQ%3D%3D?line=0'>1</a>\u001b[0m str3 \u001b[39m=\u001b[39m \u001b[39m'\u001b[39m\u001b[39m123\u001b[39m\u001b[39m'\u001b[39m\n\u001b[1;32m----> <a href='vscode-notebook-cell:/c%3A/Users/dawng/OneDrive%20-%20The%20University%20of%20Colorado%20Denver/Courses/ISMG4400_6020/Jupyter/Notebooks/Python%20Strings%20Lecture.ipynb#W4sZmlsZQ%3D%3D?line=1'>2</a>\u001b[0m str3 \u001b[39m=\u001b[39m str3 \u001b[39m+\u001b[39;49m \u001b[39m1\u001b[39;49m\n",
      "\u001b[1;31mTypeError\u001b[0m: can only concatenate str (not \"int\") to str"
     ]
    }
   ],
   "source": [
    "str3 = '123'\n",
    "str3 = str3 + 1"
   ]
  },
  {
   "cell_type": "code",
   "execution_count": 3,
   "metadata": {},
   "outputs": [
    {
     "name": "stdout",
     "output_type": "stream",
     "text": [
      "124\n"
     ]
    }
   ],
   "source": [
    "x = int(str3) + 1\n",
    "print(x) "
   ]
  },
  {
   "attachments": {},
   "cell_type": "markdown",
   "metadata": {},
   "source": [
    "<hr />\n",
    "<h4>Reading and Converting</h4>\n",
    "<ul>\n",
    "<li>We prefer to read data in using strings and then parse and convert the data as we need</li>\n",
    "<li>This gives us more control over error situations and/or bad user input</li>\n",
    "<li>Raw input numbers must be converted from strings</li>\n",
    "</ul>"
   ]
  },
  {
   "cell_type": "code",
   "execution_count": 3,
   "metadata": {},
   "outputs": [
    {
     "name": "stdout",
     "output_type": "stream",
     "text": [
      "Chuck\n"
     ]
    }
   ],
   "source": [
    "name = input('Enter:')\n",
    "print(name)"
   ]
  },
  {
   "cell_type": "code",
   "execution_count": 5,
   "metadata": {},
   "outputs": [
    {
     "ename": "TypeError",
     "evalue": "unsupported operand type(s) for -: 'str' and 'int'",
     "output_type": "error",
     "traceback": [
      "\u001b[1;31m---------------------------------------------------------------------------\u001b[0m",
      "\u001b[1;31mTypeError\u001b[0m                                 Traceback (most recent call last)",
      "\u001b[1;32mc:\\Users\\dawng\\OneDrive - The University of Colorado Denver\\Courses\\ISMG4400_6020\\Jupyter\\Notebooks\\Python Strings Lecture.ipynb Cell 7\u001b[0m in \u001b[0;36m<cell line: 3>\u001b[1;34m()\u001b[0m\n\u001b[0;32m      <a href='vscode-notebook-cell:/c%3A/Users/dawng/OneDrive%20-%20The%20University%20of%20Colorado%20Denver/Courses/ISMG4400_6020/Jupyter/Notebooks/Python%20Strings%20Lecture.ipynb#X16sZmlsZQ%3D%3D?line=0'>1</a>\u001b[0m apple \u001b[39m=\u001b[39m \u001b[39minput\u001b[39m(\u001b[39m'\u001b[39m\u001b[39mEnter:\u001b[39m\u001b[39m'\u001b[39m)\n\u001b[1;32m----> <a href='vscode-notebook-cell:/c%3A/Users/dawng/OneDrive%20-%20The%20University%20of%20Colorado%20Denver/Courses/ISMG4400_6020/Jupyter/Notebooks/Python%20Strings%20Lecture.ipynb#X16sZmlsZQ%3D%3D?line=2'>3</a>\u001b[0m x \u001b[39m=\u001b[39m apple \u001b[39m-\u001b[39;49m \u001b[39m10\u001b[39;49m\n",
      "\u001b[1;31mTypeError\u001b[0m: unsupported operand type(s) for -: 'str' and 'int'"
     ]
    }
   ],
   "source": [
    "apple = input('Enter:')\n",
    "\n",
    "x = apple - 10"
   ]
  },
  {
   "cell_type": "code",
   "execution_count": 7,
   "metadata": {},
   "outputs": [
    {
     "name": "stdout",
     "output_type": "stream",
     "text": [
      "90\n"
     ]
    }
   ],
   "source": [
    "x = int(apple) - 10\n",
    "print(x)"
   ]
  },
  {
   "attachments": {},
   "cell_type": "markdown",
   "metadata": {},
   "source": [
    "<hr />\n",
    "<h3>Looking Inside Strings</h3>\n",
    "<ul>\n",
    "<li>We can get at any single character in a string using an index specified in square brackets []</li>\n",
    "<li>The index value must be an integer and starts at zero</li>\n",
    "<li>The index value can be an expression that is computed</li>\n",
    "<li>You will get a python error if you attempt to index beyond the end of a string.</li>\n",
    "<li>So be careful when constructing index values and slices</li>\n",
    "</ul>\n",
    "<table style=\"margin: 5px auto 5px auto;\" border=\"1\">\n",
    "<tbody>\n",
    "<tr>\n",
    "<td style=\"text-align: center;\"><strong>b</strong></td>\n",
    "<td style=\"text-align: center;\"><strong>a</strong></td>\n",
    "<td style=\"text-align: center;\"><strong>n</strong></td>\n",
    "<td style=\"text-align: center;\"><strong>a</strong></td>\n",
    "<td style=\"text-align: center;\"><strong>n</strong></td>\n",
    "<td style=\"text-align: center;\"><strong>a</strong></td>\n",
    "</tr>\n",
    "<tr>\n",
    "<td style=\"text-align: center;\"><strong>0</strong></td>\n",
    "<td style=\"text-align: center;\"><strong>1</strong></td>\n",
    "<td style=\"text-align: center;\"><strong>2</strong></td>\n",
    "<td style=\"text-align: center;\"><strong>3</strong></td>\n",
    "<td style=\"text-align: center;\"><strong>4</strong></td>\n",
    "<td style=\"text-align: center;\"><strong>5</strong></td>\n",
    "</tr>\n",
    "</tbody>\n",
    "</table>"
   ]
  },
  {
   "cell_type": "code",
   "execution_count": 8,
   "metadata": {},
   "outputs": [
    {
     "name": "stdout",
     "output_type": "stream",
     "text": [
      "a\n"
     ]
    }
   ],
   "source": [
    "fruit = 'banana'\n",
    "letter = fruit[1]\n",
    "print(letter)"
   ]
  },
  {
   "cell_type": "code",
   "execution_count": 9,
   "metadata": {},
   "outputs": [
    {
     "name": "stdout",
     "output_type": "stream",
     "text": [
      "n\n"
     ]
    }
   ],
   "source": [
    "x = 3\n",
    "w = fruit[x - 1]\n",
    "print(w)"
   ]
  },
  {
   "cell_type": "code",
   "execution_count": 10,
   "metadata": {},
   "outputs": [
    {
     "ename": "IndexError",
     "evalue": "string index out of range",
     "output_type": "error",
     "traceback": [
      "\u001b[1;31m---------------------------------------------------------------------------\u001b[0m",
      "\u001b[1;31mIndexError\u001b[0m                                Traceback (most recent call last)",
      "\u001b[1;32mc:\\Users\\dawng\\OneDrive - The University of Colorado Denver\\Courses\\ISMG4400_6020\\Jupyter\\Notebooks\\Python Strings Lecture.ipynb Cell 12\u001b[0m in \u001b[0;36m<cell line: 1>\u001b[1;34m()\u001b[0m\n\u001b[1;32m----> <a href='vscode-notebook-cell:/c%3A/Users/dawng/OneDrive%20-%20The%20University%20of%20Colorado%20Denver/Courses/ISMG4400_6020/Jupyter/Notebooks/Python%20Strings%20Lecture.ipynb#X24sZmlsZQ%3D%3D?line=0'>1</a>\u001b[0m \u001b[39mprint\u001b[39m(fruit[\u001b[39m6\u001b[39;49m])\n",
      "\u001b[1;31mIndexError\u001b[0m: string index out of range"
     ]
    }
   ],
   "source": [
    "print(fruit[6])"
   ]
  },
  {
   "attachments": {},
   "cell_type": "markdown",
   "metadata": {},
   "source": [
    "<hr />\n",
    "<h3>&nbsp;Strings Have Length</h3>\n",
    "<ul>\n",
    "<li>\n",
    "<p>The built-in function len gives us the length of a string</p>\n",
    "</li>\n",
    "</ul>"
   ]
  },
  {
   "cell_type": "code",
   "execution_count": 11,
   "metadata": {},
   "outputs": [
    {
     "name": "stdout",
     "output_type": "stream",
     "text": [
      "6\n"
     ]
    }
   ],
   "source": [
    "fruit = 'banana'\n",
    "print(len(fruit))"
   ]
  },
  {
   "attachments": {},
   "cell_type": "markdown",
   "metadata": {},
   "source": [
    "<ul>\n",
    "<li>Using a while statement and an iteration variable, and the len function, we can construct a loop to look at each of the letters in a string individually</li>\n",
    "</ul>"
   ]
  },
  {
   "cell_type": "code",
   "execution_count": 12,
   "metadata": {},
   "outputs": [
    {
     "name": "stdout",
     "output_type": "stream",
     "text": [
      "0 b\n",
      "1 a\n",
      "2 n\n",
      "3 a\n",
      "4 n\n",
      "5 a\n"
     ]
    }
   ],
   "source": [
    "fruit = 'banana'\n",
    "index = 0\n",
    "while index < len(fruit):\n",
    "    letter = fruit[index]\n",
    "    print(index, letter)\n",
    "    index = index + 1"
   ]
  },
  {
   "attachments": {},
   "cell_type": "markdown",
   "metadata": {},
   "source": [
    "<ul>\n",
    "<li>A definite loop using a for statement is much more elegant</li>\n",
    "<li>The iteration variable is completely taken care of by the for loop</li>\n",
    "</ul>"
   ]
  },
  {
   "cell_type": "code",
   "execution_count": 13,
   "metadata": {},
   "outputs": [
    {
     "name": "stdout",
     "output_type": "stream",
     "text": [
      "b\n",
      "a\n",
      "n\n",
      "a\n",
      "n\n",
      "a\n"
     ]
    }
   ],
   "source": [
    "fruit = 'banana'\n",
    "for letter in fruit:\n",
    "    print(letter)"
   ]
  }
 ],
 "metadata": {
  "kernelspec": {
   "display_name": "base",
   "language": "python",
   "name": "python3"
  },
  "language_info": {
   "codemirror_mode": {
    "name": "ipython",
    "version": 3
   },
   "file_extension": ".py",
   "mimetype": "text/x-python",
   "name": "python",
   "nbconvert_exporter": "python",
   "pygments_lexer": "ipython3",
   "version": "3.9.12"
  },
  "orig_nbformat": 4
 },
 "nbformat": 4,
 "nbformat_minor": 2
}
