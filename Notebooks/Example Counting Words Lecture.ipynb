{
 "cells": [
  {
   "attachments": {},
   "cell_type": "markdown",
   "metadata": {},
   "source": [
    "<h1>Example: Counting Words in Text</h1><p><img src=\"images/1line.png\" width=\"100%\" /></p>\n",
    "<p><img src=\"https://ucdenver.instructure.com/courses/518274/files/19913094/download\" alt=\"1line.png\" width=\"100%\" data-api-endpoint=\"https://ucdenver.instructure.com/api/v1/courses/518274/files/19913094\" data-api-returntype=\"File\" /></p>\n",
    "<h2>Counting Words in Text</h2>\n",
    "<ul>\n",
    "<li>\n",
    "<p>The general pattern to count the words in a line of text is to split the line into words, then loop through the words and use a dictionary to track the count of each word independently.</p>\n",
    "</li>\n",
    "</ul>\n",
    "<pre>counts = dict()<br />print('Enter a line of text:')<br />line = input('')<br /><br />words = line.split()<br /><br />print('Words:', words)<br /><br />print('Counting...')<br />for word in words:<br />     counts[word] = counts.get(word,0) + 1<br />print('Counts', counts)</pre>\n",
    "<ul>\n",
    "<li>Using wordcount.py</li>\n",
    "</ul>\n",
    "<pre>python wordcount.py <br />Enter a line of text:<br />the clown ran after the car and the car ran into the tent and the tent fell down on the clown and the car <br /> <br />Words: ['the', 'clown', 'ran', 'after', 'the', 'car', 'and', 'the', 'car', 'ran', 'into', 'the', 'tent', 'and', 'the', 'tent', 'fell', 'down', 'on', 'the', 'clown', 'and', 'the', 'car']<br />Counting&hellip;</pre>\n",
    "<pre>Counts {'and': 3, 'on': 1, 'ran': 2, 'car': 3, 'into': 1, 'after': 1, 'clown': 2, 'down': 1, 'fell': 1, 'the': 7, 'tent': 2}<br />&nbsp;</pre>\n",
    "<hr />\n",
    "<h3>Using Multiple Loops to find the biggest count</h3>\n",
    "<pre># Code to count the most frequent word in a string<br />counts = dict()<br />lines = []<br />print('Enter 3 lines of text:')<br />lines.append(input(''))<br />lines.append(input(''))<br />lines.append(input(''))<br /><br /># Writing programs or programming is a very creative and rewarding activity &nbsp;<br /># You can write programs for many reasons ranging from making your living to solving a difficult data analysis problem to having fun to helping someone else solve a problem &nbsp;<br /># This book assumes that {\\em everyone} needs to know how to program and that once you know how to program, you will figure out what you want to do with your newfound skills<br /><br />counts = dict()<br />for line in lines:<br />&nbsp; words = line.split()<br />&nbsp; for word in words:<br />&nbsp; &nbsp; &nbsp;counts[word] = counts.get(word,0) + 1<br /><br />bigcount = None<br />bigword = None<br />for word,count in counts.items():<br />&nbsp; &nbsp;if bigcount is None or count &gt; bigcount:<br />&nbsp; &nbsp; &nbsp; bigword = word<br />&nbsp; &nbsp; &nbsp; bigcount = count<br /><br />print(bigword, bigcount)</pre>\n",
    "<h4>Input</h4>\n",
    "<p>Writing programs or programming is a very creative and rewarding activity <br />You can write programs for many reasons ranging from making your living to solving a difficult data analysis problem to having fun to helping someone else solve a problem <br />This book assumes that {\\em everyone} needs to know how to program and that once you know how to program, you will figure out what you want to do with your newfound skills</p>\n",
    "<h4>Output</h4>\n",
    "<pre>to 7</pre>"
   ]
  },
  {
   "cell_type": "code",
   "execution_count": null,
   "metadata": {},
   "outputs": [],
   "source": []
  },
  {
   "attachments": {},
   "cell_type": "markdown",
   "metadata": {},
   "source": [
    "<hr><h3>References</h3>\n",
    "<ul>\n",
    "            <li>This Juptyer Notebook contains content from “Python for Everybody” by Charles R Severance is licensed under <a href=\"https://runestone.academy/ns/books/published/universityofcoloradodenver_py4e-int_summer23/ack/creativecommons.org/licenses/by-nc-sa/3.0/\">CC BY-ND 3.0</a>. </li></ul>\n"
   ]
  }
 ],
 "metadata": {
  "kernelspec": {
   "display_name": "base",
   "language": "python",
   "name": "python3"
  },
  "language_info": {
   "name": "python",
   "version": "3.9.12"
  },
  "orig_nbformat": 4
 },
 "nbformat": 4,
 "nbformat_minor": 2
}
