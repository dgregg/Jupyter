{
 "cells": [
  {
   "attachments": {},
   "cell_type": "markdown",
   "metadata": {},
   "source": []
  },
  {
   "attachments": {},
   "cell_type": "markdown",
   "metadata": {},
   "source": [
    "<h1>Python Dictionary</h1>\n",
    "<p><img src=\"images/1line.png\" width=\"100%\" /></p>\n",
    "<ul>\n",
    "<li><strong>List</strong>\n",
    "<ul>\n",
    "<li>A linear collection of values that stay in order</li>\n",
    "</ul>\n",
    "</li>\n",
    "</ul>\n",
    "<p><img src=\"images/pringles.PNG\"  /></p>\n",
    "<ul>\n",
    "<li><strong>Dictionary</strong>\n",
    "<ul>\n",
    "<li>A &ldquo;bag&rdquo; of values, each with its own label</li>\n",
    "</ul>\n",
    "</li>\n",
    "</ul>\n",
    "<p>&nbsp;<img src=\"images/purse.PNG\" /></p>\n",
    "<hr />\n",
    "<h2>Dictionaries</h2>\n",
    "<ul>\n",
    "<li>Dictionaries are Python&rsquo;s most powerful data collection</li>\n",
    "<li>Dictionaries allow us to do fast database-like operations in Python</li>\n",
    "<li>Dictionaries have different names in different languages\n",
    "<ul>\n",
    "<li>Associative Arrays - Perl / PHP</li>\n",
    "<li>Properties or Map or HashMap - Java</li>\n",
    "<li>Property Bag - C# / .Net</li>\n",
    "</ul>\n",
    "</li>\n",
    "</ul>\n",
    "<ul>\n",
    "<li>Lists index their entries based on the position in the list</li>\n",
    "<li>Dictionaries are like bags - no order</li>\n",
    "<li>So we index the things we put in the dictionary with a &ldquo;lookup tag&rdquo;</li>\n",
    "</ul>"
   ]
  },
  {
   "cell_type": "code",
   "execution_count": 1,
   "metadata": {},
   "outputs": [
    {
     "name": "stdout",
     "output_type": "stream",
     "text": [
      "{'money': 12, 'candy': 3, 'tissues': 75}\n"
     ]
    }
   ],
   "source": [
    "purse = dict()\n",
    "purse['money'] = 12\n",
    "purse['candy'] = 3\n",
    "purse['tissues'] = 75\n",
    "print(purse)"
   ]
  },
  {
   "cell_type": "code",
   "execution_count": 2,
   "metadata": {},
   "outputs": [
    {
     "name": "stdout",
     "output_type": "stream",
     "text": [
      "3\n"
     ]
    }
   ],
   "source": [
    "print(purse['candy'])"
   ]
  },
  {
   "cell_type": "code",
   "execution_count": 3,
   "metadata": {},
   "outputs": [
    {
     "name": "stdout",
     "output_type": "stream",
     "text": [
      "{'money': 12, 'candy': 5, 'tissues': 75}\n"
     ]
    }
   ],
   "source": [
    "purse['candy'] = purse['candy'] + 2\n",
    "print(purse)"
   ]
  },
  {
   "attachments": {},
   "cell_type": "markdown",
   "metadata": {},
   "source": [
    "<hr />\n",
    "<h2>Comparing Lists and Dictionaries</h2>\n",
    "<ul>\n",
    "<li>Dictionaries are like lists except that they use keys instead of numbers to look up values</li>\n",
    "</ul><img src=\"images/list2.PNG\" alt=\"lst=[21, 183]\" />"
   ]
  },
  {
   "cell_type": "code",
   "execution_count": 4,
   "metadata": {},
   "outputs": [
    {
     "name": "stdout",
     "output_type": "stream",
     "text": [
      "[21, 183]\n"
     ]
    }
   ],
   "source": [
    "lst = list()\n",
    "lst.append(21)\n",
    "lst.append(183)\n",
    "print(lst)"
   ]
  },
  {
   "cell_type": "code",
   "execution_count": 5,
   "metadata": {},
   "outputs": [
    {
     "name": "stdout",
     "output_type": "stream",
     "text": [
      "[23, 183]\n"
     ]
    }
   ],
   "source": [
    "lst[0] = 23\n",
    "print(lst)"
   ]
  },
  {
   "attachments": {},
   "cell_type": "markdown",
   "metadata": {},
   "source": [
    "<img  src=\"images/dict.PNG\"  alt=\"ddd={'age': 21, 'course': 183}\"  />"
   ]
  },
  {
   "cell_type": "code",
   "execution_count": 6,
   "metadata": {},
   "outputs": [
    {
     "name": "stdout",
     "output_type": "stream",
     "text": [
      "{'age': 21, 'course': 182}\n"
     ]
    }
   ],
   "source": [
    "ddd = dict()\n",
    "ddd['age'] = 21\n",
    "ddd['course'] = 182\n",
    "print(ddd)"
   ]
  },
  {
   "cell_type": "code",
   "execution_count": 7,
   "metadata": {},
   "outputs": [
    {
     "name": "stdout",
     "output_type": "stream",
     "text": [
      "{'age': 23, 'course': 182}\n"
     ]
    }
   ],
   "source": [
    "ddd['age'] = 23\n",
    "print(ddd)"
   ]
  },
  {
   "attachments": {},
   "cell_type": "markdown",
   "metadata": {},
   "source": [
    "<ul><li>Dictionary literals use curly braces and have a list of key : value pairs</li>\n",
    "<li>You can make an empty dictionary using empty curly braces</li></ul>"
   ]
  },
  {
   "cell_type": "code",
   "execution_count": 9,
   "metadata": {},
   "outputs": [
    {
     "name": "stdout",
     "output_type": "stream",
     "text": [
      "{'chuck': 1, 'fred': 42, 'jan': 100}\n"
     ]
    }
   ],
   "source": [
    "jjj = { 'chuck' : 1 , 'fred' : 42, 'jan': 100}\n",
    "print(jjj)"
   ]
  },
  {
   "cell_type": "code",
   "execution_count": 8,
   "metadata": {},
   "outputs": [
    {
     "name": "stdout",
     "output_type": "stream",
     "text": [
      "{}\n"
     ]
    }
   ],
   "source": [
    "ooo = { }\n",
    "print(ooo)"
   ]
  },
  {
   "attachments": {},
   "cell_type": "markdown",
   "metadata": {},
   "source": [
    "<hr><h3>References</h3>\n",
    "<ul>\n",
    "            <li>This Juptyer Notebook contains content from “Python for Everybody” by Charles R Severance is licensed under CC BY-ND 3.0. </li></ul>"
   ]
  }
 ],
 "metadata": {
  "kernelspec": {
   "display_name": "base",
   "language": "python",
   "name": "python3"
  },
  "language_info": {
   "codemirror_mode": {
    "name": "ipython",
    "version": 3
   },
   "file_extension": ".py",
   "mimetype": "text/x-python",
   "name": "python",
   "nbconvert_exporter": "python",
   "pygments_lexer": "ipython3",
   "version": "3.9.12"
  },
  "orig_nbformat": 4
 },
 "nbformat": 4,
 "nbformat_minor": 2
}
