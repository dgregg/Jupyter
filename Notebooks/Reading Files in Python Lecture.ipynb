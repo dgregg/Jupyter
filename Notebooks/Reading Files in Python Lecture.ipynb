{
 "cells": [
  {
   "attachments": {},
   "cell_type": "markdown",
   "metadata": {},
   "source": [
    "<h1>Reading Files in Python</h1><p><img src=\"images/1line.png\" width=\"100%\"  /></p>\n",
    "\n",
    "<h3>Reading a File as a Sequence</h3>\n",
    "<ul>\n",
    "<li>A <strong>file handle</strong> open for read can be treated as a <strong>sequence</strong> of strings where each line in the file is a string in the sequence</li>\n",
    "<li>We can use the <strong>for</strong> statement to iterate through a <strong>sequence</strong></li>\n",
    "<li>Remember - a <strong>sequence</strong> is an ordered set</li>\n",
    "</ul>\n",
    "<pre>xfile = open('mbox.txt')<br />for line in xfile:<br />  print(line)</pre>\n",
    "<hr />\n",
    "<h4>Counting Lines in a File</h4>\n",
    "<ul>\n",
    "<li>Open a file read-only</li>\n",
    "<li>Use a for loop to read each line</li>\n",
    "<li>Count the lines and print out the number of lines</li>\n",
    "</ul>\n",
    "<pre>fhand = open('mbox.txt')<br />count = 0<br />for line in fhand:<br />&nbsp; &nbsp; count = count + 1<br />print('Line Count:', count)</pre>\n",
    "<pre>$ python open.py<br /><span style=\"color: #0000ff;\">Line Count: 132045</span></pre>\n",
    "<hr />\n",
    "<h4>Searching Through a File</h4>\n",
    "<ul>\n",
    "<li>We can put an if statement in our for loop to only print lines that meet some criteria</li>\n",
    "</ul>\n",
    "<pre>fhand = open('mbox-short.txt')<br />for line in fhand:<br />&nbsp; &nbsp; if line.startswith('From:') :<br />&nbsp; &nbsp; &nbsp; &nbsp; &nbsp; &nbsp;print(line)</pre>\n",
    "<p>Outputs:</p>\n",
    "<pre><span style=\"color: #0000ff;\">From: stephen.marquard@uct.ac.za\n",
    "\n",
    "From: louis@media.berkeley.edu\n",
    "\n",
    "From: zqian@umich.edu\n",
    "\n",
    "From: rjlowe@iupui.edu</span>\n",
    "...</pre>\n",
    "<ul>\n",
    "<li>Since each line from the file has a newline at the end and the print statement adds a newline to each line</li>\n",
    "<li>You&nbsp;can strip the whitespace from the right-hand side of the string using rstrip() from the string library\n",
    "<ul>\n",
    "<li>The newline is considered &ldquo;white space&rdquo; and is stripped</li>\n",
    "</ul>\n",
    "</li>\n",
    "</ul>\n",
    "<pre>fhand = open('mbox-short.txt')<br />for line in fhand:<br />&nbsp; &nbsp; line = line.rstrip()<br />&nbsp; &nbsp; if line.startswith('From:') :<br />&nbsp; &nbsp; &nbsp; &nbsp; print(line)</pre>\n",
    "<hr />\n",
    "<h3>Using in to select lines</h3>\n",
    "<ul>\n",
    "<li>You&nbsp;can look for a string anywhere <strong>in</strong> a line as a&nbsp;selection criteria</li>\n",
    "</ul>\n",
    "<pre>fhand = open('mbox-short.txt')<br />for line in fhand:<br />    line = line.rstrip()<br />    if not '@uct.ac.za' in line : <br />        continue<br />    print(line)</pre>\n",
    "<ul>\n",
    "<li>It would find all of the lines below from the file:</li>\n",
    "</ul>\n",
    "<pre><span style=\"color: #0000ff;\">From stephen.marquard<strong>@uct.ac.za</strong> Sat Jan 5 09:14:16 2008</span><br /><span style=\"color: #0000ff;\">X-Authentication-Warning: set sender to stephen.marquard<strong>@uct.ac.za</strong> using &ndash;f</span><br /><span style=\"color: #0000ff;\">From: stephen.marquard<strong>@uct.ac.za</strong></span><br /><span style=\"color: #0000ff;\">Author: stephen.marquard@<strong>uct.ac.za</strong></span><br /><span style=\"color: #0000ff;\">From david.horwitz<strong>@uct.ac.za</strong> Fri Jan 4 07:02:32 2008</span><br /><span style=\"color: #0000ff;\">X-Authentication-Warning: set sender to david.horwitz<strong>@uct.ac.za</strong> using -f...</span></pre>\n",
    "<hr />\n",
    "<h3>Reading the Whole File</h3>\n",
    "<ul>\n",
    "<li>We can read the whole file (newlines and all) into a single string using <strong>read()</strong></li>\n",
    "</ul>\n",
    "<pre>&gt;&gt;&gt; fhand = open('mbox-short.txt')<br />&gt;&gt;&gt; inp = fhand.read()<br />&gt;&gt;&gt; print(len(inp))<br /><span style=\"color: #0000ff;\">94626</span><br />&gt;&gt;&gt; print(inp[:20])<br /><span style=\"color: #0000ff;\">From stephen.marquar</span></pre>\n",
    "<hr />\n",
    "<h3>You Can Prompt Users For the File Name</h3>\n",
    "<pre>fname = input('Enter the file name: ')<br />fhand = open(fname)<br />count = 0<br />for line in fhand:<br />&nbsp; &nbsp;if line.startswith('Subject:') :<br />&nbsp; &nbsp; &nbsp; count = count + 1<br />print('There were', count, 'subject lines in', fname)</pre>\n",
    "<p>&nbsp;</p>\n",
    "<pre><span style=\"color: #0000ff;\">Enter the file name: mbox.txt</span><br /><span style=\"color: #0000ff;\">There were 1797 subject lines in mbox.txt</span><br /><br /><span style=\"color: #0000ff;\">Enter the file name: mbox-short.txt</span><br /><span style=\"color: #0000ff;\">There were 27 subject lines in mbox-short.txt</span></pre>\n",
    "<ul>\n",
    "<li>You can use try/except to catch any errors that might occur if someone enters a bad file name:</li>\n",
    "</ul>\n",
    "<pre>fname = input('Enter the file name: ')<br />try:<br />  fhand = open(fname)<br />  count = 0<br />  for line in fhand:<br />      if line.startswith('Subject:') :<br />      count = count + 1<br />  print('There were', count, 'subject lines in', fname)<br />except:<br />  print('File cannot be opened:', fname)</pre>\n",
    "<pre><span style=\"color: #0000ff;\">Enter the file name: na na boo boo</span><br /><span style=\"color: #0000ff;\">File cannot be opened: na na boo boo</span></pre>\n",
    "<p>&nbsp;</p>"
   ]
  },
  {
   "cell_type": "code",
   "execution_count": null,
   "metadata": {},
   "outputs": [],
   "source": []
  },
  {
   "cell_type": "code",
   "execution_count": null,
   "metadata": {},
   "outputs": [],
   "source": []
  },
  {
   "cell_type": "code",
   "execution_count": null,
   "metadata": {},
   "outputs": [],
   "source": []
  },
  {
   "cell_type": "code",
   "execution_count": null,
   "metadata": {},
   "outputs": [],
   "source": []
  },
  {
   "attachments": {},
   "cell_type": "markdown",
   "metadata": {},
   "source": [
    "<hr><h3>References</h3>\n",
    "<ul>\n",
    "<li>This Juptyer Notebook contains content from &ldquo;Python for Everybody&rdquo; by Charles R Severance is licensed under <a href=\"https://runestone.academy/ns/books/published/universityofcoloradodenver_py4e-int_summer23/ack/creativecommons.org/licenses/by-nc-sa/3.0/\">CC BY-ND 3.0</a>.</li>"
   ]
  }
 ],
 "metadata": {
  "kernelspec": {
   "display_name": "Python 3",
   "language": "python",
   "name": "python3"
  },
  "language_info": {
   "codemirror_mode": {
    "name": "ipython",
    "version": 3
   },
   "file_extension": ".py",
   "mimetype": "text/x-python",
   "name": "python",
   "nbconvert_exporter": "python",
   "pygments_lexer": "ipython3",
   "version": "3.9.12"
  }
 },
 "nbformat": 4,
 "nbformat_minor": 2
}
