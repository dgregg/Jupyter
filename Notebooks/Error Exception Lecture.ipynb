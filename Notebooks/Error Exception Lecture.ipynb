{
 "cells": [
  {
   "attachments": {},
   "cell_type": "markdown",
   "metadata": {},
   "source": [
    "<h1>Understanding Errors and Exceptions</h1>\n",
    "<p><img src=\"images/1line.png\" width=\"100%\" /></p>\n",
    "<ul>\n",
    "<li>Every programmer encounters errors</li>\n",
    "<li>However, understanding what the different types of errors are and when you are likely to encounter them can help a lot.</li>\n",
    "<li>Once you know <em>why</em> you get certain types of errors, they become much easier to fix.</li>\n",
    "</ul>\n",
    "<h3>Traceback (and IndexError)</h3>\n",
    "<ul>\n",
    "<li>Errors in Python have a very specific form, called a traceback (the sequence of function calls that led to an error).</li>\n",
    "</ul>"
   ]
  },
  {
   "cell_type": "code",
   "execution_count": 1,
   "metadata": {},
   "outputs": [
    {
     "ename": "IndexError",
     "evalue": "list index out of range",
     "output_type": "error",
     "traceback": [
      "\u001b[1;31m---------------------------------------------------------------------------\u001b[0m",
      "\u001b[1;31mIndexError\u001b[0m                                Traceback (most recent call last)",
      "\u001b[1;32mc:\\Users\\dawng\\OneDrive - The University of Colorado Denver\\Courses\\ISMG4400_6020\\Jupyter\\Notebooks\\Error Exception Lecture.ipynb Cell 3\u001b[0m in \u001b[0;36m<cell line: 10>\u001b[1;34m()\u001b[0m\n\u001b[0;32m      <a href='vscode-notebook-cell:/c%3A/Users/dawng/OneDrive%20-%20The%20University%20of%20Colorado%20Denver/Courses/ISMG4400_6020/Jupyter/Notebooks/Error%20Exception%20Lecture.ipynb#W2sZmlsZQ%3D%3D?line=2'>3</a>\u001b[0m     ice_creams \u001b[39m=\u001b[39m [\n\u001b[0;32m      <a href='vscode-notebook-cell:/c%3A/Users/dawng/OneDrive%20-%20The%20University%20of%20Colorado%20Denver/Courses/ISMG4400_6020/Jupyter/Notebooks/Error%20Exception%20Lecture.ipynb#W2sZmlsZQ%3D%3D?line=3'>4</a>\u001b[0m         \u001b[39m'\u001b[39m\u001b[39mchocolate\u001b[39m\u001b[39m'\u001b[39m,\n\u001b[0;32m      <a href='vscode-notebook-cell:/c%3A/Users/dawng/OneDrive%20-%20The%20University%20of%20Colorado%20Denver/Courses/ISMG4400_6020/Jupyter/Notebooks/Error%20Exception%20Lecture.ipynb#W2sZmlsZQ%3D%3D?line=4'>5</a>\u001b[0m         \u001b[39m'\u001b[39m\u001b[39mvanilla\u001b[39m\u001b[39m'\u001b[39m,\n\u001b[0;32m      <a href='vscode-notebook-cell:/c%3A/Users/dawng/OneDrive%20-%20The%20University%20of%20Colorado%20Denver/Courses/ISMG4400_6020/Jupyter/Notebooks/Error%20Exception%20Lecture.ipynb#W2sZmlsZQ%3D%3D?line=5'>6</a>\u001b[0m         \u001b[39m'\u001b[39m\u001b[39mstrawberry\u001b[39m\u001b[39m'\u001b[39m\n\u001b[0;32m      <a href='vscode-notebook-cell:/c%3A/Users/dawng/OneDrive%20-%20The%20University%20of%20Colorado%20Denver/Courses/ISMG4400_6020/Jupyter/Notebooks/Error%20Exception%20Lecture.ipynb#W2sZmlsZQ%3D%3D?line=6'>7</a>\u001b[0m     ]\n\u001b[0;32m      <a href='vscode-notebook-cell:/c%3A/Users/dawng/OneDrive%20-%20The%20University%20of%20Colorado%20Denver/Courses/ISMG4400_6020/Jupyter/Notebooks/Error%20Exception%20Lecture.ipynb#W2sZmlsZQ%3D%3D?line=7'>8</a>\u001b[0m     \u001b[39mprint\u001b[39m(ice_creams[\u001b[39m3\u001b[39m])\n\u001b[1;32m---> <a href='vscode-notebook-cell:/c%3A/Users/dawng/OneDrive%20-%20The%20University%20of%20Colorado%20Denver/Courses/ISMG4400_6020/Jupyter/Notebooks/Error%20Exception%20Lecture.ipynb#W2sZmlsZQ%3D%3D?line=9'>10</a>\u001b[0m favorite_ice_cream()\n",
      "\u001b[1;32mc:\\Users\\dawng\\OneDrive - The University of Colorado Denver\\Courses\\ISMG4400_6020\\Jupyter\\Notebooks\\Error Exception Lecture.ipynb Cell 3\u001b[0m in \u001b[0;36mfavorite_ice_cream\u001b[1;34m()\u001b[0m\n\u001b[0;32m      <a href='vscode-notebook-cell:/c%3A/Users/dawng/OneDrive%20-%20The%20University%20of%20Colorado%20Denver/Courses/ISMG4400_6020/Jupyter/Notebooks/Error%20Exception%20Lecture.ipynb#W2sZmlsZQ%3D%3D?line=1'>2</a>\u001b[0m \u001b[39mdef\u001b[39;00m \u001b[39mfavorite_ice_cream\u001b[39m():\n\u001b[0;32m      <a href='vscode-notebook-cell:/c%3A/Users/dawng/OneDrive%20-%20The%20University%20of%20Colorado%20Denver/Courses/ISMG4400_6020/Jupyter/Notebooks/Error%20Exception%20Lecture.ipynb#W2sZmlsZQ%3D%3D?line=2'>3</a>\u001b[0m     ice_creams \u001b[39m=\u001b[39m [\n\u001b[0;32m      <a href='vscode-notebook-cell:/c%3A/Users/dawng/OneDrive%20-%20The%20University%20of%20Colorado%20Denver/Courses/ISMG4400_6020/Jupyter/Notebooks/Error%20Exception%20Lecture.ipynb#W2sZmlsZQ%3D%3D?line=3'>4</a>\u001b[0m         \u001b[39m'\u001b[39m\u001b[39mchocolate\u001b[39m\u001b[39m'\u001b[39m,\n\u001b[0;32m      <a href='vscode-notebook-cell:/c%3A/Users/dawng/OneDrive%20-%20The%20University%20of%20Colorado%20Denver/Courses/ISMG4400_6020/Jupyter/Notebooks/Error%20Exception%20Lecture.ipynb#W2sZmlsZQ%3D%3D?line=4'>5</a>\u001b[0m         \u001b[39m'\u001b[39m\u001b[39mvanilla\u001b[39m\u001b[39m'\u001b[39m,\n\u001b[0;32m      <a href='vscode-notebook-cell:/c%3A/Users/dawng/OneDrive%20-%20The%20University%20of%20Colorado%20Denver/Courses/ISMG4400_6020/Jupyter/Notebooks/Error%20Exception%20Lecture.ipynb#W2sZmlsZQ%3D%3D?line=5'>6</a>\u001b[0m         \u001b[39m'\u001b[39m\u001b[39mstrawberry\u001b[39m\u001b[39m'\u001b[39m\n\u001b[0;32m      <a href='vscode-notebook-cell:/c%3A/Users/dawng/OneDrive%20-%20The%20University%20of%20Colorado%20Denver/Courses/ISMG4400_6020/Jupyter/Notebooks/Error%20Exception%20Lecture.ipynb#W2sZmlsZQ%3D%3D?line=6'>7</a>\u001b[0m     ]\n\u001b[1;32m----> <a href='vscode-notebook-cell:/c%3A/Users/dawng/OneDrive%20-%20The%20University%20of%20Colorado%20Denver/Courses/ISMG4400_6020/Jupyter/Notebooks/Error%20Exception%20Lecture.ipynb#W2sZmlsZQ%3D%3D?line=7'>8</a>\u001b[0m     \u001b[39mprint\u001b[39m(ice_creams[\u001b[39m3\u001b[39;49m])\n",
      "\u001b[1;31mIndexError\u001b[0m: list index out of range"
     ]
    }
   ],
   "source": [
    "\n",
    "# This code has an intentional error. \n",
    "def favorite_ice_cream():\n",
    "    ice_creams = [\n",
    "        'chocolate',\n",
    "        'vanilla',\n",
    "        'strawberry'\n",
    "    ]\n",
    "    print(ice_creams[3])\n",
    "\n",
    "favorite_ice_cream()"
   ]
  },
  {
   "attachments": {},
   "cell_type": "markdown",
   "metadata": {},
   "source": [
    "<ul>\n",
    "<li>This traceback has two levels. You can determine the number of levels by looking for the number of arrows (<span style=\"color: #007427;\">----&gt;</span>) on the left hand side. In this case:</li>\n",
    "<ol>\n",
    "<li>\n",
    "<p>The first shows code from the cell above, with an arrow pointing to Line 10 (which is <code class=\"language-plaintext highlighter-rouge\">favorite_ice_cream()</code>).</p>\n",
    "</li>\n",
    "<li>\n",
    "<p>The second shows some code in the function <code class=\"language-plaintext highlighter-rouge\">favorite_ice_cream</code>, with an arrow pointing to Line 8 (which is <code class=\"language-plaintext highlighter-rouge\">print(ice_creams[3])</code>).</p>\n",
    "</li>\n",
    "</ol>\n",
    "</ul>\n",
    "<ul>\n",
    "<li>The last level is the actual place where the error occurred. The other level(s) show what function the program executed to get to the next level down. So, in this case, the program first performed a function call to the function <code class=\"language-plaintext highlighter-rouge\">favorite_ice_cream</code>. Inside this function, the program encountered an error on Line 8, when it tried to run the code <code class=\"language-plaintext highlighter-rouge\">print(ice_creams[3])</code>.</li>\n",
    "<li>In the last line of the traceback, Python helpfully tells us the category or type of error (in this case, it is an <code class=\"language-plaintext highlighter-rouge\">IndexError</code>) and a more detailed error message (in this case, it says &ldquo;list index out of range&rdquo;).</li>\n",
    "<li>Here, Python is telling us that there is an <code class=\"language-plaintext highlighter-rouge\">IndexError</code> in our code, meaning we tried to access a list index that did not exist.</li>\n",
    "</ul>\n",
    "<blockquote>\n",
    "<h4>Long Tracebacks</h4>\n",
    "<p>Sometimes, you might see a traceback that is very long &ndash; sometimes they might even be 20 levels deep! This can make it seem like something horrible happened, but the length of the error message does not reflect severity, rather, it indicates that your program called many functions before it encountered the error. Most of the time, the actual place where the error occurred is at the bottom-most level, so you can skip down the traceback to the bottom.</p>\n",
    "</blockquote>\n",
    "<ul>\n",
    "<li>If you encounter an error and don&rsquo;t know what it means, it is still important to read the traceback closely. That way, if you fix the error, but encounter a new one, you can tell that the error changed.</li>\n",
    "<li>Sometimes knowing <strong><em>where</em></strong> the error occurred is enough to fix it, even if you don&rsquo;t entirely understand the message.</li>\n",
    "<li>If you do encounter an error you don&rsquo;t recognize, try looking at the <a href=\"http://docs.python.org/3/library/exceptions.html\">official documentation on errors</a>. However, note that you may not always be able to find the error there, as it is possible to create custom errors. In that case, hopefully the custom error message is informative enough to help you figure out what went wrong.</li>\n",
    "</ul>\n",
    "<h3>Syntax (Or Parse) Errors</h3>\n",
    "<ul>\n",
    "<li>When you forget a colon at the end of a line, accidentally add one space too many when indenting under an <code class=\"language-plaintext highlighter-rouge\">if</code> statement, or forget a parenthesis, you will encounter a syntax error.</li>\n",
    "<li>If Python doesn&rsquo;t know how to read the program, it will give up and inform you with an error.</li>\n",
    "<li>For example:</li>\n",
    "</ul>"
   ]
  },
  {
   "cell_type": "code",
   "execution_count": 2,
   "metadata": {},
   "outputs": [
    {
     "ename": "SyntaxError",
     "evalue": "invalid syntax (1947819108.py, line 1)",
     "output_type": "error",
     "traceback": [
      "\u001b[1;36m  Input \u001b[1;32mIn [2]\u001b[1;36m\u001b[0m\n\u001b[1;33m    def some_function()\u001b[0m\n\u001b[1;37m                       ^\u001b[0m\n\u001b[1;31mSyntaxError\u001b[0m\u001b[1;31m:\u001b[0m invalid syntax\n"
     ]
    }
   ],
   "source": [
    "def some_function()\n",
    "    msg = 'hello, world!'\n",
    "    print(msg)\n",
    "     return msg"
   ]
  },
  {
   "attachments": {},
   "cell_type": "markdown",
   "metadata": {},
   "source": [
    "<ul>\n",
    "<li>Python tells us that there is a <code class=\"language-plaintext highlighter-rouge\">SyntaxError</code> on line 1, and even puts a little arrow in the place where there is an issue. In this case the problem is that the function definition is missing a colon at the end.</li>\n",
    "<li>Actually, the function above has <em>two</em> issues with syntax. If we fix the problem with the colon, we see that there is <em>also</em> an <code class=\"language-plaintext highlighter-rouge\">IndentationError</code>, which means that the lines in the function definition do not all have the same indentation:</li>\n",
    "</ul>"
   ]
  },
  {
   "cell_type": "code",
   "execution_count": 3,
   "metadata": {},
   "outputs": [
    {
     "ename": "IndentationError",
     "evalue": "unexpected indent (1601349446.py, line 4)",
     "output_type": "error",
     "traceback": [
      "\u001b[1;36m  Input \u001b[1;32mIn [3]\u001b[1;36m\u001b[0m\n\u001b[1;33m    return msg\u001b[0m\n\u001b[1;37m    ^\u001b[0m\n\u001b[1;31mIndentationError\u001b[0m\u001b[1;31m:\u001b[0m unexpected indent\n"
     ]
    }
   ],
   "source": [
    "def some_function():\n",
    "    msg = 'hello, world!'\n",
    "    print(msg)\n",
    "     return msg\n"
   ]
  },
  {
   "attachments": {},
   "cell_type": "markdown",
   "metadata": {},
   "source": [
    "<ul>\n",
    "<li>Both <code class=\"language-plaintext highlighter-rouge\">SyntaxError</code> and <code class=\"language-plaintext highlighter-rouge\">IndentationError</code> indicate a problem with the syntax of your program, but an <code class=\"language-plaintext highlighter-rouge\">IndentationError</code> is more specific: it <em>always</em> means that there is a problem with how your code is indented.</li>\n",
    "</ul>\n",
    "<h3>Name Errors</h3>\n",
    "<ul>\n",
    "<li>Another very <strong>common</strong> type of error is called a <code class=\"language-plaintext highlighter-rouge\">NameError</code>, and occurs when you try to use a variable that does not exist. For example:</li>\n",
    "</ul>"
   ]
  },
  {
   "cell_type": "code",
   "execution_count": 4,
   "metadata": {},
   "outputs": [
    {
     "ename": "NameError",
     "evalue": "name 'a' is not defined",
     "output_type": "error",
     "traceback": [
      "\u001b[1;31m---------------------------------------------------------------------------\u001b[0m",
      "\u001b[1;31mNameError\u001b[0m                                 Traceback (most recent call last)",
      "\u001b[1;32mc:\\Users\\dawng\\OneDrive - The University of Colorado Denver\\Courses\\ISMG4400_6020\\Jupyter\\Notebooks\\Error Exception Lecture.ipynb Cell 7\u001b[0m in \u001b[0;36m<cell line: 1>\u001b[1;34m()\u001b[0m\n\u001b[1;32m----> <a href='vscode-notebook-cell:/c%3A/Users/dawng/OneDrive%20-%20The%20University%20of%20Colorado%20Denver/Courses/ISMG4400_6020/Jupyter/Notebooks/Error%20Exception%20Lecture.ipynb#W6sZmlsZQ%3D%3D?line=0'>1</a>\u001b[0m \u001b[39mprint\u001b[39m(a)\n",
      "\u001b[1;31mNameError\u001b[0m: name 'a' is not defined"
     ]
    }
   ],
   "source": [
    "print(a)"
   ]
  },
  {
   "attachments": {},
   "cell_type": "markdown",
   "metadata": {},
   "source": [
    "<ul>\n",
    "<li>Variable name errors come with some of the most informative error messages, which are usually of the form &ldquo;name &lsquo;the_variable_name&rsquo; is not defined&rdquo;.</li>\n",
    "<li>Causes might include:\n",
    "<ul>\n",
    "<li>You meant to use a <a href=\"https://swcarpentry.github.io/python-novice-inflammation/reference.html#string\">string</a>, but forgot to put quotes around it.</li>\n",
    "<li>You might be trying to use a variable that does not yet exist e.g. adding a 1 to a counter in a loop without creating the variable before the loop.</li>\n",
    "<li>You might have the wrong case e.g. you have a variable <strong>count</strong> but you are trying to use <strong>Count</strong>.</li>\n",
    "</ul>\n",
    "</li>\n",
    "</ul>\n",
    "<h3>Type Error and Value Error</h3>\n",
    "<ul>\n",
    "<li>The <code><strong>TypeError</strong></code> is thrown when an operation or function is applied to an object of an inappropriate type.</li>\n",
    "<li>We saw these the first week of class</li>\n",
    "</ul>"
   ]
  },
  {
   "cell_type": "code",
   "execution_count": 5,
   "metadata": {},
   "outputs": [
    {
     "ename": "TypeError",
     "evalue": "can only concatenate str (not \"int\") to str",
     "output_type": "error",
     "traceback": [
      "\u001b[1;31m---------------------------------------------------------------------------\u001b[0m",
      "\u001b[1;31mTypeError\u001b[0m                                 Traceback (most recent call last)",
      "\u001b[1;32mc:\\Users\\dawng\\OneDrive - The University of Colorado Denver\\Courses\\ISMG4400_6020\\Jupyter\\Notebooks\\Error Exception Lecture.ipynb Cell 8\u001b[0m in \u001b[0;36m<cell line: 1>\u001b[1;34m()\u001b[0m\n\u001b[1;32m----> <a href='vscode-notebook-cell:/c%3A/Users/dawng/OneDrive%20-%20The%20University%20of%20Colorado%20Denver/Courses/ISMG4400_6020/Jupyter/Notebooks/Error%20Exception%20Lecture.ipynb#X10sZmlsZQ%3D%3D?line=0'>1</a>\u001b[0m \u001b[39m'\u001b[39;49m\u001b[39mxyx\u001b[39;49m\u001b[39m'\u001b[39;49m\u001b[39m+\u001b[39;49m\u001b[39m2\u001b[39;49m\n",
      "\u001b[1;31mTypeError\u001b[0m: can only concatenate str (not \"int\") to str"
     ]
    }
   ],
   "source": [
    "'xyx'+2 "
   ]
  },
  {
   "attachments": {},
   "cell_type": "markdown",
   "metadata": {},
   "source": [
    "<ul>\n",
    "<li>You cannot add a string to an int so the <code><strong>TypeError</strong></code> is thrown.</li>\n",
    "<li>The <code><strong>ValueError</strong></code> is similar to the type error. The <strong><code>ValueError</code></strong> is thrown when a function's argument is of an inappropriate type:</li>\n",
    "</ul>"
   ]
  },
  {
   "cell_type": "code",
   "execution_count": 6,
   "metadata": {},
   "outputs": [
    {
     "ename": "ValueError",
     "evalue": "invalid literal for int() with base 10: 'xyz'",
     "output_type": "error",
     "traceback": [
      "\u001b[1;31m---------------------------------------------------------------------------\u001b[0m",
      "\u001b[1;31mValueError\u001b[0m                                Traceback (most recent call last)",
      "\u001b[1;32mc:\\Users\\dawng\\OneDrive - The University of Colorado Denver\\Courses\\ISMG4400_6020\\Jupyter\\Notebooks\\Error Exception Lecture.ipynb Cell 9\u001b[0m in \u001b[0;36m<cell line: 1>\u001b[1;34m()\u001b[0m\n\u001b[1;32m----> <a href='vscode-notebook-cell:/c%3A/Users/dawng/OneDrive%20-%20The%20University%20of%20Colorado%20Denver/Courses/ISMG4400_6020/Jupyter/Notebooks/Error%20Exception%20Lecture.ipynb#X11sZmlsZQ%3D%3D?line=0'>1</a>\u001b[0m \u001b[39mint\u001b[39;49m(\u001b[39m'\u001b[39;49m\u001b[39mxyz\u001b[39;49m\u001b[39m'\u001b[39;49m) \u001b[39m+\u001b[39m \u001b[39m2\u001b[39m\n",
      "\u001b[1;31mValueError\u001b[0m: invalid literal for int() with base 10: 'xyz'"
     ]
    }
   ],
   "source": [
    "int('xyz') + 2"
   ]
  },
  {
   "attachments": {},
   "cell_type": "markdown",
   "metadata": {},
   "source": [
    "<hr><h3>References</h3>\n",
    "<ul>\n",
    "            <li>This Juptyer Notebook contains content from “Python for Everybody” by Charles R Severance is licensed under CC BY-ND 3.0. </li></ul>"
   ]
  }
 ],
 "metadata": {
  "kernelspec": {
   "display_name": "base",
   "language": "python",
   "name": "python3"
  },
  "language_info": {
   "codemirror_mode": {
    "name": "ipython",
    "version": 3
   },
   "file_extension": ".py",
   "mimetype": "text/x-python",
   "name": "python",
   "nbconvert_exporter": "python",
   "pygments_lexer": "ipython3",
   "version": "3.9.12"
  },
  "orig_nbformat": 4
 },
 "nbformat": 4,
 "nbformat_minor": 2
}
