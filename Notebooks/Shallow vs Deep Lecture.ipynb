{
 "cells": [
  {
   "cell_type": "code",
   "execution_count": 1,
   "metadata": {},
   "outputs": [
    {
     "name": "stdout",
     "output_type": "stream",
     "text": [
      "['Mandy', 'Ron', 'Jacob', 'Bayek']\n"
     ]
    }
   ],
   "source": [
    "# Shallow Copy\n",
    "\n",
    "Bag1 = [\"Mandy\", \"Ron\", \"Jacob\", \"Bayek\"]\n",
    "Bag2 = Bag1\n",
    "\n",
    "print(Bag2)"
   ]
  },
  {
   "cell_type": "code",
   "execution_count": 5,
   "metadata": {},
   "outputs": [
    {
     "name": "stdout",
     "output_type": "stream",
     "text": [
      "Bag1 ['Sally', 'Ron', 'Jacob', 'Bayek']\n",
      "Bag2 ['Sally', 'Ron', 'Jacob', 'Bayek']\n"
     ]
    }
   ],
   "source": [
    "Bag1[0] = \"Sally\"\n",
    "print(\"Bag1\", Bag1)\n",
    "print(\"Bag2\", Bag2)"
   ]
  },
  {
   "cell_type": "code",
   "execution_count": 6,
   "metadata": {},
   "outputs": [
    {
     "name": "stdout",
     "output_type": "stream",
     "text": [
      "Bag1 ['Sally', 'Ron', 'Jacob', 'Bayek', 'Jim']\n",
      "Bag2 ['Sally', 'Ron', 'Jacob', 'Bayek', 'Jim']\n"
     ]
    }
   ],
   "source": [
    "Bag1.append(\"Jim\")\n",
    "print(\"Bag1\", Bag1)\n",
    "print(\"Bag2\", Bag2)"
   ]
  },
  {
   "cell_type": "code",
   "execution_count": 2,
   "metadata": {
    "scrolled": true
   },
   "outputs": [
    {
     "name": "stdout",
     "output_type": "stream",
     "text": [
      "Bag1 ['Sally', 'Ron', 'Jacob', 'Bayek']\n",
      "Bag2 ['Mandy', 'Ron', 'Jacob', 'Bayek']\n"
     ]
    }
   ],
   "source": [
    "# Deep Copy\n",
    "import copy\n",
    "Bag1 = [\"Mandy\", \"Ron\", \"Jacob\", \"Bayek\"]\n",
    "Bag2 = copy.deepcopy(Bag1)\n",
    "\n",
    "Bag1[0] = \"Sally\"\n",
    "print(\"Bag1\", Bag1)\n",
    "print(\"Bag2\", Bag2)"
   ]
  },
  {
   "cell_type": "code",
   "execution_count": 4,
   "metadata": {},
   "outputs": [
    {
     "name": "stdout",
     "output_type": "stream",
     "text": [
      "Sally Jones, 'OOP and Python', Learn Python, 2018-03-29\n",
      "Sally Jones, 'OOP and Python', Learn Python, 2018-03-29\n"
     ]
    }
   ],
   "source": [
    "import datetime\n",
    "import copy\n",
    "class Article:\n",
    "    def __init__(self, n, t, p, d):\n",
    "        self.author = n\n",
    "        self.title = t\n",
    "        self.pub = p\n",
    "        self.date = d\n",
    "        \n",
    "    def __str__(self):\n",
    "        return self.author + \", '\" + self.title + \"', \" + self.pub + \", \" + str(self.date)\n",
    "    \n",
    "art = Article(\"Sally Jones\", \"Introduction to Python Programming\", \"Learn Python\", datetime.date(2018, 3, 29))\n",
    "ashallow = art\n",
    "ashallow.title = \"OOP and Python\"\n",
    "\n",
    "print(art)\n",
    "print(ashallow)\n",
    "    "
   ]
  },
  {
   "cell_type": "code",
   "execution_count": 5,
   "metadata": {},
   "outputs": [
    {
     "name": "stdout",
     "output_type": "stream",
     "text": [
      "Sally Jones, 'Introduction to Python Programming', Learn Python, 2018-03-29\n",
      "Sally Jones, 'OOP and Python', Learn Python, 2018-03-29\n"
     ]
    }
   ],
   "source": [
    "art = Article(\"Sally Jones\", \"Introduction to Python Programming\", \"Learn Python\", datetime.date(2018, 3, 29))\n",
    "adeep = copy.deepcopy(art)\n",
    "adeep.title = \"OOP and Python\"\n",
    "\n",
    "print(art)\n",
    "print(adeep)"
   ]
  },
  {
   "cell_type": "code",
   "execution_count": null,
   "metadata": {},
   "outputs": [],
   "source": []
  }
 ],
 "metadata": {
  "kernelspec": {
   "display_name": "Python 3",
   "language": "python",
   "name": "python3"
  },
  "language_info": {
   "codemirror_mode": {
    "name": "ipython",
    "version": 3
   },
   "file_extension": ".py",
   "mimetype": "text/x-python",
   "name": "python",
   "nbconvert_exporter": "python",
   "pygments_lexer": "ipython3",
   "version": "3.7.3"
  }
 },
 "nbformat": 4,
 "nbformat_minor": 2
}
