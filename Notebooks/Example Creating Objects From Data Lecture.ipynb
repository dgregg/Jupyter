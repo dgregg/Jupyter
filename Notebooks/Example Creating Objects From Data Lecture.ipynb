{
 "cells": [
  {
   "cell_type": "code",
   "execution_count": 11,
   "metadata": {},
   "outputs": [
    {
     "name": "stdout",
     "output_type": "stream",
     "text": [
      "<zip object at 0x000001506518B508>\n",
      "[('Denver', 716492, 'CO'), ('Detroit', 680250, 'MI'), ('New York', 8406000, 'NY'), ('Pittsburgh', 304391, 'PA'), ('Vail', 5450, 'CO')]\n"
     ]
    }
   ],
   "source": [
    "cityNames = [\"Denver\", \"Detroit\", \"New York\", \"Pittsburgh\", \"Vail\"]\n",
    "populations = [716492, 680250, 8406000, 304391, 5450]\n",
    "states = [\"CO\", \"MI\", \"NY\", \"PA\", \"CO\"]\n",
    "\n",
    "city_zip = zip(cityNames, populations, states)\n",
    "city_tuples = list(city_zip) # Convert zip itterator to a list\n",
    "\n",
    "print(city_zip)\n",
    "print(city_tuples)"
   ]
  },
  {
   "cell_type": "code",
   "execution_count": 9,
   "metadata": {},
   "outputs": [],
   "source": [
    "class City:\n",
    "    def __init__(self, n, p, s):\n",
    "        self.name = n\n",
    "        self.population = p\n",
    "        self.state = s\n",
    "        \n",
    "    def __str__(self):\n",
    "         return '{}, {} (pop: {})'.format(self.name, self.state, self.population)"
   ]
  },
  {
   "cell_type": "code",
   "execution_count": 10,
   "metadata": {},
   "outputs": [
    {
     "name": "stdout",
     "output_type": "stream",
     "text": [
      "Denver, CO (pop: 716492)\n",
      "Detroit, MI (pop: 680250)\n",
      "New York, NY (pop: 8406000)\n",
      "Pittsburgh, PA (pop: 304391)\n",
      "Vail, CO (pop: 5450)\n",
      "[<__main__.City object at 0x00000150651958D0>, <__main__.City object at 0x00000150651959B0>, <__main__.City object at 0x0000015065195940>, <__main__.City object at 0x0000015065195978>, <__main__.City object at 0x0000015065195358>]\n"
     ]
    }
   ],
   "source": [
    "cities = []\n",
    "for city_tup in city_tuples :\n",
    "    nam, pop, st = city_tup\n",
    "    city = City(nam, pop, st)\n",
    "    print(city)\n",
    "    cities.append(city)\n",
    "    \n",
    "print(cities)"
   ]
  },
  {
   "cell_type": "code",
   "execution_count": null,
   "metadata": {},
   "outputs": [],
   "source": []
  }
 ],
 "metadata": {
  "kernelspec": {
   "display_name": "Python 3",
   "language": "python",
   "name": "python3"
  },
  "language_info": {
   "codemirror_mode": {
    "name": "ipython",
    "version": 3
   },
   "file_extension": ".py",
   "mimetype": "text/x-python",
   "name": "python",
   "nbconvert_exporter": "python",
   "pygments_lexer": "ipython3",
   "version": "3.7.3"
  }
 },
 "nbformat": 4,
 "nbformat_minor": 2
}
