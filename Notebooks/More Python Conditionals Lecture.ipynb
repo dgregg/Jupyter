{
 "cells": [
  {
   "attachments": {},
   "cell_type": "markdown",
   "metadata": {},
   "source": [
    "<p><img src=\"images/1line.png\" width=\"100%\"  /></p>\n",
    "\n",
    "<h3>Logical Operators</h3>\n",
    "<ul>\n",
    "<li>Logical operators are used to determine the logic between variables or values.</li>\n",
    "<li>Logical:<span>&nbsp;</span><code>not</code>,<code><span> and</span><span>&nbsp;</span></code>and<code><span> or</span></code>\n",
    "<ul>\n",
    "<li>The negation operator <code>not</code><span>&nbsp;</span>changes an expression's value from zero to non-zero or vice-versa.</li>\n",
    "<li>The AND operator is<span>&nbsp;</span><code>and</code>&nbsp;<br />All conditions connected by the<span>&nbsp;</span><code>and</code><span>&nbsp;</span>operator must be true for the compound condition to be true</li>\n",
    "<li>The OR operator is<span>&nbsp;</span><code>or</code> <br />Only one of the conditions connected by the <code>or</code> operator needs to be true for the compound condition to be true.</li>\n",
    "<li>Logical operators combine logical expressions.&nbsp; Evaluation stops as soon as the truth-value is determined</li>\n",
    "</ul>\n",
    "</li>\n",
    "</ul>\n",
    "<table style=\"margin-left: auto; margin-right: auto; height: 312px; width: 425px;\" border=\"1\" cellspacing=\"0\" cellpadding=\"4\"><caption>\n",
    "<p><strong>Logical Operators</strong></p>\n",
    "</caption>\n",
    "<tbody>\n",
    "<tr style=\"height: 24px;\">\n",
    "<th style=\"height: 24px; width: 67px;\"><span>Operator</span></th>\n",
    "<th style=\"height: 24px; width: 165px;\"><span>Example</span></th>\n",
    "<th style=\"width: 161px;\">Result</th>\n",
    "</tr>\n",
    "<tr style=\"height: 96px;\">\n",
    "<td style=\"height: 96px; width: 71px;\">and</td>\n",
    "<td style=\"height: 96px; width: 169px;\">x=6<br />y=3\n",
    "<p>(x &lt; 10 and y &gt; 1)&nbsp;</p>\n",
    "</td>\n",
    "<td style=\"width: 165px;\">true</td>\n",
    "</tr>\n",
    "<tr style=\"height: 96px;\">\n",
    "<td style=\"height: 96px; width: 71px;\">or</td>\n",
    "<td style=\"height: 96px; width: 169px;\">x=6<br />y=3\n",
    "<p>(x==5 or y==5)&nbsp;</p>\n",
    "</td>\n",
    "<td style=\"width: 165px;\">false</td>\n",
    "</tr>\n",
    "<tr style=\"height: 96px;\">\n",
    "<td style=\"height: 96px; width: 71px;\">not</td>\n",
    "<td style=\"height: 96px; width: 169px;\">x=6<br />y=3\n",
    "<p>not(x==y)&nbsp;</p>\n",
    "</td>\n",
    "<td style=\"width: 165px;\">true</td>\n",
    "</tr>\n",
    "</tbody>\n",
    "</table>\n",
    "<h3>Multi-way Conditionals</h3>\n",
    "<ul>\n",
    "<li>Use the if....<span style=\"color: #008000;\">elif</span>...else statement to<span>&nbsp;</span><strong>select one of several blocks of code to be executed</strong>.<br />\n",
    "<ul>\n",
    "<li>if the first<span>&nbsp;</span><code>if</code><span>&nbsp;</span>statement is<span>&nbsp;</span><em><span>true</span></em>, the \"<code>elif</code>\" will be ignored, but</li>\n",
    "<li>if the<span>&nbsp;</span><code>if</code><span>&nbsp;</span>statement is<span>&nbsp;</span><em><span>false</span></em>, it will then check the condition for the<span>&nbsp;</span><code>elif</code><span>&nbsp;</span>statement.</li>\n",
    "</ul>\n",
    "</li>\n",
    "<li>If any of the<span>&nbsp;</span><code>if</code><span>&nbsp;</span>or<span>&nbsp;</span><code>elif</code><span>&nbsp;</span>statements are<span>&nbsp;</span><em><span>true</span></em><span>&nbsp;</span>the<span>&nbsp;</span><code>else</code><span>&nbsp;</span>statement will not be checked.</li>\n",
    "<li>This is similar to JavaScript EXCEPT use<span>&nbsp;</span><span style=\"color: #008000;\">elif</span><span> (</span>all one word) instead of else if!</li>\n",
    "</ul>\n",
    "<h3>Syntax</h3>\n",
    "<div class=\"code notranslate\">\n",
    "<pre>if <em>condition</em><br /> &nbsp; <em>code to be executed if condition is true<br /></em><span>elif</span> <em>condition</em><br /> &nbsp;&nbsp;<em>code to be executed if elif condition is true<br /></em>else<br /> &nbsp; <em>code to be executed if condition is false;<br /></em></pre>\n",
    "</div>\n",
    "<p>For example</p>\n",
    "<ul>\n",
    "<li>The code below determines if the value stored in the variable x is small, Medium or LARGE.</li>\n",
    "</ul>"
   ]
  },
  {
   "cell_type": "code",
   "execution_count": null,
   "metadata": {},
   "outputs": [],
   "source": [
    "# Instaling PyMongo, this is the interface to connect to MongoDB with Python\n",
    "! python -m pip install pymongo"
   ]
  },
  {
   "cell_type": "code",
   "execution_count": 4,
   "metadata": {},
   "outputs": [
    {
     "name": "stdout",
     "output_type": "stream",
     "text": [
      "Enter a number8\n",
      "Medium\n",
      "All done\n"
     ]
    }
   ],
   "source": [
    "# if elif else\n",
    "x = int(input(\"Enter a number\"))\n",
    "if x < 2 :\n",
    "    print('small')\n",
    "elif x < 10 :\n",
    "    print('Medium')\n",
    "else :\n",
    "    print('LARGE')\n",
    "print('All done')"
   ]
  },
  {
   "attachments": {},
   "cell_type": "markdown",
   "metadata": {},
   "source": [
    "<p>&nbsp;</p>\n",
    "<h3>The try / except Structure</h3>\n",
    "<ul>\n",
    "<li>You surround a dangerous section of code with try and except</li>\n",
    "<li>If the code in the try works - the except is skipped</li>\n",
    "<li>If the code in the try fails - it jumps to the except section</li>\n",
    "<li>Works like try - catch in other programming languages</li>\n",
    "</ul>\n",
    "<p>For Example:</p>\n",
    "<ul>\n",
    "<li>The code below will crash on line 2 below:</li>\n",
    "</ul>"
   ]
  },
  {
   "cell_type": "code",
   "execution_count": 5,
   "metadata": {},
   "outputs": [
    {
     "ename": "ValueError",
     "evalue": "invalid literal for int() with base 10: 'Hello Bob'",
     "output_type": "error",
     "traceback": [
      "\u001b[1;31m---------------------------------------------------------------------------\u001b[0m",
      "\u001b[1;31mValueError\u001b[0m                                Traceback (most recent call last)",
      "\u001b[1;32m<ipython-input-5-a96d2ddd189b>\u001b[0m in \u001b[0;36m<module>\u001b[1;34m\u001b[0m\n\u001b[0;32m      1\u001b[0m \u001b[0mastr\u001b[0m \u001b[1;33m=\u001b[0m \u001b[1;34m'Hello Bob'\u001b[0m\u001b[1;33m\u001b[0m\u001b[1;33m\u001b[0m\u001b[0m\n\u001b[1;32m----> 2\u001b[1;33m \u001b[0mistr\u001b[0m \u001b[1;33m=\u001b[0m \u001b[0mint\u001b[0m\u001b[1;33m(\u001b[0m\u001b[0mastr\u001b[0m\u001b[1;33m)\u001b[0m\u001b[1;33m\u001b[0m\u001b[1;33m\u001b[0m\u001b[0m\n\u001b[0m\u001b[0;32m      3\u001b[0m \u001b[0mprint\u001b[0m\u001b[1;33m(\u001b[0m\u001b[1;34m'First'\u001b[0m\u001b[1;33m,\u001b[0m \u001b[0mistr\u001b[0m\u001b[1;33m)\u001b[0m\u001b[1;33m\u001b[0m\u001b[1;33m\u001b[0m\u001b[0m\n\u001b[0;32m      4\u001b[0m \u001b[0mastr\u001b[0m \u001b[1;33m=\u001b[0m \u001b[1;34m'123'\u001b[0m\u001b[1;33m\u001b[0m\u001b[1;33m\u001b[0m\u001b[0m\n\u001b[0;32m      5\u001b[0m \u001b[0mistr\u001b[0m \u001b[1;33m=\u001b[0m \u001b[0mint\u001b[0m\u001b[1;33m(\u001b[0m\u001b[0mastr\u001b[0m\u001b[1;33m)\u001b[0m\u001b[1;33m\u001b[0m\u001b[1;33m\u001b[0m\u001b[0m\n",
      "\u001b[1;31mValueError\u001b[0m: invalid literal for int() with base 10: 'Hello Bob'"
     ]
    }
   ],
   "source": [
    "#code with an error\n",
    "astr = 'Hello Bob'\n",
    "istr = int(astr)\n",
    "print('First', istr)\n",
    "astr = '123'\n",
    "istr = int(astr)\n",
    "print('Second', istr)"
   ]
  },
  {
   "attachments": {},
   "cell_type": "markdown",
   "metadata": {},
   "source": [
    "<h4>Instead:</h4>\n",
    "<ul>\n",
    "<li>Use try and except to allow a program to \"handle\" errors and continue running</li>\n",
    "<li>When the first conversion fails (below) - it just drops into the except: clause and the program continues</li>\n",
    "<li>When the second conversion succeeds - it just skips the except: clause and the program continues</li>\n",
    "</ul>"
   ]
  },
  {
   "cell_type": "code",
   "execution_count": 6,
   "metadata": {},
   "outputs": [
    {
     "name": "stdout",
     "output_type": "stream",
     "text": [
      "First -1\n",
      "Second 123\n"
     ]
    }
   ],
   "source": [
    "# Using try and except\n",
    "astr = 'Hello Bob'\n",
    "try:\n",
    "    istr = int(astr)\n",
    "except:\n",
    "    istr = -1\n",
    "print('First', istr)\n",
    "\n",
    "astr = '123'\n",
    "try:\n",
    "    istr = int(astr)\n",
    "except:\n",
    "    istr = -1\n",
    "print('Second', istr)"
   ]
  },
  {
   "attachments": {},
   "cell_type": "markdown",
   "metadata": {},
   "source": [
    "<hr />\n",
    "<h3>References</h3>\n",
    "<ul>\n",
    "<li>This Juptyer Notebook contains content from &ldquo;Python for Everybody&rdquo; by Charles R Severance is licensed under <a href=\"https://runestone.academy/ns/books/published/universityofcoloradodenver_py4e-int_summer23/ack/creativecommons.org/licenses/by-nc-sa/3.0/\">CC BY-ND 3.0</a>.</li>\n",
    "</ul>"
   ]
  }
 ],
 "metadata": {
  "kernelspec": {
   "display_name": "Python 3",
   "language": "python",
   "name": "python3"
  },
  "language_info": {
   "codemirror_mode": {
    "name": "ipython",
    "version": 3
   },
   "file_extension": ".py",
   "mimetype": "text/x-python",
   "name": "python",
   "nbconvert_exporter": "python",
   "pygments_lexer": "ipython3",
   "version": "3.7.3"
  }
 },
 "nbformat": 4,
 "nbformat_minor": 2
}
