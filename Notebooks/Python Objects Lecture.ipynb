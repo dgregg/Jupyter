{
 "cells": [
  {
   "attachments": {},
   "cell_type": "markdown",
   "metadata": {},
   "source": [
    "<h1>Pyhton Objects</h1>\n",
    "<p><img src=\"images/1line.png\" width=\"100%\" /></p>\n",
    "<ul>\n",
    "<li>It's important to understand that all data in a Python program is represented by objects and by relationships between objects.</li>\n",
    "<li>Each object in Python has three characteristics.\n",
    "<ul>\n",
    "<li>object type</li>\n",
    "<li>object value</li>\n",
    "<li>object identity.</li>\n",
    "</ul>\n",
    "</li>\n",
    "</ul>\n",
    "<h3>Object Type, Object Value, Object Identity</h3>\n",
    "<ul>\n",
    "<li><strong>Object type</strong> tells Python what kind of an object it's dealing with.\n",
    "<ul>\n",
    "<li>A type could be a number, or a string, or a list, or something else.</li>\n",
    "</ul>\n",
    "</li>\n",
    "<li><strong>Object value</strong> is the data value that is contained by the object.<br />\n",
    "<ul>\n",
    "<li>This could be a specific number, for example.</li>\n",
    "</ul>\n",
    "</li>\n",
    "<li><strong>Object identity</strong> is an identity number for the object.<br />\n",
    "<ul>\n",
    "<li>Each distinct object in the computer's memory will have its own identity number.</li>\n",
    "</ul>\n",
    "</li>\n",
    "</ul>\n",
    "<h3>Object Attributes</h3>\n",
    "<ul>\n",
    "<li>Most Python objects have either data or functions or both associated with them.<br />\n",
    "<ul>\n",
    "<li>These are known as attributes.</li>\n",
    "</ul>\n",
    "</li>\n",
    "<li>The name of the object is followed by the name of the&nbsp; attribute separated by a dot in between them.</li>\n",
    "</ul>\n",
    "<pre><span style=\"font-size: 18pt;\"><strong><span style=\"color: #0000ff;\">obj.append(\"Some Data\")</span></strong></span></pre>\n",
    "\n",
    "<ul>\n",
    "<li>A data attribute or <strong>property</strong> is a value that is attached to a specific object.</li>\n",
    "<li>In contrast, a <strong>method</strong> is a function that is attached to an object that&nbsp; performs some&nbsp; operation on that object.</li>\n",
    "</ul>\n",
    "<h3>Instance</h3>\n",
    "<ul>\n",
    "<li>An instance is one occurrence of an object.</li>\n",
    "<li>For example, you could have two strings, each with different values stored in them:</li>\n",
    "</ul>\n"
   ]
  },
  {
   "cell_type": "code",
   "execution_count": 2,
   "metadata": {},
   "outputs": [
    {
     "name": "stdout",
     "output_type": "stream",
     "text": [
      "1\n",
      "2\n"
     ]
    }
   ],
   "source": [
    "a = \"Hello\"\n",
    "b = \"everybody\"\n",
    "print(a.count(\"e\")) # 1\n",
    "print(b.count(\"e\")) # 2"
   ]
  },
  {
   "attachments": {},
   "cell_type": "markdown",
   "metadata": {},
   "source": [
    "\n",
    "<ul>\n",
    "<li>They both support the same set of methods.</li>\n",
    "</ul>\n",
    "<h3>Example Object: Date</h3>\n",
    "<ul>\n",
    "<li>To clarify the difference between a data attribute and a method, we will use the python date class.</li>\n",
    "</ul>"
   ]
  },
  {
   "cell_type": "code",
   "execution_count": 3,
   "metadata": {},
   "outputs": [
    {
     "name": "stdout",
     "output_type": "stream",
     "text": [
      "2023 2021\n",
      "6 1\n",
      "4 4\n",
      "Friday Friday\n"
     ]
    }
   ],
   "source": [
    "import datetime\n",
    "\n",
    "x = datetime.date.today()\n",
    "y = datetime.date(2021, 1, 1)\n",
    "\n",
    "# date properties\n",
    "print(x.year, y.year)\n",
    "print(x.month, y.month )\n",
    "\n",
    "#date methods\n",
    "print(x.weekday(), y.weekday())\n",
    "print(x.strftime(\"%A\"), y.strftime(\"%A\"))"
   ]
  },
  {
   "attachments": {},
   "cell_type": "markdown",
   "metadata": {},
   "source": [
    "<ul>\n",
    "<li>The program above defines a two date objects, one is set to the current date and the other is set to January 1, 2021.\n",
    "<ul>\n",
    "<li style=\"list-style-type: none;\"></li>\n",
    "<li>Since the <em>date</em>&nbsp;<strong>class</strong> has been imported from the <em>datetime</em> <strong>package</strong> imported top of the program, the class name used to create the date is <em>datetime.date</em>.</li>\n",
    "<li><strong><span style=\"color: #800000;\">x</span></strong> and <strong><span style=\"color: #ff00ff;\">y</span></strong> are<strong> instances</strong>&nbsp;of the class <em>datetime.date, </em>that means they both support the same methods and have the same attributes available.</li>\n",
    "</ul>\n",
    "</li>\n",
    "<li>You can get the <span style=\"color: #ff6600;\">year</span> and <span style=\"color: #ff6600;\">month</span>&nbsp;properties for both <strong><span style=\"color: #800000;\">x</span></strong> &amp; <span style=\"color: #ff00ff;\"><strong>y </strong></span>(e.g. <strong><span style=\"color: #800000;\">x</span>.<span style=\"color: #ff6600;\">year</span></strong>)</li>\n",
    "<li>You can call the <span style=\"color: #0000ff;\"><strong>weekday()</strong></span> and the <strong><span style=\"color: #0000ff;\">strftime()</span></strong> methods for both <strong><span style=\"color: #800000;\">x</span></strong> &amp; <span style=\"color: #ff00ff;\"><strong>y </strong></span>(e.g. <strong><span style=\"color: #800000;\">x</span>.<span style=\"color: #0000ff;\">weekday()</span></strong>)</li>\n",
    "<li>When you are calling methods you use parentheses following the name of the method.</li>\n",
    "<li>When you are accessing properties you do not have parentheses following the property name.</li>\n",
    "</ul>"
   ]
  },
  {
   "attachments": {},
   "cell_type": "markdown",
   "metadata": {},
   "source": [
    "<hr><h3>References</h3>\n",
    "<ul>\n",
    "<li>This lecture contains content from &ldquo;Automate the Boring Stuff with Python&rdquo; By Al Sweigart. is licensed under <a href=\"https://creativecommons.org/licenses/by-nc-sa/3.0/\">CC BY-NC-SA 3.0</a>.</li>\n",
    "</ul>"
   ]
  }
 ],
 "metadata": {
  "kernelspec": {
   "display_name": "Python 3",
   "language": "python",
   "name": "python3"
  },
  "language_info": {
   "codemirror_mode": {
    "name": "ipython",
    "version": 3
   },
   "file_extension": ".py",
   "mimetype": "text/x-python",
   "name": "python",
   "nbconvert_exporter": "python",
   "pygments_lexer": "ipython3",
   "version": "3.9.12"
  }
 },
 "nbformat": 4,
 "nbformat_minor": 2
}
