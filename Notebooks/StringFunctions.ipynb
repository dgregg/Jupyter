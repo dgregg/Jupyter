{
 "cells": [
  {
   "cell_type": "code",
   "execution_count": 1,
   "metadata": {},
   "outputs": [
    {
     "name": "stdout",
     "output_type": "stream",
     "text": [
      "Mont\n",
      "P\n",
      "Python\n",
      "Mo\n",
      "thon\n",
      "Monty Python\n"
     ]
    }
   ],
   "source": [
    "# String Slicing\n",
    "\n",
    "s = 'Monty Python'\n",
    "print(s[0:4])\n",
    "#Mont\n",
    "\n",
    "print(s[6:7])\n",
    "#P\n",
    "\n",
    "print(s[6:20])\n",
    "#Python\n",
    "\n",
    "print(s[:2])\n",
    "#Mo\n",
    "\n",
    "print(s[8:])\n",
    "#thon\n",
    "\n",
    "print(s[:])\n",
    "#Monty Python"
   ]
  },
  {
   "cell_type": "code",
   "execution_count": 2,
   "metadata": {},
   "outputs": [
    {
     "name": "stdout",
     "output_type": "stream",
     "text": [
      "DawnGregg\n",
      "Dawn Gregg\n"
     ]
    }
   ],
   "source": [
    "# String Concatenation\n",
    "\n",
    "a = 'Dawn'\n",
    "b = a + 'Gregg'\n",
    "print(b)\n",
    "#DawnGregg\n",
    "\n",
    "\n",
    "c = a + ' ' + 'Gregg'\n",
    "print(c)\n",
    "#Dawn Gregg "
   ]
  },
  {
   "cell_type": "code",
   "execution_count": 3,
   "metadata": {},
   "outputs": [
    {
     "name": "stdout",
     "output_type": "stream",
     "text": [
      "True\n",
      "False\n",
      "True\n",
      "Found it!\n"
     ]
    }
   ],
   "source": [
    "# in Operator\n",
    "\n",
    "fruit = 'banana'\n",
    "\n",
    "print('n' in fruit)\n",
    "# True\n",
    "\n",
    "print('m' in fruit)\n",
    "# False\n",
    "\n",
    "print('nan' in fruit)\n",
    "# True\n",
    "\n",
    "if 'a' in fruit :\n",
    "    print('Found it!')\n",
    "# Found it!"
   ]
  },
  {
   "cell_type": "code",
   "execution_count": 9,
   "metadata": {},
   "outputs": [
    {
     "name": "stdout",
     "output_type": "stream",
     "text": [
      "Enter a wordPEAR\n",
      "Your word,pear, comes after banana.\n"
     ]
    }
   ],
   "source": [
    "# String Comparison\n",
    "\n",
    "word1 = input(\"Enter a word\")\n",
    "word = word1.lower()\n",
    "\n",
    "if word == 'banana':\n",
    "    print('All right, bananas.')\n",
    "    \n",
    "if word < 'banana':\n",
    "    print('Your word,' + word + ', comes before banana.')\n",
    "elif word > 'banana':\n",
    "    print('Your word,' + word + ', comes after banana.')\n",
    "else:\n",
    "    print('All right, bananas.')"
   ]
  },
  {
   "cell_type": "code",
   "execution_count": 10,
   "metadata": {},
   "outputs": [
    {
     "name": "stdout",
     "output_type": "stream",
     "text": [
      "greet.lower() hello bob\n",
      "greet.upper() HELLO BOB\n",
      "greet Hello Bob\n",
      "hi there\n"
     ]
    }
   ],
   "source": [
    "# String Library\n",
    "\n",
    "greet = 'Hello Bob'\n",
    "zap = greet.lower()\n",
    "print(\"greet.lower()\", zap)\n",
    "# hello bob\n",
    "\n",
    "nnn = greet.upper()\n",
    "print(\"greet.upper()\", nnn)\n",
    "# HELLO BOB\n",
    "\n",
    "print(\"greet\", greet)\n",
    "#Hello Bob\n",
    "\n",
    "print('Hi There'.lower())\n",
    "# hi there\n"
   ]
  },
  {
   "cell_type": "code",
   "execution_count": 11,
   "metadata": {},
   "outputs": [
    {
     "name": "stdout",
     "output_type": "stream",
     "text": [
      "<class 'str'>\n"
     ]
    },
    {
     "data": {
      "text/plain": [
       "['__add__',\n",
       " '__class__',\n",
       " '__contains__',\n",
       " '__delattr__',\n",
       " '__dir__',\n",
       " '__doc__',\n",
       " '__eq__',\n",
       " '__format__',\n",
       " '__ge__',\n",
       " '__getattribute__',\n",
       " '__getitem__',\n",
       " '__getnewargs__',\n",
       " '__gt__',\n",
       " '__hash__',\n",
       " '__init__',\n",
       " '__init_subclass__',\n",
       " '__iter__',\n",
       " '__le__',\n",
       " '__len__',\n",
       " '__lt__',\n",
       " '__mod__',\n",
       " '__mul__',\n",
       " '__ne__',\n",
       " '__new__',\n",
       " '__reduce__',\n",
       " '__reduce_ex__',\n",
       " '__repr__',\n",
       " '__rmod__',\n",
       " '__rmul__',\n",
       " '__setattr__',\n",
       " '__sizeof__',\n",
       " '__str__',\n",
       " '__subclasshook__',\n",
       " 'capitalize',\n",
       " 'casefold',\n",
       " 'center',\n",
       " 'count',\n",
       " 'encode',\n",
       " 'endswith',\n",
       " 'expandtabs',\n",
       " 'find',\n",
       " 'format',\n",
       " 'format_map',\n",
       " 'index',\n",
       " 'isalnum',\n",
       " 'isalpha',\n",
       " 'isascii',\n",
       " 'isdecimal',\n",
       " 'isdigit',\n",
       " 'isidentifier',\n",
       " 'islower',\n",
       " 'isnumeric',\n",
       " 'isprintable',\n",
       " 'isspace',\n",
       " 'istitle',\n",
       " 'isupper',\n",
       " 'join',\n",
       " 'ljust',\n",
       " 'lower',\n",
       " 'lstrip',\n",
       " 'maketrans',\n",
       " 'partition',\n",
       " 'replace',\n",
       " 'rfind',\n",
       " 'rindex',\n",
       " 'rjust',\n",
       " 'rpartition',\n",
       " 'rsplit',\n",
       " 'rstrip',\n",
       " 'split',\n",
       " 'splitlines',\n",
       " 'startswith',\n",
       " 'strip',\n",
       " 'swapcase',\n",
       " 'title',\n",
       " 'translate',\n",
       " 'upper',\n",
       " 'zfill']"
      ]
     },
     "execution_count": 11,
     "metadata": {},
     "output_type": "execute_result"
    }
   ],
   "source": [
    "# type and dir\n",
    "\n",
    "stuff = 'Hello world'\n",
    "print(type(stuff))\n",
    "# <class 'str'>\n",
    "\n",
    "dir(stuff)"
   ]
  },
  {
   "cell_type": "code",
   "execution_count": 12,
   "metadata": {},
   "outputs": [
    {
     "name": "stdout",
     "output_type": "stream",
     "text": [
      "na 2\n",
      "z -1\n"
     ]
    }
   ],
   "source": [
    "# Search in a string\n",
    "\n",
    "fruit = 'banana'\n",
    "pos = fruit.find('na')\n",
    "print('na', pos)\n",
    "# 2\n",
    "\n",
    "aa = fruit.find('z')\n",
    "print('z', aa)\n",
    "# -1"
   ]
  },
  {
   "cell_type": "code",
   "execution_count": 13,
   "metadata": {},
   "outputs": [
    {
     "name": "stdout",
     "output_type": "stream",
     "text": [
      "Hello Jane\n",
      "HellX BXb\n"
     ]
    }
   ],
   "source": [
    "# Replace in a String\n",
    "\n",
    "greet = 'Hello Bob'\n",
    "newstr = greet.replace('Bob','Jane')\n",
    "print(newstr)\n",
    "# Hello Jane\n",
    "\n",
    "nextstr = greet.replace('o','X')\n",
    "print(nextstr)\n",
    "#HellX BXb"
   ]
  },
  {
   "cell_type": "code",
   "execution_count": 17,
   "metadata": {},
   "outputs": [
    {
     "name": "stdout",
     "output_type": "stream",
     "text": [
      "Hello Bob   XXX\n",
      "   Hello Bob XXX\n",
      "Hello Bob XXX\n"
     ]
    },
    {
     "data": {
      "text/plain": [
       "9"
      ]
     },
     "execution_count": 17,
     "metadata": {},
     "output_type": "execute_result"
    }
   ],
   "source": [
    "# Stripppin Whitespace\n",
    "\n",
    "greet = '   Hello Bob  '\n",
    "print(greet.lstrip(), \"XXX\")\n",
    "# 'Hello Bob  '\n",
    "\n",
    "print(greet.rstrip(), \"XXX\")\n",
    "#'   Hello Bob'\n",
    "\n",
    "print(greet.strip(), \"XXX\")\n",
    "#'Hello Bob'\n",
    "\n",
    "len(greet.strip())"
   ]
  },
  {
   "cell_type": "code",
   "execution_count": 18,
   "metadata": {},
   "outputs": [
    {
     "name": "stdout",
     "output_type": "stream",
     "text": [
      "line.startswith('Please') True\n",
      "line.startswith('p') False\n"
     ]
    }
   ],
   "source": [
    "line = 'Please have a nice day'\n",
    "print(\"line.startswith('Please')\", line.startswith('Please'))\n",
    "# True\n",
    "\n",
    "print(\"line.startswith('p')\", line.startswith('p'))\n",
    "# False"
   ]
  },
  {
   "cell_type": "code",
   "execution_count": 19,
   "metadata": {},
   "outputs": [
    {
     "name": "stdout",
     "output_type": "stream",
     "text": [
      "21\n",
      "31\n",
      "uct.ac.za\n"
     ]
    }
   ],
   "source": [
    "# Parsng and extracting\n",
    "\n",
    "data = 'From stephen.marquard@uct.ac.za Sat Jan  5 09:14:16 2008'\n",
    "atpos = data.find('@')\n",
    "print(atpos)  #21\n",
    "\n",
    "# find the first space after the @\n",
    "sppos = data.find(' ',atpos)\n",
    "print(sppos)  #31\n",
    "\n",
    "# slice the string starting after the @ and ending before the space\n",
    "host = data[atpos+1 : sppos]\n",
    "print(host) # uct.ac.za"
   ]
  },
  {
   "cell_type": "code",
   "execution_count": null,
   "metadata": {},
   "outputs": [],
   "source": []
  }
 ],
 "metadata": {
  "kernelspec": {
   "display_name": "Python 3",
   "language": "python",
   "name": "python3"
  },
  "language_info": {
   "codemirror_mode": {
    "name": "ipython",
    "version": 3
   },
   "file_extension": ".py",
   "mimetype": "text/x-python",
   "name": "python",
   "nbconvert_exporter": "python",
   "pygments_lexer": "ipython3",
   "version": "3.7.3"
  }
 },
 "nbformat": 4,
 "nbformat_minor": 2
}
