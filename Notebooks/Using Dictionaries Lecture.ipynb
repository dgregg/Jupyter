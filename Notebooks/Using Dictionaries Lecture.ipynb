{
 "cells": [
  {
   "attachments": {},
   "cell_type": "markdown",
   "metadata": {},
   "source": [
    "<h1>Using Dictionaries</h1><p><img src=\"images/1line.png\" width=\"100%\" d/></p>\n",
    "<ul>\n",
    "<li>One common use of dictionaries is counting how often we &ldquo;see&rdquo; something</li>\n",
    "</ul>"
   ]
  },
  {
   "cell_type": "code",
   "execution_count": 1,
   "metadata": {},
   "outputs": [
    {
     "name": "stdout",
     "output_type": "stream",
     "text": [
      "{'csev': 1, 'cwen': 1}\n"
     ]
    }
   ],
   "source": [
    "ccc = dict()\n",
    "ccc['csev'] = 1\n",
    "ccc['cwen'] = 1\n",
    "print(ccc)"
   ]
  },
  {
   "cell_type": "code",
   "execution_count": 2,
   "metadata": {},
   "outputs": [
    {
     "name": "stdout",
     "output_type": "stream",
     "text": [
      "{'csev': 1, 'cwen': 2}\n"
     ]
    }
   ],
   "source": [
    "ccc['cwen'] = ccc['cwen'] + 1\n",
    "print(ccc)\n"
   ]
  },
  {
   "attachments": {},
   "cell_type": "markdown",
   "metadata": {},
   "source": [
    "<hr />\n",
    "<h3>Dictionary Tracebacks</h3>\n",
    "<ul>\n",
    "<li>It is an error to reference a key which is not in the dictionary</li>\n",
    "<li>We can use the in operator to see if a key is in the dictionary</li>\n",
    "</ul>"
   ]
  },
  {
   "cell_type": "code",
   "execution_count": 3,
   "metadata": {},
   "outputs": [
    {
     "ename": "KeyError",
     "evalue": "'csev'",
     "output_type": "error",
     "traceback": [
      "\u001b[1;31m---------------------------------------------------------------------------\u001b[0m",
      "\u001b[1;31mKeyError\u001b[0m                                  Traceback (most recent call last)",
      "Cell \u001b[1;32mIn[3], line 2\u001b[0m\n\u001b[0;32m      1\u001b[0m ccc \u001b[39m=\u001b[39m \u001b[39mdict\u001b[39m()\n\u001b[1;32m----> 2\u001b[0m \u001b[39mprint\u001b[39m(ccc[\u001b[39m'\u001b[39;49m\u001b[39mcsev\u001b[39;49m\u001b[39m'\u001b[39;49m])\n",
      "\u001b[1;31mKeyError\u001b[0m: 'csev'"
     ]
    }
   ],
   "source": [
    "ccc = dict()\n",
    "print(ccc['csev'])"
   ]
  },
  {
   "cell_type": "code",
   "execution_count": 4,
   "metadata": {},
   "outputs": [
    {
     "data": {
      "text/plain": [
       "False"
      ]
     },
     "execution_count": 4,
     "metadata": {},
     "output_type": "execute_result"
    }
   ],
   "source": [
    "'csev' in ccc"
   ]
  },
  {
   "attachments": {},
   "cell_type": "markdown",
   "metadata": {},
   "source": [
    "\n",
    "<hr />\n",
    "<h3>get</h3>\n",
    "<ul>\n",
    "<li>When we encounter a new name, we need to add a new entry in the dictionary and if this the second or later time we have seen the name, we simply add one to the count in the dictionary under that name.</li>\n",
    "<li>The pattern of checking to see if a key is already in a dictionary and assuming a default value if the key is not there is so common that there is a method called <strong>get()</strong> that does this for us.</li>\n",
    "<li>Default value if key does not exist (and no Traceback).</li>\n",
    "</ul>\n",
    "<pre><strong>x = </strong><strong>counts</strong><strong>.get</strong><strong>(</strong><strong>name</strong><strong>, </strong><strong>0</strong><strong>)</strong></pre>\n",
    "<ul>\n",
    "<li>Is identical to:</li>\n",
    "</ul>\n",
    "<pre> if name in counts:<br />&nbsp; &nbsp; x = counts[name]<br /> else :<br />&nbsp; &nbsp; x = 0</pre>\n",
    "<ul>\n",
    "<li>We can use get() and provide a default value of zero when the key is not yet in the dictionary - and then just add one.</li>\n",
    "</ul>"
   ]
  },
  {
   "cell_type": "code",
   "execution_count": 5,
   "metadata": {},
   "outputs": [
    {
     "name": "stdout",
     "output_type": "stream",
     "text": [
      "{'csev': 2, 'cwen': 2, 'zqian': 1}\n"
     ]
    }
   ],
   "source": [
    "counts = dict()\n",
    "names = ['csev', 'cwen', 'csev', 'zqian', 'cwen']\n",
    "for name in names :\n",
    "     counts[name] = counts.get(name, 0) + 1\n",
    "print(counts)"
   ]
  },
  {
   "attachments": {},
   "cell_type": "markdown",
   "metadata": {},
   "source": [
    "<hr />\n",
    "<h2>Retrieving lists of Keys and Values</h2>\n",
    "<ul>\n",
    "<li>You can get a list of keys, values, or items (both, in a Tuple) from a dictionary</li>\n",
    "</ul>"
   ]
  },
  {
   "cell_type": "code",
   "execution_count": 6,
   "metadata": {},
   "outputs": [
    {
     "name": "stdout",
     "output_type": "stream",
     "text": [
      "['chuck', 'fred', 'jan']\n",
      "dict_keys(['chuck', 'fred', 'jan'])\n",
      "dict_values([1, 42, 100])\n",
      "dict_items([('chuck', 1), ('fred', 42), ('jan', 100)])\n"
     ]
    }
   ],
   "source": [
    "jjj = { 'chuck' : 1 , 'fred' : 42, 'jan': 100}\n",
    "print(list(jjj))        # ['jan', 'chuck', 'fred']\n",
    "print(jjj.keys())       # ['jan', 'chuck', 'fred']\n",
    "print(jjj.values())     # [100, 1, 42]\n",
    "print(jjj.items())      # [('jan', 100), ('chuck', 1), ('fred', 42)]"
   ]
  },
  {
   "attachments": {},
   "cell_type": "markdown",
   "metadata": {},
   "source": [
    "\n",
    "<hr />\n",
    "<h2>Definite Loops and Dictionaries</h2>\n",
    "<ul>\n",
    "<li>Even though dictionaries are not stored in order, we can write a for loop that goes through all the entries in a dictionary - actually it goes through all of the keys in the dictionary and looks up the values.</li>\n",
    "</ul>"
   ]
  },
  {
   "cell_type": "code",
   "execution_count": 7,
   "metadata": {},
   "outputs": [
    {
     "name": "stdout",
     "output_type": "stream",
     "text": [
      "chuck 1\n",
      "fred 42\n",
      "jan 100\n"
     ]
    }
   ],
   "source": [
    "counts = { 'chuck' : 1 , 'fred' : 42, 'jan': 100}\n",
    "for key in counts:\n",
    "    print(key, counts[key])"
   ]
  },
  {
   "attachments": {},
   "cell_type": "markdown",
   "metadata": {},
   "source": [
    "<ul>\n",
    "<li>Alternatively,you can loop through the key-value pairs in a dictionary using *two* iteration variables</li>\n",
    "<li>Each iteration, the first variable is the key and the second variable is the corresponding value for the key</li>\n",
    "</ul>\n"
   ]
  },
  {
   "cell_type": "code",
   "execution_count": 8,
   "metadata": {},
   "outputs": [
    {
     "name": "stdout",
     "output_type": "stream",
     "text": [
      "chuck 1\n",
      "fred 42\n",
      "jan 100\n"
     ]
    }
   ],
   "source": [
    "jjj = { 'chuck' : 1 , 'fred' : 42, 'jan': 100}\n",
    "for aaa,bbb in jjj.items() :\n",
    " print(aaa, bbb)"
   ]
  },
  {
   "attachments": {},
   "cell_type": "markdown",
   "metadata": {},
   "source": [
    "<hr><h3>References</h3>\n",
    "<ul>\n",
    "<li>This Juptyer Notebook contains content from &ldquo;Python for Everybody&rdquo; by Charles R Severance is licensed under <a href=\"https://runestone.academy/ns/books/published/universityofcoloradodenver_py4e-int_summer23/ack/creativecommons.org/licenses/by-nc-sa/3.0/\">CC BY-ND 3.0</a>.</li>"
   ]
  }
 ],
 "metadata": {
  "kernelspec": {
   "display_name": "base",
   "language": "python",
   "name": "python3"
  },
  "language_info": {
   "codemirror_mode": {
    "name": "ipython",
    "version": 3
   },
   "file_extension": ".py",
   "mimetype": "text/x-python",
   "name": "python",
   "nbconvert_exporter": "python",
   "pygments_lexer": "ipython3",
   "version": "3.11.4"
  },
  "orig_nbformat": 4
 },
 "nbformat": 4,
 "nbformat_minor": 2
}
