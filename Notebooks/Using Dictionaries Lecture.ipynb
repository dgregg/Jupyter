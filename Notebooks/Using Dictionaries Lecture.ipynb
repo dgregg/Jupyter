{
 "cells": [
  {
   "attachments": {},
   "cell_type": "markdown",
   "metadata": {},
   "source": [
    "<h1>Using Dictionaries</h1><p><img src=\"images/1line.png\" width=\"100%\" d/></p>\n",
    "<ul>\n",
    "<li>One common use of dictionaries is counting how often we &ldquo;see&rdquo; something</li>\n",
    "</ul>\n",
    "<pre>&nbsp;&gt;&gt;&gt; ccc = dict()<br />&gt;&gt;&gt; ccc['csev'] = 1<br />&gt;&gt;&gt; ccc['cwen'] = 1<br />&gt;&gt;&gt; print(ccc)<br /><span style=\"color: #0000ff;\">{'csev': 1, 'cwen': 1}</span><br />&gt;&gt;&gt; ccc['cwen'] = ccc['cwen'] + 1<br />&gt;&gt;&gt; print(ccc)<br /><span style=\"color: #0000ff;\">{'csev': 1, 'cwen': 2}</span></pre>\n",
    "<hr />\n",
    "<h3>Dictionary Tracebacks</h3>\n",
    "<ul>\n",
    "<li>It is an error to reference a key which is not in the dictionary</li>\n",
    "<li>We can use the in operator to see if a key is in the dictionary</li>\n",
    "</ul>\n",
    "<pre>&gt;&gt;&gt; ccc = dict()<br />&gt;&gt;&gt; print(ccc['csev'])<br /><span style=\"color: #ff0000;\">Traceback (most recent call last): File \"&lt;stdin&gt;\", line 1, in &lt;module&gt; KeyError: 'csev'</span><br />&gt;&gt;&gt; 'csev' in ccc<br /><span style=\"color: #0000ff;\">False</span></pre>\n",
    "<hr />\n",
    "<h3>get</h3>\n",
    "<ul>\n",
    "<li>When we encounter a new name, we need to add a new entry in the dictionary and if this the second or later time we have seen the name, we simply add one to the count in the dictionary under that name.</li>\n",
    "<li>The pattern of checking to see if a key is already in a dictionary and assuming a default value if the key is not there is so common that there is a method called <strong>get()</strong> that does this for us.</li>\n",
    "<li>Default value if key does not exist (and no Traceback).</li>\n",
    "</ul>\n",
    "<pre><strong>x = </strong><strong>counts</strong><strong>.get</strong><strong>(</strong><strong>name</strong><strong>, </strong><strong>0</strong><strong>)</strong></pre>\n",
    "<ul>\n",
    "<li>Is identical to:</li>\n",
    "</ul>\n",
    "<pre> if name in counts:<br />&nbsp; &nbsp; x = counts[name]<br /> else :<br />&nbsp; &nbsp; x = 0</pre>\n",
    "<ul>\n",
    "<li>We can use get() and provide a default value of zero when the key is not yet in the dictionary - and then just add one.</li>\n",
    "</ul>\n",
    "<pre>counts = dict()<br />names = ['csev', 'cwen', 'csev', 'zqian', 'cwen']<br />for name in names :<br />&nbsp; &nbsp; &nbsp;counts[name] = counts.get(name, 0) + 1<br />print(counts)</pre>\n",
    "<p>Output:</p>\n",
    "<pre>{'csev': 2, 'zqian': 1, 'cwen': 2}</pre>\n",
    "<hr />\n",
    "<h2>Retrieving lists of Keys and Values</h2>\n",
    "<ul>\n",
    "<li>You can get a list of keys, values, or items (both, in a Tuple) from a dictionary</li>\n",
    "</ul>\n",
    "<pre>&gt;&gt;&gt; jjj = { 'chuck' : 1 , 'fred' : 42, 'jan': 100}<br />&gt;&gt;&gt; print(list(jjj))<br /><span style=\"color: #0000ff;\">['jan', 'chuck', 'fred']</span><br />&gt;&gt;&gt; print(jjj.keys())<br /><span style=\"color: #0000ff;\">['jan', 'chuck', 'fred']</span><br />&gt;&gt;&gt; print(jjj.values())<br /><span style=\"color: #0000ff;\">[100, 1, 42]</span><br />&gt;&gt;&gt; print(jjj.items())<br /><span style=\"color: #0000ff;\">[('jan', 100), ('chuck', 1), ('fred', 42)]</span><br />&gt;&gt;&gt; </pre>\n",
    "<p>&nbsp;</p>\n",
    "<hr />\n",
    "<h2>Definite Loops and Dictionaries</h2>\n",
    "<ul>\n",
    "<li>Even though dictionaries are not stored in order, we can write a for loop that goes through all the entries in a dictionary - actually it goes through all of the keys in the dictionary and looks up the values.</li>\n",
    "</ul>\n",
    "<pre>&gt;&gt;&gt; counts = { 'chuck' : 1 , 'fred' : 42, 'jan': 100}<br />&gt;&gt;&gt; for key in counts:<br />...    print(key, counts[key])<br />... <br /><span style=\"color: #0000ff;\">jan 100</span><br /><span style=\"color: #0000ff;\">chuck 1</span><br /><span style=\"color: #0000ff;\">fred 42</span><br />&gt;&gt;&gt; </pre>\n",
    "<ul>\n",
    "<li>Alternatively,you can loop through the key-value pairs in a dictionary using *two* iteration variables</li>\n",
    "<li>Each iteration, the first variable is the key and the second variable is the corresponding value for the key</li>\n",
    "</ul>\n",
    "<pre>jjj = { 'chuck' : 1 , 'fred' : 42, 'jan': 100}<br />for aaa,bbb in jjj.items() :<br /> print(aaa, bbb)</pre>\n",
    "<p><img style=\"float: right;\" src=\"images/dictFor.PNG\" />Output:<br /><br />jan 100<br />chuck 1<br />fred 42</p>\n"
   ]
  },
  {
   "cell_type": "code",
   "execution_count": null,
   "metadata": {},
   "outputs": [],
   "source": []
  },
  {
   "attachments": {},
   "cell_type": "markdown",
   "metadata": {},
   "source": [
    "<hr><h3>References</h3>\n",
    "<ul>\n",
    "<li>This Juptyer Notebook contains content from &ldquo;Python for Everybody&rdquo; by Charles R Severance is licensed under <a href=\"https://runestone.academy/ns/books/published/universityofcoloradodenver_py4e-int_summer23/ack/creativecommons.org/licenses/by-nc-sa/3.0/\">CC BY-ND 3.0</a>.</li>"
   ]
  }
 ],
 "metadata": {
  "kernelspec": {
   "display_name": "base",
   "language": "python",
   "name": "python3"
  },
  "language_info": {
   "codemirror_mode": {
    "name": "ipython",
    "version": 3
   },
   "file_extension": ".py",
   "mimetype": "text/x-python",
   "name": "python",
   "nbconvert_exporter": "python",
   "pygments_lexer": "ipython3",
   "version": "3.9.12"
  },
  "orig_nbformat": 4
 },
 "nbformat": 4,
 "nbformat_minor": 2
}
