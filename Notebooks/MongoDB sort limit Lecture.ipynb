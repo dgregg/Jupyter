{
 "cells": [
  {
   "attachments": {},
   "cell_type": "markdown",
   "metadata": {},
   "source": [
    "<h1>MongoDB sort & limit</h1><p><img src=\"images/1line.png\" /></p>\n",
    "\n",
    "<ul>\n",
    "<li>We can use the&nbsp;<code>sort()</code>&nbsp;method to sort the results in ascending or descending order.</li>\n",
    "<li>The default order is ascending. We use 1 to signify ascending and -1 to signify descending.</li>\n",
    "</ul>"
   ]
  },
  {
   "attachments": {},
   "cell_type": "markdown",
   "metadata": {},
   "source": [
    "</ul><pre><code class=\"lang-python hljs\">projection = { \"title\": 1, \"year\": 1, \"_id\": 0 }<br>for movie in mflix.movies.find({}, projection).sort(\"year\", -1) :<br>    print(movie['title'], movie[\"year\"])\n",
    "</code></pre><p><strong>Output</strong></p><pre><strong><span class=\"ansi-red-intense-fg ansi-bold\" style=\"color: #ff0000;\" data-mce-style=\"color: #ff0000;\">OperationFailure</span></strong>: Executor error during find command :: caused by :: Sort operation used more than the maximum 33554432 bytes of RAM. Add an index, or specify a smaller limit.\n",
    "</p></pre>\n",
    "<ul><li>Sort operations that return an entire \"Large\" data set can overflow available memory.&nbsp; In these cases it can be useful to limit the results, either by applying a filter or simply limiting the number of records returned.</li></ul>\n",
    "<h3 id=\"limiting-the-result\">Limiting the Result</h3>\n",
    "<ul><li>MongoDB enables us to limit the result of our query using the&nbsp;<code>limit</code>&nbsp;method.</li><li>In our query below we'll limit the result to one record.</li></ul>"
   ]
  },
  {
   "cell_type": "code",
   "execution_count": 1,
   "metadata": {},
   "outputs": [],
   "source": [
    "import pymongo"
   ]
  },
  {
   "cell_type": "code",
   "execution_count": 2,
   "metadata": {},
   "outputs": [],
   "source": [
    "# Replace ###### with data from your connection URI from the Atlas UI\n",
    "import os   # allows us to connect to operating system\n",
    "uri = os.environ.get(\"atlas-uri\")\n",
    "mc = pymongo.MongoClient('uri')\n",
    "mflix = mc['sample_mflix']"
   ]
  },
  {
   "cell_type": "code",
   "execution_count": 37,
   "metadata": {},
   "outputs": [
    {
     "name": "stdout",
     "output_type": "stream",
     "text": [
      "Newark Athlete 1891\n"
     ]
    }
   ],
   "source": [
    "projection = { \"title\": 1, \"year\": 1, \"_id\": 0 }\n",
    "for movie in mflix.movies.find({}, projection).sort(\"year\", 1).limit(1) :\n",
    "     print(movie['title'], movie[\"year\"])"
   ]
  },
  {
   "attachments": {},
   "cell_type": "markdown",
   "metadata": {},
   "source": [
    "<ul><li>This is one way to find the minimum (or maximum) value in a collection.</li></ul><h3>Complete sort &amp; limit Example</h3><ul><li>The code below:<ul><li>Connects to the Mongodb server on Atlas</li><li>Connects to the sample_mflix database</li></ul>"
   ]
  },
  {
   "cell_type": "code",
   "execution_count": 38,
   "metadata": {},
   "outputs": [
    {
     "name": "stdout",
     "output_type": "stream",
     "text": [
      "Good Ol' Boy 2015\n",
      "Miss India America 2015\n",
      "Requisitos para ser una persona normal 2015\n",
      "The Snake Brothers 2015\n",
      "Paddington 2014\n",
      "Alexander and the Terrible, Horrible, No Good, Very Bad Day 2014\n",
      "The Pasta Detectives 2014\n",
      "Annie 2014\n",
      "Postman Pat: The Movie 2014\n",
      "Grantham & Rose 2014\n",
      "Moomins on the Riviera 2014\n",
      "Ping Pong Summer 2014\n",
      "They Are All Dead 2014\n",
      "Night at the Museum: Secret of the Tomb 2014\n",
      "The Beat Beneath My Feet 2014\n",
      "Honig im Kopf 2014\n",
      "The Journey 2014\n",
      "Antboy: Revenge of the Red Fury 2014\n",
      "Afterlife 2014\n",
      "Saving Christmas 2014\n",
      "Tom and Jerry: The Lost Dragon 2014\n",
      "Despicable Me 2 2013\n",
      "Tio Papi 2013\n",
      "Cloudy with a Chance of Meatballs 2 2013\n",
      "Pecoross' Mother and Her Days 2013\n",
      "The Strange Little Cat 2013\n",
      "Ghadi 2013\n",
      "Antboy 2013\n",
      "Min sèsters bèrn i Afrika 2013\n",
      "My Little Pony: Equestria Girls 2013\n",
      "Window Wonderland 2013\n",
      "Zoran, il mio nipote scemo 2013\n",
      "Hotel Transylvania 2012\n",
      "Parental Guidance 2012\n",
      "Frankenweenie 2012\n",
      "The Lorax 2012\n",
      "The Odd Life of Timothy Green 2012\n",
      "Ricky Rapper and Cool Wendy 2012\n",
      "English Vinglish 2012\n",
      "Diary of a Wimpy Kid: Dog Days 2012\n",
      "Le monde doit m'arriver? 2012\n",
      "Cine Hollièdy 2012\n",
      "OMG: Oh My God! 2012\n",
      "OMG: Oh My God! 2012\n",
      "The Giant King 2012\n",
      "Gnomeo & Juliet 2011\n",
      "Red Dog 2011\n",
      "Hoodwinked Too! Hood vs. Evil 2011\n",
      "A Princess for Christmas 2011\n",
      "Mr. Popper's Penguins 2011\n",
      "We Bought a Zoo 2011\n",
      "The Muppets 2011\n",
      "Zookeeper 2011\n",
      "Judy Moody and the Not Bummer Summer 2011\n",
      "My Granpa, the Bankrobber 2011\n",
      "A Christmas Wish 2011\n",
      "Somebody's Hero 2011\n",
      "Happy Feet 2 2011\n",
      "Ein Tick anders 2011\n",
      "Foster 2011\n",
      "Sharpay's Fabulous Adventure 2011\n",
      "Diary of a Wimpy Kid: Rodrick Rules 2011\n",
      "The Chaperone 2011\n",
      "When Santa Fell to Earth 2011\n",
      "Happiness Is a Warm Blanket, Charlie Brown 2011\n",
      "Marley & Me: The Puppy Years 2011\n",
      "A Cube of Sugar 2011\n",
      "Stanley's Tiffin Box 2011\n",
      "Anytime, Anywhere 2011\n",
      "My Grandfather's People 2011\n",
      "Tangled 2010\n",
      "Furry Vengeance 2010\n",
      "Ramona and Beezus 2010\n",
      "Tooth Fairy 2010\n",
      "Jack and the Beanstalk 2010\n",
      "An Invisible Sign 2010\n",
      "Camp Rock 2: The Final Jam 2010\n",
      "Diary of a Wimpy Kid 2010\n",
      "The Spy Next Door 2010\n",
      "Cats & Dogs: The Revenge of Kitty Galore 2010\n",
      "Gulliver's Travels 2010\n",
      "Despicable Me 2010\n",
      "Marmaduke 2010\n",
      "Hèroes 2010\n",
      "Harriet the Spy: Blog Wars 2010\n",
      "Logan 2010\n",
      "StarStruck 2010\n",
      "Nanny McPhee Returns 2010\n",
      "You Should Meet My Son! 2010\n",
      "Animals United 2010\n",
      "The Boy Who Cried Werewolf 2010\n",
      "Hier kommt: Lola 2010\n",
      "Kooky 2010\n",
      "Cancel Christmas 2010\n",
      "Khichdi: The Movie 2010\n",
      "Aliens in the Attic 2009\n",
      "Hotel for Dogs 2009\n",
      "Imagine That 2009\n",
      "Cloudy with a Chance of Meatballs 2009\n",
      "Old Dogs 2009\n"
     ]
    }
   ],
   "source": [
    "# find all movies between 2000 and 2020\n",
    "# uses $ and to filter for 2 genres!\n",
    "filters = { 'year': {'$gte': 2000, '$lt': 2020} , '$and':[ {'genres': 'Comedy' }, {'genres': 'Family' }]}\n",
    "# Only return title and year\n",
    "projection = { \"title\": 1, \"year\": 1, \"_id\": 0 }\n",
    "\n",
    "# Sorts descending and limits to only 500 records\n",
    "for movie in mflix.movies.find(filters, projection).sort(\"year\", -1).limit(100) :\n",
    "     print(movie[\"title\"], movie[\"year\"])\n"
   ]
  },
  {
   "attachments": {},
   "cell_type": "markdown",
   "metadata": {},
   "source": [
    "<ul><li>Note the dataset only has movies into 2015 - so we do not get dates all of the way out to the current year.</li><li>Limit of 100 terminates output in 2009</li></ul>\n",
    "<hr />\n",
    "<h3>References</h3>\n",
    "<p>This lecture contains content from MongoDB Basics <a href=\"https://learn.mongodb.com/learning-paths/introduction-to-mongodb\" target=\"_blank\" rel=\"noopener\">https://learn.mongodb.com/learning-paths/introduction-to-mongodb</a></p>\n"
   ]
  }
 ],
 "metadata": {
  "kernelspec": {
   "display_name": "Python 3",
   "language": "python",
   "name": "python3"
  },
  "language_info": {
   "codemirror_mode": {
    "name": "ipython",
    "version": 3
   },
   "file_extension": ".py",
   "mimetype": "text/x-python",
   "name": "python",
   "nbconvert_exporter": "python",
   "pygments_lexer": "ipython3",
   "version": "3.11.4"
  }
 },
 "nbformat": 4,
 "nbformat_minor": 2
}
