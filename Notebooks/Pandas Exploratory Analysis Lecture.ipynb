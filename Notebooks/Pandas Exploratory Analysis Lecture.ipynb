{
 "cells": [
  {
   "attachments": {},
   "cell_type": "markdown",
   "id": "d9be739f",
   "metadata": {},
   "source": [
    "<h1>Exploratory Analysis</h1>\n",
    "<p><img src=\"images/1line.png\" width=\"100%\" /></p>\n",
    "<ul>\n",
    "<li>Let&rsquo;s load a sample Pandas DataFrame that we use throughout the lecture from this file: <a title=\"sales_data.csv\" href=\"data/sales_data.csv\" target=\"_blank\" rel=\"noopener\" >sales_data.csv</a>.</li>\n",
    "<li>You can also load this content directly from the internet using this URL: <a href=\"https://github.com/dgregg/Jupyter/blob/master/Notebooks/data/sales_data.csv\" target=\"_blank\" rel=\"noopener\">https://github.com/dgregg/Jupyter/blob/master/Notebooks/data/sales_data.csv</a></li>\n",
    "<li>Note: This is a different (larger) data set than the one described in the lecture video - the columns are not idential.</li>\n",
    "</ul>"
   ]
  },
  {
   "cell_type": "code",
   "execution_count": 1,
   "id": "f67ae0d5",
   "metadata": {},
   "outputs": [],
   "source": [
    "import pandas as pd\n",
    "\n",
    "# Create a DataFrame from the sales_data csv file located online\n",
    "df = pd.read_csv(\"https://github.com/dgregg/Jupyter/blob/master/Notebooks/data/sales_data.csv\")"
   ]
  },
  {
   "attachments": {},
   "cell_type": "markdown",
   "id": "1d886ae8",
   "metadata": {},
   "source": [
    "<h3 class=\"wp-block-heading\">Standard Deviation</h3>\n",
    "<ul>\n",
    "<li><code>.std()</code> is used for calculating the standard deviation.</li>\n",
    "<li>The <strong>standard deviation</strong> measures how spread out data values are around the mean.\n",
    "<ul>\n",
    "<li>A low standard deviation indicates that the values tend to be close to the mean, while a high standard deviation indicates that the values are spread out over a much wider range.</li>\n",
    "</ul>\n",
    "</li>\n",
    "<li>By default <code>.std()</code> the method will skip missing values.</li>\n",
    "</ul>"
   ]
  },
  {
   "cell_type": "code",
   "execution_count": 2,
   "id": "b8a54a6d",
   "metadata": {},
   "outputs": [
    {
     "name": "stdout",
     "output_type": "stream",
     "text": [
      "Quantity      1.417413\n",
      "Sales       719.281639\n",
      "Age          15.028258\n",
      "dtype: float64\n"
     ]
    }
   ],
   "source": [
    "# Calculating the standard deviation for an entire dataframe\n",
    "print(df.std(numeric_only=True))"
   ]
  },
  {
   "attachments": {},
   "cell_type": "markdown",
   "id": "989d27ff",
   "metadata": {},
   "source": [
    "<h3 >Skew</h3>\n",
    "<ul>\n",
    "<li >Skewness measures the amount&nbsp; of asymmetry observed in data to the left or right of the mean.</li>\n",
    "<li >Distributions can exhibit right (positive) skewness or left (negative) skewness to varying degrees.\n",
    "<ul>\n",
    "<li >A negative value for skewness indicates that the tail is on the left side of the distribution, which extends towards more negative values.</li>\n",
    "<li >A positive value for skewness indicates that the tail is on the right side of the distribution, which extends towards more positive values.</li>\n",
    "<li >A zero value indicates that there is no skewness in the distribution at all, meaning the distribution is \"normally distributed\".</li>\n",
    "</ul>\n",
    "</li>\n",
    "<li>The larger the value for the skewness variable the more skewed the data, values &gt; 1 or &lt; -1 indicate the data is highly skewed.</li>\n",
    "<li>We measure the skewness of a dataset using the <code>.skew()</code> method:</li>\n",
    "</ul"
   ]
  },
  {
   "cell_type": "code",
   "execution_count": 3,
   "id": "d621526c",
   "metadata": {},
   "outputs": [
    {
     "name": "stdout",
     "output_type": "stream",
     "text": [
      "Quantity   -0.003226\n",
      "Sales       1.084130\n",
      "Age        -0.000329\n",
      "dtype: float64\n"
     ]
    }
   ],
   "source": [
    "# Calculating skewness using .skew()\n",
    "print(df.skew(numeric_only=True))"
   ]
  },
  {
   "attachments": {},
   "cell_type": "markdown",
   "id": "4971f201",
   "metadata": {},
   "source": [
    "<ul>\n",
    "<li>In the example above, the <code>Sales</code> data has a high positive (right) skew, while <code>Quantity</code> and <code>age</code> data is almost symmetrical but is ever so slightly left leaning.</li>\n",
    "</ul>\n",
    "<p>&nbsp;</p>\n",
    "<h3>Describing Summary Statistics</h3>\n",
    "<ul>\n",
    "<li>the Pandas <code>describe()</code> method shows a quick statistic summary of your data</li>\n",
    "<li>The method provides a number of helpful statistics, such as the mean, standard deviation and quartiles of the data:</li>\n",
    "</ul>"
   ]
  },
  {
   "cell_type": "code",
   "execution_count": 4,
   "id": "e59600be",
   "metadata": {},
   "outputs": [
    {
     "data": {
      "text/html": [
       "<div>\n",
       "<style scoped>\n",
       "    .dataframe tbody tr th:only-of-type {\n",
       "        vertical-align: middle;\n",
       "    }\n",
       "\n",
       "    .dataframe tbody tr th {\n",
       "        vertical-align: top;\n",
       "    }\n",
       "\n",
       "    .dataframe thead th {\n",
       "        text-align: right;\n",
       "    }\n",
       "</style>\n",
       "<table border=\"1\" class=\"dataframe\">\n",
       "  <thead>\n",
       "    <tr style=\"text-align: right;\">\n",
       "      <th></th>\n",
       "      <th>Quantity</th>\n",
       "      <th>Sales</th>\n",
       "      <th>Age</th>\n",
       "    </tr>\n",
       "  </thead>\n",
       "  <tbody>\n",
       "    <tr>\n",
       "      <th>count</th>\n",
       "      <td>16684.000000</td>\n",
       "      <td>16684.000000</td>\n",
       "      <td>16684.000000</td>\n",
       "    </tr>\n",
       "    <tr>\n",
       "      <th>mean</th>\n",
       "      <td>3.007193</td>\n",
       "      <td>857.978725</td>\n",
       "      <td>43.500719</td>\n",
       "    </tr>\n",
       "    <tr>\n",
       "      <th>std</th>\n",
       "      <td>1.417413</td>\n",
       "      <td>719.281639</td>\n",
       "      <td>15.028258</td>\n",
       "    </tr>\n",
       "    <tr>\n",
       "      <th>min</th>\n",
       "      <td>1.000000</td>\n",
       "      <td>40.660000</td>\n",
       "      <td>18.000000</td>\n",
       "    </tr>\n",
       "    <tr>\n",
       "      <th>25%</th>\n",
       "      <td>2.000000</td>\n",
       "      <td>203.300000</td>\n",
       "      <td>30.000000</td>\n",
       "    </tr>\n",
       "    <tr>\n",
       "      <th>50%</th>\n",
       "      <td>3.000000</td>\n",
       "      <td>600.170000</td>\n",
       "      <td>44.000000</td>\n",
       "    </tr>\n",
       "    <tr>\n",
       "      <th>75%</th>\n",
       "      <td>4.000000</td>\n",
       "      <td>1200.340000</td>\n",
       "      <td>57.000000</td>\n",
       "    </tr>\n",
       "    <tr>\n",
       "      <th>max</th>\n",
       "      <td>5.000000</td>\n",
       "      <td>3000.850000</td>\n",
       "      <td>69.000000</td>\n",
       "    </tr>\n",
       "  </tbody>\n",
       "</table>\n",
       "</div>"
      ],
      "text/plain": [
       "           Quantity         Sales           Age\n",
       "count  16684.000000  16684.000000  16684.000000\n",
       "mean       3.007193    857.978725     43.500719\n",
       "std        1.417413    719.281639     15.028258\n",
       "min        1.000000     40.660000     18.000000\n",
       "25%        2.000000    203.300000     30.000000\n",
       "50%        3.000000    600.170000     44.000000\n",
       "75%        4.000000   1200.340000     57.000000\n",
       "max        5.000000   3000.850000     69.000000"
      ]
     },
     "metadata": {},
     "output_type": "display_data"
    }
   ],
   "source": [
    "# Using the Pandas .describe() method\n",
    "display(df.describe())"
   ]
  },
  {
   "attachments": {},
   "cell_type": "markdown",
   "id": "3d30b7de",
   "metadata": {},
   "source": [
    "<h3>Identifying Unique Values</h3>\n",
    "<ul>\n",
    "<li>Another common DataFrame operation is identifying the unique values that are in a column.</li>\n",
    "<li>Because data entry is often imperfect, finding unique values can help determine the data quality of a dataset.</li>\n",
    "\n",
    "</ul>\n",
    "<p>We can examine the unique values in the <code>Region</code> column using the <code>.unique()</code> method.</p>"
   ]
  },
  {
   "cell_type": "code",
   "execution_count": 11,
   "id": "e79d76b8",
   "metadata": {},
   "outputs": [
    {
     "name": "stdout",
     "output_type": "stream",
     "text": [
      "['South' 'North' 'West' 'East']\n"
     ]
    }
   ],
   "source": [
    "# Getting Unique Values in the region Column\n",
    "print(df['Region'].unique())"
   ]
  },
  {
   "attachments": {},
   "cell_type": "markdown",
   "id": "c3b0f4f8",
   "metadata": {},
   "source": [
    "<h3>Using groupby</span></h3>\n",
    "<ul>\n",
    "<li><span class=\"ez-toc-section\">The <code>groupby()</code> method in Pandas is used to group rows of data together based on the values in one or more columns. </span></li>\n",
    "<li><span class=\"ez-toc-section\">Once the data is grouped, you can apply various aggregation functions such as <code>sum()</code>, <code>mean()</code>, <code>count()</code>, etc. to calculate summary statistics for each group.</span></li>\n",
    "<li>The code below groups the data by product category using the <code>groupby()</code> method, calculate the total sales for each product category using the <code>sum()</code> method, and print out the results using the <code>print()</code> function.</li>\n",
    "</ul>"
   ]
  },
  {
   "cell_type": "code",
   "execution_count": 10,
   "id": "9250aca0",
   "metadata": {},
   "outputs": [
    {
     "name": "stdout",
     "output_type": "stream",
     "text": [
      "Total Sales by Category\n"
     ]
    },
    {
     "data": {
      "text/plain": [
       "Category\n",
       "Clothing     8698418.96\n",
       "Cosmetics     515853.42\n",
       "Shoes        5100244.66\n",
       "Name: Sales, dtype: float64"
      ]
     },
     "metadata": {},
     "output_type": "display_data"
    }
   ],
   "source": [
    "# Calculate total sales for each product category\n",
    "total_sales = df.groupby('Category')['Sales'].sum()\n",
    "\n",
    "# Print out the results\n",
    "print(\"Total Sales by Category\")\n",
    "display(total_sales)"
   ]
  },
  {
   "attachments": {},
   "cell_type": "markdown",
   "id": "b2fc7e9c",
   "metadata": {},
   "source": [
    "<h3 >Cross tabulation</h3>\n",
    "<ul>\n",
    "<li>Cross tabulation (crosstab) is an analysis tool used to compare the results for one or more variables with the results of another variable. </li>\n",
    "<li>They allow you to examine relationships within the data that might not be obvious when simply looking at the overall data set.</li>\n",
    "</ul>"
   ]
  },
  {
   "cell_type": "code",
   "execution_count": 7,
   "id": "e346d7d4",
   "metadata": {},
   "outputs": [
    {
     "data": {
      "text/html": [
       "<div>\n",
       "<style scoped>\n",
       "    .dataframe tbody tr th:only-of-type {\n",
       "        vertical-align: middle;\n",
       "    }\n",
       "\n",
       "    .dataframe tbody tr th {\n",
       "        vertical-align: top;\n",
       "    }\n",
       "\n",
       "    .dataframe thead th {\n",
       "        text-align: right;\n",
       "    }\n",
       "</style>\n",
       "<table border=\"1\" class=\"dataframe\">\n",
       "  <thead>\n",
       "    <tr style=\"text-align: right;\">\n",
       "      <th>Category</th>\n",
       "      <th>Clothing</th>\n",
       "      <th>Cosmetics</th>\n",
       "      <th>Shoes</th>\n",
       "    </tr>\n",
       "    <tr>\n",
       "      <th>Region</th>\n",
       "      <th></th>\n",
       "      <th></th>\n",
       "      <th></th>\n",
       "    </tr>\n",
       "  </thead>\n",
       "  <tbody>\n",
       "    <tr>\n",
       "      <th>East</th>\n",
       "      <td>2556</td>\n",
       "      <td>1119</td>\n",
       "      <td>761</td>\n",
       "    </tr>\n",
       "    <tr>\n",
       "      <th>North</th>\n",
       "      <td>2601</td>\n",
       "      <td>1169</td>\n",
       "      <td>736</td>\n",
       "    </tr>\n",
       "    <tr>\n",
       "      <th>South</th>\n",
       "      <td>1965</td>\n",
       "      <td>827</td>\n",
       "      <td>563</td>\n",
       "    </tr>\n",
       "    <tr>\n",
       "      <th>West</th>\n",
       "      <td>2533</td>\n",
       "      <td>1096</td>\n",
       "      <td>758</td>\n",
       "    </tr>\n",
       "  </tbody>\n",
       "</table>\n",
       "</div>"
      ],
      "text/plain": [
       "Category  Clothing  Cosmetics  Shoes\n",
       "Region                              \n",
       "East          2556       1119    761\n",
       "North         2601       1169    736\n",
       "South         1965        827    563\n",
       "West          2533       1096    758"
      ]
     },
     "metadata": {},
     "output_type": "display_data"
    }
   ],
   "source": [
    "# Creating a Region/Category Crosstab\n",
    "tab = pd.crosstab(\n",
    "    index=df['Region'],\n",
    "    columns=df['Category'],\n",
    ")\n",
    "\n",
    "display(tab)"
   ]
  },
  {
   "attachments": {},
   "cell_type": "markdown",
   "id": "4e440e83",
   "metadata": {},
   "source": [
    "<ul>\n",
    "<li >By default Pandas will provide the counts across the categories in the crosstab.</li>\n",
    "<li >Pandas also allows you to choose many other types of aggregation functions (e.g. sum, median mode, min, max ...) by passing both a <code>values=</code> parameter and an <code>aggfunc=</code> parameter</li>\n",
    "<li>The example below aggregates the sum of the \"Sales\" column by Region and Category</li>\n",
    "</ul>"
   ]
  },
  {
   "cell_type": "code",
   "execution_count": 9,
   "id": "528e2151",
   "metadata": {},
   "outputs": [
    {
     "data": {
      "text/html": [
       "<div>\n",
       "<style scoped>\n",
       "    .dataframe tbody tr th:only-of-type {\n",
       "        vertical-align: middle;\n",
       "    }\n",
       "\n",
       "    .dataframe tbody tr th {\n",
       "        vertical-align: top;\n",
       "    }\n",
       "\n",
       "    .dataframe thead th {\n",
       "        text-align: right;\n",
       "    }\n",
       "</style>\n",
       "<table border=\"1\" class=\"dataframe\">\n",
       "  <thead>\n",
       "    <tr style=\"text-align: right;\">\n",
       "      <th>Category</th>\n",
       "      <th>Clothing</th>\n",
       "      <th>Cosmetics</th>\n",
       "      <th>Shoes</th>\n",
       "    </tr>\n",
       "    <tr>\n",
       "      <th>Region</th>\n",
       "      <th></th>\n",
       "      <th></th>\n",
       "      <th></th>\n",
       "    </tr>\n",
       "  </thead>\n",
       "  <tbody>\n",
       "    <tr>\n",
       "      <th>East</th>\n",
       "      <td>2309415.68</td>\n",
       "      <td>132551.60</td>\n",
       "      <td>1359985.22</td>\n",
       "    </tr>\n",
       "    <tr>\n",
       "      <th>North</th>\n",
       "      <td>2335222.56</td>\n",
       "      <td>143936.40</td>\n",
       "      <td>1341379.95</td>\n",
       "    </tr>\n",
       "    <tr>\n",
       "      <th>South</th>\n",
       "      <td>1780374.64</td>\n",
       "      <td>102747.82</td>\n",
       "      <td>1037693.93</td>\n",
       "    </tr>\n",
       "    <tr>\n",
       "      <th>West</th>\n",
       "      <td>2273406.08</td>\n",
       "      <td>136617.60</td>\n",
       "      <td>1361185.56</td>\n",
       "    </tr>\n",
       "  </tbody>\n",
       "</table>\n",
       "</div>"
      ],
      "text/plain": [
       "Category    Clothing  Cosmetics       Shoes\n",
       "Region                                     \n",
       "East      2309415.68  132551.60  1359985.22\n",
       "North     2335222.56  143936.40  1341379.95\n",
       "South     1780374.64  102747.82  1037693.93\n",
       "West      2273406.08  136617.60  1361185.56"
      ]
     },
     "metadata": {},
     "output_type": "display_data"
    }
   ],
   "source": [
    "# Aggregating Sales Using a Pandas Crosstab\n",
    "tab = pd.crosstab(\n",
    "    index=df['Region'],\n",
    "    columns=df['Category'],\n",
    "    values=df['Sales'],\n",
    "    aggfunc='sum'\n",
    ")\n",
    "\n",
    "display(tab)"
   ]
  },
  {
   "attachments": {},
   "cell_type": "markdown",
   "id": "18b76673",
   "metadata": {},
   "source": [
    "<ul>\n",
    "<li>This type of data analysis allows us to easily see patterns in the data</li>\n",
    "<li>For example, we can identify that regions with the highest and lowest sales as will as the best performing product categories.</li>\n",
    "</ul>\n",
    "<hr />\n",
    "\n",
    "<h4>References</h4>\n",
    "<ul>\n",
    "<li>Pandas DataFrame Documentation: <a href=\"https://pandas.pydata.org/pandas-docs/stable/reference/frame.html\" target=\"_blank\" rel=\"noopener\">https://pandas.pydata.org/pandas-docs/stable/reference/frame.html</a></li>\n",
    "<li>Summarizing and Analyzing a Pandas DataFrame, datagy.io, 1/5/22, <a href=\"https://datagy.io/pandas-exploratory-data-analysis/\" target=\"_blank\" rel=\"noopener\">https://datagy.io/pandas-exploratory-data-analysis/</a></li>\n",
    "<li>Pandas DataFrames, W3 Schools: <a href=\"https://www.w3schools.com/python/pandas/pandas_dataframes.asp\" target=\"_blank\" rel=\"noopener\">https://www.w3schools.com/python/pandas/pandas_dataframes.asp</a></li>\n",
    "</ul>"
   ]
  }
 ],
 "metadata": {
  "kernelspec": {
   "display_name": "Python 3 (ipykernel)",
   "language": "python",
   "name": "python3"
  },
  "language_info": {
   "codemirror_mode": {
    "name": "ipython",
    "version": 3
   },
   "file_extension": ".py",
   "mimetype": "text/x-python",
   "name": "python",
   "nbconvert_exporter": "python",
   "pygments_lexer": "ipython3",
   "version": "3.9.12"
  }
 },
 "nbformat": 4,
 "nbformat_minor": 5
}
