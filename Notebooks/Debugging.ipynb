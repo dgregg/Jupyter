{
 "cells": [
  {
   "attachments": {},
   "cell_type": "markdown",
   "metadata": {},
   "source": [
    "<h1>Debugging</h1><p><img src=\"images/1line.png\" width=\"100%\" /></p>\n",
    "\n",
    "<ul>\n",
    "<li>Once testing has uncovered problems, the next step is to <strong>fix</strong> them.</li>\n",
    "<li>Many novices do this by making more-or-less random changes to their code until it seems to produce the right answer, but that&rsquo;s very inefficient (and the result is usually only correct for the one case they&rsquo;re testing).</li>\n",
    "<li>The more experienced a programmer is, the more systematically they debug, and most follow some variation on the rules explained below.</li>\n",
    "</ul>\n",
    "\n",
    "<h2 id=\"know-what-its-supposed-to-do\">Know What It&rsquo;s Supposed to Do</h2>\n",
    "<ul>\n",
    "<li>The first step in debugging something is to <em>know what it&rsquo;s supposed to do</em>.</li>\n",
    "<li>&ldquo;My program doesn&rsquo;t work&rdquo; isn&rsquo;t good enough: in order to diagnose and fix problems, you need to be able to tell correct output from incorrect!</li>\n",
    "</ul>\n",
    "<p>In practice, scientists tend to do the following:</p>\n",
    "<ol>\n",
    "<li>\n",
    "<p><em>Test with simplified data.</em> Before doing statistics on a real data set, try calculating statistics for a single record, for two identical records, for two records whose values are one step apart, or for some other case where we can calculate the right answer by hand.</p>\n",
    "</li>\n",
    "<li>\n",
    "<p><em>Test a simplified case.</em> If you're looking at the effects of five factors on an outcome variable, your first test should hold four of the five factors constant.</p>\n",
    "</li>\n",
    "<li>\n",
    "<p><em>Compare to an oracle.</em> A test oracle is something whose results are trusted, such as experimental data, an older program, or a human expert.</p>\n",
    "</li>\n",
    "<li>\n",
    "<p><em>Check conservation laws.</em> If you are analyzing a set of data, the number of records should either stay the same or decrease as we move from one analysis to the next (since we might throw away outliers or records with missing values). If &ldquo;new&rdquo; records start appearing out of nowhere as you move through your pipeline, it&rsquo;s probably a sign that something is wrong.</p>\n",
    "</li>\n",
    "<li>\n",
    "<p><em>Visualize.</em> Data analysts frequently use simple visualizations to check both the science they&rsquo;re doing and the correctness of their code. This should only be used for debugging as a last resort, though, since it&rsquo;s very hard to compare two visualizations automatically.</p>\n",
    "</li>\n",
    "</ol>\n",
    "<h2 id=\"make-it-fail-every-time\">Make It Fail Every Time</h2>\n",
    "<p>We can only debug something when it fails, so the second step is always to find a test case that <em>makes it fail every time</em>. The &ldquo;every time&rdquo; part is important because few things are more frustrating than debugging an intermittent problem: if we have to call a function a dozen times to get a single failure, the odds are good that we&rsquo;ll scroll past the failure when it actually occurs.</p>\n",
    "<p>As part of this, it&rsquo;s always important to check that our code is &ldquo;plugged in&rdquo;, i.e., that we&rsquo;re actually exercising the problem that we think we are. Every programmer has spent hours chasing a bug, only to realize that they were actually calling their code on the wrong data set or with the wrong configuration parameters, or are using the wrong version of the software entirely. Mistakes like these are particularly likely to happen when we&rsquo;re tired, frustrated, and up against a deadline, which is one of the reasons late-night (or overnight) coding sessions are almost never worthwhile.</p>\n",
    "<h2 id=\"make-it-fail-fast\">Make It Fail Fast</h2>\n",
    "<p>If it takes 20 minutes for the bug to surface, we can only do three experiments an hour. This means that we&rsquo;ll get less data in more time and that we&rsquo;re more likely to be distracted by other things as we wait for our program to fail, which means the time we <em>are</em> spending on the problem is less focused. It&rsquo;s therefore critical to <em>make it fail fast</em>.</p>\n",
    "<p>As well as making the program fail fast in time, we want to make it fail fast in space, i.e., we want to localize the failure to the smallest possible region of code:</p>\n",
    "<ol>\n",
    "<li>\n",
    "<p>The smaller the gap between cause and effect, the easier the connection is to find. Many programmers therefore use a divide and conquer strategy to find bugs, i.e., if the output of a function is wrong, they check whether things are OK in the middle, then concentrate on either the first or second half, and so on.</p>\n",
    "</li>\n",
    "<li>\n",
    "<p>N things can interact in N! different ways, so every line of code that <em>isn&rsquo;t</em> run as part of a test means more than one thing we don&rsquo;t need to worry about.</p>\n",
    "</li>\n",
    "</ol>\n",
    "<h2 id=\"change-one-thing-at-a-time-for-a-reason\">Change One Thing at a Time, For a Reason</h2>\n",
    "<ul>\n",
    "<li>Replacing random chunks of code is unlikely to do much good.</li>\n",
    "<li>Good programmers therefore <em>change one thing at a time, for a reason</em>. They are either trying to gather more information (&ldquo;is the bug still there if we change the order of the loops?&rdquo;) or test a fix (&ldquo;can we make the bug go away by sorting our data before processing it?&rdquo;).</li>\n",
    "<li>Every time you make a change, <em>however small</em>, you should re-run your tests immediately, because the more things you change at once, the harder it is to know what&rsquo;s responsible for what (those N! interactions again).</li>\n",
    "<li>You should re-run <em>all</em> of your tests: more than half of fixes made to code introduce (or re-introduce) bugs, so re-running all of your tests tells you whether you have regressed.</li>\n",
    "</ul>\n",
    "<h2 id=\"keep-track-of-what-youve-done\">Keep Track of What You&rsquo;ve Done</h2>\n",
    "<ul>\n",
    "<li>Debugging works best when you <em>keep track of what we&rsquo;ve done</em> and how well it worked.</li>\n",
    "<li>Records are particularly useful when the time comes to ask for help. People are more likely to listen to you when you can explain clearly what you did, and you&rsquo;re better able to give them the information they need to be useful.</li>\n",
    "</ul>\n",
    "<h2 id=\"be-humble\">Be Humble</h2>\n",
    "<ul>\n",
    "<li>If you can&rsquo;t find a bug in 10 minutes, you should <em>be humble</em> and ask for help.</li>\n",
    "<li>Explaining the problem to someone else is often useful, since hearing what you're thinking helps you spot inconsistencies and hidden assumptions.</li>\n",
    "<li>Asking for help also helps alleviate confirmation bias. If you have just spent an hour writing a complicated program, you want it to work, so you&rsquo;re likely to keep telling yourself why it should, rather than searching for the reason it doesn&rsquo;t.</li>\n",
    "<li>People who aren&rsquo;t emotionally invested in the code can be more objective, which is why they&rsquo;re often able to spot the simple mistakes you have overlooked.</li>\n",
    "<li>Learn from your mistakes. Programmers tend to get the same things wrong over and over: either they don&rsquo;t understand the language and libraries they&rsquo;re working with, or their model of how things work is wrong. In either case, taking note of why the error occurred and checking for it next time quickly turns into not making the mistake at all.</li>\n",
    "</ul>\n",
    "<h3>Takeaway</h3>\n",
    "<ul>\n",
    "<li>If you train yourself to\n",
    "<ul>\n",
    "<li>Avoid making some kinds of mistakes,</li>\n",
    "<li>Break your code into modular, testable chunks, and</li>\n",
    "<li>Turn every assumption (or mistake) into an assertion,</li>\n",
    "</ul>\n",
    "</li>\n",
    "</ul>\n",
    "<p style=\"padding-left: 40px;\">...&nbsp;&nbsp; it will actually take you <em>less</em> time to produce working programs, not more!</p>\n",
    "<blockquote class=\"challenge\">\n",
    "<h2 id=\"not-supposed-to-be-the-same\">Not Supposed to be the Same</h2>\n",
    "<p>You are assisting a researcher with Python code that computes the Body Mass Index (BMI) of patients. The researcher is concerned because all patients seemingly have unusual and identical BMIs, despite having different physiques. BMI is calculated as <strong>weight in kilograms</strong> divided by the square of <strong>height in metres</strong>.</p>\n",
    "<p>Use the debugging principles in this exercise and locate problems with the code. What suggestions would you give the researcher for ensuring any later changes they make work correctly?</p>\n"
   ]
  },
  {
   "cell_type": "code",
   "execution_count": 1,
   "metadata": {},
   "outputs": [
    {
     "name": "stdout",
     "output_type": "stream",
     "text": [
      "Patient's BMI is: 0.000367\n",
      "Patient's BMI is: 0.000367\n",
      "Patient's BMI is: 0.000367\n"
     ]
    }
   ],
   "source": [
    "patients = [[70, 1.8], [80, 1.9], [150, 1.7]]\n",
    "\n",
    "def calculate_bmi(weight, height):\n",
    "    return weight / (height ** 2)\n",
    "\n",
    "for patient in patients:\n",
    "    weight, height = patients[0]\n",
    "    bmi = calculate_bmi(height, weight)\n",
    "    print(\"Patient's BMI is: %f\" % bmi)"
   ]
  },
  {
   "attachments": {},
   "cell_type": "markdown",
   "metadata": {},
   "source": [
    "<hr>\n",
    "<h3>References</h3>\n",
    "<p>Programming with Python, Debugging <a href=\"https://edcarp.github.io/2018-11-06-edinburgh-igmm-python/09-debugging/index.html\" target=\"_blank\" rel=\"noopener\">https://edcarp.github.io/2018-11-06-edinburgh-igmm-python/09-debugging/index.html</a></p>\n"
   ]
  }
 ],
 "metadata": {
  "kernelspec": {
   "display_name": "base",
   "language": "python",
   "name": "python3"
  },
  "language_info": {
   "codemirror_mode": {
    "name": "ipython",
    "version": 3
   },
   "file_extension": ".py",
   "mimetype": "text/x-python",
   "name": "python",
   "nbconvert_exporter": "python",
   "pygments_lexer": "ipython3",
   "version": "3.9.12"
  },
  "orig_nbformat": 4
 },
 "nbformat": 4,
 "nbformat_minor": 2
}
