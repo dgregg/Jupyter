{
 "cells": [
  {
   "cell_type": "code",
   "execution_count": 7,
   "metadata": {},
   "outputs": [
    {
     "name": "stdout",
     "output_type": "stream",
     "text": [
      "sally.jones@ucdenver.edu\n",
      "sally.jones@company.com\n",
      "sally.jones@company.com\n"
     ]
    }
   ],
   "source": [
    "# Author class with set and get methods\n",
    "class Author:\n",
    "    def __init__(self, n, e):\n",
    "        self.__articles = list()\n",
    "        self.__name = n\n",
    "        self.set_email(e)\n",
    "    \n",
    "    def get_email(self): \n",
    "        return self.__email \n",
    "    \n",
    "    def set_email(self, x):\n",
    "        x = str(x)\n",
    "        if x.find(\"@\") > 0 :\n",
    "            self.__email = x\n",
    "\n",
    "# Main method to test Author class\n",
    "def main():\n",
    "      \n",
    "    s = Author(\"Sally Jones\", \"sally.jones@ucdenver.edu\")\n",
    "    s.__email = \"sally.jones@company.com\"\n",
    "\n",
    "    print(s.get_email())\n",
    "\n",
    "    s.set_email(\"sally.jones@company.com\")\n",
    "    print(s.get_email())\n",
    "\n",
    "    # Cannot rest email to 42!\n",
    "    s.set_email(42)\n",
    "    print(s.get_email())\n",
    "\n",
    "# if only runs main if this it the primary program being run\n",
    "if __name__ == \"__main__\":\n",
    "    main()\n"
   ]
  },
  {
   "cell_type": "code",
   "execution_count": 8,
   "metadata": {},
   "outputs": [
    {
     "name": "stdout",
     "output_type": "stream",
     "text": [
      "jim.smith@company.com\n",
      "jim.smith@company.com\n",
      "jim.smith@company.com\n"
     ]
    }
   ],
   "source": [
    "# Author class with an @property\n",
    "class Author:\n",
    "\n",
    "    def __init__(self, n, e):\n",
    "        self.articles = list()\n",
    "        self.name = n\n",
    "        self.email = e\n",
    "    \n",
    "    @property\n",
    "    def email(self):\n",
    "        return self.__email\n",
    "\n",
    "    @email.setter\n",
    "    def email(self, x):\n",
    "        x = str(x)\n",
    "        if x.find(\"@\") > 0 :\n",
    "            self.__email = x\n",
    "\n",
    "# Main method to test Author2 class\n",
    "def main():\n",
    "    j = Author(\"Jim Smith\", \"jim.smith@ucdenver.edu\")\n",
    "    \n",
    "    #email reset because used @property\n",
    "    j.email = \"jim.smith@company.com\"\n",
    "    print(j.email)\n",
    "    \n",
    "    #email is validated though!\n",
    "    j.email = 42\n",
    "    print(j.email)\n",
    "\n",
    "    # Can access private data using the class name\n",
    "    print(j._Author__email)\n",
    "\n",
    "# if only runs main if this it the primary program being run\n",
    "if __name__ == \"__main__\":\n",
    "    main()"
   ]
  },
  {
   "cell_type": "code",
   "execution_count": 9,
   "metadata": {},
   "outputs": [
    {
     "name": "stdout",
     "output_type": "stream",
     "text": [
      "Introduction to Python Programming By: Sally Jones\n",
      "OOP and Python By: Sally Jones\n",
      "Number of articles by Sally Jones : 2\n"
     ]
    }
   ],
   "source": [
    "# Author class with an @property & multiple methods\n",
    "class Author:\n",
    "    \n",
    "    def __init__(self, n, e):\n",
    "        self.articles = list()\n",
    "        self.name = n\n",
    "        self.email = e\n",
    "        \n",
    "    @property\n",
    "    def email(self):\n",
    "        return self.__email\n",
    "\n",
    "    @email.setter\n",
    "    def email(self, x):\n",
    "        x = str(x)\n",
    "        if x.find(\"@\") > 0 :\n",
    "            self.__email = x    \n",
    "\n",
    "    def add_article(self, art) :\n",
    "        self.articles.append(art)\n",
    "        \n",
    "    def display_articles(self) :\n",
    "        for article in self.articles :\n",
    "            print(article, \"By:\", self.name)\n",
    "\n",
    "    def number_articles(self) :\n",
    "        print(\"Number of articles by\", self.name, \":\", len(self.articles))\n",
    "\n",
    "def main():\n",
    "    s = Author(\"Sally Jones\", \"sally.jones@ucdenver.edu\")\n",
    "    s.add_article(\"Introduction to Python Programming\")\n",
    "    s.add_article(\"OOP and Python\")\n",
    "\n",
    "    s.display_articles()\n",
    "    s.number_articles()\n",
    "\n",
    "# if only runs main if this it the primary program being run\n",
    "if __name__ == \"__main__\":\n",
    "    main()"
   ]
  },
  {
   "cell_type": "code",
   "execution_count": 11,
   "metadata": {},
   "outputs": [
    {
     "name": "stdout",
     "output_type": "stream",
     "text": [
      "['_Author__email', '__class__', '__delattr__', '__dict__', '__dir__', '__doc__', '__eq__', '__format__', '__ge__', '__getattribute__', '__gt__', '__hash__', '__init__', '__init_subclass__', '__le__', '__lt__', '__module__', '__ne__', '__new__', '__reduce__', '__reduce_ex__', '__repr__', '__setattr__', '__sizeof__', '__str__', '__subclasshook__', '__weakref__', 'add_article', 'articles', 'display_articles', 'email', 'name', 'number_articles']\n"
     ]
    }
   ],
   "source": [
    "s = Author(\"Sally Jones\", \"sally.jones@ucdenver.edu\")\n",
    "print(dir(s))"
   ]
  },
  {
   "cell_type": "code",
   "execution_count": 12,
   "metadata": {},
   "outputs": [
    {
     "name": "stdout",
     "output_type": "stream",
     "text": [
      "sally.jones@ucdenver.edu\n"
     ]
    }
   ],
   "source": [
    "s.email = 42\n",
    "print(s.email)"
   ]
  },
  {
   "cell_type": "code",
   "execution_count": 13,
   "metadata": {},
   "outputs": [
    {
     "name": "stdout",
     "output_type": "stream",
     "text": [
      "Number of articles by Sally Jones : 2\n",
      "Number of articles by Jim Smith : 1\n",
      "\n",
      "Total articles using s 3\n",
      "Total articles using Author 3\n",
      "{'articles': ['Introduction to Python Programming', 'OOP and Python'], 'name': 'Sally Jones', '_Author__email': 'sally.jones@ucdenver.edu'}\n"
     ]
    }
   ],
   "source": [
    "# Demo static variables & methods\n",
    "class Author:\n",
    "    # Statoc variable\n",
    "    __counter = 0\n",
    "    \n",
    "    def __init__(self, n, e):\n",
    "        self.articles = list()\n",
    "        self.name = n\n",
    "        self.email = e\n",
    "        \n",
    "    @property\n",
    "    def email(self):\n",
    "        return self.__email\n",
    "\n",
    "    @email.setter\n",
    "    def email(self, x):\n",
    "        x = str(x)\n",
    "        if x.find(\"@\") > 0 :\n",
    "            self.__email = x    \n",
    "\n",
    "    def add_article(self, art) :\n",
    "        type(self).__counter += 1\n",
    "        self.articles.append(art)\n",
    "        \n",
    "    def display_articles(self) :\n",
    "        for article in self.articles :\n",
    "            print(article, \"By:\", self.name)\n",
    "\n",
    "    def number_articles(self) :\n",
    "        print(\"Number of articles by\", self.name, \":\", len(self.articles))\n",
    "        \n",
    "    @staticmethod\n",
    "    def total_articles():\n",
    "        return Author.__counter\n",
    "\n",
    "def main():\n",
    "    s = Author(\"Sally Jones\", \"sally.jones@ucdenver.edu\")\n",
    "    s.add_article(\"Introduction to Python Programming\")\n",
    "    s.add_article(\"OOP and Python\")\n",
    "\n",
    "    s.number_articles()\n",
    "\n",
    "    j = Author(\"Jim Smith\", \"jim.smith@ucdenver.edu\")\n",
    "    j.add_article(\"Using Static Methods in Python\")\n",
    "\n",
    "    j.number_articles()\n",
    "    print(\"\\nTotal articles using s\", s.total_articles())\n",
    "    print(\"Total articles using Author\", Author.total_articles())\n",
    "\n",
    "    print(vars(s))\n",
    "\n",
    "# if only runs main if this it the primary program being run\n",
    "if __name__ == \"__main__\":\n",
    "    main()\n"
   ]
  },
  {
   "cell_type": "code",
   "execution_count": 14,
   "metadata": {},
   "outputs": [
    {
     "name": "stdout",
     "output_type": "stream",
     "text": [
      "jim.smith@ucdenver.edu\n"
     ]
    }
   ],
   "source": [
    "j = Author(\"Jim Smith\", \"jim.smith@ucdenver.edu\")\n",
    "print (j._Author__email)"
   ]
  },
  {
   "cell_type": "code",
   "execution_count": null,
   "metadata": {},
   "outputs": [],
   "source": []
  }
 ],
 "metadata": {
  "kernelspec": {
   "display_name": "Python 3",
   "language": "python",
   "name": "python3"
  },
  "language_info": {
   "codemirror_mode": {
    "name": "ipython",
    "version": 3
   },
   "file_extension": ".py",
   "mimetype": "text/x-python",
   "name": "python",
   "nbconvert_exporter": "python",
   "pygments_lexer": "ipython3",
   "version": "3.7.3"
  }
 },
 "nbformat": 4,
 "nbformat_minor": 2
}
