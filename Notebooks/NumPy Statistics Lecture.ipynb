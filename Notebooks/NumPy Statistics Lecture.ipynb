{
 "cells": [
  {
   "attachments": {},
   "cell_type": "markdown",
   "metadata": {},
   "source": [
    "<h1>Statistics with Numpy Arrays</h1><p><img src=\"images/1line.png\" width=\"100%\" /></p>\n",
    "<ul>\n",
    "<li>NumPy has quite a few useful statistical functions for finding minimum, maximum, percentile standard deviation and variance, etc. from the given elements in the array.&nbsp;</li>\n",
    "\n",
    "</ul>\n",
    "<h3>numpy.amin() and numpy.amax()</h3>\n",
    "<ul>\n",
    "<li>These functions return the minimum and the maximum from the elements in the given array (along the specified axis for multi-dimensional arrays).</li>\n",
    "</ul>"
   ]
  },
  {
   "cell_type": "code",
   "execution_count": 2,
   "metadata": {},
   "outputs": [
    {
     "name": "stdout",
     "output_type": "stream",
     "text": [
      "[8.60247691 4.46315047 7.20059397 4.28241302 4.04127719 5.15461061\n",
      " 3.98114808 5.97519773 4.34306247 9.49033591 9.1202005  5.25182255\n",
      " 2.76623943 6.15041097 7.56462365 4.58024319 7.1062114  2.5829754\n",
      " 9.54145709 9.333849  ]\n",
      "Minimum: 2.582975, Maximum: 9.541457\n"
     ]
    }
   ],
   "source": [
    "import numpy as np\n",
    "\n",
    "# Array of 20 random numbers between 0 and 10.\n",
    "x = np.random.random(20)*10\n",
    "print(x)\n",
    "print('Minimum: {0:8.6f}, Maximum: {1:8.6f}'.format(np.amin(x), np.amax(x)))"
   ]
  },
  {
   "attachments": {},
   "cell_type": "markdown",
   "metadata": {},
   "source": [
    "<h3 class=\"dd-content\">numpy.argmax(),&nbsp;numpy.argmin() &amp;&nbsp;numpy.argsort()</h3>\n",
    "<ul>\n",
    "<li class=\"dd-content\"><span>argmax: Returns the indices of the maximum values along an axis.<br /><code>numpy.argmax(a, axis=None, out=None)</code><br /></span></li>\n",
    "<li class=\"dd-content\"><span>argmin: Returns the indices of the maximum values along an axis.</span><span><code>numpy.argmin(a, axis=None, out=None)</code></span></li>\n",
    "<li class=\"dd-content\"><span>argsort: Returns the indices that would sort an array.<br /><code>numpy.argsort(a, axis=-1, kind='quicksort', order=None)</code></span></li>\n",
    "</ul>"
   ]
  },
  {
   "cell_type": "code",
   "execution_count": 3,
   "metadata": {},
   "outputs": [
    {
     "name": "stdout",
     "output_type": "stream",
     "text": [
      "x[18]=9.541457088376937\n"
     ]
    }
   ],
   "source": [
    "print('x[{}]={}'.format(x.argmax(), x[x.argmax()]))\n"
   ]
  },
  {
   "cell_type": "code",
   "execution_count": 4,
   "metadata": {},
   "outputs": [
    {
     "data": {
      "text/plain": [
       "array([2.5829754 , 2.76623943, 3.98114808, 4.04127719, 4.28241302,\n",
       "       4.34306247, 4.46315047, 4.58024319, 5.15461061, 5.25182255,\n",
       "       5.97519773, 6.15041097, 7.1062114 , 7.20059397, 7.56462365,\n",
       "       8.60247691, 9.1202005 , 9.333849  , 9.49033591, 9.54145709])"
      ]
     },
     "execution_count": 4,
     "metadata": {},
     "output_type": "execute_result"
    }
   ],
   "source": [
    "# sorting\n",
    "y = np.argsort(x)\n",
    "z = x[y]\n",
    "z"
   ]
  },
  {
   "attachments": {},
   "cell_type": "markdown",
   "metadata": {},
   "source": [
    "<h3>numpy.median()</h3>\n",
    "<ul>\n",
    "<li><strong>Median</strong><span>&nbsp;</span>is defined as the value separating the higher half of a data sample from the lower half.</li>\n",
    "<li>The<span>&nbsp;</span><strong>numpy.median()</strong><span>&nbsp;</span>function is used below.</li>\n",
    "</ul>"
   ]
  },
  {
   "cell_type": "code",
   "execution_count": 5,
   "metadata": {},
   "outputs": [
    {
     "name": "stdout",
     "output_type": "stream",
     "text": [
      "5.613510138743397\n"
     ]
    }
   ],
   "source": [
    "print(np.median(x))"
   ]
  },
  {
   "attachments": {},
   "cell_type": "markdown",
   "metadata": {},
   "source": [
    "<h3>numpy.mean()</h3>\n",
    "<ul>\n",
    "<li>Arithmetic mean is the sum of elements along an axis divided by the number of elements.</li>\n",
    "<li>The<span>&nbsp;</span><strong>numpy.mean()</strong><span>&nbsp;</span>function returns the arithmetic mean of elements in the array.</li>\n",
    "<li>If the axis is mentioned, it is calculated along it.</li>\n",
    "</ul>"
   ]
  },
  {
   "cell_type": "code",
   "execution_count": 6,
   "metadata": {},
   "outputs": [
    {
     "name": "stdout",
     "output_type": "stream",
     "text": [
      "6.076614976484812\n"
     ]
    }
   ],
   "source": [
    "print(np.mean(x) )"
   ]
  },
  {
   "attachments": {},
   "cell_type": "markdown",
   "metadata": {},
   "source": [
    "<h2>Standard Deviation</h2>\n",
    "<ul>\n",
    "<li>Standard deviation is the square root of the average of squared deviations from mean.</li>\n",
    "<li>The formula for standard deviation is:</li>\n",
    "</ul>\n",
    "<pre class=\"result notranslate\">std = sqrt(mean(abs(x - x.mean())**2))\n",
    "</pre>\n",
    "<ul>\n",
    "<li>If the array is [1, 2, 3, 4], then its mean is 2.5.</li>\n",
    "<li>Hence the squared deviations are [2.25, 0.25, 0.25, 2.25] and the square root of its mean divided by 4, i.e., sqrt (5/4) is 1.1180339887498949.</li>\n",
    "</ul>"
   ]
  },
  {
   "cell_type": "code",
   "execution_count": 7,
   "metadata": {},
   "outputs": [
    {
     "name": "stdout",
     "output_type": "stream",
     "text": [
      "2.2221578012031307\n"
     ]
    }
   ],
   "source": [
    "print(np.std(x))"
   ]
  },
  {
   "attachments": {},
   "cell_type": "markdown",
   "metadata": {},
   "source": [
    "<h3>Variance</h3>\n",
    "<ul>\n",
    "<li>Variance is the average of squared deviations, i.e.,<span>&nbsp;</span><strong>mean(abs(x - x.mean())**2)</strong>. In other words, the standard deviation is the square root of variance.</li>\n",
    "<li>It will produce the following output &minus;</li>\n",
    "</ul>"
   ]
  },
  {
   "cell_type": "code",
   "execution_count": 8,
   "metadata": {},
   "outputs": [
    {
     "name": "stdout",
     "output_type": "stream",
     "text": [
      "4.937985293447932\n"
     ]
    }
   ],
   "source": [
    "print(np.var(x))"
   ]
  },
  {
   "attachments": {},
   "cell_type": "markdown",
   "metadata": {},
   "source": [
    "<hr><h3>Reference</h3>\n",
    "<p>NumPy Statistical Functions, TutorialsPoint, <a href=\"https://www.tutorialspoint.com/numpy/numpy_statistical_functions.htm\" target=\"_blank\" rel=\"noopener\">https://www.tutorialspoint.com/numpy/numpy_statistical_functions.htm</a> <span>&nbsp;</span></p>"
   ]
  }
 ],
 "metadata": {
  "kernelspec": {
   "display_name": "Python 3",
   "language": "python",
   "name": "python3"
  },
  "language_info": {
   "codemirror_mode": {
    "name": "ipython",
    "version": 3
   },
   "file_extension": ".py",
   "mimetype": "text/x-python",
   "name": "python",
   "nbconvert_exporter": "python",
   "pygments_lexer": "ipython3",
   "version": "3.10.9"
  }
 },
 "nbformat": 4,
 "nbformat_minor": 2
}
