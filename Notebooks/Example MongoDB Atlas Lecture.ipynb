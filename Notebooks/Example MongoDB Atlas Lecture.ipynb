{
 "cells": [
  {
   "attachments": {},
   "cell_type": "markdown",
   "metadata": {},
   "source": [
    "<h1>Example MongoDB and Atlas</h1>\n",
    "<p><img src=\"images/1line.png\" width=100% /></p>\n",
    "\n",
    "<ul>\n",
    "<li>Let's walk through a simple example showing how to connect to an Atlas Database from your Python program.</li>\n",
    "<li>Note: You will create your own Atlas account in this week's exercises.</li>\n",
    "</ul>"
   ]
  },
  {
   "attachments": {},
   "cell_type": "markdown",
   "metadata": {},
   "source": [
    "<p><span>The Employees MongoDB program has you </span></p>\n",
    "<ul>\n",
    "<li><span>Put your Atlas connection string into a Jupyter notebook, </span></li>\n",
    "<li><span>Then create a new database (test) and a new collection (employees) </span></li>\n",
    "<li><span>Then adds 3 employees to the collection.&nbsp; </span></li>\n",
    "<li><span>Then it prints the employees out.</span></li>\n",
    "</ul>"
   ]
  },
  {
   "cell_type": "code",
   "execution_count": 9,
   "metadata": {},
   "outputs": [],
   "source": [
    "import pymongo"
   ]
  },
  {
   "cell_type": "code",
   "execution_count": 10,
   "metadata": {},
   "outputs": [],
   "source": [
    "# Stored Mongodb connection string in environment variable atlas-uri \n",
    "# Replace \"os.environ.get(\"atlas-uri\")\" with your connection URI from the Atlas UI\n",
    "import os   # allows us to connect to operating system\n",
    "uri = os.environ.get(\"atlas-uri\")\n",
    "\n",
    "mc = pymongo.MongoClient(uri)\n",
    "db = mc['test']"
   ]
  },
  {
   "cell_type": "code",
   "execution_count": 13,
   "metadata": {},
   "outputs": [],
   "source": [
    "# JSON Data for 3 employees\n",
    "employees = [\n",
    "    {\"firstName\":\"John\", \"lastName\":\"Doe\"},\n",
    "    {\"firstName\":\"Anna\", \"lastName\":\"Smith\"},\n",
    "    {\"firstName\":\"Peter\", \"lastName\":\"Jones\"}\n",
    "]\n",
    "\n",
    "result = db.employees.insert_many(employees)\n"
   ]
  },
  {
   "cell_type": "code",
   "execution_count": 14,
   "metadata": {},
   "outputs": [
    {
     "name": "stdout",
     "output_type": "stream",
     "text": [
      "John Doe\n",
      "Anna Smith\n",
      "Peter Jones\n"
     ]
    }
   ],
   "source": [
    "for emp in db.employees.find():\n",
    "    print(emp[\"firstName\"], emp[\"lastName\"])"
   ]
  }
 ],
 "metadata": {
  "kernelspec": {
   "display_name": "Python 3",
   "language": "python",
   "name": "python3"
  },
  "language_info": {
   "codemirror_mode": {
    "name": "ipython",
    "version": 3
   },
   "file_extension": ".py",
   "mimetype": "text/x-python",
   "name": "python",
   "nbconvert_exporter": "python",
   "pygments_lexer": "ipython3",
   "version": "3.11.4"
  }
 },
 "nbformat": 4,
 "nbformat_minor": 2
}
