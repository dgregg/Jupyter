{
 "cells": [
  {
   "cell_type": "code",
   "execution_count": 1,
   "metadata": {},
   "outputs": [],
   "source": [
    "import pymongo"
   ]
  },
  {
   "cell_type": "code",
   "execution_count": 2,
   "metadata": {},
   "outputs": [],
   "source": [
    "# Replace XXXX with your connection URI from the Atlas UI\n",
    "mc = pymongo.MongoClient('XXXXX')\n",
    "db = mc['test']\n"
   ]
  },
  {
   "cell_type": "code",
   "execution_count": 3,
   "metadata": {},
   "outputs": [],
   "source": [
    "\n",
    "\n",
    "employees = [\n",
    "    {\"firstName\":\"John\", \"lastName\":\"Doe\"},\n",
    "    {\"firstName\":\"Anna\", \"lastName\":\"Smith\"},\n",
    "    {\"firstName\":\"Peter\", \"lastName\":\"Jones\"}\n",
    "]\n",
    "\n",
    "result = db.employees.insert_many(employees)\n"
   ]
  },
  {
   "cell_type": "code",
   "execution_count": 4,
   "metadata": {},
   "outputs": [
    {
     "name": "stdout",
     "output_type": "stream",
     "text": [
      "John Doe\n",
      "Anna Smith\n",
      "Peter Jones\n"
     ]
    }
   ],
   "source": [
    "\n",
    "for emp in db.employees.find():\n",
    "    print(emp[\"firstName\"], emp[\"lastName\"])"
   ]
  },
  {
   "cell_type": "code",
   "execution_count": null,
   "metadata": {},
   "outputs": [],
   "source": [
    "\n",
    "\n",
    "\n",
    "\n",
    "\n",
    "\n",
    "\n",
    "\n",
    "\n",
    "\n",
    "\n",
    "\n",
    "\n",
    "\n",
    "\n"
   ]
  }
 ],
 "metadata": {
  "kernelspec": {
   "display_name": "Python 3",
   "language": "python",
   "name": "python3"
  },
  "language_info": {
   "codemirror_mode": {
    "name": "ipython",
    "version": 3
   },
   "file_extension": ".py",
   "mimetype": "text/x-python",
   "name": "python",
   "nbconvert_exporter": "python",
   "pygments_lexer": "ipython3",
   "version": "3.7.3"
  }
 },
 "nbformat": 4,
 "nbformat_minor": 2
}
