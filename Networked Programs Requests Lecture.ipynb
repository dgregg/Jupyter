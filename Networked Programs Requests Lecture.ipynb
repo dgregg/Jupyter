{
 "cells": [
  {
   "cell_type": "code",
   "execution_count": 12,
   "metadata": {},
   "outputs": [
    {
     "name": "stdout",
     "output_type": "stream",
     "text": [
      "200\n"
     ]
    }
   ],
   "source": [
    "import requests\n",
    "response = requests.get('http://ucd.dawngregg.com/python/text/romeo.txt')\n",
    "print(response.status_code)"
   ]
  },
  {
   "cell_type": "code",
   "execution_count": 13,
   "metadata": {},
   "outputs": [
    {
     "name": "stdout",
     "output_type": "stream",
     "text": [
      "b'But soft what light through yonder window breaks\\nIt is the east and Juliet is the sun\\nArise fair sun and kill the envious moon\\nWho is already sick and pale with grief\\n'\n"
     ]
    }
   ],
   "source": [
    "print(response.content)"
   ]
  },
  {
   "cell_type": "code",
   "execution_count": 14,
   "metadata": {},
   "outputs": [
    {
     "name": "stdout",
     "output_type": "stream",
     "text": [
      "But soft what light through yonder window breaks\n",
      "It is the east and Juliet is the sun\n",
      "Arise fair sun and kill the envious moon\n",
      "Who is already sick and pale with grief\n",
      "\n"
     ]
    }
   ],
   "source": [
    "print(response.text)"
   ]
  },
  {
   "cell_type": "code",
   "execution_count": 16,
   "metadata": {},
   "outputs": [
    {
     "name": "stdout",
     "output_type": "stream",
     "text": [
      "{'Content-Type': 'text/plain', 'Last-Modified': 'Wed, 24 Nov 2021 18:14:56 GMT', 'Accept-Ranges': 'bytes', 'ETag': '\"f0a1572f5fe1d71:0\"', 'Server': 'Microsoft-IIS/8.5', 'X-Powered-By': 'ASP.NET', 'X-Powered-By-Plesk': 'PleskWin', 'Date': 'Wed, 24 Nov 2021 19:12:42 GMT', 'Content-Length': '167'}\n",
      "Content Type text/plain\n"
     ]
    }
   ],
   "source": [
    "print(response.headers)\n",
    "print(\"Content Type\", response.headers['Content-type'])"
   ]
  },
  {
   "cell_type": "code",
   "execution_count": 21,
   "metadata": {},
   "outputs": [
    {
     "name": "stdout",
     "output_type": "stream",
     "text": [
      "https://www.google.com/?q=CU+Denver+is+fun%21&something=else\n"
     ]
    }
   ],
   "source": [
    "import requests\n",
    "\n",
    "baseurl = \"https://www.google.com/\"\n",
    "mydict = {'q': 'CU Denver is fun!', 'something': 'else'}\n",
    "\n",
    "# params resolves to: 'q=cu+denver+is!fun%21&something=else'\n",
    "gresponse = requests.get(baseurl, mydict)\n",
    "print(gresponse.request.url)"
   ]
  },
  {
   "cell_type": "code",
   "execution_count": null,
   "metadata": {},
   "outputs": [],
   "source": []
  },
  {
   "attachments": {},
   "cell_type": "markdown",
   "metadata": {},
   "source": [
    "<hr><h3>Reference</h3>\n",
    "<p>Python's Request Library (Guide), Alex Ronquillo, Real Python, <a href=\"https://realpython.com/python-requests/\" target=\"_blank\" rel=\"noopener\">https://realpython.com/python-requests/</a>&nbsp;</p>"
   ]
  }
 ],
 "metadata": {
  "kernelspec": {
   "display_name": "Python 3",
   "language": "python",
   "name": "python3"
  },
  "language_info": {
   "codemirror_mode": {
    "name": "ipython",
    "version": 3
   },
   "file_extension": ".py",
   "mimetype": "text/x-python",
   "name": "python",
   "nbconvert_exporter": "python",
   "pygments_lexer": "ipython3",
   "version": "3.7.3"
  }
 },
 "nbformat": 4,
 "nbformat_minor": 2
}
